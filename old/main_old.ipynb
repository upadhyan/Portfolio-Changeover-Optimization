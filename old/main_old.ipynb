{
 "cells": [
  {
   "cell_type": "code",
   "execution_count": 7,
   "metadata": {},
   "outputs": [],
   "source": [
    "# %%\n",
    "import pandas as pd\n",
    "import numpy as np\n",
    "\n",
    "from objects_old import *\n",
    "import cvxpy as cvx\n",
    "\n",
    "import plotly.graph_objs as go\n",
    "from plotly.subplots import make_subplots\n",
    "import plotly.express as px\n",
    "\n",
    "import datetime as dt"
   ]
  },
  {
   "cell_type": "code",
   "execution_count": 8,
   "metadata": {},
   "outputs": [],
   "source": [
    "def generate_portfolios(stock_prices, portfolio_size, start_date, end_date, budget):\n",
    "    rng = np.random.default_rng()\n",
    "    # Select a random set of n assets\n",
    "    asset_names = rng.choice(stock_prices.columns.tolist(), portfolio_size, replace=False)\n",
    "\n",
    "    # Calculate maximum number of positions in each asset to respect budget\n",
    "    max_positions = {}\n",
    "    for asset in asset_names:\n",
    "        max_positions[asset] = budget // stock_prices.loc[start_date, asset]\n",
    "\n",
    "    # Select random number of positions in each asset within maximum limit\n",
    "    def get_positions(t):\n",
    "        positions = {}\n",
    "        total_spent = 0\n",
    "        for asset in asset_names:\n",
    "            max_pos = max_positions[asset]\n",
    "            positions[asset] = rng.integers(1, max_pos)\n",
    "            total_spent += positions[asset] * stock_prices.loc[t, asset]\n",
    "\n",
    "        # Adjust positions to respect budget\n",
    "        while total_spent > budget:\n",
    "            asset = rng.choice(asset_names)\n",
    "            if positions[asset] > 0:\n",
    "                positions[asset] -= 1\n",
    "                total_spent -= stock_prices.loc[t, asset]\n",
    "\n",
    "        return positions, total_spent\n",
    "\n",
    "    # Calculate starting portfolio value\n",
    "    positions, total_spent = get_positions(start_date)\n",
    "    starting_portfolio = pd.Series(positions, name=start_date)\n",
    "    starting_portfolio[\"cash\"] = budget - total_spent\n",
    "    starting_value = (\n",
    "        starting_portfolio[asset_names] * stock_prices.loc[start_date, asset_names]\n",
    "    ).sum() + starting_portfolio[\"cash\"]\n",
    "\n",
    "    # Calculate ending portfolio value\n",
    "    positions, total_spent = get_positions(end_date)\n",
    "    ending_portfolio = pd.Series(positions, name=end_date)\n",
    "    ending_portfolio[\"cash\"] = budget - total_spent\n",
    "    ending_value = (ending_portfolio[asset_names] * stock_prices.loc[end_date, asset_names]).sum() + ending_portfolio[\n",
    "        \"cash\"\n",
    "    ]\n",
    "\n",
    "    return starting_portfolio, ending_portfolio, starting_value, ending_value\n"
   ]
  },
  {
   "cell_type": "code",
   "execution_count": 9,
   "metadata": {},
   "outputs": [],
   "source": [
    "start_date = \"2012-01-01\"\n",
    "end_date = \"2012-12-31\"\n",
    "prices = pd.read_parquet(\"raw_data/spx_stock_prices.parquet\").loc[start_date:end_date].replace(0.0, np.nan).dropna(axis=1)\n",
    "returns = prices.pct_change().iloc[1:]"
   ]
  },
  {
   "cell_type": "code",
   "execution_count": 10,
   "metadata": {},
   "outputs": [],
   "source": [
    "trading_period = 42\n",
    "sim_st_dt = dt.datetime.strptime(\"2012-01-01\", \"%Y-%m-%d\") + dt.timedelta(days=30)\n",
    "sim_end_dt = sim_st_dt + dt.timedelta(days=trading_period)\n",
    "trading_times = returns[sim_st_dt:sim_end_dt].index.to_list()"
   ]
  },
  {
   "cell_type": "code",
   "execution_count": 11,
   "outputs": [],
   "source": [
    "start_portf, end_portf, start_val, end_val = generate_portfolios(prices, 10, sim_st_dt, sim_end_dt, 10000)\n",
    "\n",
    "params = dict(\n",
    "    lookahead_periods=5,\n",
    "    trading_times=trading_times,\n",
    "    terminal_weights=end_portf[:-1],\n",
    "    asset_prices=prices,\n",
    "    return_forecast=OnlineReturnsForecasts(prices, trading_dates=trading_times),\n",
    "    fixed_cost=5.99,\n",
    "    costs=[],\n",
    "    constraints=[],\n",
    "    solver=cvx.GUROBI,\n",
    "    solver_opts={\"verbose\": True},\n",
    ")\n",
    "\n",
    "mpo_policy = CustomMultiPeriodOpt(**params)\n",
    "\n",
    "market_sim = MarketSimulator(\n",
    "    trading_times=trading_times,\n",
    "    asset_prices=prices,\n",
    "    policy=mpo_policy,\n",
    ")"
   ],
   "metadata": {
    "collapsed": false
   }
  },
  {
   "cell_type": "code",
   "execution_count": 12,
   "metadata": {},
   "outputs": [
    {
     "name": "stdout",
     "output_type": "stream",
     "text": [
      "SP: [  0.     0.     0.   430.     0.     0.   127.     0.     0.     0.\n",
      "  12.89]\n",
      "Z:[   0.   69.    0.    0.    0.    0. -127.    0.    0.    0.]\n",
      "P:[  0.  69.   0. 430.   0.   0.   0.   0.   0.   0.]\n",
      "Z:[   0.   35.    1. -394.   77.    0.    0.    0.    0.    0.]\n",
      "P:[  0. 104.   1.  36.  77.   0.   0.   0.   0.   0.]\n",
      "Z:[0. 0. 0. 0. 0. 0. 0. 0. 0. 0.]\n",
      "P:[  0. 104.   1.  36.  77.   0.   0.   0.   0.   0.]\n",
      "Z:[0. 0. 0. 0. 0. 0. 0. 0. 0. 0.]\n",
      "P:[  0. 104.   1.  36.  77.   0.   0.   0.   0.   0.]\n",
      "Z:[0. 0. 0. 0. 0. 0. 0. 0. 0. 0.]\n",
      "P:[  0. 104.   1.  36.  77.   0.   0.   0.   0.   0.]\n",
      "Z:[0. 0. 0. 0. 0. 0. 0. 0. 0. 0.]\n",
      "P:[  0. 104.   1.  36.  77.   0.   0.   0.   0.   0.]\n",
      "Z:[0. 0. 0. 0. 0. 0. 0. 0. 0. 0.]\n",
      "P:[  0. 104.   1.  36.  77.   0.   0.   0.   0.   0.]\n",
      "Z:[0. 0. 0. 0. 0. 0. 0. 0. 0. 0.]\n",
      "P:[  0. 104.   1.  36.  77.   0.   0.   0.   0.   0.]\n",
      "Z:[0. 0. 0. 0. 0. 0. 0. 0. 0. 0.]\n",
      "P:[  0. 104.   1.  36.  77.   0.   0.   0.   0.   0.]\n",
      "Z:[0. 0. 0. 0. 0. 0. 0. 0. 0. 0.]\n",
      "P:[  0. 104.   1.  36.  77.   0.   0.   0.   0.   0.]\n",
      "Z:[0. 0. 0. 0. 0. 0. 0. 0. 0. 0.]\n",
      "P:[  0. 104.   1.  36.  77.   0.   0.   0.   0.   0.]\n",
      "Z:[0. 0. 0. 0. 0. 0. 0. 0. 0. 0.]\n",
      "P:[  0. 104.   1.  36.  77.   0.   0.   0.   0.   0.]\n",
      "Z:[0. 0. 0. 0. 0. 0. 0. 0. 0. 0.]\n",
      "P:[  0. 104.   1.  36.  77.   0.   0.   0.   0.   0.]\n",
      "Z:[0. 0. 0. 0. 0. 0. 0. 0. 0. 0.]\n",
      "P:[  0. 104.   1.  36.  77.   0.   0.   0.   0.   0.]\n",
      "Z:[0. 0. 0. 0. 0. 0. 0. 0. 0. 0.]\n",
      "P:[  0. 104.   1.  36.  77.   0.   0.   0.   0.   0.]\n",
      "Z:[0. 0. 0. 0. 0. 0. 0. 0. 0. 0.]\n",
      "P:[  0. 104.   1.  36.  77.   0.   0.   0.   0.   0.]\n",
      "Z:[0. 0. 0. 0. 0. 0. 0. 0. 0. 0.]\n",
      "P:[  0. 104.   1.  36.  77.   0.   0.   0.   0.   0.]\n",
      "Z:[0. 0. 0. 0. 0. 0. 0. 0. 0. 0.]\n",
      "P:[  0. 104.   1.  36.  77.   0.   0.   0.   0.   0.]\n",
      "Z:[0. 0. 0. 0. 0. 0. 0. 0. 0. 0.]\n",
      "P:[  0. 104.   1.  36.  77.   0.   0.   0.   0.   0.]\n",
      "Z:[0. 0. 0. 0. 0. 0. 0. 0. 0. 0.]\n",
      "P:[  0. 104.   1.  36.  77.   0.   0.   0.   0.   0.]\n",
      "Z:[0. 0. 0. 0. 0. 0. 0. 0. 0. 0.]\n",
      "P:[  0. 104.   1.  36.  77.   0.   0.   0.   0.   0.]\n",
      "Z:[0. 0. 0. 0. 0. 0. 0. 0. 0. 0.]\n",
      "P:[  0. 104.   1.  36.  77.   0.   0.   0.   0.   0.]\n",
      "Z:[0. 0. 0. 0. 0. 0. 0. 0. 0. 0.]\n",
      "P:[  0. 104.   1.  36.  77.   0.   0.   0.   0.   0.]\n",
      "Z:[0. 0. 0. 0. 0. 0. 0. 0. 0. 0.]\n",
      "P:[  0. 104.   1.  36.  77.   0.   0.   0.   0.   0.]\n",
      "Z:[0. 0. 0. 0. 0. 0. 0. 0. 0. 0.]\n",
      "P:[  0. 104.   1.  36.  77.   0.   0.   0.   0.   0.]\n",
      "Z:[0. 0. 0. 0. 0. 0. 0. 0. 0. 0.]\n",
      "P:[  0. 104.   1.  36.  77.   0.   0.   0.   0.   0.]\n",
      "Z:[0. 0. 0. 0. 0. 0. 0. 0. 0. 0.]\n",
      "P:[  0. 104.   1.  36.  77.   0.   0.   0.   0.   0.]\n",
      "Z:[0. 0. 0. 0. 0. 0. 0. 0. 0. 0.]\n",
      "P:[  0. 104.   1.  36.  77.   0.   0.   0.   0.   0.]\n",
      "Z:[0. 0. 0. 0. 0. 0. 0. 0. 0. 0.]\n",
      "P:[  0. 104.   1.  36.  77.   0.   0.   0.   0.   0.]\n",
      "Z:[0. 0. 0. 0. 0. 0. 0. 0. 0. 0.]\n",
      "P:[  0. 104.   1.  36.  77.   0.   0.   0.   0.   0.]\n"
     ]
    }
   ],
   "source": [
    "final_portf = market_sim.run(start_portf)"
   ]
  },
  {
   "cell_type": "code",
   "execution_count": 13,
   "metadata": {},
   "outputs": [
    {
     "data": {
      "text/plain": "            HSY_16600  BEAM_10225  EQR_79547  NVDA_86580  KLAC_46886  \\\ndate                                                                   \n2012-01-30        0.0         0.0        0.0       430.0         0.0   \n2012-01-31        0.0        69.0        0.0       430.0         0.0   \n2012-02-01        0.0       104.0        1.0        36.0        77.0   \n2012-02-02        0.0       104.0        1.0        36.0        77.0   \n2012-02-03        0.0       104.0        1.0        36.0        77.0   \n2012-02-06        0.0       104.0        1.0        36.0        77.0   \n2012-02-07        0.0       104.0        1.0        36.0        77.0   \n2012-02-08        0.0       104.0        1.0        36.0        77.0   \n2012-02-09        0.0       104.0        1.0        36.0        77.0   \n2012-02-10        0.0       104.0        1.0        36.0        77.0   \n2012-02-13        0.0       104.0        1.0        36.0        77.0   \n2012-02-14        0.0       104.0        1.0        36.0        77.0   \n2012-02-15        0.0       104.0        1.0        36.0        77.0   \n2012-02-16        0.0       104.0        1.0        36.0        77.0   \n2012-02-17        0.0       104.0        1.0        36.0        77.0   \n2012-02-21        0.0       104.0        1.0        36.0        77.0   \n2012-02-22        0.0       104.0        1.0        36.0        77.0   \n2012-02-23        0.0       104.0        1.0        36.0        77.0   \n2012-02-24        0.0       104.0        1.0        36.0        77.0   \n2012-02-27        0.0       104.0        1.0        36.0        77.0   \n2012-02-28        0.0       104.0        1.0        36.0        77.0   \n2012-02-29        0.0       104.0        1.0        36.0        77.0   \n2012-03-01        0.0       104.0        1.0        36.0        77.0   \n2012-03-02        0.0       104.0        1.0        36.0        77.0   \n2012-03-05        0.0       104.0        1.0        36.0        77.0   \n2012-03-06        0.0       104.0        1.0        36.0        77.0   \n2012-03-07        0.0       104.0        1.0        36.0        77.0   \n2012-03-08        0.0       104.0        1.0        36.0        77.0   \n2012-03-09        0.0       104.0        1.0        36.0        77.0   \n2012-03-12        0.0       104.0        1.0        36.0        77.0   \n2012-03-13        0.0       104.0        1.0        36.0        77.0   \n\n            COV_92156  ADM_10516  BRK_83443  CTSH_86158  HNZ_23077        cash  \ndate                                                                            \n2012-01-30        0.0      127.0        0.0         0.0        0.0   12.890000  \n2012-01-31        0.0        0.0        0.0         0.0        0.0   15.273108  \n2012-02-01        0.0        0.0        0.0         0.0        0.0   20.593340  \n2012-02-02        0.0        0.0        0.0         0.0        0.0   25.913571  \n2012-02-03        0.0        0.0        0.0         0.0        0.0   31.233803  \n2012-02-06        0.0        0.0        0.0         0.0        0.0   36.554035  \n2012-02-07        0.0        0.0        0.0         0.0        0.0   41.874266  \n2012-02-08        0.0        0.0        0.0         0.0        0.0   47.194498  \n2012-02-09        0.0        0.0        0.0         0.0        0.0   52.514730  \n2012-02-10        0.0        0.0        0.0         0.0        0.0   57.834962  \n2012-02-13        0.0        0.0        0.0         0.0        0.0   63.155193  \n2012-02-14        0.0        0.0        0.0         0.0        0.0   68.475425  \n2012-02-15        0.0        0.0        0.0         0.0        0.0   73.795657  \n2012-02-16        0.0        0.0        0.0         0.0        0.0   79.115888  \n2012-02-17        0.0        0.0        0.0         0.0        0.0   84.436120  \n2012-02-21        0.0        0.0        0.0         0.0        0.0   89.756352  \n2012-02-22        0.0        0.0        0.0         0.0        0.0   95.076583  \n2012-02-23        0.0        0.0        0.0         0.0        0.0  100.396815  \n2012-02-24        0.0        0.0        0.0         0.0        0.0  105.717047  \n2012-02-27        0.0        0.0        0.0         0.0        0.0  111.037279  \n2012-02-28        0.0        0.0        0.0         0.0        0.0  116.357510  \n2012-02-29        0.0        0.0        0.0         0.0        0.0  121.677742  \n2012-03-01        0.0        0.0        0.0         0.0        0.0  126.997974  \n2012-03-02        0.0        0.0        0.0         0.0        0.0  132.318205  \n2012-03-05        0.0        0.0        0.0         0.0        0.0  137.638437  \n2012-03-06        0.0        0.0        0.0         0.0        0.0  142.958669  \n2012-03-07        0.0        0.0        0.0         0.0        0.0  148.278900  \n2012-03-08        0.0        0.0        0.0         0.0        0.0  153.599132  \n2012-03-09        0.0        0.0        0.0         0.0        0.0  158.919364  \n2012-03-12        0.0        0.0        0.0         0.0        0.0  164.239596  \n2012-03-13        0.0        0.0        0.0         0.0        0.0  169.559827  ",
      "text/html": "<div>\n<style scoped>\n    .dataframe tbody tr th:only-of-type {\n        vertical-align: middle;\n    }\n\n    .dataframe tbody tr th {\n        vertical-align: top;\n    }\n\n    .dataframe thead th {\n        text-align: right;\n    }\n</style>\n<table border=\"1\" class=\"dataframe\">\n  <thead>\n    <tr style=\"text-align: right;\">\n      <th></th>\n      <th>HSY_16600</th>\n      <th>BEAM_10225</th>\n      <th>EQR_79547</th>\n      <th>NVDA_86580</th>\n      <th>KLAC_46886</th>\n      <th>COV_92156</th>\n      <th>ADM_10516</th>\n      <th>BRK_83443</th>\n      <th>CTSH_86158</th>\n      <th>HNZ_23077</th>\n      <th>cash</th>\n    </tr>\n    <tr>\n      <th>date</th>\n      <th></th>\n      <th></th>\n      <th></th>\n      <th></th>\n      <th></th>\n      <th></th>\n      <th></th>\n      <th></th>\n      <th></th>\n      <th></th>\n      <th></th>\n    </tr>\n  </thead>\n  <tbody>\n    <tr>\n      <th>2012-01-30</th>\n      <td>0.0</td>\n      <td>0.0</td>\n      <td>0.0</td>\n      <td>430.0</td>\n      <td>0.0</td>\n      <td>0.0</td>\n      <td>127.0</td>\n      <td>0.0</td>\n      <td>0.0</td>\n      <td>0.0</td>\n      <td>12.890000</td>\n    </tr>\n    <tr>\n      <th>2012-01-31</th>\n      <td>0.0</td>\n      <td>69.0</td>\n      <td>0.0</td>\n      <td>430.0</td>\n      <td>0.0</td>\n      <td>0.0</td>\n      <td>0.0</td>\n      <td>0.0</td>\n      <td>0.0</td>\n      <td>0.0</td>\n      <td>15.273108</td>\n    </tr>\n    <tr>\n      <th>2012-02-01</th>\n      <td>0.0</td>\n      <td>104.0</td>\n      <td>1.0</td>\n      <td>36.0</td>\n      <td>77.0</td>\n      <td>0.0</td>\n      <td>0.0</td>\n      <td>0.0</td>\n      <td>0.0</td>\n      <td>0.0</td>\n      <td>20.593340</td>\n    </tr>\n    <tr>\n      <th>2012-02-02</th>\n      <td>0.0</td>\n      <td>104.0</td>\n      <td>1.0</td>\n      <td>36.0</td>\n      <td>77.0</td>\n      <td>0.0</td>\n      <td>0.0</td>\n      <td>0.0</td>\n      <td>0.0</td>\n      <td>0.0</td>\n      <td>25.913571</td>\n    </tr>\n    <tr>\n      <th>2012-02-03</th>\n      <td>0.0</td>\n      <td>104.0</td>\n      <td>1.0</td>\n      <td>36.0</td>\n      <td>77.0</td>\n      <td>0.0</td>\n      <td>0.0</td>\n      <td>0.0</td>\n      <td>0.0</td>\n      <td>0.0</td>\n      <td>31.233803</td>\n    </tr>\n    <tr>\n      <th>2012-02-06</th>\n      <td>0.0</td>\n      <td>104.0</td>\n      <td>1.0</td>\n      <td>36.0</td>\n      <td>77.0</td>\n      <td>0.0</td>\n      <td>0.0</td>\n      <td>0.0</td>\n      <td>0.0</td>\n      <td>0.0</td>\n      <td>36.554035</td>\n    </tr>\n    <tr>\n      <th>2012-02-07</th>\n      <td>0.0</td>\n      <td>104.0</td>\n      <td>1.0</td>\n      <td>36.0</td>\n      <td>77.0</td>\n      <td>0.0</td>\n      <td>0.0</td>\n      <td>0.0</td>\n      <td>0.0</td>\n      <td>0.0</td>\n      <td>41.874266</td>\n    </tr>\n    <tr>\n      <th>2012-02-08</th>\n      <td>0.0</td>\n      <td>104.0</td>\n      <td>1.0</td>\n      <td>36.0</td>\n      <td>77.0</td>\n      <td>0.0</td>\n      <td>0.0</td>\n      <td>0.0</td>\n      <td>0.0</td>\n      <td>0.0</td>\n      <td>47.194498</td>\n    </tr>\n    <tr>\n      <th>2012-02-09</th>\n      <td>0.0</td>\n      <td>104.0</td>\n      <td>1.0</td>\n      <td>36.0</td>\n      <td>77.0</td>\n      <td>0.0</td>\n      <td>0.0</td>\n      <td>0.0</td>\n      <td>0.0</td>\n      <td>0.0</td>\n      <td>52.514730</td>\n    </tr>\n    <tr>\n      <th>2012-02-10</th>\n      <td>0.0</td>\n      <td>104.0</td>\n      <td>1.0</td>\n      <td>36.0</td>\n      <td>77.0</td>\n      <td>0.0</td>\n      <td>0.0</td>\n      <td>0.0</td>\n      <td>0.0</td>\n      <td>0.0</td>\n      <td>57.834962</td>\n    </tr>\n    <tr>\n      <th>2012-02-13</th>\n      <td>0.0</td>\n      <td>104.0</td>\n      <td>1.0</td>\n      <td>36.0</td>\n      <td>77.0</td>\n      <td>0.0</td>\n      <td>0.0</td>\n      <td>0.0</td>\n      <td>0.0</td>\n      <td>0.0</td>\n      <td>63.155193</td>\n    </tr>\n    <tr>\n      <th>2012-02-14</th>\n      <td>0.0</td>\n      <td>104.0</td>\n      <td>1.0</td>\n      <td>36.0</td>\n      <td>77.0</td>\n      <td>0.0</td>\n      <td>0.0</td>\n      <td>0.0</td>\n      <td>0.0</td>\n      <td>0.0</td>\n      <td>68.475425</td>\n    </tr>\n    <tr>\n      <th>2012-02-15</th>\n      <td>0.0</td>\n      <td>104.0</td>\n      <td>1.0</td>\n      <td>36.0</td>\n      <td>77.0</td>\n      <td>0.0</td>\n      <td>0.0</td>\n      <td>0.0</td>\n      <td>0.0</td>\n      <td>0.0</td>\n      <td>73.795657</td>\n    </tr>\n    <tr>\n      <th>2012-02-16</th>\n      <td>0.0</td>\n      <td>104.0</td>\n      <td>1.0</td>\n      <td>36.0</td>\n      <td>77.0</td>\n      <td>0.0</td>\n      <td>0.0</td>\n      <td>0.0</td>\n      <td>0.0</td>\n      <td>0.0</td>\n      <td>79.115888</td>\n    </tr>\n    <tr>\n      <th>2012-02-17</th>\n      <td>0.0</td>\n      <td>104.0</td>\n      <td>1.0</td>\n      <td>36.0</td>\n      <td>77.0</td>\n      <td>0.0</td>\n      <td>0.0</td>\n      <td>0.0</td>\n      <td>0.0</td>\n      <td>0.0</td>\n      <td>84.436120</td>\n    </tr>\n    <tr>\n      <th>2012-02-21</th>\n      <td>0.0</td>\n      <td>104.0</td>\n      <td>1.0</td>\n      <td>36.0</td>\n      <td>77.0</td>\n      <td>0.0</td>\n      <td>0.0</td>\n      <td>0.0</td>\n      <td>0.0</td>\n      <td>0.0</td>\n      <td>89.756352</td>\n    </tr>\n    <tr>\n      <th>2012-02-22</th>\n      <td>0.0</td>\n      <td>104.0</td>\n      <td>1.0</td>\n      <td>36.0</td>\n      <td>77.0</td>\n      <td>0.0</td>\n      <td>0.0</td>\n      <td>0.0</td>\n      <td>0.0</td>\n      <td>0.0</td>\n      <td>95.076583</td>\n    </tr>\n    <tr>\n      <th>2012-02-23</th>\n      <td>0.0</td>\n      <td>104.0</td>\n      <td>1.0</td>\n      <td>36.0</td>\n      <td>77.0</td>\n      <td>0.0</td>\n      <td>0.0</td>\n      <td>0.0</td>\n      <td>0.0</td>\n      <td>0.0</td>\n      <td>100.396815</td>\n    </tr>\n    <tr>\n      <th>2012-02-24</th>\n      <td>0.0</td>\n      <td>104.0</td>\n      <td>1.0</td>\n      <td>36.0</td>\n      <td>77.0</td>\n      <td>0.0</td>\n      <td>0.0</td>\n      <td>0.0</td>\n      <td>0.0</td>\n      <td>0.0</td>\n      <td>105.717047</td>\n    </tr>\n    <tr>\n      <th>2012-02-27</th>\n      <td>0.0</td>\n      <td>104.0</td>\n      <td>1.0</td>\n      <td>36.0</td>\n      <td>77.0</td>\n      <td>0.0</td>\n      <td>0.0</td>\n      <td>0.0</td>\n      <td>0.0</td>\n      <td>0.0</td>\n      <td>111.037279</td>\n    </tr>\n    <tr>\n      <th>2012-02-28</th>\n      <td>0.0</td>\n      <td>104.0</td>\n      <td>1.0</td>\n      <td>36.0</td>\n      <td>77.0</td>\n      <td>0.0</td>\n      <td>0.0</td>\n      <td>0.0</td>\n      <td>0.0</td>\n      <td>0.0</td>\n      <td>116.357510</td>\n    </tr>\n    <tr>\n      <th>2012-02-29</th>\n      <td>0.0</td>\n      <td>104.0</td>\n      <td>1.0</td>\n      <td>36.0</td>\n      <td>77.0</td>\n      <td>0.0</td>\n      <td>0.0</td>\n      <td>0.0</td>\n      <td>0.0</td>\n      <td>0.0</td>\n      <td>121.677742</td>\n    </tr>\n    <tr>\n      <th>2012-03-01</th>\n      <td>0.0</td>\n      <td>104.0</td>\n      <td>1.0</td>\n      <td>36.0</td>\n      <td>77.0</td>\n      <td>0.0</td>\n      <td>0.0</td>\n      <td>0.0</td>\n      <td>0.0</td>\n      <td>0.0</td>\n      <td>126.997974</td>\n    </tr>\n    <tr>\n      <th>2012-03-02</th>\n      <td>0.0</td>\n      <td>104.0</td>\n      <td>1.0</td>\n      <td>36.0</td>\n      <td>77.0</td>\n      <td>0.0</td>\n      <td>0.0</td>\n      <td>0.0</td>\n      <td>0.0</td>\n      <td>0.0</td>\n      <td>132.318205</td>\n    </tr>\n    <tr>\n      <th>2012-03-05</th>\n      <td>0.0</td>\n      <td>104.0</td>\n      <td>1.0</td>\n      <td>36.0</td>\n      <td>77.0</td>\n      <td>0.0</td>\n      <td>0.0</td>\n      <td>0.0</td>\n      <td>0.0</td>\n      <td>0.0</td>\n      <td>137.638437</td>\n    </tr>\n    <tr>\n      <th>2012-03-06</th>\n      <td>0.0</td>\n      <td>104.0</td>\n      <td>1.0</td>\n      <td>36.0</td>\n      <td>77.0</td>\n      <td>0.0</td>\n      <td>0.0</td>\n      <td>0.0</td>\n      <td>0.0</td>\n      <td>0.0</td>\n      <td>142.958669</td>\n    </tr>\n    <tr>\n      <th>2012-03-07</th>\n      <td>0.0</td>\n      <td>104.0</td>\n      <td>1.0</td>\n      <td>36.0</td>\n      <td>77.0</td>\n      <td>0.0</td>\n      <td>0.0</td>\n      <td>0.0</td>\n      <td>0.0</td>\n      <td>0.0</td>\n      <td>148.278900</td>\n    </tr>\n    <tr>\n      <th>2012-03-08</th>\n      <td>0.0</td>\n      <td>104.0</td>\n      <td>1.0</td>\n      <td>36.0</td>\n      <td>77.0</td>\n      <td>0.0</td>\n      <td>0.0</td>\n      <td>0.0</td>\n      <td>0.0</td>\n      <td>0.0</td>\n      <td>153.599132</td>\n    </tr>\n    <tr>\n      <th>2012-03-09</th>\n      <td>0.0</td>\n      <td>104.0</td>\n      <td>1.0</td>\n      <td>36.0</td>\n      <td>77.0</td>\n      <td>0.0</td>\n      <td>0.0</td>\n      <td>0.0</td>\n      <td>0.0</td>\n      <td>0.0</td>\n      <td>158.919364</td>\n    </tr>\n    <tr>\n      <th>2012-03-12</th>\n      <td>0.0</td>\n      <td>104.0</td>\n      <td>1.0</td>\n      <td>36.0</td>\n      <td>77.0</td>\n      <td>0.0</td>\n      <td>0.0</td>\n      <td>0.0</td>\n      <td>0.0</td>\n      <td>0.0</td>\n      <td>164.239596</td>\n    </tr>\n    <tr>\n      <th>2012-03-13</th>\n      <td>0.0</td>\n      <td>104.0</td>\n      <td>1.0</td>\n      <td>36.0</td>\n      <td>77.0</td>\n      <td>0.0</td>\n      <td>0.0</td>\n      <td>0.0</td>\n      <td>0.0</td>\n      <td>0.0</td>\n      <td>169.559827</td>\n    </tr>\n  </tbody>\n</table>\n</div>"
     },
     "execution_count": 13,
     "metadata": {},
     "output_type": "execute_result"
    }
   ],
   "source": [
    "idx = prices.index.get_indexer([sim_st_dt])[0]\n",
    "index = prices.loc[:sim_end_dt].iloc[idx-1:].index\n",
    "df = pd.concat([start_portf]+market_sim.hist_trades, axis=1).T\n",
    "df.index = index\n",
    "df = df.cumsum()\n",
    "df"
   ]
  },
  {
   "cell_type": "code",
   "execution_count": null,
   "metadata": {
    "pycharm": {
     "is_executing": true
    }
   },
   "outputs": [],
   "source": [
    "fig = go.Figure()\n",
    "#create two subfigures using plotly's subplots\n",
    "fig = make_subplots(rows=1, cols=2, shared_yaxes=True, horizontal_spacing=0.02)\n",
    "\n",
    "for i, col in enumerate(df.columns):\n",
    "    fig.add_trace(\n",
    "        go.Scatter(\n",
    "            x=df.index,\n",
    "            y=df[col],\n",
    "            name=col,\n",
    "            line_color = px.colors.qualitative.Dark24[i],\n",
    "            legendgroup=f'group{i}',\n",
    "        ),\n",
    "        row=1,\n",
    "        col=1\n",
    "    )\n",
    "    fig.add_trace(\n",
    "        go.Scatter(\n",
    "            x=[end_portf.name.strftime(\"%Y-%m-%d\")],\n",
    "            y=[end_portf[col]],\n",
    "            name=col,\n",
    "            line_color = px.colors.qualitative.Dark24[i],\n",
    "            legendgroup=f'group{i}',\n",
    "            showlegend=False,\n",
    "        ),\n",
    "        row=1,\n",
    "        col=2\n",
    "    )\n",
    "\n",
    "fig"
   ]
  },
  {
   "cell_type": "code",
   "execution_count": null,
   "metadata": {
    "pycharm": {
     "is_executing": true
    }
   },
   "outputs": [],
   "source": []
  },
  {
   "cell_type": "code",
   "execution_count": null,
   "metadata": {
    "pycharm": {
     "is_executing": true
    }
   },
   "outputs": [],
   "source": []
  }
 ],
 "metadata": {
  "kernelspec": {
   "display_name": "1603",
   "language": "python",
   "name": "python3"
  },
  "language_info": {
   "codemirror_mode": {
    "name": "ipython",
    "version": 3
   },
   "file_extension": ".py",
   "mimetype": "text/x-python",
   "name": "python",
   "nbconvert_exporter": "python",
   "pygments_lexer": "ipython3",
   "version": "3.11.0"
  },
  "orig_nbformat": 4
 },
 "nbformat": 4,
 "nbformat_minor": 2
}
