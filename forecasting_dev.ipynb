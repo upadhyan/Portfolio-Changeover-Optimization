{
 "cells": [
  {
   "cell_type": "code",
   "execution_count": 22,
   "metadata": {
    "collapsed": true
   },
   "outputs": [],
   "source": [
    "import pandas as pd\n",
    "import numpy as np\n",
    "\n",
    "from darts import TimeSeries\n",
    "from darts.models import ExponentialSmoothing, NBEATSModel, NLinearModel, RNNModel, TCNModel, TransformerModel\n",
    "\n",
    "import matplotlib.pyplot as plt\n",
    "import seaborn as sns\n",
    "\n",
    "import torch\n",
    "torch.set_float32_matmul_precision('medium')\n",
    "\n",
    "import time\n",
    "import random\n",
    "\n",
    "from tqdm.notebook import trange\n",
    "\n",
    "import os\n",
    "import contextlib\n",
    "\n",
    "import logging\n",
    "logging.getLogger(\"pytorch_lightning.utilities.rank_zero\").setLevel(logging.WARNING)\n",
    "logging.getLogger(\"pytorch_lightning.accelerators.cuda\").setLevel(logging.WARNING)"
   ]
  },
  {
   "cell_type": "markdown",
   "source": [
    "# Playground"
   ],
   "metadata": {
    "collapsed": false
   }
  },
  {
   "cell_type": "code",
   "execution_count": 29,
   "outputs": [
    {
     "name": "stdout",
     "output_type": "stream",
     "text": [
      "2020-01-02 00:00:00\n",
      "2022-03-31 00:00:00\n"
     ]
    },
    {
     "data": {
      "text/plain": "          date           A         AA        AAL         AAP        AAPL  \\\n0   2020-01-02   85.949997  29.516001      29.09  159.410004  300.350006   \n1   2020-01-03       84.57     29.492      27.65  159.419998  297.429993   \n2   2020-01-06       84.82  29.167999      27.32  156.800003  299.799988   \n3   2020-01-07   85.080002     29.392  27.219999  154.940002  298.390015   \n4   2020-01-08   85.919998  28.667999      27.84  153.160004  303.190002   \n..         ...         ...        ...        ...         ...         ...   \n581 2022-03-25  135.710007     47.992      17.01  215.580002  174.720001   \n582 2022-03-28  135.419998  47.684001  17.299999  210.490005  175.600006   \n583 2022-03-29  138.419998  47.518001      18.16  215.449997  178.960007   \n584 2022-03-30  135.460007  47.589999  18.049999  211.820007  177.770004   \n585 2022-03-31  132.330002  46.757999      18.25  206.960007  174.610001   \n\n           AAS        ABBV         ABC         ABD  ...  YRCW         YUM  \\\n0    70.540001   89.550003   85.080002   88.959999  ...  2.58  102.169998   \n1    69.896667   88.699997   84.010002   87.905004  ...  2.57  101.849998   \n2    70.073334   89.400002   85.239998   94.059997  ...  2.56  101.790001   \n3    69.529999   88.889999   84.629997   94.610003  ...  2.55  101.970001   \n4    70.396665   89.519997   85.449997   93.765001  ...  2.41  102.150002   \n..         ...         ...         ...         ...  ...   ...         ...   \n581  79.363335  161.330002  154.690002  163.535002  ...   7.9  119.620003   \n582  78.816666  161.970001  154.729996  164.999999  ...  7.81  121.190002   \n583  79.206665  162.179993  155.039993      169.92  ...  7.93  122.220001   \n584  78.813334      163.75  155.139999  168.340005  ...  7.49  120.839996   \n585  78.363335  162.110001  154.710007  169.619995  ...  7.01  118.529999   \n\n          YUMC          Z         ZBH        ZBRA       ZION         ZMH  \\\n0    49.130001  41.288182  149.199997  259.140015  52.439999  149.199997   \n1    48.419998      41.08  148.809998  256.049988  51.700001  148.809998   \n2    47.869999  41.410909  147.949997   258.01001      51.07  147.949997   \n3        47.93  42.215454  147.820007  256.470001  50.759998  147.820007   \n4    48.540001  42.180909  149.589996  247.639999  51.259998  149.589996   \n..         ...        ...         ...         ...        ...         ...   \n581  41.259998  40.074545  125.279999  425.660004  71.080002  125.279999   \n582      42.18  40.225455      125.68  422.279999  69.730003      125.68   \n583  43.560001  42.145454  129.580002  438.100006  69.739998  129.580002   \n584  43.709999       40.2  128.690002  429.609985  67.370003  128.690002   \n585  41.540001      38.39  127.900002  413.700012  65.559998  127.900002   \n\n            ZTS         ZY  \n0    134.139999  61.700001  \n1    134.160004  61.240002  \n2    133.130005  61.630001  \n3    133.580002      61.59  \n4    133.289993  61.919998  \n..          ...        ...  \n581  189.429993  46.732501  \n582  189.369995      47.22  \n583  192.279999  49.002498  \n584  191.320007     47.255  \n585  188.589996  46.157501  \n\n[586 rows x 1282 columns]",
      "text/html": "<div>\n<style scoped>\n    .dataframe tbody tr th:only-of-type {\n        vertical-align: middle;\n    }\n\n    .dataframe tbody tr th {\n        vertical-align: top;\n    }\n\n    .dataframe thead th {\n        text-align: right;\n    }\n</style>\n<table border=\"1\" class=\"dataframe\">\n  <thead>\n    <tr style=\"text-align: right;\">\n      <th></th>\n      <th>date</th>\n      <th>A</th>\n      <th>AA</th>\n      <th>AAL</th>\n      <th>AAP</th>\n      <th>AAPL</th>\n      <th>AAS</th>\n      <th>ABBV</th>\n      <th>ABC</th>\n      <th>ABD</th>\n      <th>...</th>\n      <th>YRCW</th>\n      <th>YUM</th>\n      <th>YUMC</th>\n      <th>Z</th>\n      <th>ZBH</th>\n      <th>ZBRA</th>\n      <th>ZION</th>\n      <th>ZMH</th>\n      <th>ZTS</th>\n      <th>ZY</th>\n    </tr>\n  </thead>\n  <tbody>\n    <tr>\n      <th>0</th>\n      <td>2020-01-02</td>\n      <td>85.949997</td>\n      <td>29.516001</td>\n      <td>29.09</td>\n      <td>159.410004</td>\n      <td>300.350006</td>\n      <td>70.540001</td>\n      <td>89.550003</td>\n      <td>85.080002</td>\n      <td>88.959999</td>\n      <td>...</td>\n      <td>2.58</td>\n      <td>102.169998</td>\n      <td>49.130001</td>\n      <td>41.288182</td>\n      <td>149.199997</td>\n      <td>259.140015</td>\n      <td>52.439999</td>\n      <td>149.199997</td>\n      <td>134.139999</td>\n      <td>61.700001</td>\n    </tr>\n    <tr>\n      <th>1</th>\n      <td>2020-01-03</td>\n      <td>84.57</td>\n      <td>29.492</td>\n      <td>27.65</td>\n      <td>159.419998</td>\n      <td>297.429993</td>\n      <td>69.896667</td>\n      <td>88.699997</td>\n      <td>84.010002</td>\n      <td>87.905004</td>\n      <td>...</td>\n      <td>2.57</td>\n      <td>101.849998</td>\n      <td>48.419998</td>\n      <td>41.08</td>\n      <td>148.809998</td>\n      <td>256.049988</td>\n      <td>51.700001</td>\n      <td>148.809998</td>\n      <td>134.160004</td>\n      <td>61.240002</td>\n    </tr>\n    <tr>\n      <th>2</th>\n      <td>2020-01-06</td>\n      <td>84.82</td>\n      <td>29.167999</td>\n      <td>27.32</td>\n      <td>156.800003</td>\n      <td>299.799988</td>\n      <td>70.073334</td>\n      <td>89.400002</td>\n      <td>85.239998</td>\n      <td>94.059997</td>\n      <td>...</td>\n      <td>2.56</td>\n      <td>101.790001</td>\n      <td>47.869999</td>\n      <td>41.410909</td>\n      <td>147.949997</td>\n      <td>258.01001</td>\n      <td>51.07</td>\n      <td>147.949997</td>\n      <td>133.130005</td>\n      <td>61.630001</td>\n    </tr>\n    <tr>\n      <th>3</th>\n      <td>2020-01-07</td>\n      <td>85.080002</td>\n      <td>29.392</td>\n      <td>27.219999</td>\n      <td>154.940002</td>\n      <td>298.390015</td>\n      <td>69.529999</td>\n      <td>88.889999</td>\n      <td>84.629997</td>\n      <td>94.610003</td>\n      <td>...</td>\n      <td>2.55</td>\n      <td>101.970001</td>\n      <td>47.93</td>\n      <td>42.215454</td>\n      <td>147.820007</td>\n      <td>256.470001</td>\n      <td>50.759998</td>\n      <td>147.820007</td>\n      <td>133.580002</td>\n      <td>61.59</td>\n    </tr>\n    <tr>\n      <th>4</th>\n      <td>2020-01-08</td>\n      <td>85.919998</td>\n      <td>28.667999</td>\n      <td>27.84</td>\n      <td>153.160004</td>\n      <td>303.190002</td>\n      <td>70.396665</td>\n      <td>89.519997</td>\n      <td>85.449997</td>\n      <td>93.765001</td>\n      <td>...</td>\n      <td>2.41</td>\n      <td>102.150002</td>\n      <td>48.540001</td>\n      <td>42.180909</td>\n      <td>149.589996</td>\n      <td>247.639999</td>\n      <td>51.259998</td>\n      <td>149.589996</td>\n      <td>133.289993</td>\n      <td>61.919998</td>\n    </tr>\n    <tr>\n      <th>...</th>\n      <td>...</td>\n      <td>...</td>\n      <td>...</td>\n      <td>...</td>\n      <td>...</td>\n      <td>...</td>\n      <td>...</td>\n      <td>...</td>\n      <td>...</td>\n      <td>...</td>\n      <td>...</td>\n      <td>...</td>\n      <td>...</td>\n      <td>...</td>\n      <td>...</td>\n      <td>...</td>\n      <td>...</td>\n      <td>...</td>\n      <td>...</td>\n      <td>...</td>\n      <td>...</td>\n    </tr>\n    <tr>\n      <th>581</th>\n      <td>2022-03-25</td>\n      <td>135.710007</td>\n      <td>47.992</td>\n      <td>17.01</td>\n      <td>215.580002</td>\n      <td>174.720001</td>\n      <td>79.363335</td>\n      <td>161.330002</td>\n      <td>154.690002</td>\n      <td>163.535002</td>\n      <td>...</td>\n      <td>7.9</td>\n      <td>119.620003</td>\n      <td>41.259998</td>\n      <td>40.074545</td>\n      <td>125.279999</td>\n      <td>425.660004</td>\n      <td>71.080002</td>\n      <td>125.279999</td>\n      <td>189.429993</td>\n      <td>46.732501</td>\n    </tr>\n    <tr>\n      <th>582</th>\n      <td>2022-03-28</td>\n      <td>135.419998</td>\n      <td>47.684001</td>\n      <td>17.299999</td>\n      <td>210.490005</td>\n      <td>175.600006</td>\n      <td>78.816666</td>\n      <td>161.970001</td>\n      <td>154.729996</td>\n      <td>164.999999</td>\n      <td>...</td>\n      <td>7.81</td>\n      <td>121.190002</td>\n      <td>42.18</td>\n      <td>40.225455</td>\n      <td>125.68</td>\n      <td>422.279999</td>\n      <td>69.730003</td>\n      <td>125.68</td>\n      <td>189.369995</td>\n      <td>47.22</td>\n    </tr>\n    <tr>\n      <th>583</th>\n      <td>2022-03-29</td>\n      <td>138.419998</td>\n      <td>47.518001</td>\n      <td>18.16</td>\n      <td>215.449997</td>\n      <td>178.960007</td>\n      <td>79.206665</td>\n      <td>162.179993</td>\n      <td>155.039993</td>\n      <td>169.92</td>\n      <td>...</td>\n      <td>7.93</td>\n      <td>122.220001</td>\n      <td>43.560001</td>\n      <td>42.145454</td>\n      <td>129.580002</td>\n      <td>438.100006</td>\n      <td>69.739998</td>\n      <td>129.580002</td>\n      <td>192.279999</td>\n      <td>49.002498</td>\n    </tr>\n    <tr>\n      <th>584</th>\n      <td>2022-03-30</td>\n      <td>135.460007</td>\n      <td>47.589999</td>\n      <td>18.049999</td>\n      <td>211.820007</td>\n      <td>177.770004</td>\n      <td>78.813334</td>\n      <td>163.75</td>\n      <td>155.139999</td>\n      <td>168.340005</td>\n      <td>...</td>\n      <td>7.49</td>\n      <td>120.839996</td>\n      <td>43.709999</td>\n      <td>40.2</td>\n      <td>128.690002</td>\n      <td>429.609985</td>\n      <td>67.370003</td>\n      <td>128.690002</td>\n      <td>191.320007</td>\n      <td>47.255</td>\n    </tr>\n    <tr>\n      <th>585</th>\n      <td>2022-03-31</td>\n      <td>132.330002</td>\n      <td>46.757999</td>\n      <td>18.25</td>\n      <td>206.960007</td>\n      <td>174.610001</td>\n      <td>78.363335</td>\n      <td>162.110001</td>\n      <td>154.710007</td>\n      <td>169.619995</td>\n      <td>...</td>\n      <td>7.01</td>\n      <td>118.529999</td>\n      <td>41.540001</td>\n      <td>38.39</td>\n      <td>127.900002</td>\n      <td>413.700012</td>\n      <td>65.559998</td>\n      <td>127.900002</td>\n      <td>188.589996</td>\n      <td>46.157501</td>\n    </tr>\n  </tbody>\n</table>\n<p>586 rows × 1282 columns</p>\n</div>"
     },
     "execution_count": 29,
     "metadata": {},
     "output_type": "execute_result"
    }
   ],
   "source": [
    "df = pd.read_parquet('stock_data.parquet')\n",
    "df.head()\n",
    "\n",
    "pivot_table = df.pivot_table(index='date', columns='ticker', values='prc')\n",
    "\n",
    "# Drop all columns with nans\n",
    "pivot_table = pivot_table.dropna(axis=1, how='any')\n",
    "\n",
    "# create an index of dates with business day frequency\n",
    "idx = pd.date_range(start=pivot_table.index.min(), end=pivot_table.index.max(), freq='B')\n",
    "# reindex the pivot table with the new index\n",
    "pivot_table = pivot_table.reindex(idx)\n",
    "# fill the missing values with the previous value\n",
    "pivot_table = pivot_table.fillna(method='ffill')\n",
    "\n",
    "# # Turn data in pivot table into difference from previous timestep\n",
    "# pivot_table = pivot_table.diff()\n",
    "#\n",
    "# # Drop first row of data\n",
    "# pivot_table = pivot_table.iloc[1:]\n",
    "\n",
    "\n",
    "print(pivot_table.index.min())\n",
    "print(pivot_table.index.max())\n",
    "pivot_table.index.name = 'date'\n",
    "final_df = pivot_table.reset_index()\n",
    "final_df = pd.DataFrame(final_df.values, columns=final_df.columns.to_list())\n",
    "final_df"
   ],
   "metadata": {
    "collapsed": false
   }
  },
  {
   "cell_type": "code",
   "execution_count": 6,
   "outputs": [
    {
     "name": "stderr",
     "output_type": "stream",
     "text": [
      "GPU available: True (cuda), used: True\n",
      "TPU available: False, using: 0 TPU cores\n",
      "IPU available: False, using: 0 IPUs\n",
      "HPU available: False, using: 0 HPUs\n",
      "LOCAL_RANK: 0 - CUDA_VISIBLE_DEVICES: [0]\n",
      "`Trainer.fit` stopped: `max_epochs=100` reached.\n",
      "GPU available: True (cuda), used: True\n",
      "TPU available: False, using: 0 TPU cores\n",
      "IPU available: False, using: 0 IPUs\n",
      "HPU available: False, using: 0 HPUs\n",
      "LOCAL_RANK: 0 - CUDA_VISIBLE_DEVICES: [0]\n",
      "GPU available: True (cuda), used: True\n",
      "TPU available: False, using: 0 TPU cores\n",
      "IPU available: False, using: 0 IPUs\n",
      "HPU available: False, using: 0 HPUs\n",
      "LOCAL_RANK: 0 - CUDA_VISIBLE_DEVICES: [0]\n"
     ]
    },
    {
     "name": "stdout",
     "output_type": "stream",
     "text": [
      "2022-03-31 00:00:00\n",
      "2022-04-14 00:00:00\n"
     ]
    }
   ],
   "source": [
    "t1 = time.time()\n",
    "\n",
    "tickers = final_df.columns.to_list()[1:50]\n",
    "big_ts = TimeSeries.from_dataframe(final_df, 'date', tickers)\n",
    "train, val = big_ts.split_after(pd.Timestamp('2021-12-01'))\n",
    "other_val = val[:10]\n",
    "model = NLinearModel(\n",
    "    input_chunk_length=120,\n",
    "    output_chunk_length=30,\n",
    "    n_epochs=100,\n",
    "    random_state=0\n",
    ")\n",
    "model.fit(train, verbose = False)\n",
    "new_train = train.append(other_val)\n",
    "\n",
    "pred_1 = model.predict(len(val), series = train, verbose = False).pd_dataframe()\n",
    "pred_2 = model.predict(len(val), series = new_train, verbose = False).pd_dataframe()\n",
    "\n",
    "print(pred_1.index.max())\n",
    "print(pred_2.index.max())"
   ],
   "metadata": {
    "collapsed": false
   }
  },
  {
   "cell_type": "markdown",
   "source": [
    "# Experiment Generation\n",
    "\n",
    "1. Choose a random day between 2002-01-01 and 2021-12-31\n",
    "2. Subset the data set going back 3 years from the given day and forward 30 days from the given day\n",
    "3. Drop stocks which are missing data in the subset\n",
    "4. Choose $n$ stocks from the subset\n",
    "5. Split the subset into a training set and a validation set\n",
    "6. Train the model on the training set\n",
    "7. Predict the validation set\n",
    "8. Calculate the mean absolute error of the prediction\n",
    "9. Update series and validation set with truth values\n",
    "10. Repeat steps 6-8 until the end of the validation set\n",
    "11. calculate the mean absolute error of the entire validation set for each prediction and store\n",
    "12. Package all the info into an object\n",
    "\n",
    "## Data Import"
   ],
   "metadata": {
    "collapsed": false
   }
  },
  {
   "cell_type": "code",
   "execution_count": 23,
   "outputs": [],
   "source": [
    "# read in the price data\n",
    "df = pd.read_parquet('spx_stock_prices.parquet')\n",
    "df.index = pd.to_datetime(df.index)\n",
    "\n",
    "# Randomly choose a date between 2002-01-01 and 2021-12-31\n",
    "minimum_date = pd.Timestamp('2002-01-01')\n",
    "maximum_date = pd.Timestamp('2021-12-31')\n",
    "random_date = pd.Timestamp(random.randint(minimum_date.value, minimum_date.value))\n",
    "random_date = random_date.date()\n",
    "\n",
    "# get the date two years before random date\n",
    "start_date = random_date - pd.DateOffset(years=3)\n",
    "# get the date 30 business days after random date\n",
    "end_date = random_date + pd.DateOffset(days=30)\n",
    "# convert random date to a string\n",
    "random_date = random_date.strftime('%Y-%m-%d')\n",
    "start_date = start_date.strftime('%Y-%m-%d')\n",
    "end_date = end_date.strftime('%Y-%m-%d')\n",
    "\n",
    "# Subset the data\n",
    "subset = df.loc[start_date:end_date]\n",
    "\n",
    "# Replace all zeros with nan\n",
    "subset = subset.replace(0, np.nan)\n",
    "\n",
    "# Drop all columns with nans\n",
    "subset = subset.dropna(axis=1, how='any')\n",
    "\n",
    "# Select a number between 20 and 50\n",
    "n = random.randint(20, 50)\n",
    "\n",
    "# Choose n stocks from the subset\n",
    "stocks = random.sample(subset.columns.to_list(), n)\n",
    "\n",
    "# select the stocks from the subset\n",
    "subset = subset[stocks]\n",
    "\n",
    "# Get the average percent change variance of the stocks\n",
    "variance = subset.pct_change().var().mean()\n",
    "\n",
    "# Reindex the subset with business days and set the index name to 'date'\n",
    "subset = subset.reindex(pd.date_range(start=subset.index.min(), end=subset.index.max(), freq='B'))\n",
    "subset.index.name = 'date'\n",
    "\n",
    "# Fill the missing values with the previous value\n",
    "subset = subset.fillna(method='ffill')\n",
    "split_date = subset.index[-31]\n",
    "\n",
    "# Turn index into a column\n",
    "subset = subset.reset_index()\n",
    "\n",
    "# Create a TimeSeries object using subset\n",
    "ts = TimeSeries.from_dataframe(subset, 'date', stocks)\n",
    "\n",
    "# Split the TimeSeries into a training set and a validation set with the validation set being the last 30 time steps\n",
    "train, val = ts.split_after(split_date)\n",
    "truth = val.pd_dataframe()\n",
    "model = NLinearModel(\n",
    "    input_chunk_length=120,\n",
    "    output_chunk_length=30,\n",
    "    n_epochs=100,\n",
    "    random_state=0\n",
    ")\n",
    "\n",
    "model.fit(train, verbose = False)\n",
    "predictions = [None] * len(val)\n",
    "\n",
    "for i in range(len(val)):\n",
    "    # Supress print statements in this loop\n",
    "    with open(os.devnull, 'w') as devnull:\n",
    "        with contextlib.redirect_stdout(devnull):\n",
    "            updated_split = subset.index[-31 + i]\n",
    "            updated_train, updated_val = ts.split_after(updated_split)\n",
    "            forward_steps = len(val) - i\n",
    "            pred = model.predict(forward_steps, series = updated_train, verbose = False)\n",
    "            if i != 0:\n",
    "                df1 = val[:i].pd_dataframe()\n",
    "                df2 = pred.pd_dataframe()\n",
    "                combined_df = pd.concat([df1, df2])\n",
    "                predictions[i] = combined_df\n",
    "            else:\n",
    "                predictions[i] = pred.pd_dataframe()"
   ],
   "metadata": {
    "collapsed": false
   }
  },
  {
   "cell_type": "code",
   "execution_count": null,
   "outputs": [],
   "source": [],
   "metadata": {
    "collapsed": false
   }
  },
  {
   "cell_type": "code",
   "execution_count": 36,
   "outputs": [
    {
     "data": {
      "text/plain": "True"
     },
     "execution_count": 36,
     "metadata": {},
     "output_type": "execute_result"
    }
   ],
   "source": [
    "initial= train.pd_dataframe().iloc[-1]\n",
    "initiak_port = np.zeros(len(initial))\n",
    "(initiak_port + np.ones(len(initial))) @ initial < 1000000"
   ],
   "metadata": {
    "collapsed": false
   }
  },
  {
   "cell_type": "code",
   "execution_count": 29,
   "outputs": [
    {
     "data": {
      "text/plain": "Timestamp('2004-03-09 00:00:00', freq='B')"
     },
     "execution_count": 29,
     "metadata": {},
     "output_type": "execute_result"
    }
   ],
   "source": [
    "train.pd_dataframe().index.max()"
   ],
   "metadata": {
    "collapsed": false
   }
  }
 ],
 "metadata": {
  "kernelspec": {
   "name": "port_opt",
   "language": "python",
   "display_name": "port_opt"
  },
  "language_info": {
   "codemirror_mode": {
    "name": "ipython",
    "version": 2
   },
   "file_extension": ".py",
   "mimetype": "text/x-python",
   "name": "python",
   "nbconvert_exporter": "python",
   "pygments_lexer": "ipython2",
   "version": "2.7.6"
  }
 },
 "nbformat": 4,
 "nbformat_minor": 0
}
