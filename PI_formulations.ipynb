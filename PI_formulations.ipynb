{
 "cells": [
  {
   "cell_type": "code",
   "execution_count": 56,
   "metadata": {
    "collapsed": true
   },
   "outputs": [],
   "source": [
    "import pandas as pd\n",
    "import numpy as np\n",
    "import gurobipy as gp\n",
    "from gurobipy import GRB\n",
    "\n",
    "import datetime as dt\n",
    "import plotly.graph_objects as go\n",
    "\n",
    "from tqdm import tqdm"
   ]
  },
  {
   "cell_type": "code",
   "execution_count": 2,
   "metadata": {
    "collapsed": false
   },
   "outputs": [],
   "source": [
    "data = pd.read_parquet(\"stock_data.parquet\")\n",
    "stock_names = data['comnam'].unique()\n",
    "\n",
    "# repeat = True\n",
    "# while repeat:\n",
    "#     count = 0\n",
    "#     dfs = []\n",
    "#     sizes = []\n",
    "#     relevant_stocks = np.random.choice(stock_names,size=10, replace=False)\n",
    "#     for stock in relevant_stocks:\n",
    "#         subset = data[data['comnam'] == stock]\n",
    "#         df = subset[['prc']]\n",
    "#         df.columns = [stock]\n",
    "#         df.index = pd.to_datetime(subset['date'])\n",
    "#         dfs.append(df)\n",
    "#         sizes.append(df.shape[0])\n",
    "#     dfs = [x for _,x in reversed(sorted(zip(sizes,dfs), key = lambda x:x[0]))]\n",
    "#     final = dfs[0]\n",
    "#     for i in range(1, 10):\n",
    "#         final = final.join(dfs[i])\n",
    "#     final.index.name = 'date'\n",
    "#     final = final.groupby(by='date').mean()\n",
    "#     final = final.interpolate()\n",
    "#     period = np.random.randint(30, final.shape[0])\n",
    "#     final = final.iloc[period-30:period]\n",
    "#     if final.iloc[0].isna().any() or final.iloc[29].isna().any():\n",
    "#         repeat = True\n",
    "#     else:\n",
    "#         repeat = False"
   ]
  },
  {
   "cell_type": "code",
   "execution_count": 182,
   "metadata": {},
   "outputs": [
    {
     "data": {
      "text/html": [
       "<div>\n",
       "<style scoped>\n",
       "    .dataframe tbody tr th:only-of-type {\n",
       "        vertical-align: middle;\n",
       "    }\n",
       "\n",
       "    .dataframe tbody tr th {\n",
       "        vertical-align: top;\n",
       "    }\n",
       "\n",
       "    .dataframe thead th {\n",
       "        text-align: right;\n",
       "    }\n",
       "</style>\n",
       "<table border=\"1\" class=\"dataframe\">\n",
       "  <thead>\n",
       "    <tr style=\"text-align: right;\">\n",
       "      <th></th>\n",
       "      <th>cusip</th>\n",
       "      <th>permno</th>\n",
       "      <th>permco</th>\n",
       "      <th>issuno</th>\n",
       "      <th>hexcd</th>\n",
       "      <th>hsiccd</th>\n",
       "      <th>date</th>\n",
       "      <th>bidlo</th>\n",
       "      <th>askhi</th>\n",
       "      <th>prc</th>\n",
       "      <th>...</th>\n",
       "      <th>bid</th>\n",
       "      <th>ask</th>\n",
       "      <th>shrout</th>\n",
       "      <th>cfacpr</th>\n",
       "      <th>cfacshr</th>\n",
       "      <th>openprc</th>\n",
       "      <th>numtrd</th>\n",
       "      <th>retx</th>\n",
       "      <th>ticker</th>\n",
       "      <th>comnam</th>\n",
       "    </tr>\n",
       "  </thead>\n",
       "  <tbody>\n",
       "    <tr>\n",
       "      <th>33229</th>\n",
       "      <td>68389X10</td>\n",
       "      <td>10104.0</td>\n",
       "      <td>8045.0</td>\n",
       "      <td>10536.0</td>\n",
       "      <td>1.0</td>\n",
       "      <td>7372.0</td>\n",
       "      <td>2020-01-02</td>\n",
       "      <td>53.230000</td>\n",
       "      <td>53.959999</td>\n",
       "      <td>53.950001</td>\n",
       "      <td>...</td>\n",
       "      <td>53.950001</td>\n",
       "      <td>53.959999</td>\n",
       "      <td>3207649.0</td>\n",
       "      <td>1.0</td>\n",
       "      <td>1.0</td>\n",
       "      <td>53.270000</td>\n",
       "      <td>NaN</td>\n",
       "      <td>0.018309</td>\n",
       "      <td>ORCL</td>\n",
       "      <td>ORACLE SYSTEMS CORP</td>\n",
       "    </tr>\n",
       "    <tr>\n",
       "      <th>33230</th>\n",
       "      <td>68389X10</td>\n",
       "      <td>10104.0</td>\n",
       "      <td>8045.0</td>\n",
       "      <td>10536.0</td>\n",
       "      <td>1.0</td>\n",
       "      <td>7372.0</td>\n",
       "      <td>2020-01-03</td>\n",
       "      <td>52.950001</td>\n",
       "      <td>54.049999</td>\n",
       "      <td>53.759998</td>\n",
       "      <td>...</td>\n",
       "      <td>53.770000</td>\n",
       "      <td>53.779999</td>\n",
       "      <td>3207649.0</td>\n",
       "      <td>1.0</td>\n",
       "      <td>1.0</td>\n",
       "      <td>52.990002</td>\n",
       "      <td>NaN</td>\n",
       "      <td>-0.003522</td>\n",
       "      <td>ORCL</td>\n",
       "      <td>ORACLE SYSTEMS CORP</td>\n",
       "    </tr>\n",
       "    <tr>\n",
       "      <th>33231</th>\n",
       "      <td>68389X10</td>\n",
       "      <td>10104.0</td>\n",
       "      <td>8045.0</td>\n",
       "      <td>10536.0</td>\n",
       "      <td>1.0</td>\n",
       "      <td>7372.0</td>\n",
       "      <td>2020-01-06</td>\n",
       "      <td>53.349998</td>\n",
       "      <td>54.200001</td>\n",
       "      <td>54.040001</td>\n",
       "      <td>...</td>\n",
       "      <td>54.040001</td>\n",
       "      <td>54.049999</td>\n",
       "      <td>3207649.0</td>\n",
       "      <td>1.0</td>\n",
       "      <td>1.0</td>\n",
       "      <td>53.360001</td>\n",
       "      <td>NaN</td>\n",
       "      <td>0.005208</td>\n",
       "      <td>ORCL</td>\n",
       "      <td>ORACLE SYSTEMS CORP</td>\n",
       "    </tr>\n",
       "    <tr>\n",
       "      <th>33232</th>\n",
       "      <td>68389X10</td>\n",
       "      <td>10104.0</td>\n",
       "      <td>8045.0</td>\n",
       "      <td>10536.0</td>\n",
       "      <td>1.0</td>\n",
       "      <td>7372.0</td>\n",
       "      <td>2020-01-07</td>\n",
       "      <td>53.610001</td>\n",
       "      <td>54.330002</td>\n",
       "      <td>54.160000</td>\n",
       "      <td>...</td>\n",
       "      <td>54.160000</td>\n",
       "      <td>54.169998</td>\n",
       "      <td>3207649.0</td>\n",
       "      <td>1.0</td>\n",
       "      <td>1.0</td>\n",
       "      <td>53.889999</td>\n",
       "      <td>NaN</td>\n",
       "      <td>0.002221</td>\n",
       "      <td>ORCL</td>\n",
       "      <td>ORACLE SYSTEMS CORP</td>\n",
       "    </tr>\n",
       "    <tr>\n",
       "      <th>33233</th>\n",
       "      <td>68389X10</td>\n",
       "      <td>10104.0</td>\n",
       "      <td>8045.0</td>\n",
       "      <td>10536.0</td>\n",
       "      <td>1.0</td>\n",
       "      <td>7372.0</td>\n",
       "      <td>2020-01-08</td>\n",
       "      <td>53.700001</td>\n",
       "      <td>54.599998</td>\n",
       "      <td>54.130001</td>\n",
       "      <td>...</td>\n",
       "      <td>54.119999</td>\n",
       "      <td>54.130001</td>\n",
       "      <td>3207649.0</td>\n",
       "      <td>1.0</td>\n",
       "      <td>1.0</td>\n",
       "      <td>53.939999</td>\n",
       "      <td>NaN</td>\n",
       "      <td>-0.000554</td>\n",
       "      <td>ORCL</td>\n",
       "      <td>ORACLE SYSTEMS CORP</td>\n",
       "    </tr>\n",
       "    <tr>\n",
       "      <th>...</th>\n",
       "      <td>...</td>\n",
       "      <td>...</td>\n",
       "      <td>...</td>\n",
       "      <td>...</td>\n",
       "      <td>...</td>\n",
       "      <td>...</td>\n",
       "      <td>...</td>\n",
       "      <td>...</td>\n",
       "      <td>...</td>\n",
       "      <td>...</td>\n",
       "      <td>...</td>\n",
       "      <td>...</td>\n",
       "      <td>...</td>\n",
       "      <td>...</td>\n",
       "      <td>...</td>\n",
       "      <td>...</td>\n",
       "      <td>...</td>\n",
       "      <td>...</td>\n",
       "      <td>...</td>\n",
       "      <td>...</td>\n",
       "      <td>...</td>\n",
       "    </tr>\n",
       "    <tr>\n",
       "      <th>340541</th>\n",
       "      <td>88160R10</td>\n",
       "      <td>93436.0</td>\n",
       "      <td>53453.0</td>\n",
       "      <td>66252.0</td>\n",
       "      <td>3.0</td>\n",
       "      <td>9999.0</td>\n",
       "      <td>2022-03-25</td>\n",
       "      <td>997.320129</td>\n",
       "      <td>1021.799927</td>\n",
       "      <td>1010.640015</td>\n",
       "      <td>...</td>\n",
       "      <td>1010.210022</td>\n",
       "      <td>1010.890015</td>\n",
       "      <td>1033534.0</td>\n",
       "      <td>1.0</td>\n",
       "      <td>1.0</td>\n",
       "      <td>1008.000000</td>\n",
       "      <td>593068.0</td>\n",
       "      <td>-0.003235</td>\n",
       "      <td>TSLA</td>\n",
       "      <td>TESLA INC</td>\n",
       "    </tr>\n",
       "    <tr>\n",
       "      <th>340542</th>\n",
       "      <td>88160R10</td>\n",
       "      <td>93436.0</td>\n",
       "      <td>53453.0</td>\n",
       "      <td>66252.0</td>\n",
       "      <td>3.0</td>\n",
       "      <td>9999.0</td>\n",
       "      <td>2022-03-28</td>\n",
       "      <td>1053.599976</td>\n",
       "      <td>1097.879883</td>\n",
       "      <td>1091.839966</td>\n",
       "      <td>...</td>\n",
       "      <td>1091.839966</td>\n",
       "      <td>1092.199951</td>\n",
       "      <td>1033534.0</td>\n",
       "      <td>1.0</td>\n",
       "      <td>1.0</td>\n",
       "      <td>1065.099976</td>\n",
       "      <td>1113132.0</td>\n",
       "      <td>0.080345</td>\n",
       "      <td>TSLA</td>\n",
       "      <td>TESLA INC</td>\n",
       "    </tr>\n",
       "    <tr>\n",
       "      <th>340543</th>\n",
       "      <td>88160R10</td>\n",
       "      <td>93436.0</td>\n",
       "      <td>53453.0</td>\n",
       "      <td>66252.0</td>\n",
       "      <td>3.0</td>\n",
       "      <td>9999.0</td>\n",
       "      <td>2022-03-29</td>\n",
       "      <td>1073.109985</td>\n",
       "      <td>1114.770020</td>\n",
       "      <td>1099.569946</td>\n",
       "      <td>...</td>\n",
       "      <td>1099.819946</td>\n",
       "      <td>1099.959961</td>\n",
       "      <td>1033534.0</td>\n",
       "      <td>1.0</td>\n",
       "      <td>1.0</td>\n",
       "      <td>1107.989990</td>\n",
       "      <td>835619.0</td>\n",
       "      <td>0.007080</td>\n",
       "      <td>TSLA</td>\n",
       "      <td>TESLA INC</td>\n",
       "    </tr>\n",
       "    <tr>\n",
       "      <th>340544</th>\n",
       "      <td>88160R10</td>\n",
       "      <td>93436.0</td>\n",
       "      <td>53453.0</td>\n",
       "      <td>66252.0</td>\n",
       "      <td>3.0</td>\n",
       "      <td>9999.0</td>\n",
       "      <td>2022-03-30</td>\n",
       "      <td>1084.000000</td>\n",
       "      <td>1113.949951</td>\n",
       "      <td>1093.989990</td>\n",
       "      <td>...</td>\n",
       "      <td>1093.689941</td>\n",
       "      <td>1093.989990</td>\n",
       "      <td>1033534.0</td>\n",
       "      <td>1.0</td>\n",
       "      <td>1.0</td>\n",
       "      <td>1091.170044</td>\n",
       "      <td>598381.0</td>\n",
       "      <td>-0.005075</td>\n",
       "      <td>TSLA</td>\n",
       "      <td>TESLA INC</td>\n",
       "    </tr>\n",
       "    <tr>\n",
       "      <th>340545</th>\n",
       "      <td>88160R10</td>\n",
       "      <td>93436.0</td>\n",
       "      <td>53453.0</td>\n",
       "      <td>66252.0</td>\n",
       "      <td>3.0</td>\n",
       "      <td>9999.0</td>\n",
       "      <td>2022-03-31</td>\n",
       "      <td>1076.640991</td>\n",
       "      <td>1103.139893</td>\n",
       "      <td>1077.599976</td>\n",
       "      <td>...</td>\n",
       "      <td>1077.599976</td>\n",
       "      <td>1077.880005</td>\n",
       "      <td>1033534.0</td>\n",
       "      <td>1.0</td>\n",
       "      <td>1.0</td>\n",
       "      <td>1094.569946</td>\n",
       "      <td>509355.0</td>\n",
       "      <td>-0.014982</td>\n",
       "      <td>TSLA</td>\n",
       "      <td>TESLA INC</td>\n",
       "    </tr>\n",
       "  </tbody>\n",
       "</table>\n",
       "<p>3441305 rows × 22 columns</p>\n",
       "</div>"
      ],
      "text/plain": [
       "           cusip   permno   permco   issuno  hexcd  hsiccd       date  \\\n",
       "33229   68389X10  10104.0   8045.0  10536.0    1.0  7372.0 2020-01-02   \n",
       "33230   68389X10  10104.0   8045.0  10536.0    1.0  7372.0 2020-01-03   \n",
       "33231   68389X10  10104.0   8045.0  10536.0    1.0  7372.0 2020-01-06   \n",
       "33232   68389X10  10104.0   8045.0  10536.0    1.0  7372.0 2020-01-07   \n",
       "33233   68389X10  10104.0   8045.0  10536.0    1.0  7372.0 2020-01-08   \n",
       "...          ...      ...      ...      ...    ...     ...        ...   \n",
       "340541  88160R10  93436.0  53453.0  66252.0    3.0  9999.0 2022-03-25   \n",
       "340542  88160R10  93436.0  53453.0  66252.0    3.0  9999.0 2022-03-28   \n",
       "340543  88160R10  93436.0  53453.0  66252.0    3.0  9999.0 2022-03-29   \n",
       "340544  88160R10  93436.0  53453.0  66252.0    3.0  9999.0 2022-03-30   \n",
       "340545  88160R10  93436.0  53453.0  66252.0    3.0  9999.0 2022-03-31   \n",
       "\n",
       "              bidlo        askhi          prc  ...          bid          ask  \\\n",
       "33229     53.230000    53.959999    53.950001  ...    53.950001    53.959999   \n",
       "33230     52.950001    54.049999    53.759998  ...    53.770000    53.779999   \n",
       "33231     53.349998    54.200001    54.040001  ...    54.040001    54.049999   \n",
       "33232     53.610001    54.330002    54.160000  ...    54.160000    54.169998   \n",
       "33233     53.700001    54.599998    54.130001  ...    54.119999    54.130001   \n",
       "...             ...          ...          ...  ...          ...          ...   \n",
       "340541   997.320129  1021.799927  1010.640015  ...  1010.210022  1010.890015   \n",
       "340542  1053.599976  1097.879883  1091.839966  ...  1091.839966  1092.199951   \n",
       "340543  1073.109985  1114.770020  1099.569946  ...  1099.819946  1099.959961   \n",
       "340544  1084.000000  1113.949951  1093.989990  ...  1093.689941  1093.989990   \n",
       "340545  1076.640991  1103.139893  1077.599976  ...  1077.599976  1077.880005   \n",
       "\n",
       "           shrout  cfacpr  cfacshr      openprc     numtrd      retx  ticker  \\\n",
       "33229   3207649.0     1.0      1.0    53.270000        NaN  0.018309    ORCL   \n",
       "33230   3207649.0     1.0      1.0    52.990002        NaN -0.003522    ORCL   \n",
       "33231   3207649.0     1.0      1.0    53.360001        NaN  0.005208    ORCL   \n",
       "33232   3207649.0     1.0      1.0    53.889999        NaN  0.002221    ORCL   \n",
       "33233   3207649.0     1.0      1.0    53.939999        NaN -0.000554    ORCL   \n",
       "...           ...     ...      ...          ...        ...       ...     ...   \n",
       "340541  1033534.0     1.0      1.0  1008.000000   593068.0 -0.003235    TSLA   \n",
       "340542  1033534.0     1.0      1.0  1065.099976  1113132.0  0.080345    TSLA   \n",
       "340543  1033534.0     1.0      1.0  1107.989990   835619.0  0.007080    TSLA   \n",
       "340544  1033534.0     1.0      1.0  1091.170044   598381.0 -0.005075    TSLA   \n",
       "340545  1033534.0     1.0      1.0  1094.569946   509355.0 -0.014982    TSLA   \n",
       "\n",
       "                     comnam  \n",
       "33229   ORACLE SYSTEMS CORP  \n",
       "33230   ORACLE SYSTEMS CORP  \n",
       "33231   ORACLE SYSTEMS CORP  \n",
       "33232   ORACLE SYSTEMS CORP  \n",
       "33233   ORACLE SYSTEMS CORP  \n",
       "...                     ...  \n",
       "340541            TESLA INC  \n",
       "340542            TESLA INC  \n",
       "340543            TESLA INC  \n",
       "340544            TESLA INC  \n",
       "340545            TESLA INC  \n",
       "\n",
       "[3441305 rows x 22 columns]"
      ]
     },
     "execution_count": 182,
     "metadata": {},
     "output_type": "execute_result"
    }
   ],
   "source": [
    "data"
   ]
  },
  {
   "cell_type": "code",
   "execution_count": 188,
   "metadata": {},
   "outputs": [
    {
     "data": {
      "text/html": [
       "<div>\n",
       "<style scoped>\n",
       "    .dataframe tbody tr th:only-of-type {\n",
       "        vertical-align: middle;\n",
       "    }\n",
       "\n",
       "    .dataframe tbody tr th {\n",
       "        vertical-align: top;\n",
       "    }\n",
       "\n",
       "    .dataframe thead th {\n",
       "        text-align: right;\n",
       "    }\n",
       "</style>\n",
       "<table border=\"1\" class=\"dataframe\">\n",
       "  <thead>\n",
       "    <tr style=\"text-align: right;\">\n",
       "      <th>comnam</th>\n",
       "      <th>10X GENOMICS INC</th>\n",
       "      <th>3M CO</th>\n",
       "      <th>A C C O BRANDS CORP</th>\n",
       "      <th>A D T INC</th>\n",
       "      <th>A E S CORP</th>\n",
       "      <th>A H BELO CORP</th>\n",
       "      <th>A M B PROPERTY CORP</th>\n",
       "      <th>A M N HEALTHCARE SERVICES INC</th>\n",
       "      <th>A M R CORP DEL</th>\n",
       "      <th>A P A CORP</th>\n",
       "      <th>...</th>\n",
       "      <th>ZAYRE CORP</th>\n",
       "      <th>ZEBRA TECHNOLOGIES CORP</th>\n",
       "      <th>ZILLOW GROUP INC</th>\n",
       "      <th>ZILLOW INC</th>\n",
       "      <th>ZIMMER BIOMET HOLDINGS INC</th>\n",
       "      <th>ZIMMER HOLDINGS INC</th>\n",
       "      <th>ZIONS BANCORPORATION</th>\n",
       "      <th>ZIONS BANCORPORATION N A</th>\n",
       "      <th>ZIONS UTAH BANCORPORATION</th>\n",
       "      <th>ZOETIS INC</th>\n",
       "    </tr>\n",
       "    <tr>\n",
       "      <th>date</th>\n",
       "      <th></th>\n",
       "      <th></th>\n",
       "      <th></th>\n",
       "      <th></th>\n",
       "      <th></th>\n",
       "      <th></th>\n",
       "      <th></th>\n",
       "      <th></th>\n",
       "      <th></th>\n",
       "      <th></th>\n",
       "      <th></th>\n",
       "      <th></th>\n",
       "      <th></th>\n",
       "      <th></th>\n",
       "      <th></th>\n",
       "      <th></th>\n",
       "      <th></th>\n",
       "      <th></th>\n",
       "      <th></th>\n",
       "      <th></th>\n",
       "      <th></th>\n",
       "    </tr>\n",
       "  </thead>\n",
       "  <tbody>\n",
       "    <tr>\n",
       "      <th>2020-01-02</th>\n",
       "      <td>72.830002</td>\n",
       "      <td>180.000000</td>\n",
       "      <td>9.11</td>\n",
       "      <td>7.57</td>\n",
       "      <td>20.030001</td>\n",
       "      <td>2.830</td>\n",
       "      <td>88.400002</td>\n",
       "      <td>62.110001</td>\n",
       "      <td>29.090000</td>\n",
       "      <td>25.360001</td>\n",
       "      <td>...</td>\n",
       "      <td>61.700001</td>\n",
       "      <td>259.140015</td>\n",
       "      <td>45.157499</td>\n",
       "      <td>45.000000</td>\n",
       "      <td>149.199997</td>\n",
       "      <td>149.199997</td>\n",
       "      <td>52.439999</td>\n",
       "      <td>52.439999</td>\n",
       "      <td>52.439999</td>\n",
       "      <td>134.139999</td>\n",
       "    </tr>\n",
       "    <tr>\n",
       "      <th>2020-01-03</th>\n",
       "      <td>75.559998</td>\n",
       "      <td>178.449997</td>\n",
       "      <td>8.99</td>\n",
       "      <td>7.45</td>\n",
       "      <td>19.799999</td>\n",
       "      <td>2.820</td>\n",
       "      <td>89.389999</td>\n",
       "      <td>62.419998</td>\n",
       "      <td>27.650000</td>\n",
       "      <td>25.690001</td>\n",
       "      <td>...</td>\n",
       "      <td>61.240002</td>\n",
       "      <td>256.049988</td>\n",
       "      <td>44.680001</td>\n",
       "      <td>44.560001</td>\n",
       "      <td>148.809998</td>\n",
       "      <td>148.809998</td>\n",
       "      <td>51.700001</td>\n",
       "      <td>51.700001</td>\n",
       "      <td>51.700001</td>\n",
       "      <td>134.160004</td>\n",
       "    </tr>\n",
       "    <tr>\n",
       "      <th>2020-01-06</th>\n",
       "      <td>75.550003</td>\n",
       "      <td>178.619995</td>\n",
       "      <td>9.08</td>\n",
       "      <td>7.56</td>\n",
       "      <td>20.030001</td>\n",
       "      <td>2.920</td>\n",
       "      <td>89.040001</td>\n",
       "      <td>62.110001</td>\n",
       "      <td>27.320000</td>\n",
       "      <td>25.639999</td>\n",
       "      <td>...</td>\n",
       "      <td>61.630001</td>\n",
       "      <td>258.010010</td>\n",
       "      <td>44.587500</td>\n",
       "      <td>44.430000</td>\n",
       "      <td>147.949997</td>\n",
       "      <td>147.949997</td>\n",
       "      <td>51.070000</td>\n",
       "      <td>51.070000</td>\n",
       "      <td>51.070000</td>\n",
       "      <td>133.130005</td>\n",
       "    </tr>\n",
       "    <tr>\n",
       "      <th>2020-01-07</th>\n",
       "      <td>75.980003</td>\n",
       "      <td>177.899994</td>\n",
       "      <td>8.87</td>\n",
       "      <td>7.44</td>\n",
       "      <td>20.100000</td>\n",
       "      <td>2.910</td>\n",
       "      <td>88.470001</td>\n",
       "      <td>62.049999</td>\n",
       "      <td>27.219999</td>\n",
       "      <td>32.509998</td>\n",
       "      <td>...</td>\n",
       "      <td>61.590000</td>\n",
       "      <td>256.470001</td>\n",
       "      <td>45.697500</td>\n",
       "      <td>45.480000</td>\n",
       "      <td>147.820007</td>\n",
       "      <td>147.820007</td>\n",
       "      <td>50.759998</td>\n",
       "      <td>50.759998</td>\n",
       "      <td>50.759998</td>\n",
       "      <td>133.580002</td>\n",
       "    </tr>\n",
       "    <tr>\n",
       "      <th>2020-01-08</th>\n",
       "      <td>74.839996</td>\n",
       "      <td>180.630005</td>\n",
       "      <td>8.84</td>\n",
       "      <td>6.81</td>\n",
       "      <td>20.059999</td>\n",
       "      <td>2.891</td>\n",
       "      <td>88.949997</td>\n",
       "      <td>63.490002</td>\n",
       "      <td>27.840000</td>\n",
       "      <td>32.730000</td>\n",
       "      <td>...</td>\n",
       "      <td>61.919998</td>\n",
       "      <td>247.639999</td>\n",
       "      <td>45.672501</td>\n",
       "      <td>45.380001</td>\n",
       "      <td>149.589996</td>\n",
       "      <td>149.589996</td>\n",
       "      <td>51.259998</td>\n",
       "      <td>51.259998</td>\n",
       "      <td>51.259998</td>\n",
       "      <td>133.289993</td>\n",
       "    </tr>\n",
       "    <tr>\n",
       "      <th>...</th>\n",
       "      <td>...</td>\n",
       "      <td>...</td>\n",
       "      <td>...</td>\n",
       "      <td>...</td>\n",
       "      <td>...</td>\n",
       "      <td>...</td>\n",
       "      <td>...</td>\n",
       "      <td>...</td>\n",
       "      <td>...</td>\n",
       "      <td>...</td>\n",
       "      <td>...</td>\n",
       "      <td>...</td>\n",
       "      <td>...</td>\n",
       "      <td>...</td>\n",
       "      <td>...</td>\n",
       "      <td>...</td>\n",
       "      <td>...</td>\n",
       "      <td>...</td>\n",
       "      <td>...</td>\n",
       "      <td>...</td>\n",
       "      <td>...</td>\n",
       "    </tr>\n",
       "    <tr>\n",
       "      <th>2022-03-25</th>\n",
       "      <td>67.790001</td>\n",
       "      <td>150.460007</td>\n",
       "      <td>8.19</td>\n",
       "      <td>7.36</td>\n",
       "      <td>24.370001</td>\n",
       "      <td>6.940</td>\n",
       "      <td>157.330002</td>\n",
       "      <td>102.250000</td>\n",
       "      <td>17.010000</td>\n",
       "      <td>41.529999</td>\n",
       "      <td>...</td>\n",
       "      <td>61.290001</td>\n",
       "      <td>425.660004</td>\n",
       "      <td>51.742500</td>\n",
       "      <td>50.849998</td>\n",
       "      <td>125.279999</td>\n",
       "      <td>125.279999</td>\n",
       "      <td>71.080002</td>\n",
       "      <td>71.080002</td>\n",
       "      <td>71.080002</td>\n",
       "      <td>189.429993</td>\n",
       "    </tr>\n",
       "    <tr>\n",
       "      <th>2022-03-28</th>\n",
       "      <td>70.410004</td>\n",
       "      <td>149.470001</td>\n",
       "      <td>8.19</td>\n",
       "      <td>7.45</td>\n",
       "      <td>24.650000</td>\n",
       "      <td>7.030</td>\n",
       "      <td>160.350006</td>\n",
       "      <td>105.510002</td>\n",
       "      <td>17.299999</td>\n",
       "      <td>39.849998</td>\n",
       "      <td>...</td>\n",
       "      <td>62.000000</td>\n",
       "      <td>422.279999</td>\n",
       "      <td>52.474999</td>\n",
       "      <td>51.500000</td>\n",
       "      <td>125.680000</td>\n",
       "      <td>125.680000</td>\n",
       "      <td>69.730003</td>\n",
       "      <td>69.730003</td>\n",
       "      <td>69.730003</td>\n",
       "      <td>189.369995</td>\n",
       "    </tr>\n",
       "    <tr>\n",
       "      <th>2022-03-29</th>\n",
       "      <td>77.250000</td>\n",
       "      <td>152.080002</td>\n",
       "      <td>8.34</td>\n",
       "      <td>7.85</td>\n",
       "      <td>25.450001</td>\n",
       "      <td>6.970</td>\n",
       "      <td>164.699997</td>\n",
       "      <td>106.440002</td>\n",
       "      <td>18.160000</td>\n",
       "      <td>40.959999</td>\n",
       "      <td>...</td>\n",
       "      <td>64.309998</td>\n",
       "      <td>438.100006</td>\n",
       "      <td>55.107499</td>\n",
       "      <td>54.110001</td>\n",
       "      <td>129.580002</td>\n",
       "      <td>129.580002</td>\n",
       "      <td>69.739998</td>\n",
       "      <td>69.739998</td>\n",
       "      <td>69.739998</td>\n",
       "      <td>192.279999</td>\n",
       "    </tr>\n",
       "    <tr>\n",
       "      <th>2022-03-30</th>\n",
       "      <td>74.739998</td>\n",
       "      <td>151.429993</td>\n",
       "      <td>8.17</td>\n",
       "      <td>7.59</td>\n",
       "      <td>25.450001</td>\n",
       "      <td>6.980</td>\n",
       "      <td>164.139999</td>\n",
       "      <td>105.750000</td>\n",
       "      <td>18.049999</td>\n",
       "      <td>41.200001</td>\n",
       "      <td>...</td>\n",
       "      <td>62.000000</td>\n",
       "      <td>429.609985</td>\n",
       "      <td>52.185000</td>\n",
       "      <td>51.180000</td>\n",
       "      <td>128.690002</td>\n",
       "      <td>128.690002</td>\n",
       "      <td>67.370003</td>\n",
       "      <td>67.370003</td>\n",
       "      <td>67.370003</td>\n",
       "      <td>191.320007</td>\n",
       "    </tr>\n",
       "    <tr>\n",
       "      <th>2022-03-31</th>\n",
       "      <td>76.070000</td>\n",
       "      <td>148.880005</td>\n",
       "      <td>8.00</td>\n",
       "      <td>7.59</td>\n",
       "      <td>25.730000</td>\n",
       "      <td>7.000</td>\n",
       "      <td>161.479996</td>\n",
       "      <td>104.330002</td>\n",
       "      <td>18.250000</td>\n",
       "      <td>41.330002</td>\n",
       "      <td>...</td>\n",
       "      <td>60.580002</td>\n",
       "      <td>413.700012</td>\n",
       "      <td>49.025001</td>\n",
       "      <td>48.230000</td>\n",
       "      <td>127.900002</td>\n",
       "      <td>127.900002</td>\n",
       "      <td>65.559998</td>\n",
       "      <td>65.559998</td>\n",
       "      <td>65.559998</td>\n",
       "      <td>188.589996</td>\n",
       "    </tr>\n",
       "  </tbody>\n",
       "</table>\n",
       "<p>567 rows × 1600 columns</p>\n",
       "</div>"
      ],
      "text/plain": [
       "comnam      10X GENOMICS INC       3M CO  A C C O BRANDS CORP  A D T INC  \\\n",
       "date                                                                       \n",
       "2020-01-02         72.830002  180.000000                 9.11       7.57   \n",
       "2020-01-03         75.559998  178.449997                 8.99       7.45   \n",
       "2020-01-06         75.550003  178.619995                 9.08       7.56   \n",
       "2020-01-07         75.980003  177.899994                 8.87       7.44   \n",
       "2020-01-08         74.839996  180.630005                 8.84       6.81   \n",
       "...                      ...         ...                  ...        ...   \n",
       "2022-03-25         67.790001  150.460007                 8.19       7.36   \n",
       "2022-03-28         70.410004  149.470001                 8.19       7.45   \n",
       "2022-03-29         77.250000  152.080002                 8.34       7.85   \n",
       "2022-03-30         74.739998  151.429993                 8.17       7.59   \n",
       "2022-03-31         76.070000  148.880005                 8.00       7.59   \n",
       "\n",
       "comnam      A E S CORP  A H BELO CORP  A M B PROPERTY CORP  \\\n",
       "date                                                         \n",
       "2020-01-02   20.030001          2.830            88.400002   \n",
       "2020-01-03   19.799999          2.820            89.389999   \n",
       "2020-01-06   20.030001          2.920            89.040001   \n",
       "2020-01-07   20.100000          2.910            88.470001   \n",
       "2020-01-08   20.059999          2.891            88.949997   \n",
       "...                ...            ...                  ...   \n",
       "2022-03-25   24.370001          6.940           157.330002   \n",
       "2022-03-28   24.650000          7.030           160.350006   \n",
       "2022-03-29   25.450001          6.970           164.699997   \n",
       "2022-03-30   25.450001          6.980           164.139999   \n",
       "2022-03-31   25.730000          7.000           161.479996   \n",
       "\n",
       "comnam      A M N HEALTHCARE SERVICES INC  A M R CORP DEL  A P A CORP  ...  \\\n",
       "date                                                                   ...   \n",
       "2020-01-02                      62.110001       29.090000   25.360001  ...   \n",
       "2020-01-03                      62.419998       27.650000   25.690001  ...   \n",
       "2020-01-06                      62.110001       27.320000   25.639999  ...   \n",
       "2020-01-07                      62.049999       27.219999   32.509998  ...   \n",
       "2020-01-08                      63.490002       27.840000   32.730000  ...   \n",
       "...                                   ...             ...         ...  ...   \n",
       "2022-03-25                     102.250000       17.010000   41.529999  ...   \n",
       "2022-03-28                     105.510002       17.299999   39.849998  ...   \n",
       "2022-03-29                     106.440002       18.160000   40.959999  ...   \n",
       "2022-03-30                     105.750000       18.049999   41.200001  ...   \n",
       "2022-03-31                     104.330002       18.250000   41.330002  ...   \n",
       "\n",
       "comnam      ZAYRE CORP  ZEBRA TECHNOLOGIES CORP  ZILLOW GROUP INC  ZILLOW INC  \\\n",
       "date                                                                            \n",
       "2020-01-02   61.700001               259.140015         45.157499   45.000000   \n",
       "2020-01-03   61.240002               256.049988         44.680001   44.560001   \n",
       "2020-01-06   61.630001               258.010010         44.587500   44.430000   \n",
       "2020-01-07   61.590000               256.470001         45.697500   45.480000   \n",
       "2020-01-08   61.919998               247.639999         45.672501   45.380001   \n",
       "...                ...                      ...               ...         ...   \n",
       "2022-03-25   61.290001               425.660004         51.742500   50.849998   \n",
       "2022-03-28   62.000000               422.279999         52.474999   51.500000   \n",
       "2022-03-29   64.309998               438.100006         55.107499   54.110001   \n",
       "2022-03-30   62.000000               429.609985         52.185000   51.180000   \n",
       "2022-03-31   60.580002               413.700012         49.025001   48.230000   \n",
       "\n",
       "comnam      ZIMMER BIOMET HOLDINGS INC  ZIMMER HOLDINGS INC  \\\n",
       "date                                                          \n",
       "2020-01-02                  149.199997           149.199997   \n",
       "2020-01-03                  148.809998           148.809998   \n",
       "2020-01-06                  147.949997           147.949997   \n",
       "2020-01-07                  147.820007           147.820007   \n",
       "2020-01-08                  149.589996           149.589996   \n",
       "...                                ...                  ...   \n",
       "2022-03-25                  125.279999           125.279999   \n",
       "2022-03-28                  125.680000           125.680000   \n",
       "2022-03-29                  129.580002           129.580002   \n",
       "2022-03-30                  128.690002           128.690002   \n",
       "2022-03-31                  127.900002           127.900002   \n",
       "\n",
       "comnam      ZIONS BANCORPORATION  ZIONS BANCORPORATION N A  \\\n",
       "date                                                         \n",
       "2020-01-02             52.439999                 52.439999   \n",
       "2020-01-03             51.700001                 51.700001   \n",
       "2020-01-06             51.070000                 51.070000   \n",
       "2020-01-07             50.759998                 50.759998   \n",
       "2020-01-08             51.259998                 51.259998   \n",
       "...                          ...                       ...   \n",
       "2022-03-25             71.080002                 71.080002   \n",
       "2022-03-28             69.730003                 69.730003   \n",
       "2022-03-29             69.739998                 69.739998   \n",
       "2022-03-30             67.370003                 67.370003   \n",
       "2022-03-31             65.559998                 65.559998   \n",
       "\n",
       "comnam      ZIONS UTAH BANCORPORATION  ZOETIS INC  \n",
       "date                                               \n",
       "2020-01-02                  52.439999  134.139999  \n",
       "2020-01-03                  51.700001  134.160004  \n",
       "2020-01-06                  51.070000  133.130005  \n",
       "2020-01-07                  50.759998  133.580002  \n",
       "2020-01-08                  51.259998  133.289993  \n",
       "...                               ...         ...  \n",
       "2022-03-25                  71.080002  189.429993  \n",
       "2022-03-28                  69.730003  189.369995  \n",
       "2022-03-29                  69.739998  192.279999  \n",
       "2022-03-30                  67.370003  191.320007  \n",
       "2022-03-31                  65.559998  188.589996  \n",
       "\n",
       "[567 rows x 1600 columns]"
      ]
     },
     "execution_count": 188,
     "metadata": {},
     "output_type": "execute_result"
    }
   ],
   "source": [
    "# Pivot data (columns: stock name, index: date)\n",
    "data_pivot = data.pivot_table(index=\"date\", values=\"prc\", columns=\"comnam\")\n",
    "\n",
    "# Remove stocks with na in price column random stocks\n",
    "# TODO: Remove the complete stock if any na\n",
    "data_clean = data_pivot.dropna(axis=1, how='any')\n",
    "data_clean\n",
    "# # Pick 10 stocks at random\n",
    "# relevant_stocks = np.random.choice(data_clean.columns,size=10, replace=False)\n",
    "# data_filt = data_clean[relevant_stocks]\n",
    "\n",
    "# # Focus on window of 30 trading days with random start dt\n",
    "# start_dt = np.random.choice(data_filt.index[:-30],size=1, replace=False)[0]\n",
    "# final = data_pivot.query(\"date >= @start_dt\")\n",
    "# final = final.iloc[:30]\n",
    "\n",
    "# final\n",
    "# data_filt"
   ]
  },
  {
   "cell_type": "markdown",
   "metadata": {
    "collapsed": false
   },
   "source": [
    "Create an initial portfolio"
   ]
  },
  {
   "cell_type": "code",
   "execution_count": 187,
   "metadata": {
    "collapsed": false
   },
   "outputs": [],
   "source": [
    "def get_prices_window(prices, start_dt):\n",
    "    # Pick 10 stocks at random\n",
    "    relevant_stocks = np.random.choice(prices.columns,size=10, replace=False)\n",
    "    prices_filt = prices[relevant_stocks]\n",
    "\n",
    "    final = prices_filt.query(\"date >= @start_dt\")\n",
    "    final = final.iloc[:30]\n",
    "    return final\n",
    "\n",
    "def generate_portfolios(stock_prices, init_budget=100000):\n",
    "    initial_budget = init_budget\n",
    "    initial_prices = stock_prices.iloc[0].to_numpy()\n",
    "    # available_money = initial_budget * .95\n",
    "    available_money = initial_budget\n",
    "    P_0 = np.zeros(10) #initial portfolio\n",
    "    break_bool = True\n",
    "    ignore =  np.random.randint(0,10)\n",
    "    while break_bool:\n",
    "        stock_buy = np.random.randint(0,10)\n",
    "        price = initial_prices[stock_buy]\n",
    "        if stock_buy != ignore:\n",
    "            if (available_money * .75) - price >= 0:\n",
    "                available_money = available_money - price\n",
    "                P_0[stock_buy] = P_0[stock_buy] + 1\n",
    "            else:\n",
    "                break_bool = False\n",
    "\n",
    "    # w_0 = initial_budget * .05 + available_money\n",
    "    w_0 = available_money\n",
    "    # print(w_0)\n",
    "    # print(P_0)\n",
    "    final_prices = stock_prices.iloc[29].to_numpy()\n",
    "    available_money = initial_budget * .9\n",
    "    break_bool = True\n",
    "    P_t = np.zeros(10) #target portfolio\n",
    "\n",
    "    while break_bool:\n",
    "        stock_buy = np.random.randint(0,10)\n",
    "        price = final_prices[stock_buy]\n",
    "        if available_money - price >= 0:\n",
    "            available_money = available_money - price\n",
    "            P_t[stock_buy] = P_t[stock_buy] + 1\n",
    "        else:\n",
    "            break_bool = False\n",
    "    # print(P_t)\n",
    "    return P_0, P_t, w_0, initial_prices, final_prices"
   ]
  },
  {
   "cell_type": "markdown",
   "metadata": {
    "collapsed": false
   },
   "source": [
    "# Formulations\n",
    "\n",
    "## With Perfect Information"
   ]
  },
  {
   "cell_type": "code",
   "execution_count": 277,
   "metadata": {
    "collapsed": false
   },
   "outputs": [],
   "source": [
    "def get_naive_opt(P_0, P_t, w_0, initial_budget, initial_prices, final_prices, print_bool=False):\n",
    "    F = 5.95 * np.ones(10)# trading fees\n",
    "    # P_0 = starting portfolio\n",
    "    # P_t = target portfolio\n",
    "    # w_0 = starting cash\n",
    "    # w_f = final free cash\n",
    "    # budget = 20000\n",
    "    M = initial_budget\n",
    "\n",
    "    # Silence Gurobi output\n",
    "    env = gp.Env(empty=True)\n",
    "    env.setParam(\"OutputFlag\",0)\n",
    "    env.start()\n",
    "\n",
    "    m = gp.Model(env=env)\n",
    "    # Define Variables\n",
    "    P_buy = m.addMVar((10,), vtype=GRB.INTEGER)\n",
    "    P_sell = m.addMVar((10,), vtype=GRB.INTEGER)\n",
    "    z_sell = m.addMVar((10,), vtype=GRB.BINARY)\n",
    "    z_buy = m.addMVar((10,), vtype=GRB.BINARY)\n",
    "    # Constraints\n",
    "\n",
    "    ## Meet Target\n",
    "    m.addConstr(\n",
    "        P_0 + P_buy - P_sell >= P_t\n",
    "    )\n",
    "\n",
    "    ## Have Money\n",
    "    m.addConstr(\n",
    "        w_0 + initial_prices @ P_sell - initial_prices @ P_buy - F @ z_sell - F @ z_buy >=0\n",
    "    )\n",
    "\n",
    "    ## if we sell a stock, we pay a trading price\n",
    "    m.addConstr(\n",
    "        M*(z_sell) >= P_sell\n",
    "    )\n",
    "\n",
    "    ## If we buy a stock, we pay a trading fee\n",
    "\n",
    "    m.addConstr(\n",
    "        M*(z_buy) >= P_buy\n",
    "    )\n",
    "\n",
    "    cash = w_0 + initial_prices @ P_sell - initial_prices @ P_buy\n",
    "    # Set objective: Maximize end portfolio value\n",
    "    m.ModelSense = GRB.MAXIMIZE\n",
    "    # try:\n",
    "    m.setObjective(\n",
    "        # cash - F @ z_sell - F @ z_buy + final_prices @ (P_0 + P_buy - P_sell)\n",
    "        cash + final_prices @ (P_0 + P_buy - P_sell)\n",
    "    )\n",
    "    # except Exception as e:\n",
    "        # print(e)\n",
    "        # print((cash - F @ z_sell - F @ z_buy + final_prices @ (P_0 + P_buy - P_sell)).getValue())\n",
    "        # print(cash.x)\n",
    "        # print(z_sell.x)\n",
    "        # print(z_buy.x)\n",
    "        # print(final_prices)\n",
    "        # print(P_0.x)\n",
    "        # print(P_buy.x)\n",
    "        # print(P_sell.x)\n",
    "\n",
    "    m.optimize()\n",
    "    final_portfolio = P_0 + P_buy.x - P_sell.x\n",
    "    # free_cash = w_0 + initial_prices @ P_sell.x - initial_prices @ P_buy.x\n",
    "    cash = cash.getValue()[0]\n",
    "    final_portfolio_value = cash + final_prices @ final_portfolio\n",
    "    \n",
    "    if print_bool:\n",
    "        print(f\"Init Portf Value: {initial_prices @ P_0}\")\n",
    "        print(f\"Final Portfolio Value: {final_portfolio_value}\")\n",
    "        print(f\"Cash Init: {w_0[0]}\")\n",
    "        print(f\"Cash Final: {cash}\")\n",
    "        print(f\"Init Portfolio: {P_0}\")\n",
    "        print(f\"Final Portfolio: {final_portfolio}\")\n",
    "        print(f\"Target Portfolio: {P_t}\")\n",
    "        print(f\"TX Vec Buy: {z_buy.x}\")\n",
    "        print(f\"TX Vec Sell: {z_sell.x}\")\n",
    "        print(f\"Total Tx Costs: {F @ z_sell.x + F @ z_buy.x}\")\n",
    "    return final_portfolio_value, final_portfolio, cash"
   ]
  },
  {
   "cell_type": "code",
   "execution_count": 278,
   "metadata": {},
   "outputs": [
    {
     "name": "stdout",
     "output_type": "stream",
     "text": [
      "Init Portf Value: 7537.364938735962\n",
      "Final Portfolio Value: 8105.750235557556\n",
      "Cash Init: 410.6350612640381\n",
      "Cash Final: 65.62504005432129\n",
      "Init Portfolio: [8. 9. 7. 0. 6. 6. 8. 4. 3. 6.]\n",
      "Final Portfolio: [ 7.  5.  8.  8.  6.  4.  5.  9. 44.  7.]\n",
      "Target Portfolio: [7. 5. 8. 8. 6. 4. 5. 9. 7. 7.]\n",
      "TX Vec Buy: [-0.  0.  1.  1.  0.  0.  0.  1.  1.  1.]\n",
      "TX Vec Sell: [1. 1. 0. 0. 0. 1. 1. 0. 0. 0.]\n",
      "Total Tx Costs: 53.55\n"
     ]
    }
   ],
   "source": [
    "# test\n",
    "rng = np.random.default_rng()\n",
    "budget = rng.integers(low=1000, high=10000, size=1)\n",
    "start_dt = np.random.choice(data_pivot.index[:-30], size=1, replace=True)[0]\n",
    "stock_price_window = get_prices_window(data_clean, start_dt)\n",
    "P_0, P_t, w_0, initial_prices, final_prices = generate_portfolios(stock_prices = stock_price_window, init_budget=budget)\n",
    "final_portfolio_value, final_portfolio, free_cash = get_naive_opt(P_0, P_t, w_0, budget, initial_prices, final_prices, print_bool=True)"
   ]
  },
  {
   "cell_type": "markdown",
   "metadata": {
    "collapsed": false
   },
   "source": [
    "## Multi-stage"
   ]
  },
  {
   "cell_type": "markdown",
   "metadata": {
    "collapsed": false
   },
   "source": [
    "##"
   ]
  },
  {
   "cell_type": "code",
   "execution_count": 274,
   "metadata": {
    "collapsed": false
   },
   "outputs": [],
   "source": [
    "def get_multi_stage_opt(P_0, P_t, w_0, initial_budget, stock_price_window, print_bool=False):   \n",
    "    # Silence Gurobi output\n",
    "    env = gp.Env(empty=True)\n",
    "    env.setParam(\"OutputFlag\",0)\n",
    "    env.start()\n",
    "\n",
    "    F = 5.95  * np.ones(10)# trading fees\n",
    "    # prices = stock_price_window.interpolate().to_numpy()\n",
    "    prices = stock_price_window.to_numpy()\n",
    "    M = initial_budget\n",
    "    # P_0 = starting portfolio\n",
    "    # P_t = target portfolio\n",
    "    # w_0 = starting cash\n",
    "\n",
    "    m = gp.Model(env=env)\n",
    "\n",
    "    # Define Variables\n",
    "    P_buy = m.addMVar((30,10), vtype=GRB.INTEGER)\n",
    "    P_sell = m.addMVar((30,10), vtype=GRB.INTEGER)\n",
    "    z_sell = m.addMVar((30,10), vtype=GRB.BINARY)\n",
    "    z_buy = m.addMVar((30,10), vtype=GRB.BINARY)\n",
    "    P_time = m.addMVar((30,10), vtype=GRB.INTEGER)\n",
    "    # P_time = np.ndarray((30,10))\n",
    "    w = m.addMVar((30,), vtype=GRB.CONTINUOUS, lb = 0)\n",
    "    # w = np.ndarray((30,))\n",
    "    # Constraints\n",
    "\n",
    "    ## Represent Portfolios across time\n",
    "\n",
    "    ### Time step 0\n",
    "    m.addConstr(\n",
    "        P_time[0,:] == P_0 + P_buy[0,:] - P_sell[0,:]\n",
    "    )\n",
    "    ### Rest of the time\n",
    "    m.addConstrs((\n",
    "        P_time[i,:] == P_time[i-1,:] - P_buy[i,:] - P_sell[i,:] for i in range(1,30)\n",
    "    ))\n",
    "\n",
    "    ### Final_target\n",
    "    m.addConstr(\n",
    "        P_time[29,:] >= P_t\n",
    "    )\n",
    "\n",
    "    ## Represent money\n",
    "    ### First time step\n",
    "    m.addConstr(\n",
    "        w[0] == w_0 - prices[0,:] @ P_buy[0,:] + prices[0,:] @ P_sell[0,:] - F @ z_buy[0,:] - F @ z_sell[0,:]\n",
    "    )\n",
    "    ## Rest of the time\n",
    "    m.addConstrs((\n",
    "        w[i] == w[i-1] - prices[i,:] @ P_buy[i,:] + prices[i,:] @ P_sell[i,:] - F @ z_buy[i,:] - F @ z_sell[i,:] for i in range(1,30)\n",
    "    ))\n",
    "\n",
    "    ## Trading fees\n",
    "    ### if we sell a stock, we pay a trading price\n",
    "    m.addConstr(\n",
    "        M*(z_sell) >= P_sell\n",
    "    )\n",
    "\n",
    "    ### If we buy a stock, we pay a trading fee\n",
    "    m.addConstr(\n",
    "        M*(z_buy) >= P_buy\n",
    "    )\n",
    "\n",
    "    # Maximize end Portfolio value\n",
    "    m.ModelSense = GRB.MAXIMIZE\n",
    "    m.setObjective(\n",
    "        w[29] + prices[29,:] @ P_time[29,:]\n",
    "    )\n",
    "    m.optimize()\n",
    "    final_portfolio = P_time[29,:].x\n",
    "    cash = w[29].x \n",
    "    final_portfolio_value = cash + prices[29,:] @ final_portfolio\n",
    "    # print(f\"Final Portfolio Value: {final_portfolio_value}\")\n",
    "    # print(f\"Free Cash: {free_cash}\")\n",
    "    # print(f\"Final Portfolio: {final_portfolio}\")\n",
    "    if print_bool:\n",
    "        print(f\"Init Portf Value: {initial_prices @ P_0}\")\n",
    "        print(f\"Final Portfolio Value: {final_portfolio_value}\")\n",
    "        print(f\"Cash Init: {w_0[0]}\")\n",
    "        print(f\"Cash Final: {cash}\")\n",
    "        print(f\"Init Portfolio: {P_0}\")\n",
    "        print(f\"Final Portfolio: {final_portfolio}\")\n",
    "        print(f\"Target Portfolio: {P_t}\")\n",
    "        print(f\"TX Vec Buy: {z_buy.x}\")\n",
    "        print(f\"TX Vec Sell: {z_sell.x}\")\n",
    "        print(f\"Total Tx Costs: {[F @ z_sell.x[i] + F @ z_buy.x[i] for i in range(30)]}\")\n",
    "    return final_portfolio_value, final_portfolio, free_cash"
   ]
  },
  {
   "cell_type": "code",
   "execution_count": 275,
   "metadata": {},
   "outputs": [
    {
     "name": "stdout",
     "output_type": "stream",
     "text": [
      "Init Portf Value: 5778.230003356934\n",
      "Final Portfolio Value: 5492.6100051879885\n",
      "Cash Init: 325.7699966430664\n",
      "Cash Final: 240.98000411987312\n",
      "Init Portfolio: [ 0.  3.  4.  7.  8.  2.  9.  3. 10.  8.]\n",
      "Final Portfolio: [5. 4. 3. 4. 7. 4. 7. 6. 4. 4.]\n",
      "Target Portfolio: [5. 4. 3. 4. 7. 4. 7. 6. 4. 4.]\n",
      "TX Vec Buy: [[ 1.  1. -0.  0. -0.  1.  0.  1. -0. -0.]\n",
      " [-0. -0. -0. -0. -0. -0. -0. -0. -0. -0.]\n",
      " [-0. -0. -0. -0. -0. -0. -0. -0. -0. -0.]\n",
      " [-0. -0. -0. -0. -0. -0. -0. -0. -0. -0.]\n",
      " [-0. -0. -0. -0. -0. -0. -0. -0. -0. -0.]\n",
      " [-0. -0. -0. -0. -0. -0. -0. -0. -0. -0.]\n",
      " [-0. -0. -0. -0. -0. -0. -0. -0. -0. -0.]\n",
      " [-0. -0. -0. -0. -0. -0. -0. -0. -0. -0.]\n",
      " [-0. -0. -0. -0. -0. -0. -0. -0. -0. -0.]\n",
      " [-0. -0. -0. -0. -0. -0. -0. -0. -0. -0.]\n",
      " [-0. -0. -0. -0. -0. -0. -0. -0. -0. -0.]\n",
      " [-0. -0. -0. -0. -0. -0. -0. -0. -0. -0.]\n",
      " [-0. -0. -0. -0. -0. -0. -0. -0. -0. -0.]\n",
      " [-0. -0. -0. -0. -0. -0. -0. -0. -0. -0.]\n",
      " [-0. -0. -0. -0. -0. -0. -0. -0. -0. -0.]\n",
      " [-0. -0. -0. -0. -0. -0. -0. -0. -0. -0.]\n",
      " [-0. -0. -0. -0. -0. -0. -0. -0. -0. -0.]\n",
      " [-0. -0. -0. -0. -0. -0. -0. -0. -0. -0.]\n",
      " [-0. -0. -0. -0. -0. -0. -0. -0. -0. -0.]\n",
      " [-0. -0. -0. -0. -0. -0. -0. -0. -0. -0.]\n",
      " [-0. -0. -0. -0. -0. -0. -0. -0. -0. -0.]\n",
      " [-0. -0. -0. -0. -0. -0. -0. -0. -0. -0.]\n",
      " [-0. -0. -0. -0. -0. -0. -0. -0. -0. -0.]\n",
      " [-0. -0. -0. -0. -0. -0. -0. -0. -0. -0.]\n",
      " [-0. -0. -0. -0. -0. -0. -0. -0. -0. -0.]\n",
      " [-0. -0. -0. -0. -0. -0. -0. -0. -0. -0.]\n",
      " [-0. -0. -0. -0. -0. -0. -0. -0. -0. -0.]\n",
      " [-0. -0. -0. -0. -0. -0. -0. -0. -0. -0.]\n",
      " [-0. -0. -0. -0. -0. -0. -0. -0. -0. -0.]\n",
      " [-0. -0. -0. -0. -0. -0. -0. -0. -0. -0.]]\n",
      "TX Vec Sell: [[ 0.  0.  1.  1.  1.  0.  1. -0.  1.  1.]\n",
      " [-0. -0. -0. -0. -0. -0. -0. -0. -0. -0.]\n",
      " [-0. -0. -0. -0. -0. -0. -0. -0. -0.  0.]\n",
      " [-0. -0. -0. -0. -0. -0. -0. -0. -0.  0.]\n",
      " [-0. -0. -0. -0. -0. -0. -0. -0. -0.  0.]\n",
      " [-0. -0. -0. -0. -0. -0. -0. -0. -0.  0.]\n",
      " [-0. -0. -0. -0. -0. -0. -0. -0. -0. -0.]\n",
      " [-0. -0. -0. -0. -0. -0. -0. -0. -0.  0.]\n",
      " [-0. -0. -0. -0. -0. -0. -0. -0. -0.  0.]\n",
      " [-0. -0. -0. -0. -0. -0. -0. -0. -0.  0.]\n",
      " [-0. -0. -0. -0. -0. -0. -0. -0. -0.  0.]\n",
      " [-0. -0. -0. -0. -0. -0. -0. -0. -0.  0.]\n",
      " [-0. -0. -0. -0. -0. -0. -0. -0. -0.  0.]\n",
      " [-0. -0. -0. -0. -0. -0. -0. -0. -0.  0.]\n",
      " [-0. -0. -0. -0. -0. -0. -0. -0. -0. -0.]\n",
      " [-0. -0. -0. -0. -0. -0. -0. -0. -0. -0.]\n",
      " [-0. -0. -0. -0. -0. -0. -0. -0. -0. -0.]\n",
      " [-0. -0. -0. -0. -0. -0. -0. -0. -0. -0.]\n",
      " [-0. -0. -0. -0. -0. -0. -0. -0. -0. -0.]\n",
      " [-0. -0. -0. -0. -0. -0. -0. -0. -0. -0.]\n",
      " [-0. -0. -0. -0. -0. -0. -0. -0. -0. -0.]\n",
      " [ 1. -0. -0. -0. -0. -0.  0. -0. -0. -0.]\n",
      " [-0.  0. -0. -0. -0. -0. -0. -0. -0.  0.]\n",
      " [-0. -0. -0. -0. -0. -0. -0. -0. -0. -0.]\n",
      " [-0. -0. -0. -0. -0. -0. -0. -0. -0. -0.]\n",
      " [-0. -0. -0. -0. -0. -0. -0. -0. -0. -0.]\n",
      " [-0. -0. -0. -0. -0. -0. -0. -0. -0. -0.]\n",
      " [-0. -0. -0. -0. -0. -0. -0. -0. -0. -0.]\n",
      " [-0. -0. -0. -0. -0. -0. -0. -0. -0. -0.]\n",
      " [-0. -0. -0. -0. -0. -0. -0. -0. -0. -0.]]\n",
      "Total Tx Costs: [59.5, 0.0, 0.0, 0.0, 0.0, 0.0, 0.0, 0.0, 0.0, 0.0, 0.0, 0.0, 0.0, 0.0, 0.0, 0.0, 0.0, 0.0, 0.0, 0.0, 0.0, 5.95, 0.0, 0.0, 0.0, 0.0, 0.0, 0.0, 0.0, 0.0]\n"
     ]
    }
   ],
   "source": [
    "# test\n",
    "rng = np.random.default_rng()\n",
    "budget = rng.integers(low=1000, high=10000, size=1)\n",
    "start_dt = np.random.choice(data_pivot.index[:-30], size=1, replace=True)[0]\n",
    "stock_price_window = get_prices_window(data_clean, start_dt)\n",
    "P_0, P_t, w_0, initial_prices, final_prices = generate_portfolios(stock_prices = stock_price_window, init_budget=budget)\n",
    "final_portfolio_value, final_portfolio, free_cash = get_multi_stage_opt(P_0, P_t, w_0, budget, stock_price_window, print_bool=True)"
   ]
  },
  {
   "cell_type": "code",
   "execution_count": 279,
   "metadata": {},
   "outputs": [
    {
     "name": "stderr",
     "output_type": "stream",
     "text": [
      "  0%|          | 0/10 [00:00<?, ?it/s]\n"
     ]
    },
    {
     "ename": "IndexError",
     "evalue": "too many indices for array: array is 0-dimensional, but 1 were indexed",
     "output_type": "error",
     "traceback": [
      "\u001b[0;31m---------------------------------------------------------------------------\u001b[0m",
      "\u001b[0;31mIndexError\u001b[0m                                Traceback (most recent call last)",
      "\u001b[0;32m/var/folders/nl/57syltns58b9lqzc8rpd17sc0000gp/T/ipykernel_13840/4239567295.py\u001b[0m in \u001b[0;36m<module>\u001b[0;34m\u001b[0m\n\u001b[1;32m     14\u001b[0m         \u001b[0mstock_price_window\u001b[0m \u001b[0;34m=\u001b[0m \u001b[0mget_prices_window\u001b[0m\u001b[0;34m(\u001b[0m\u001b[0mdata_clean\u001b[0m\u001b[0;34m,\u001b[0m \u001b[0mstart_dt_vec\u001b[0m\u001b[0;34m[\u001b[0m\u001b[0mi\u001b[0m\u001b[0;34m]\u001b[0m\u001b[0;34m)\u001b[0m\u001b[0;34m\u001b[0m\u001b[0;34m\u001b[0m\u001b[0m\n\u001b[1;32m     15\u001b[0m         \u001b[0mP_0\u001b[0m\u001b[0;34m,\u001b[0m \u001b[0mP_t\u001b[0m\u001b[0;34m,\u001b[0m \u001b[0mw_0\u001b[0m\u001b[0;34m,\u001b[0m \u001b[0minitial_prices\u001b[0m\u001b[0;34m,\u001b[0m \u001b[0mfinal_prices\u001b[0m \u001b[0;34m=\u001b[0m \u001b[0mgenerate_portfolios\u001b[0m\u001b[0;34m(\u001b[0m\u001b[0mstock_prices\u001b[0m \u001b[0;34m=\u001b[0m \u001b[0mstock_price_window\u001b[0m\u001b[0;34m,\u001b[0m \u001b[0minit_budget\u001b[0m\u001b[0;34m=\u001b[0m\u001b[0mbudget\u001b[0m\u001b[0;34m)\u001b[0m\u001b[0;34m\u001b[0m\u001b[0;34m\u001b[0m\u001b[0m\n\u001b[0;32m---> 16\u001b[0;31m         \u001b[0mfinal_portfolio_value\u001b[0m\u001b[0;34m,\u001b[0m \u001b[0mfinal_portfolio\u001b[0m\u001b[0;34m,\u001b[0m \u001b[0mfree_cash\u001b[0m \u001b[0;34m=\u001b[0m \u001b[0mget_naive_opt\u001b[0m\u001b[0;34m(\u001b[0m\u001b[0mP_0\u001b[0m\u001b[0;34m,\u001b[0m \u001b[0mP_t\u001b[0m\u001b[0;34m,\u001b[0m \u001b[0mw_0\u001b[0m\u001b[0;34m,\u001b[0m \u001b[0mbudget\u001b[0m\u001b[0;34m,\u001b[0m \u001b[0minitial_prices\u001b[0m\u001b[0;34m,\u001b[0m \u001b[0mfinal_prices\u001b[0m\u001b[0;34m,\u001b[0m \u001b[0mprint_bool\u001b[0m\u001b[0;34m=\u001b[0m\u001b[0;32mTrue\u001b[0m\u001b[0;34m)\u001b[0m\u001b[0;34m\u001b[0m\u001b[0;34m\u001b[0m\u001b[0m\n\u001b[0m\u001b[1;32m     17\u001b[0m         \u001b[0mnaive_list\u001b[0m\u001b[0;34m.\u001b[0m\u001b[0mappend\u001b[0m\u001b[0;34m(\u001b[0m\u001b[0mpd\u001b[0m\u001b[0;34m.\u001b[0m\u001b[0mSeries\u001b[0m\u001b[0;34m(\u001b[0m\u001b[0;34m[\u001b[0m\u001b[0mfinal_portfolio_value\u001b[0m\u001b[0;34m,\u001b[0m \u001b[0mfinal_portfolio\u001b[0m\u001b[0;34m,\u001b[0m \u001b[0mfree_cash\u001b[0m\u001b[0;34m,\u001b[0m \u001b[0mbudget\u001b[0m\u001b[0;34m]\u001b[0m\u001b[0;34m,\u001b[0m \u001b[0mindex\u001b[0m \u001b[0;34m=\u001b[0m \u001b[0mcol_names\u001b[0m\u001b[0;34m)\u001b[0m\u001b[0;34m)\u001b[0m\u001b[0;34m\u001b[0m\u001b[0;34m\u001b[0m\u001b[0m\n\u001b[1;32m     18\u001b[0m         \u001b[0mfinal_portfolio_value\u001b[0m\u001b[0;34m,\u001b[0m \u001b[0mfinal_portfolio\u001b[0m\u001b[0;34m,\u001b[0m \u001b[0mfree_cash\u001b[0m \u001b[0;34m=\u001b[0m \u001b[0mget_multi_stage_opt\u001b[0m\u001b[0;34m(\u001b[0m\u001b[0mP_0\u001b[0m\u001b[0;34m,\u001b[0m \u001b[0mP_t\u001b[0m\u001b[0;34m,\u001b[0m \u001b[0mw_0\u001b[0m\u001b[0;34m,\u001b[0m \u001b[0mbudget\u001b[0m\u001b[0;34m,\u001b[0m \u001b[0mstock_price_window\u001b[0m\u001b[0;34m)\u001b[0m\u001b[0;34m\u001b[0m\u001b[0;34m\u001b[0m\u001b[0m\n",
      "\u001b[0;32m/var/folders/nl/57syltns58b9lqzc8rpd17sc0000gp/T/ipykernel_13840/789698866.py\u001b[0m in \u001b[0;36mget_naive_opt\u001b[0;34m(P_0, P_t, w_0, initial_budget, initial_prices, final_prices, print_bool)\u001b[0m\n\u001b[1;32m     64\u001b[0m     \u001b[0mfinal_portfolio\u001b[0m \u001b[0;34m=\u001b[0m \u001b[0mP_0\u001b[0m \u001b[0;34m+\u001b[0m \u001b[0mP_buy\u001b[0m\u001b[0;34m.\u001b[0m\u001b[0mx\u001b[0m \u001b[0;34m-\u001b[0m \u001b[0mP_sell\u001b[0m\u001b[0;34m.\u001b[0m\u001b[0mx\u001b[0m\u001b[0;34m\u001b[0m\u001b[0;34m\u001b[0m\u001b[0m\n\u001b[1;32m     65\u001b[0m     \u001b[0;31m# free_cash = w_0 + initial_prices @ P_sell.x - initial_prices @ P_buy.x\u001b[0m\u001b[0;34m\u001b[0m\u001b[0;34m\u001b[0m\u001b[0;34m\u001b[0m\u001b[0m\n\u001b[0;32m---> 66\u001b[0;31m     \u001b[0mcash\u001b[0m \u001b[0;34m=\u001b[0m \u001b[0mcash\u001b[0m\u001b[0;34m.\u001b[0m\u001b[0mgetValue\u001b[0m\u001b[0;34m(\u001b[0m\u001b[0;34m)\u001b[0m\u001b[0;34m[\u001b[0m\u001b[0;36m0\u001b[0m\u001b[0;34m]\u001b[0m\u001b[0;34m\u001b[0m\u001b[0;34m\u001b[0m\u001b[0m\n\u001b[0m\u001b[1;32m     67\u001b[0m     \u001b[0mfinal_portfolio_value\u001b[0m \u001b[0;34m=\u001b[0m \u001b[0mcash\u001b[0m \u001b[0;34m+\u001b[0m \u001b[0mfinal_prices\u001b[0m \u001b[0;34m@\u001b[0m \u001b[0mfinal_portfolio\u001b[0m\u001b[0;34m\u001b[0m\u001b[0;34m\u001b[0m\u001b[0m\n\u001b[1;32m     68\u001b[0m \u001b[0;34m\u001b[0m\u001b[0m\n",
      "\u001b[0;31mIndexError\u001b[0m: too many indices for array: array is 0-dimensional, but 1 were indexed"
     ]
    }
   ],
   "source": [
    "simulations = 10\n",
    "rng = np.random.default_rng()\n",
    "budget_vec = rng.integers(low=1000, high=10000, size=simulations)\n",
    "start_dt_vec = np.random.choice(data_pivot.index[:-30], size=simulations, replace=True)\n",
    "col_names = [\"portf_val\", \"final_portf\", \"cash\", \"init_budget\"]\n",
    "# df_naive = pd.DataFrame(columns = )\n",
    "# df_multi = pd.DataFrame(columns = [\"portf_val\", \"final_portf\", \"cash\"])\n",
    "naive_list = list()\n",
    "multi_list = list()\n",
    "\n",
    "# Could parallelize this but fuck it\n",
    "for i, budget in enumerate(tqdm(budget_vec)):\n",
    "    # try:\n",
    "        stock_price_window = get_prices_window(data_clean, start_dt_vec[i])\n",
    "        P_0, P_t, w_0, initial_prices, final_prices = generate_portfolios(stock_prices = stock_price_window, init_budget=budget)\n",
    "        final_portfolio_value, final_portfolio, free_cash = get_naive_opt(P_0, P_t, w_0, budget, initial_prices, final_prices, print_bool=True)\n",
    "        naive_list.append(pd.Series([final_portfolio_value, final_portfolio, free_cash, budget], index = col_names))\n",
    "        final_portfolio_value, final_portfolio, free_cash = get_multi_stage_opt(P_0, P_t, w_0, budget, stock_price_window)\n",
    "        multi_list.append(pd.Series([final_portfolio_value, final_portfolio, free_cash, budget], index = col_names))\n",
    "    # except Exception as e:\n",
    "        # pass\n",
    "        # print(e)\n",
    "\n",
    "df_naive = pd.concat(naive_list, axis=1).T\n",
    "df_multi = pd.concat(multi_list, axis=1).T"
   ]
  },
  {
   "cell_type": "code",
   "execution_count": 245,
   "metadata": {},
   "outputs": [
    {
     "data": {
      "text/html": [
       "<div>\n",
       "<style scoped>\n",
       "    .dataframe tbody tr th:only-of-type {\n",
       "        vertical-align: middle;\n",
       "    }\n",
       "\n",
       "    .dataframe tbody tr th {\n",
       "        vertical-align: top;\n",
       "    }\n",
       "\n",
       "    .dataframe thead th {\n",
       "        text-align: right;\n",
       "    }\n",
       "</style>\n",
       "<table border=\"1\" class=\"dataframe\">\n",
       "  <thead>\n",
       "    <tr style=\"text-align: right;\">\n",
       "      <th></th>\n",
       "      <th>portf_val</th>\n",
       "      <th>final_portf</th>\n",
       "      <th>cash</th>\n",
       "      <th>init_budget</th>\n",
       "    </tr>\n",
       "  </thead>\n",
       "  <tbody>\n",
       "    <tr>\n",
       "      <th>0</th>\n",
       "      <td>4468.699937</td>\n",
       "      <td>[4.0, 7.0, 6.0, 7.0, 4.0, 6.0, 4.0, 2.0, 15.0,...</td>\n",
       "      <td>0.069966</td>\n",
       "      <td>4327</td>\n",
       "    </tr>\n",
       "    <tr>\n",
       "      <th>1</th>\n",
       "      <td>9959.020044</td>\n",
       "      <td>[3.0, 12.0, 14.0, 14.0, 14.0, 9.0, 8.0, 6.0, 6...</td>\n",
       "      <td>1.169928</td>\n",
       "      <td>9466</td>\n",
       "    </tr>\n",
       "    <tr>\n",
       "      <th>2</th>\n",
       "      <td>5861.309903</td>\n",
       "      <td>[11.0, 5.0, 4.0, 5.0, 6.0, 10.0, 5.0, 5.0, 5.0...</td>\n",
       "      <td>2.459898</td>\n",
       "      <td>5159</td>\n",
       "    </tr>\n",
       "    <tr>\n",
       "      <th>3</th>\n",
       "      <td>7264.189882</td>\n",
       "      <td>[7.0, 7.0, 8.0, 5.0, 1.0, 4.0, 6.0, 7.0, 5.0, ...</td>\n",
       "      <td>0.810032</td>\n",
       "      <td>6563</td>\n",
       "    </tr>\n",
       "    <tr>\n",
       "      <th>4</th>\n",
       "      <td>1494.21004</td>\n",
       "      <td>[1.0, 1.0, 0.0, 4.0, 1.0, 0.0, 4.0, 0.0, 1.0, ...</td>\n",
       "      <td>0.749995</td>\n",
       "      <td>1406</td>\n",
       "    </tr>\n",
       "    <tr>\n",
       "      <th>...</th>\n",
       "      <td>...</td>\n",
       "      <td>...</td>\n",
       "      <td>...</td>\n",
       "      <td>...</td>\n",
       "    </tr>\n",
       "    <tr>\n",
       "      <th>77</th>\n",
       "      <td>8926.639915</td>\n",
       "      <td>[4.0, 9.0, 9.0, 5.0, 12.0, 8.0, 10.0, 5.0, 10....</td>\n",
       "      <td>3.930078</td>\n",
       "      <td>7932</td>\n",
       "    </tr>\n",
       "    <tr>\n",
       "      <th>78</th>\n",
       "      <td>7130.180113</td>\n",
       "      <td>[3.0, 4.0, 5.0, 3.0, 6.0, 6.0, 8.0, 4.0, 41.0,...</td>\n",
       "      <td>2.570024</td>\n",
       "      <td>6371</td>\n",
       "    </tr>\n",
       "    <tr>\n",
       "      <th>79</th>\n",
       "      <td>9662.15004</td>\n",
       "      <td>[11.0, 10.0, 7.0, 7.0, 4.0, 9.0, 4.0, 9.0, 4.0...</td>\n",
       "      <td>7.849926</td>\n",
       "      <td>9017</td>\n",
       "    </tr>\n",
       "    <tr>\n",
       "      <th>80</th>\n",
       "      <td>1840.059961</td>\n",
       "      <td>[0.0, 2.0, 2.0, 0.0, 1.0, 4.0, 2.0, 0.0, 1.0, ...</td>\n",
       "      <td>11.139996</td>\n",
       "      <td>1640</td>\n",
       "    </tr>\n",
       "    <tr>\n",
       "      <th>81</th>\n",
       "      <td>5176.000058</td>\n",
       "      <td>[8.0, 6.0, 8.0, 4.0, 13.0, 6.0, 3.0, 4.0, 3.0,...</td>\n",
       "      <td>4.240004</td>\n",
       "      <td>4836</td>\n",
       "    </tr>\n",
       "  </tbody>\n",
       "</table>\n",
       "<p>82 rows × 4 columns</p>\n",
       "</div>"
      ],
      "text/plain": [
       "      portf_val                                        final_portf       cash  \\\n",
       "0   4468.699937  [4.0, 7.0, 6.0, 7.0, 4.0, 6.0, 4.0, 2.0, 15.0,...   0.069966   \n",
       "1   9959.020044  [3.0, 12.0, 14.0, 14.0, 14.0, 9.0, 8.0, 6.0, 6...   1.169928   \n",
       "2   5861.309903  [11.0, 5.0, 4.0, 5.0, 6.0, 10.0, 5.0, 5.0, 5.0...   2.459898   \n",
       "3   7264.189882  [7.0, 7.0, 8.0, 5.0, 1.0, 4.0, 6.0, 7.0, 5.0, ...   0.810032   \n",
       "4    1494.21004  [1.0, 1.0, 0.0, 4.0, 1.0, 0.0, 4.0, 0.0, 1.0, ...   0.749995   \n",
       "..          ...                                                ...        ...   \n",
       "77  8926.639915  [4.0, 9.0, 9.0, 5.0, 12.0, 8.0, 10.0, 5.0, 10....   3.930078   \n",
       "78  7130.180113  [3.0, 4.0, 5.0, 3.0, 6.0, 6.0, 8.0, 4.0, 41.0,...   2.570024   \n",
       "79   9662.15004  [11.0, 10.0, 7.0, 7.0, 4.0, 9.0, 4.0, 9.0, 4.0...   7.849926   \n",
       "80  1840.059961  [0.0, 2.0, 2.0, 0.0, 1.0, 4.0, 2.0, 0.0, 1.0, ...  11.139996   \n",
       "81  5176.000058  [8.0, 6.0, 8.0, 4.0, 13.0, 6.0, 3.0, 4.0, 3.0,...   4.240004   \n",
       "\n",
       "   init_budget  \n",
       "0         4327  \n",
       "1         9466  \n",
       "2         5159  \n",
       "3         6563  \n",
       "4         1406  \n",
       "..         ...  \n",
       "77        7932  \n",
       "78        6371  \n",
       "79        9017  \n",
       "80        1640  \n",
       "81        4836  \n",
       "\n",
       "[82 rows x 4 columns]"
      ]
     },
     "execution_count": 245,
     "metadata": {},
     "output_type": "execute_result"
    }
   ],
   "source": [
    "df_naive"
   ]
  },
  {
   "cell_type": "code",
   "execution_count": 73,
   "metadata": {},
   "outputs": [
    {
     "data": {
      "text/html": [
       "<div>\n",
       "<style scoped>\n",
       "    .dataframe tbody tr th:only-of-type {\n",
       "        vertical-align: middle;\n",
       "    }\n",
       "\n",
       "    .dataframe tbody tr th {\n",
       "        vertical-align: top;\n",
       "    }\n",
       "\n",
       "    .dataframe thead th {\n",
       "        text-align: right;\n",
       "    }\n",
       "</style>\n",
       "<table border=\"1\" class=\"dataframe\">\n",
       "  <thead>\n",
       "    <tr style=\"text-align: right;\">\n",
       "      <th></th>\n",
       "      <th>portf_val</th>\n",
       "      <th>final_portf</th>\n",
       "      <th>cash</th>\n",
       "      <th>init_budget</th>\n",
       "    </tr>\n",
       "  </thead>\n",
       "  <tbody>\n",
       "    <tr>\n",
       "      <th>0</th>\n",
       "      <td>4574.379947</td>\n",
       "      <td>[2.0, 7.0, 6.0, 7.0, 4.0, 6.0, 4.0, 2.0, 11.0,...</td>\n",
       "      <td>683.5099859237671</td>\n",
       "      <td>4327</td>\n",
       "    </tr>\n",
       "    <tr>\n",
       "      <th>1</th>\n",
       "      <td>10242.340117</td>\n",
       "      <td>[3.0, 12.0, 14.0, 13.0, 14.0, 9.0, 8.0, 6.0, 1...</td>\n",
       "      <td>1848.1799945831299</td>\n",
       "      <td>9466</td>\n",
       "    </tr>\n",
       "    <tr>\n",
       "      <th>2</th>\n",
       "      <td>6074.169959</td>\n",
       "      <td>[6.0, 5.0, 4.0, 4.0, 6.0, 10.0, 5.0, 5.0, 5.0,...</td>\n",
       "      <td>1475.6499633789062</td>\n",
       "      <td>5159</td>\n",
       "    </tr>\n",
       "    <tr>\n",
       "      <th>3</th>\n",
       "      <td>7291.049894</td>\n",
       "      <td>[7.0, 7.0, 8.0, 5.0, 1.0, 4.0, 6.0, 7.0, 5.0, ...</td>\n",
       "      <td>1591.8699836730957</td>\n",
       "      <td>6563</td>\n",
       "    </tr>\n",
       "    <tr>\n",
       "      <th>4</th>\n",
       "      <td>1503.330031</td>\n",
       "      <td>[1.0, 1.0, 0.0, 4.0, 1.0, 0.0, 4.0, 0.0, 1.0, ...</td>\n",
       "      <td>316.1500024795532</td>\n",
       "      <td>1406</td>\n",
       "    </tr>\n",
       "    <tr>\n",
       "      <th>...</th>\n",
       "      <td>...</td>\n",
       "      <td>...</td>\n",
       "      <td>...</td>\n",
       "      <td>...</td>\n",
       "    </tr>\n",
       "    <tr>\n",
       "      <th>77</th>\n",
       "      <td>9143.99993</td>\n",
       "      <td>[4.0, 9.0, 9.0, 5.0, 12.0, 8.0, 10.0, 5.0, 10....</td>\n",
       "      <td>2028.8100061770047</td>\n",
       "      <td>7932</td>\n",
       "    </tr>\n",
       "    <tr>\n",
       "      <th>78</th>\n",
       "      <td>7134.189951</td>\n",
       "      <td>[3.0, 4.0, 5.0, 3.0, 6.0, 6.0, 8.0, 4.0, 10.0,...</td>\n",
       "      <td>1263.9399089813232</td>\n",
       "      <td>6371</td>\n",
       "    </tr>\n",
       "    <tr>\n",
       "      <th>79</th>\n",
       "      <td>9662.15004</td>\n",
       "      <td>[11.0, 10.0, 7.0, 7.0, 4.0, 9.0, 4.0, 9.0, 4.0...</td>\n",
       "      <td>7.849926039228432</td>\n",
       "      <td>9017</td>\n",
       "    </tr>\n",
       "    <tr>\n",
       "      <th>80</th>\n",
       "      <td>1840.059961</td>\n",
       "      <td>[0.0, 2.0, 2.0, 0.0, 1.0, 4.0, 2.0, 0.0, 1.0, ...</td>\n",
       "      <td>11.139995648237772</td>\n",
       "      <td>1640</td>\n",
       "    </tr>\n",
       "    <tr>\n",
       "      <th>81</th>\n",
       "      <td>5305.430058</td>\n",
       "      <td>[5.0, 6.0, 8.0, 4.0, 7.0, 6.0, 3.0, 4.0, 3.0, ...</td>\n",
       "      <td>965.5100116729736</td>\n",
       "      <td>4836</td>\n",
       "    </tr>\n",
       "  </tbody>\n",
       "</table>\n",
       "<p>82 rows × 4 columns</p>\n",
       "</div>"
      ],
      "text/plain": [
       "       portf_val                                        final_portf  \\\n",
       "0    4574.379947  [2.0, 7.0, 6.0, 7.0, 4.0, 6.0, 4.0, 2.0, 11.0,...   \n",
       "1   10242.340117  [3.0, 12.0, 14.0, 13.0, 14.0, 9.0, 8.0, 6.0, 1...   \n",
       "2    6074.169959  [6.0, 5.0, 4.0, 4.0, 6.0, 10.0, 5.0, 5.0, 5.0,...   \n",
       "3    7291.049894  [7.0, 7.0, 8.0, 5.0, 1.0, 4.0, 6.0, 7.0, 5.0, ...   \n",
       "4    1503.330031  [1.0, 1.0, 0.0, 4.0, 1.0, 0.0, 4.0, 0.0, 1.0, ...   \n",
       "..           ...                                                ...   \n",
       "77    9143.99993  [4.0, 9.0, 9.0, 5.0, 12.0, 8.0, 10.0, 5.0, 10....   \n",
       "78   7134.189951  [3.0, 4.0, 5.0, 3.0, 6.0, 6.0, 8.0, 4.0, 10.0,...   \n",
       "79    9662.15004  [11.0, 10.0, 7.0, 7.0, 4.0, 9.0, 4.0, 9.0, 4.0...   \n",
       "80   1840.059961  [0.0, 2.0, 2.0, 0.0, 1.0, 4.0, 2.0, 0.0, 1.0, ...   \n",
       "81   5305.430058  [5.0, 6.0, 8.0, 4.0, 7.0, 6.0, 3.0, 4.0, 3.0, ...   \n",
       "\n",
       "                  cash init_budget  \n",
       "0    683.5099859237671        4327  \n",
       "1   1848.1799945831299        9466  \n",
       "2   1475.6499633789062        5159  \n",
       "3   1591.8699836730957        6563  \n",
       "4    316.1500024795532        1406  \n",
       "..                 ...         ...  \n",
       "77  2028.8100061770047        7932  \n",
       "78  1263.9399089813232        6371  \n",
       "79   7.849926039228432        9017  \n",
       "80  11.139995648237772        1640  \n",
       "81   965.5100116729736        4836  \n",
       "\n",
       "[82 rows x 4 columns]"
      ]
     },
     "execution_count": 73,
     "metadata": {},
     "output_type": "execute_result"
    }
   ],
   "source": [
    "df_multi"
   ]
  },
  {
   "cell_type": "code",
   "execution_count": 74,
   "metadata": {},
   "outputs": [
    {
     "data": {
      "application/vnd.plotly.v1+json": {
       "config": {
        "plotlyServerURL": "https://plot.ly"
       },
       "data": [
        {
         "mode": "markers",
         "type": "scatter",
         "x": [
          4327,
          9466,
          5159,
          6563,
          1406,
          2449,
          6104,
          9851,
          5817,
          6447,
          7017,
          5627,
          8205,
          3326,
          6171,
          4872,
          3771,
          4040,
          8291,
          9595,
          6773,
          1202,
          4142,
          3109,
          3843,
          8519,
          9420,
          7394,
          5791,
          2456,
          8121,
          3394,
          1387,
          1399,
          4201,
          9809,
          7015,
          4924,
          9970,
          9776,
          7829,
          9155,
          5701,
          1937,
          5918,
          8284,
          9381,
          3280,
          2061,
          4803,
          3460,
          4170,
          7575,
          9178,
          4012,
          3805,
          3324,
          3449,
          9068,
          7551,
          1351,
          3487,
          6353,
          5021,
          6841,
          7607,
          3401,
          7614,
          9627,
          9044,
          4907,
          1830,
          6760,
          4370,
          8806,
          9758,
          8514,
          7932,
          6371,
          9017,
          1640,
          4836
         ],
         "y": [
          105.68000984191895,
          283.32007217407227,
          212.8600559234619,
          26.86001205444336,
          9.119991302490234,
          9.569998741149902,
          14.30001163482666,
          540.3599739074707,
          24.11996030807495,
          9.28999137878327,
          232.60006141662598,
          124.56502389907837,
          5.339946746826172,
          125.82005310057684,
          46.379968715366886,
          0.000006602344001294114,
          43.92000961303711,
          0.000009910147127811797,
          0.000008415983757004142,
          119.49001502990723,
          19.500024795532227,
          15.400009155273438,
          23.03997802734375,
          2.0300064086914062,
          15.029969692230225,
          78.71011161804199,
          85.25003814697266,
          2.1800270080548216,
          9.869956970214844,
          5.707606760552153e-7,
          176.88003063201904,
          169.78961086273193,
          17.1300106048584,
          0,
          68.80003690719604,
          55.66998291015625,
          84.62998580932617,
          74.25999641421095,
          34.310001373291016,
          101.99996948242188,
          16.97999620437622,
          0.000008370774594368413,
          22.049915313720703,
          17.199993133544922,
          105.80000877380371,
          34.13997459411621,
          107.05000305175781,
          1.5000038146972656,
          14.729996681213379,
          2.94000244140625,
          33.47000122070267,
          73.26999092102142,
          82.64989852905273,
          24.03986167907715,
          5.229991912841797,
          1.9399986267089844,
          8.370016098022461,
          118.61999893188477,
          0.000009614219379727729,
          64.35000419616699,
          22.360015869140625,
          164.90001303807458,
          0.29000091552734375,
          0,
          6.5299482345581055,
          59.659955978393555,
          0.000005483749191625975,
          0.5100002288818359,
          22.700019359588623,
          1.849996566772461,
          89.03995513916016,
          16.55998420715332,
          57.80502510070801,
          96.89997100830078,
          22.62001895904541,
          21.11999516817923,
          5.48997688293457,
          217.3600159044836,
          4.009838104248047,
          4.435605660546571e-8,
          7.328662832151167e-8,
          129.43000030517578
         ]
        }
       ],
       "layout": {
        "template": {
         "data": {
          "bar": [
           {
            "error_x": {
             "color": "#2a3f5f"
            },
            "error_y": {
             "color": "#2a3f5f"
            },
            "marker": {
             "line": {
              "color": "#E5ECF6",
              "width": 0.5
             },
             "pattern": {
              "fillmode": "overlay",
              "size": 10,
              "solidity": 0.2
             }
            },
            "type": "bar"
           }
          ],
          "barpolar": [
           {
            "marker": {
             "line": {
              "color": "#E5ECF6",
              "width": 0.5
             },
             "pattern": {
              "fillmode": "overlay",
              "size": 10,
              "solidity": 0.2
             }
            },
            "type": "barpolar"
           }
          ],
          "carpet": [
           {
            "aaxis": {
             "endlinecolor": "#2a3f5f",
             "gridcolor": "white",
             "linecolor": "white",
             "minorgridcolor": "white",
             "startlinecolor": "#2a3f5f"
            },
            "baxis": {
             "endlinecolor": "#2a3f5f",
             "gridcolor": "white",
             "linecolor": "white",
             "minorgridcolor": "white",
             "startlinecolor": "#2a3f5f"
            },
            "type": "carpet"
           }
          ],
          "choropleth": [
           {
            "colorbar": {
             "outlinewidth": 0,
             "ticks": ""
            },
            "type": "choropleth"
           }
          ],
          "contour": [
           {
            "colorbar": {
             "outlinewidth": 0,
             "ticks": ""
            },
            "colorscale": [
             [
              0,
              "#0d0887"
             ],
             [
              0.1111111111111111,
              "#46039f"
             ],
             [
              0.2222222222222222,
              "#7201a8"
             ],
             [
              0.3333333333333333,
              "#9c179e"
             ],
             [
              0.4444444444444444,
              "#bd3786"
             ],
             [
              0.5555555555555556,
              "#d8576b"
             ],
             [
              0.6666666666666666,
              "#ed7953"
             ],
             [
              0.7777777777777778,
              "#fb9f3a"
             ],
             [
              0.8888888888888888,
              "#fdca26"
             ],
             [
              1,
              "#f0f921"
             ]
            ],
            "type": "contour"
           }
          ],
          "contourcarpet": [
           {
            "colorbar": {
             "outlinewidth": 0,
             "ticks": ""
            },
            "type": "contourcarpet"
           }
          ],
          "heatmap": [
           {
            "colorbar": {
             "outlinewidth": 0,
             "ticks": ""
            },
            "colorscale": [
             [
              0,
              "#0d0887"
             ],
             [
              0.1111111111111111,
              "#46039f"
             ],
             [
              0.2222222222222222,
              "#7201a8"
             ],
             [
              0.3333333333333333,
              "#9c179e"
             ],
             [
              0.4444444444444444,
              "#bd3786"
             ],
             [
              0.5555555555555556,
              "#d8576b"
             ],
             [
              0.6666666666666666,
              "#ed7953"
             ],
             [
              0.7777777777777778,
              "#fb9f3a"
             ],
             [
              0.8888888888888888,
              "#fdca26"
             ],
             [
              1,
              "#f0f921"
             ]
            ],
            "type": "heatmap"
           }
          ],
          "heatmapgl": [
           {
            "colorbar": {
             "outlinewidth": 0,
             "ticks": ""
            },
            "colorscale": [
             [
              0,
              "#0d0887"
             ],
             [
              0.1111111111111111,
              "#46039f"
             ],
             [
              0.2222222222222222,
              "#7201a8"
             ],
             [
              0.3333333333333333,
              "#9c179e"
             ],
             [
              0.4444444444444444,
              "#bd3786"
             ],
             [
              0.5555555555555556,
              "#d8576b"
             ],
             [
              0.6666666666666666,
              "#ed7953"
             ],
             [
              0.7777777777777778,
              "#fb9f3a"
             ],
             [
              0.8888888888888888,
              "#fdca26"
             ],
             [
              1,
              "#f0f921"
             ]
            ],
            "type": "heatmapgl"
           }
          ],
          "histogram": [
           {
            "marker": {
             "pattern": {
              "fillmode": "overlay",
              "size": 10,
              "solidity": 0.2
             }
            },
            "type": "histogram"
           }
          ],
          "histogram2d": [
           {
            "colorbar": {
             "outlinewidth": 0,
             "ticks": ""
            },
            "colorscale": [
             [
              0,
              "#0d0887"
             ],
             [
              0.1111111111111111,
              "#46039f"
             ],
             [
              0.2222222222222222,
              "#7201a8"
             ],
             [
              0.3333333333333333,
              "#9c179e"
             ],
             [
              0.4444444444444444,
              "#bd3786"
             ],
             [
              0.5555555555555556,
              "#d8576b"
             ],
             [
              0.6666666666666666,
              "#ed7953"
             ],
             [
              0.7777777777777778,
              "#fb9f3a"
             ],
             [
              0.8888888888888888,
              "#fdca26"
             ],
             [
              1,
              "#f0f921"
             ]
            ],
            "type": "histogram2d"
           }
          ],
          "histogram2dcontour": [
           {
            "colorbar": {
             "outlinewidth": 0,
             "ticks": ""
            },
            "colorscale": [
             [
              0,
              "#0d0887"
             ],
             [
              0.1111111111111111,
              "#46039f"
             ],
             [
              0.2222222222222222,
              "#7201a8"
             ],
             [
              0.3333333333333333,
              "#9c179e"
             ],
             [
              0.4444444444444444,
              "#bd3786"
             ],
             [
              0.5555555555555556,
              "#d8576b"
             ],
             [
              0.6666666666666666,
              "#ed7953"
             ],
             [
              0.7777777777777778,
              "#fb9f3a"
             ],
             [
              0.8888888888888888,
              "#fdca26"
             ],
             [
              1,
              "#f0f921"
             ]
            ],
            "type": "histogram2dcontour"
           }
          ],
          "mesh3d": [
           {
            "colorbar": {
             "outlinewidth": 0,
             "ticks": ""
            },
            "type": "mesh3d"
           }
          ],
          "parcoords": [
           {
            "line": {
             "colorbar": {
              "outlinewidth": 0,
              "ticks": ""
             }
            },
            "type": "parcoords"
           }
          ],
          "pie": [
           {
            "automargin": true,
            "type": "pie"
           }
          ],
          "scatter": [
           {
            "fillpattern": {
             "fillmode": "overlay",
             "size": 10,
             "solidity": 0.2
            },
            "type": "scatter"
           }
          ],
          "scatter3d": [
           {
            "line": {
             "colorbar": {
              "outlinewidth": 0,
              "ticks": ""
             }
            },
            "marker": {
             "colorbar": {
              "outlinewidth": 0,
              "ticks": ""
             }
            },
            "type": "scatter3d"
           }
          ],
          "scattercarpet": [
           {
            "marker": {
             "colorbar": {
              "outlinewidth": 0,
              "ticks": ""
             }
            },
            "type": "scattercarpet"
           }
          ],
          "scattergeo": [
           {
            "marker": {
             "colorbar": {
              "outlinewidth": 0,
              "ticks": ""
             }
            },
            "type": "scattergeo"
           }
          ],
          "scattergl": [
           {
            "marker": {
             "colorbar": {
              "outlinewidth": 0,
              "ticks": ""
             }
            },
            "type": "scattergl"
           }
          ],
          "scattermapbox": [
           {
            "marker": {
             "colorbar": {
              "outlinewidth": 0,
              "ticks": ""
             }
            },
            "type": "scattermapbox"
           }
          ],
          "scatterpolar": [
           {
            "marker": {
             "colorbar": {
              "outlinewidth": 0,
              "ticks": ""
             }
            },
            "type": "scatterpolar"
           }
          ],
          "scatterpolargl": [
           {
            "marker": {
             "colorbar": {
              "outlinewidth": 0,
              "ticks": ""
             }
            },
            "type": "scatterpolargl"
           }
          ],
          "scatterternary": [
           {
            "marker": {
             "colorbar": {
              "outlinewidth": 0,
              "ticks": ""
             }
            },
            "type": "scatterternary"
           }
          ],
          "surface": [
           {
            "colorbar": {
             "outlinewidth": 0,
             "ticks": ""
            },
            "colorscale": [
             [
              0,
              "#0d0887"
             ],
             [
              0.1111111111111111,
              "#46039f"
             ],
             [
              0.2222222222222222,
              "#7201a8"
             ],
             [
              0.3333333333333333,
              "#9c179e"
             ],
             [
              0.4444444444444444,
              "#bd3786"
             ],
             [
              0.5555555555555556,
              "#d8576b"
             ],
             [
              0.6666666666666666,
              "#ed7953"
             ],
             [
              0.7777777777777778,
              "#fb9f3a"
             ],
             [
              0.8888888888888888,
              "#fdca26"
             ],
             [
              1,
              "#f0f921"
             ]
            ],
            "type": "surface"
           }
          ],
          "table": [
           {
            "cells": {
             "fill": {
              "color": "#EBF0F8"
             },
             "line": {
              "color": "white"
             }
            },
            "header": {
             "fill": {
              "color": "#C8D4E3"
             },
             "line": {
              "color": "white"
             }
            },
            "type": "table"
           }
          ]
         },
         "layout": {
          "annotationdefaults": {
           "arrowcolor": "#2a3f5f",
           "arrowhead": 0,
           "arrowwidth": 1
          },
          "autotypenumbers": "strict",
          "coloraxis": {
           "colorbar": {
            "outlinewidth": 0,
            "ticks": ""
           }
          },
          "colorscale": {
           "diverging": [
            [
             0,
             "#8e0152"
            ],
            [
             0.1,
             "#c51b7d"
            ],
            [
             0.2,
             "#de77ae"
            ],
            [
             0.3,
             "#f1b6da"
            ],
            [
             0.4,
             "#fde0ef"
            ],
            [
             0.5,
             "#f7f7f7"
            ],
            [
             0.6,
             "#e6f5d0"
            ],
            [
             0.7,
             "#b8e186"
            ],
            [
             0.8,
             "#7fbc41"
            ],
            [
             0.9,
             "#4d9221"
            ],
            [
             1,
             "#276419"
            ]
           ],
           "sequential": [
            [
             0,
             "#0d0887"
            ],
            [
             0.1111111111111111,
             "#46039f"
            ],
            [
             0.2222222222222222,
             "#7201a8"
            ],
            [
             0.3333333333333333,
             "#9c179e"
            ],
            [
             0.4444444444444444,
             "#bd3786"
            ],
            [
             0.5555555555555556,
             "#d8576b"
            ],
            [
             0.6666666666666666,
             "#ed7953"
            ],
            [
             0.7777777777777778,
             "#fb9f3a"
            ],
            [
             0.8888888888888888,
             "#fdca26"
            ],
            [
             1,
             "#f0f921"
            ]
           ],
           "sequentialminus": [
            [
             0,
             "#0d0887"
            ],
            [
             0.1111111111111111,
             "#46039f"
            ],
            [
             0.2222222222222222,
             "#7201a8"
            ],
            [
             0.3333333333333333,
             "#9c179e"
            ],
            [
             0.4444444444444444,
             "#bd3786"
            ],
            [
             0.5555555555555556,
             "#d8576b"
            ],
            [
             0.6666666666666666,
             "#ed7953"
            ],
            [
             0.7777777777777778,
             "#fb9f3a"
            ],
            [
             0.8888888888888888,
             "#fdca26"
            ],
            [
             1,
             "#f0f921"
            ]
           ]
          },
          "colorway": [
           "#636efa",
           "#EF553B",
           "#00cc96",
           "#ab63fa",
           "#FFA15A",
           "#19d3f3",
           "#FF6692",
           "#B6E880",
           "#FF97FF",
           "#FECB52"
          ],
          "font": {
           "color": "#2a3f5f"
          },
          "geo": {
           "bgcolor": "white",
           "lakecolor": "white",
           "landcolor": "#E5ECF6",
           "showlakes": true,
           "showland": true,
           "subunitcolor": "white"
          },
          "hoverlabel": {
           "align": "left"
          },
          "hovermode": "closest",
          "mapbox": {
           "style": "light"
          },
          "paper_bgcolor": "white",
          "plot_bgcolor": "#E5ECF6",
          "polar": {
           "angularaxis": {
            "gridcolor": "white",
            "linecolor": "white",
            "ticks": ""
           },
           "bgcolor": "#E5ECF6",
           "radialaxis": {
            "gridcolor": "white",
            "linecolor": "white",
            "ticks": ""
           }
          },
          "scene": {
           "xaxis": {
            "backgroundcolor": "#E5ECF6",
            "gridcolor": "white",
            "gridwidth": 2,
            "linecolor": "white",
            "showbackground": true,
            "ticks": "",
            "zerolinecolor": "white"
           },
           "yaxis": {
            "backgroundcolor": "#E5ECF6",
            "gridcolor": "white",
            "gridwidth": 2,
            "linecolor": "white",
            "showbackground": true,
            "ticks": "",
            "zerolinecolor": "white"
           },
           "zaxis": {
            "backgroundcolor": "#E5ECF6",
            "gridcolor": "white",
            "gridwidth": 2,
            "linecolor": "white",
            "showbackground": true,
            "ticks": "",
            "zerolinecolor": "white"
           }
          },
          "shapedefaults": {
           "line": {
            "color": "#2a3f5f"
           }
          },
          "ternary": {
           "aaxis": {
            "gridcolor": "white",
            "linecolor": "white",
            "ticks": ""
           },
           "baxis": {
            "gridcolor": "white",
            "linecolor": "white",
            "ticks": ""
           },
           "bgcolor": "#E5ECF6",
           "caxis": {
            "gridcolor": "white",
            "linecolor": "white",
            "ticks": ""
           }
          },
          "title": {
           "x": 0.05
          },
          "xaxis": {
           "automargin": true,
           "gridcolor": "white",
           "linecolor": "white",
           "ticks": "",
           "title": {
            "standoff": 15
           },
           "zerolinecolor": "white",
           "zerolinewidth": 2
          },
          "yaxis": {
           "automargin": true,
           "gridcolor": "white",
           "linecolor": "white",
           "ticks": "",
           "title": {
            "standoff": 15
           },
           "zerolinecolor": "white",
           "zerolinewidth": 2
          }
         }
        },
        "xaxis": {
         "title": {
          "text": "Starting Budget"
         }
        },
        "yaxis": {
         "title": {
          "text": "Multi-period Advantage"
         }
        }
       }
      }
     },
     "metadata": {},
     "output_type": "display_data"
    }
   ],
   "source": [
    "fig = go.Figure()\n",
    "\n",
    "fig.add_trace(\n",
    "    go.Scatter(\n",
    "        y = df_multi.portf_val - df_naive.portf_val,\n",
    "        x = df_multi.init_budget,\n",
    "        mode = \"markers\",\n",
    "\n",
    "    )\n",
    ")\n",
    "\n",
    "fig.update_xaxes(\n",
    "    title=\"Starting Budget\"\n",
    ")\n",
    "\n",
    "fig.update_yaxes(\n",
    "    title=\"Multi-period Advantage\"\n",
    ")"
   ]
  },
  {
   "cell_type": "code",
   "execution_count": null,
   "metadata": {},
   "outputs": [],
   "source": []
  }
 ],
 "metadata": {
  "kernelspec": {
   "display_name": "tdf",
   "language": "python",
   "name": "python3"
  },
  "language_info": {
   "codemirror_mode": {
    "name": "ipython",
    "version": 3
   },
   "file_extension": ".py",
   "mimetype": "text/x-python",
   "name": "python",
   "nbconvert_exporter": "python",
   "pygments_lexer": "ipython3",
   "version": "3.7.12"
  },
  "vscode": {
   "interpreter": {
    "hash": "538a550bb2d37c699914df831c667b96ebd76b5231f44cbdebaf3a5c1b5ea5c2"
   }
  }
 },
 "nbformat": 4,
 "nbformat_minor": 0
}
