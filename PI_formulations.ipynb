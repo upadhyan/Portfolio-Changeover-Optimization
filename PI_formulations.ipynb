{
 "cells": [
  {
   "cell_type": "code",
   "execution_count": 56,
   "metadata": {
    "collapsed": true
   },
   "outputs": [],
   "source": [
    "import pandas as pd\n",
    "import numpy as np\n",
    "import gurobipy as gp\n",
    "from gurobipy import GRB\n",
    "\n",
    "import datetime as dt\n",
    "import plotly.graph_objects as go\n",
    "\n",
    "from tqdm import tqdm"
   ]
  },
  {
   "cell_type": "code",
   "execution_count": 2,
   "metadata": {
    "collapsed": false
   },
   "outputs": [],
   "source": [
    "data = pd.read_parquet(\"stock_data.parquet\")\n",
    "stock_names = data['comnam'].unique()\n",
    "\n",
    "# repeat = True\n",
    "# while repeat:\n",
    "#     count = 0\n",
    "#     dfs = []\n",
    "#     sizes = []\n",
    "#     relevant_stocks = np.random.choice(stock_names,size=10, replace=False)\n",
    "#     for stock in relevant_stocks:\n",
    "#         subset = data[data['comnam'] == stock]\n",
    "#         df = subset[['prc']]\n",
    "#         df.columns = [stock]\n",
    "#         df.index = pd.to_datetime(subset['date'])\n",
    "#         dfs.append(df)\n",
    "#         sizes.append(df.shape[0])\n",
    "#     dfs = [x for _,x in reversed(sorted(zip(sizes,dfs), key = lambda x:x[0]))]\n",
    "#     final = dfs[0]\n",
    "#     for i in range(1, 10):\n",
    "#         final = final.join(dfs[i])\n",
    "#     final.index.name = 'date'\n",
    "#     final = final.groupby(by='date').mean()\n",
    "#     final = final.interpolate()\n",
    "#     period = np.random.randint(30, final.shape[0])\n",
    "#     final = final.iloc[period-30:period]\n",
    "#     if final.iloc[0].isna().any() or final.iloc[29].isna().any():\n",
    "#         repeat = True\n",
    "#     else:\n",
    "#         repeat = False"
   ]
  },
  {
   "cell_type": "code",
   "execution_count": 3,
   "metadata": {},
   "outputs": [
    {
     "data": {
      "text/html": [
       "<div>\n",
       "<style scoped>\n",
       "    .dataframe tbody tr th:only-of-type {\n",
       "        vertical-align: middle;\n",
       "    }\n",
       "\n",
       "    .dataframe tbody tr th {\n",
       "        vertical-align: top;\n",
       "    }\n",
       "\n",
       "    .dataframe thead th {\n",
       "        text-align: right;\n",
       "    }\n",
       "</style>\n",
       "<table border=\"1\" class=\"dataframe\">\n",
       "  <thead>\n",
       "    <tr style=\"text-align: right;\">\n",
       "      <th>comnam</th>\n",
       "      <th>AUTODESK INC</th>\n",
       "      <th>CENTERSPACE</th>\n",
       "      <th>DIGITAL REALTY TRUST INC</th>\n",
       "      <th>ENERSYS</th>\n",
       "      <th>PIMCO DYNAMIC CR &amp; MORT INC FD</th>\n",
       "      <th>PROSPERITY BANCSHARES INC</th>\n",
       "      <th>PRUDENTIAL REINSURANCE HOLD INC</th>\n",
       "      <th>SANMINA SCI CORP</th>\n",
       "      <th>SELIGMAN PREMIUM TECH GROWTH FD</th>\n",
       "      <th>U S X US STEEL GROUP INC</th>\n",
       "    </tr>\n",
       "    <tr>\n",
       "      <th>date</th>\n",
       "      <th></th>\n",
       "      <th></th>\n",
       "      <th></th>\n",
       "      <th></th>\n",
       "      <th></th>\n",
       "      <th></th>\n",
       "      <th></th>\n",
       "      <th></th>\n",
       "      <th></th>\n",
       "      <th></th>\n",
       "    </tr>\n",
       "  </thead>\n",
       "  <tbody>\n",
       "    <tr>\n",
       "      <th>2021-03-15</th>\n",
       "      <td>273.019989</td>\n",
       "      <td>73.389999</td>\n",
       "      <td>135.070007</td>\n",
       "      <td>101.879997</td>\n",
       "      <td>22.570000</td>\n",
       "      <td>80.370003</td>\n",
       "      <td>255.970001</td>\n",
       "      <td>40.730000</td>\n",
       "      <td>30.400000</td>\n",
       "      <td>23.139999</td>\n",
       "    </tr>\n",
       "    <tr>\n",
       "      <th>2021-03-16</th>\n",
       "      <td>275.010010</td>\n",
       "      <td>72.599998</td>\n",
       "      <td>135.679993</td>\n",
       "      <td>101.250000</td>\n",
       "      <td>22.540001</td>\n",
       "      <td>78.769997</td>\n",
       "      <td>253.369995</td>\n",
       "      <td>41.369999</td>\n",
       "      <td>30.610001</td>\n",
       "      <td>21.309999</td>\n",
       "    </tr>\n",
       "    <tr>\n",
       "      <th>2021-03-17</th>\n",
       "      <td>272.839996</td>\n",
       "      <td>71.150002</td>\n",
       "      <td>134.679993</td>\n",
       "      <td>102.550003</td>\n",
       "      <td>22.490000</td>\n",
       "      <td>79.010002</td>\n",
       "      <td>251.279999</td>\n",
       "      <td>42.639999</td>\n",
       "      <td>30.900000</td>\n",
       "      <td>22.040001</td>\n",
       "    </tr>\n",
       "    <tr>\n",
       "      <th>2021-03-18</th>\n",
       "      <td>263.440002</td>\n",
       "      <td>72.010002</td>\n",
       "      <td>134.160004</td>\n",
       "      <td>101.250000</td>\n",
       "      <td>22.350000</td>\n",
       "      <td>79.959999</td>\n",
       "      <td>251.949997</td>\n",
       "      <td>41.669998</td>\n",
       "      <td>30.240000</td>\n",
       "      <td>22.650000</td>\n",
       "    </tr>\n",
       "    <tr>\n",
       "      <th>2021-03-19</th>\n",
       "      <td>261.500000</td>\n",
       "      <td>70.870003</td>\n",
       "      <td>133.509995</td>\n",
       "      <td>99.389999</td>\n",
       "      <td>22.440001</td>\n",
       "      <td>79.230003</td>\n",
       "      <td>245.830002</td>\n",
       "      <td>41.049999</td>\n",
       "      <td>30.260000</td>\n",
       "      <td>22.410000</td>\n",
       "    </tr>\n",
       "    <tr>\n",
       "      <th>2021-03-22</th>\n",
       "      <td>265.959991</td>\n",
       "      <td>69.360001</td>\n",
       "      <td>136.550003</td>\n",
       "      <td>97.860001</td>\n",
       "      <td>22.520000</td>\n",
       "      <td>76.540001</td>\n",
       "      <td>243.880005</td>\n",
       "      <td>41.009998</td>\n",
       "      <td>30.719999</td>\n",
       "      <td>21.790001</td>\n",
       "    </tr>\n",
       "    <tr>\n",
       "      <th>2021-03-23</th>\n",
       "      <td>269.000000</td>\n",
       "      <td>69.769997</td>\n",
       "      <td>140.000000</td>\n",
       "      <td>93.290001</td>\n",
       "      <td>22.290001</td>\n",
       "      <td>74.150002</td>\n",
       "      <td>241.360001</td>\n",
       "      <td>39.490002</td>\n",
       "      <td>30.370001</td>\n",
       "      <td>19.860001</td>\n",
       "    </tr>\n",
       "    <tr>\n",
       "      <th>2021-03-24</th>\n",
       "      <td>263.179993</td>\n",
       "      <td>68.730003</td>\n",
       "      <td>140.089996</td>\n",
       "      <td>90.790001</td>\n",
       "      <td>22.350000</td>\n",
       "      <td>73.790001</td>\n",
       "      <td>242.949997</td>\n",
       "      <td>40.000000</td>\n",
       "      <td>30.000000</td>\n",
       "      <td>19.570000</td>\n",
       "    </tr>\n",
       "    <tr>\n",
       "      <th>2021-03-25</th>\n",
       "      <td>262.190002</td>\n",
       "      <td>68.400002</td>\n",
       "      <td>138.360001</td>\n",
       "      <td>91.599998</td>\n",
       "      <td>22.350000</td>\n",
       "      <td>75.800003</td>\n",
       "      <td>247.860001</td>\n",
       "      <td>40.529999</td>\n",
       "      <td>29.910000</td>\n",
       "      <td>20.370001</td>\n",
       "    </tr>\n",
       "    <tr>\n",
       "      <th>2021-03-26</th>\n",
       "      <td>269.010010</td>\n",
       "      <td>69.680000</td>\n",
       "      <td>142.910004</td>\n",
       "      <td>93.699997</td>\n",
       "      <td>22.340000</td>\n",
       "      <td>77.459999</td>\n",
       "      <td>250.149994</td>\n",
       "      <td>42.049999</td>\n",
       "      <td>30.230000</td>\n",
       "      <td>22.750000</td>\n",
       "    </tr>\n",
       "    <tr>\n",
       "      <th>2021-03-29</th>\n",
       "      <td>270.779999</td>\n",
       "      <td>69.500000</td>\n",
       "      <td>144.550003</td>\n",
       "      <td>90.040001</td>\n",
       "      <td>22.320000</td>\n",
       "      <td>75.500000</td>\n",
       "      <td>254.089996</td>\n",
       "      <td>40.990002</td>\n",
       "      <td>30.370001</td>\n",
       "      <td>23.580000</td>\n",
       "    </tr>\n",
       "    <tr>\n",
       "      <th>2021-03-30</th>\n",
       "      <td>268.429993</td>\n",
       "      <td>69.419998</td>\n",
       "      <td>141.240005</td>\n",
       "      <td>91.599998</td>\n",
       "      <td>22.190001</td>\n",
       "      <td>76.160004</td>\n",
       "      <td>254.289993</td>\n",
       "      <td>41.349998</td>\n",
       "      <td>30.330000</td>\n",
       "      <td>25.629999</td>\n",
       "    </tr>\n",
       "    <tr>\n",
       "      <th>2021-03-31</th>\n",
       "      <td>277.149994</td>\n",
       "      <td>68.000000</td>\n",
       "      <td>140.839996</td>\n",
       "      <td>90.800003</td>\n",
       "      <td>22.270000</td>\n",
       "      <td>74.889999</td>\n",
       "      <td>247.809998</td>\n",
       "      <td>41.380001</td>\n",
       "      <td>31.240000</td>\n",
       "      <td>26.170000</td>\n",
       "    </tr>\n",
       "    <tr>\n",
       "      <th>2021-04-01</th>\n",
       "      <td>283.899994</td>\n",
       "      <td>69.300003</td>\n",
       "      <td>143.250000</td>\n",
       "      <td>93.760002</td>\n",
       "      <td>22.450001</td>\n",
       "      <td>76.199997</td>\n",
       "      <td>251.110001</td>\n",
       "      <td>42.150002</td>\n",
       "      <td>31.780001</td>\n",
       "      <td>25.000000</td>\n",
       "    </tr>\n",
       "    <tr>\n",
       "      <th>2021-04-05</th>\n",
       "      <td>288.320007</td>\n",
       "      <td>68.860001</td>\n",
       "      <td>145.770004</td>\n",
       "      <td>94.239998</td>\n",
       "      <td>22.639999</td>\n",
       "      <td>75.419998</td>\n",
       "      <td>251.009995</td>\n",
       "      <td>42.980000</td>\n",
       "      <td>32.389999</td>\n",
       "      <td>24.629999</td>\n",
       "    </tr>\n",
       "    <tr>\n",
       "      <th>2021-04-06</th>\n",
       "      <td>285.500000</td>\n",
       "      <td>68.690002</td>\n",
       "      <td>144.669998</td>\n",
       "      <td>94.239998</td>\n",
       "      <td>22.730000</td>\n",
       "      <td>75.209999</td>\n",
       "      <td>253.580002</td>\n",
       "      <td>42.110001</td>\n",
       "      <td>32.580002</td>\n",
       "      <td>24.030001</td>\n",
       "    </tr>\n",
       "    <tr>\n",
       "      <th>2021-04-07</th>\n",
       "      <td>286.119995</td>\n",
       "      <td>68.059998</td>\n",
       "      <td>142.899994</td>\n",
       "      <td>92.389999</td>\n",
       "      <td>22.900000</td>\n",
       "      <td>74.910004</td>\n",
       "      <td>255.759995</td>\n",
       "      <td>41.020000</td>\n",
       "      <td>32.639999</td>\n",
       "      <td>23.620001</td>\n",
       "    </tr>\n",
       "    <tr>\n",
       "      <th>2021-04-08</th>\n",
       "      <td>293.429993</td>\n",
       "      <td>67.900002</td>\n",
       "      <td>141.880005</td>\n",
       "      <td>93.400002</td>\n",
       "      <td>23.020000</td>\n",
       "      <td>74.779999</td>\n",
       "      <td>253.300003</td>\n",
       "      <td>41.419998</td>\n",
       "      <td>33.180000</td>\n",
       "      <td>22.719999</td>\n",
       "    </tr>\n",
       "    <tr>\n",
       "      <th>2021-04-09</th>\n",
       "      <td>297.570007</td>\n",
       "      <td>67.809998</td>\n",
       "      <td>141.259995</td>\n",
       "      <td>93.940002</td>\n",
       "      <td>22.809999</td>\n",
       "      <td>75.360001</td>\n",
       "      <td>254.770004</td>\n",
       "      <td>41.450001</td>\n",
       "      <td>33.160000</td>\n",
       "      <td>22.020000</td>\n",
       "    </tr>\n",
       "    <tr>\n",
       "      <th>2021-04-12</th>\n",
       "      <td>294.500000</td>\n",
       "      <td>68.150002</td>\n",
       "      <td>143.520004</td>\n",
       "      <td>94.559998</td>\n",
       "      <td>22.660000</td>\n",
       "      <td>75.830002</td>\n",
       "      <td>254.979996</td>\n",
       "      <td>41.389999</td>\n",
       "      <td>33.080002</td>\n",
       "      <td>21.230000</td>\n",
       "    </tr>\n",
       "    <tr>\n",
       "      <th>2021-04-13</th>\n",
       "      <td>295.350006</td>\n",
       "      <td>68.290001</td>\n",
       "      <td>146.190002</td>\n",
       "      <td>92.410004</td>\n",
       "      <td>22.830000</td>\n",
       "      <td>74.110001</td>\n",
       "      <td>256.070007</td>\n",
       "      <td>41.150002</td>\n",
       "      <td>33.119999</td>\n",
       "      <td>21.320000</td>\n",
       "    </tr>\n",
       "    <tr>\n",
       "      <th>2021-04-14</th>\n",
       "      <td>294.350006</td>\n",
       "      <td>67.279999</td>\n",
       "      <td>143.619995</td>\n",
       "      <td>92.989998</td>\n",
       "      <td>22.799999</td>\n",
       "      <td>75.419998</td>\n",
       "      <td>259.450012</td>\n",
       "      <td>41.310001</td>\n",
       "      <td>33.099998</td>\n",
       "      <td>22.870001</td>\n",
       "    </tr>\n",
       "    <tr>\n",
       "      <th>2021-04-15</th>\n",
       "      <td>298.859985</td>\n",
       "      <td>67.970001</td>\n",
       "      <td>147.240005</td>\n",
       "      <td>93.190002</td>\n",
       "      <td>22.860001</td>\n",
       "      <td>75.220001</td>\n",
       "      <td>262.799988</td>\n",
       "      <td>41.610001</td>\n",
       "      <td>33.490002</td>\n",
       "      <td>22.150000</td>\n",
       "    </tr>\n",
       "    <tr>\n",
       "      <th>2021-04-16</th>\n",
       "      <td>300.160004</td>\n",
       "      <td>68.160004</td>\n",
       "      <td>145.960007</td>\n",
       "      <td>93.019997</td>\n",
       "      <td>23.059999</td>\n",
       "      <td>76.459999</td>\n",
       "      <td>262.100006</td>\n",
       "      <td>41.689999</td>\n",
       "      <td>33.450001</td>\n",
       "      <td>22.670000</td>\n",
       "    </tr>\n",
       "    <tr>\n",
       "      <th>2021-04-19</th>\n",
       "      <td>290.200012</td>\n",
       "      <td>69.610001</td>\n",
       "      <td>147.759995</td>\n",
       "      <td>91.970001</td>\n",
       "      <td>22.920000</td>\n",
       "      <td>76.160004</td>\n",
       "      <td>264.000000</td>\n",
       "      <td>41.610001</td>\n",
       "      <td>32.919998</td>\n",
       "      <td>22.840000</td>\n",
       "    </tr>\n",
       "    <tr>\n",
       "      <th>2021-04-20</th>\n",
       "      <td>286.359985</td>\n",
       "      <td>72.180000</td>\n",
       "      <td>150.940002</td>\n",
       "      <td>88.910004</td>\n",
       "      <td>22.559999</td>\n",
       "      <td>74.160004</td>\n",
       "      <td>262.429993</td>\n",
       "      <td>41.240002</td>\n",
       "      <td>32.639999</td>\n",
       "      <td>21.469999</td>\n",
       "    </tr>\n",
       "    <tr>\n",
       "      <th>2021-04-21</th>\n",
       "      <td>288.869995</td>\n",
       "      <td>71.489998</td>\n",
       "      <td>150.820007</td>\n",
       "      <td>91.879997</td>\n",
       "      <td>22.709999</td>\n",
       "      <td>75.160004</td>\n",
       "      <td>267.640015</td>\n",
       "      <td>41.910000</td>\n",
       "      <td>33.096001</td>\n",
       "      <td>22.410000</td>\n",
       "    </tr>\n",
       "    <tr>\n",
       "      <th>2021-04-22</th>\n",
       "      <td>288.000000</td>\n",
       "      <td>71.099998</td>\n",
       "      <td>149.050003</td>\n",
       "      <td>91.860001</td>\n",
       "      <td>22.330000</td>\n",
       "      <td>74.389999</td>\n",
       "      <td>264.510010</td>\n",
       "      <td>41.299999</td>\n",
       "      <td>32.814999</td>\n",
       "      <td>22.270000</td>\n",
       "    </tr>\n",
       "    <tr>\n",
       "      <th>2021-04-23</th>\n",
       "      <td>295.269989</td>\n",
       "      <td>71.680000</td>\n",
       "      <td>149.039993</td>\n",
       "      <td>92.959999</td>\n",
       "      <td>22.389999</td>\n",
       "      <td>76.760002</td>\n",
       "      <td>266.820007</td>\n",
       "      <td>41.709999</td>\n",
       "      <td>33.380001</td>\n",
       "      <td>23.709999</td>\n",
       "    </tr>\n",
       "    <tr>\n",
       "      <th>2021-04-26</th>\n",
       "      <td>299.339996</td>\n",
       "      <td>71.820000</td>\n",
       "      <td>148.229996</td>\n",
       "      <td>93.849998</td>\n",
       "      <td>22.639999</td>\n",
       "      <td>76.660004</td>\n",
       "      <td>266.000000</td>\n",
       "      <td>41.720001</td>\n",
       "      <td>34.009998</td>\n",
       "      <td>24.750000</td>\n",
       "    </tr>\n",
       "  </tbody>\n",
       "</table>\n",
       "</div>"
      ],
      "text/plain": [
       "comnam      AUTODESK INC  CENTERSPACE  DIGITAL REALTY TRUST INC     ENERSYS  \\\n",
       "date                                                                          \n",
       "2021-03-15    273.019989    73.389999                135.070007  101.879997   \n",
       "2021-03-16    275.010010    72.599998                135.679993  101.250000   \n",
       "2021-03-17    272.839996    71.150002                134.679993  102.550003   \n",
       "2021-03-18    263.440002    72.010002                134.160004  101.250000   \n",
       "2021-03-19    261.500000    70.870003                133.509995   99.389999   \n",
       "2021-03-22    265.959991    69.360001                136.550003   97.860001   \n",
       "2021-03-23    269.000000    69.769997                140.000000   93.290001   \n",
       "2021-03-24    263.179993    68.730003                140.089996   90.790001   \n",
       "2021-03-25    262.190002    68.400002                138.360001   91.599998   \n",
       "2021-03-26    269.010010    69.680000                142.910004   93.699997   \n",
       "2021-03-29    270.779999    69.500000                144.550003   90.040001   \n",
       "2021-03-30    268.429993    69.419998                141.240005   91.599998   \n",
       "2021-03-31    277.149994    68.000000                140.839996   90.800003   \n",
       "2021-04-01    283.899994    69.300003                143.250000   93.760002   \n",
       "2021-04-05    288.320007    68.860001                145.770004   94.239998   \n",
       "2021-04-06    285.500000    68.690002                144.669998   94.239998   \n",
       "2021-04-07    286.119995    68.059998                142.899994   92.389999   \n",
       "2021-04-08    293.429993    67.900002                141.880005   93.400002   \n",
       "2021-04-09    297.570007    67.809998                141.259995   93.940002   \n",
       "2021-04-12    294.500000    68.150002                143.520004   94.559998   \n",
       "2021-04-13    295.350006    68.290001                146.190002   92.410004   \n",
       "2021-04-14    294.350006    67.279999                143.619995   92.989998   \n",
       "2021-04-15    298.859985    67.970001                147.240005   93.190002   \n",
       "2021-04-16    300.160004    68.160004                145.960007   93.019997   \n",
       "2021-04-19    290.200012    69.610001                147.759995   91.970001   \n",
       "2021-04-20    286.359985    72.180000                150.940002   88.910004   \n",
       "2021-04-21    288.869995    71.489998                150.820007   91.879997   \n",
       "2021-04-22    288.000000    71.099998                149.050003   91.860001   \n",
       "2021-04-23    295.269989    71.680000                149.039993   92.959999   \n",
       "2021-04-26    299.339996    71.820000                148.229996   93.849998   \n",
       "\n",
       "comnam      PIMCO DYNAMIC CR & MORT INC FD  PROSPERITY BANCSHARES INC  \\\n",
       "date                                                                    \n",
       "2021-03-15                       22.570000                  80.370003   \n",
       "2021-03-16                       22.540001                  78.769997   \n",
       "2021-03-17                       22.490000                  79.010002   \n",
       "2021-03-18                       22.350000                  79.959999   \n",
       "2021-03-19                       22.440001                  79.230003   \n",
       "2021-03-22                       22.520000                  76.540001   \n",
       "2021-03-23                       22.290001                  74.150002   \n",
       "2021-03-24                       22.350000                  73.790001   \n",
       "2021-03-25                       22.350000                  75.800003   \n",
       "2021-03-26                       22.340000                  77.459999   \n",
       "2021-03-29                       22.320000                  75.500000   \n",
       "2021-03-30                       22.190001                  76.160004   \n",
       "2021-03-31                       22.270000                  74.889999   \n",
       "2021-04-01                       22.450001                  76.199997   \n",
       "2021-04-05                       22.639999                  75.419998   \n",
       "2021-04-06                       22.730000                  75.209999   \n",
       "2021-04-07                       22.900000                  74.910004   \n",
       "2021-04-08                       23.020000                  74.779999   \n",
       "2021-04-09                       22.809999                  75.360001   \n",
       "2021-04-12                       22.660000                  75.830002   \n",
       "2021-04-13                       22.830000                  74.110001   \n",
       "2021-04-14                       22.799999                  75.419998   \n",
       "2021-04-15                       22.860001                  75.220001   \n",
       "2021-04-16                       23.059999                  76.459999   \n",
       "2021-04-19                       22.920000                  76.160004   \n",
       "2021-04-20                       22.559999                  74.160004   \n",
       "2021-04-21                       22.709999                  75.160004   \n",
       "2021-04-22                       22.330000                  74.389999   \n",
       "2021-04-23                       22.389999                  76.760002   \n",
       "2021-04-26                       22.639999                  76.660004   \n",
       "\n",
       "comnam      PRUDENTIAL REINSURANCE HOLD INC  SANMINA SCI CORP  \\\n",
       "date                                                            \n",
       "2021-03-15                       255.970001         40.730000   \n",
       "2021-03-16                       253.369995         41.369999   \n",
       "2021-03-17                       251.279999         42.639999   \n",
       "2021-03-18                       251.949997         41.669998   \n",
       "2021-03-19                       245.830002         41.049999   \n",
       "2021-03-22                       243.880005         41.009998   \n",
       "2021-03-23                       241.360001         39.490002   \n",
       "2021-03-24                       242.949997         40.000000   \n",
       "2021-03-25                       247.860001         40.529999   \n",
       "2021-03-26                       250.149994         42.049999   \n",
       "2021-03-29                       254.089996         40.990002   \n",
       "2021-03-30                       254.289993         41.349998   \n",
       "2021-03-31                       247.809998         41.380001   \n",
       "2021-04-01                       251.110001         42.150002   \n",
       "2021-04-05                       251.009995         42.980000   \n",
       "2021-04-06                       253.580002         42.110001   \n",
       "2021-04-07                       255.759995         41.020000   \n",
       "2021-04-08                       253.300003         41.419998   \n",
       "2021-04-09                       254.770004         41.450001   \n",
       "2021-04-12                       254.979996         41.389999   \n",
       "2021-04-13                       256.070007         41.150002   \n",
       "2021-04-14                       259.450012         41.310001   \n",
       "2021-04-15                       262.799988         41.610001   \n",
       "2021-04-16                       262.100006         41.689999   \n",
       "2021-04-19                       264.000000         41.610001   \n",
       "2021-04-20                       262.429993         41.240002   \n",
       "2021-04-21                       267.640015         41.910000   \n",
       "2021-04-22                       264.510010         41.299999   \n",
       "2021-04-23                       266.820007         41.709999   \n",
       "2021-04-26                       266.000000         41.720001   \n",
       "\n",
       "comnam      SELIGMAN PREMIUM TECH GROWTH FD  U S X US STEEL GROUP INC  \n",
       "date                                                                   \n",
       "2021-03-15                        30.400000                 23.139999  \n",
       "2021-03-16                        30.610001                 21.309999  \n",
       "2021-03-17                        30.900000                 22.040001  \n",
       "2021-03-18                        30.240000                 22.650000  \n",
       "2021-03-19                        30.260000                 22.410000  \n",
       "2021-03-22                        30.719999                 21.790001  \n",
       "2021-03-23                        30.370001                 19.860001  \n",
       "2021-03-24                        30.000000                 19.570000  \n",
       "2021-03-25                        29.910000                 20.370001  \n",
       "2021-03-26                        30.230000                 22.750000  \n",
       "2021-03-29                        30.370001                 23.580000  \n",
       "2021-03-30                        30.330000                 25.629999  \n",
       "2021-03-31                        31.240000                 26.170000  \n",
       "2021-04-01                        31.780001                 25.000000  \n",
       "2021-04-05                        32.389999                 24.629999  \n",
       "2021-04-06                        32.580002                 24.030001  \n",
       "2021-04-07                        32.639999                 23.620001  \n",
       "2021-04-08                        33.180000                 22.719999  \n",
       "2021-04-09                        33.160000                 22.020000  \n",
       "2021-04-12                        33.080002                 21.230000  \n",
       "2021-04-13                        33.119999                 21.320000  \n",
       "2021-04-14                        33.099998                 22.870001  \n",
       "2021-04-15                        33.490002                 22.150000  \n",
       "2021-04-16                        33.450001                 22.670000  \n",
       "2021-04-19                        32.919998                 22.840000  \n",
       "2021-04-20                        32.639999                 21.469999  \n",
       "2021-04-21                        33.096001                 22.410000  \n",
       "2021-04-22                        32.814999                 22.270000  \n",
       "2021-04-23                        33.380001                 23.709999  \n",
       "2021-04-26                        34.009998                 24.750000  "
      ]
     },
     "execution_count": 3,
     "metadata": {},
     "output_type": "execute_result"
    }
   ],
   "source": [
    "# Remove stocks with na in price column random stocks\n",
    "# TODO: Remove the complete stock if any na\n",
    "data_clean = data.dropna(axis=0, subset=['prc'])\n",
    "\n",
    "# Pick 10 stocks at random\n",
    "relevant_stocks = np.random.choice(data_clean.comnam.unique(),size=10, replace=False)\n",
    "data_filt = data_clean.query(\"comnam in @relevant_stocks\")\n",
    "\n",
    "# Pivot data (columns: stock name, index: date)\n",
    "data_pivot = data_filt.pivot_table(index=\"date\", values=\"prc\", columns=\"comnam\")\n",
    "\n",
    "# Focus on window of 30 trading days with random start dt\n",
    "start_dt = np.random.choice(data_pivot.index[:-30],size=1, replace=False)[0]\n",
    "final = data_pivot.query(\"date >= @start_dt\")\n",
    "final = final.iloc[:30]\n",
    "\n",
    "final"
   ]
  },
  {
   "cell_type": "markdown",
   "metadata": {
    "collapsed": false
   },
   "source": [
    "Create an initial portfolio"
   ]
  },
  {
   "cell_type": "code",
   "execution_count": 58,
   "metadata": {
    "collapsed": false
   },
   "outputs": [],
   "source": [
    "def get_prices_window(start_dt):\n",
    "    final = data_pivot.query(\"date >= @start_dt\")\n",
    "    final = final.iloc[:30]\n",
    "    return final\n",
    "\n",
    "def generate_portfolios(stock_prices, init_budget=100000):\n",
    "    initial_budget = init_budget\n",
    "    initial_prices = stock_prices.iloc[0].to_numpy()\n",
    "    available_money = initial_budget * .95\n",
    "    P_0 = np.zeros(10) #initial portfolio\n",
    "    break_bool = True\n",
    "    ignore =  np.random.randint(0,10)\n",
    "    while break_bool:\n",
    "        stock_buy = np.random.randint(0,10)\n",
    "        price = initial_prices[stock_buy]\n",
    "        if stock_buy != ignore:\n",
    "            if (available_money * .75) - price >= 0:\n",
    "                available_money = available_money - price\n",
    "                P_0[stock_buy] = P_0[stock_buy] + 1\n",
    "            else:\n",
    "                break_bool = False\n",
    "\n",
    "    w_0 = initial_budget * .05 + available_money\n",
    "    # print(w_0)\n",
    "    # print(P_0)\n",
    "    final_prices = stock_prices.iloc[29].to_numpy()\n",
    "    available_money = initial_budget * .9\n",
    "    break_bool = True\n",
    "    P_t = np.zeros(10) #target portfolio\n",
    "\n",
    "    while break_bool:\n",
    "        stock_buy = np.random.randint(0,10)\n",
    "        price = final_prices[stock_buy]\n",
    "        if available_money - price >= 0:\n",
    "            available_money = available_money - price\n",
    "            P_t[stock_buy] = P_t[stock_buy] + 1\n",
    "        else:\n",
    "            break_bool = False\n",
    "    # print(P_t)\n",
    "    return P_0, P_t, w_0, initial_prices, final_prices"
   ]
  },
  {
   "cell_type": "markdown",
   "metadata": {
    "collapsed": false
   },
   "source": [
    "# Formulations\n",
    "\n",
    "## With Perfect Information"
   ]
  },
  {
   "cell_type": "code",
   "execution_count": 59,
   "metadata": {
    "collapsed": false
   },
   "outputs": [],
   "source": [
    "def get_naive_opt(P_0, P_t, w_0, initial_budget, initial_prices, final_prices):\n",
    "    F = 5.95 * np.ones(10)# trading fees\n",
    "    # P_0 = starting portfolio\n",
    "    # P_t = target portfolio\n",
    "    # w_0 = starting cash\n",
    "    # w_f = final free cash\n",
    "    budget = 20000\n",
    "    M = initial_budget\n",
    "\n",
    "    # Silence Gurobi output\n",
    "    env = gp.Env(empty=True)\n",
    "    env.setParam(\"OutputFlag\",0)\n",
    "    env.start()\n",
    "\n",
    "    m = gp.Model(env=env)\n",
    "    # Define Variables\n",
    "    P_buy = m.addMVar((10,), vtype=GRB.INTEGER)\n",
    "    P_sell = m.addMVar((10,), vtype=GRB.INTEGER)\n",
    "    z_sell = m.addMVar((10,), vtype=GRB.BINARY)\n",
    "    z_buy = m.addMVar((10,), vtype=GRB.BINARY)\n",
    "    # Constraints\n",
    "\n",
    "    ## Meet Target\n",
    "    m.addConstr(\n",
    "        P_0 + P_buy - P_sell >= P_t\n",
    "    )\n",
    "\n",
    "    ## Have Money\n",
    "    m.addConstr(\n",
    "        w_0 + initial_prices @ P_sell - initial_prices @ P_buy - F @ z_sell - F @ z_buy >=0\n",
    "    )\n",
    "\n",
    "    ## if we sell a stock, we pay a trading price\n",
    "    m.addConstr(\n",
    "        M*(1-z_sell) >= P_sell\n",
    "    )\n",
    "\n",
    "    ## If we buy a stock, we pay a trading fee\n",
    "\n",
    "    m.addConstr(\n",
    "        M*(1-z_buy) >= P_buy\n",
    "    )\n",
    "\n",
    "    free_cash = w_0 + initial_prices @ P_sell - initial_prices @ P_buy\n",
    "    # Set objective: Maximize end portfolio value\n",
    "    m.ModelSense = GRB.MAXIMIZE\n",
    "    m.setObjective(\n",
    "        free_cash - F @ z_sell - F @ z_buy + final_prices @ (P_0 + P_buy - P_sell)\n",
    "    )\n",
    "\n",
    "    m.optimize()\n",
    "    final_portfolio = P_0 + P_buy.x - P_sell.x\n",
    "    free_cash = w_0 + initial_prices @ P_sell.x - initial_prices @ P_buy.x\n",
    "    final_portfolio_value = free_cash + final_prices @ final_portfolio\n",
    "    # print(f\"Final Portfolio Value: {final_portfolio_value}\")\n",
    "    # print(f\"Free Cash: {free_cash}\")\n",
    "    # print(f\"Final Portfolio: {final_portfolio}\")\n",
    "    return final_portfolio_value, final_portfolio, free_cash"
   ]
  },
  {
   "cell_type": "markdown",
   "metadata": {
    "collapsed": false
   },
   "source": [
    "## Multi-stage"
   ]
  },
  {
   "cell_type": "markdown",
   "metadata": {
    "collapsed": false
   },
   "source": [
    "##"
   ]
  },
  {
   "cell_type": "code",
   "execution_count": 60,
   "metadata": {
    "collapsed": false
   },
   "outputs": [],
   "source": [
    "def get_multi_stage_opt(P_0, P_t, w_0, initial_budget, stock_price_window):   \n",
    "    # Silence Gurobi output\n",
    "    env = gp.Env(empty=True)\n",
    "    env.setParam(\"OutputFlag\",0)\n",
    "    env.start()\n",
    "\n",
    "    F = 5.95  * np.ones(10)# trading fees\n",
    "    prices = stock_price_window.interpolate().to_numpy()\n",
    "    M = initial_budget\n",
    "    # P_0 = starting portfolio\n",
    "    # P_t = target portfolio\n",
    "    # w_0 = starting cash\n",
    "\n",
    "    m = gp.Model(env=env)\n",
    "\n",
    "    # Define Variables\n",
    "    P_buy = m.addMVar((30,10), vtype=GRB.INTEGER)\n",
    "    P_sell = m.addMVar((30,10), vtype=GRB.INTEGER)\n",
    "    z_sell = m.addMVar((30,10), vtype=GRB.BINARY)\n",
    "    z_buy = m.addMVar((30,10), vtype=GRB.BINARY)\n",
    "    P_time = m.addMVar((30,10), vtype=GRB.INTEGER)\n",
    "    w = m.addMVar((30,), vtype=GRB.CONTINUOUS, lb = 0)\n",
    "    # Constraints\n",
    "\n",
    "    ## Represent Portfolios across time\n",
    "\n",
    "    ### Time step 0\n",
    "    m.addConstr(\n",
    "        P_time[0,:] == P_0 + P_buy[0,:] - P_sell[0,:]\n",
    "    )\n",
    "    ### Rest of the time\n",
    "    m.addConstrs((\n",
    "        P_time[i,:] == P_time[i-1,:] - P_buy[i,:] - P_sell[i,:] for i in range(1,30)\n",
    "    ))\n",
    "\n",
    "    ### Final_target\n",
    "    m.addConstr(\n",
    "        P_time[29,:] >= P_t\n",
    "    )\n",
    "\n",
    "    ## Represent money\n",
    "    ### First time step\n",
    "    m.addConstr(\n",
    "        w[0] == w_0 - prices[0,:] @ P_buy[0,:] + prices[0,:] @ P_sell[0,:] - F @ z_buy[0,:] - F @ z_sell[0,:]\n",
    "    )\n",
    "    ## Rest of the time\n",
    "    m.addConstrs((\n",
    "        w[i] == w[i-1] - prices[i,:] @ P_buy[i,:] + prices[i,:] @ P_sell[i,:] - F @ z_buy[i,:] - F @ z_sell[i,:] for i in range(1,30)\n",
    "    ))\n",
    "\n",
    "    ## Trading fees\n",
    "    ### if we sell a stock, we pay a trading price\n",
    "    m.addConstr(\n",
    "        M*(1-z_sell) >= P_sell\n",
    "    )\n",
    "\n",
    "    ### If we buy a stock, we pay a trading fee\n",
    "    m.addConstr(\n",
    "        M*(1-z_buy) >= P_buy\n",
    "    )\n",
    "\n",
    "    # Maximize end Portfolio value\n",
    "    m.ModelSense = GRB.MAXIMIZE\n",
    "    m.setObjective(\n",
    "        w[29] + prices[29,:] @ P_time[29,:]\n",
    "    )\n",
    "    m.optimize()\n",
    "    final_portfolio = P_time[29,:].x\n",
    "    free_cash = w[29].x \n",
    "    final_portfolio_value = free_cash + prices[29,:] @ final_portfolio\n",
    "    # print(f\"Final Portfolio Value: {final_portfolio_value}\")\n",
    "    # print(f\"Free Cash: {free_cash}\")\n",
    "    # print(f\"Final Portfolio: {final_portfolio}\")\n",
    "    return final_portfolio_value, final_portfolio, free_cash"
   ]
  },
  {
   "cell_type": "code",
   "execution_count": 62,
   "metadata": {},
   "outputs": [
    {
     "name": "stderr",
     "output_type": "stream",
     "text": [
      "  0%|          | 3/1000 [00:01<07:02,  2.36it/s]"
     ]
    },
    {
     "name": "stdout",
     "output_type": "stream",
     "text": [
      "Double value is Nan.\n",
      "Unable to retrieve attribute 'x'\n"
     ]
    },
    {
     "name": "stderr",
     "output_type": "stream",
     "text": [
      "  1%|          | 11/1000 [00:03<06:17,  2.62it/s]"
     ]
    },
    {
     "name": "stdout",
     "output_type": "stream",
     "text": [
      "Double value is Nan.\n"
     ]
    },
    {
     "name": "stderr",
     "output_type": "stream",
     "text": [
      "  2%|▏         | 15/1000 [00:05<05:49,  2.82it/s]"
     ]
    },
    {
     "name": "stdout",
     "output_type": "stream",
     "text": [
      "Unable to retrieve attribute 'x'\n"
     ]
    },
    {
     "name": "stderr",
     "output_type": "stream",
     "text": [
      "  2%|▏         | 22/1000 [00:07<06:15,  2.61it/s]"
     ]
    },
    {
     "name": "stdout",
     "output_type": "stream",
     "text": [
      "Unable to retrieve attribute 'x'\n"
     ]
    },
    {
     "name": "stderr",
     "output_type": "stream",
     "text": [
      "  3%|▎         | 27/1000 [00:09<05:59,  2.71it/s]"
     ]
    },
    {
     "name": "stdout",
     "output_type": "stream",
     "text": [
      "Double value is Nan.\n"
     ]
    },
    {
     "name": "stderr",
     "output_type": "stream",
     "text": [
      "  3%|▎         | 31/1000 [00:10<05:50,  2.77it/s]"
     ]
    },
    {
     "name": "stdout",
     "output_type": "stream",
     "text": [
      "Double value is Nan.\n"
     ]
    },
    {
     "name": "stderr",
     "output_type": "stream",
     "text": [
      "  3%|▎         | 34/1000 [00:11<05:22,  3.00it/s]"
     ]
    },
    {
     "name": "stdout",
     "output_type": "stream",
     "text": [
      "Unable to retrieve attribute 'x'\n"
     ]
    },
    {
     "name": "stderr",
     "output_type": "stream",
     "text": [
      "  4%|▍         | 39/1000 [00:13<05:52,  2.73it/s]"
     ]
    },
    {
     "name": "stdout",
     "output_type": "stream",
     "text": [
      "Unable to retrieve attribute 'x'\n"
     ]
    },
    {
     "name": "stderr",
     "output_type": "stream",
     "text": [
      "  5%|▍         | 48/1000 [00:16<06:24,  2.48it/s]"
     ]
    },
    {
     "name": "stdout",
     "output_type": "stream",
     "text": [
      "Double value is Nan.\n"
     ]
    },
    {
     "name": "stderr",
     "output_type": "stream",
     "text": [
      "  5%|▌         | 54/1000 [00:18<06:10,  2.55it/s]"
     ]
    },
    {
     "name": "stdout",
     "output_type": "stream",
     "text": [
      "Double value is Nan.\n"
     ]
    },
    {
     "name": "stderr",
     "output_type": "stream",
     "text": [
      "  9%|▉         | 94/1000 [00:34<06:16,  2.40it/s]"
     ]
    },
    {
     "name": "stdout",
     "output_type": "stream",
     "text": [
      "Double value is Nan.\n"
     ]
    },
    {
     "name": "stderr",
     "output_type": "stream",
     "text": [
      " 11%|█         | 107/1000 [00:39<06:07,  2.43it/s]"
     ]
    },
    {
     "name": "stdout",
     "output_type": "stream",
     "text": [
      "Unable to retrieve attribute 'x'\n"
     ]
    },
    {
     "name": "stderr",
     "output_type": "stream",
     "text": [
      " 11%|█         | 111/1000 [00:41<05:26,  2.73it/s]"
     ]
    },
    {
     "name": "stdout",
     "output_type": "stream",
     "text": [
      "Double value is Nan.\n"
     ]
    },
    {
     "name": "stderr",
     "output_type": "stream",
     "text": [
      " 12%|█▏        | 121/1000 [00:44<05:42,  2.57it/s]"
     ]
    },
    {
     "name": "stdout",
     "output_type": "stream",
     "text": [
      "Double value is Nan.\n"
     ]
    },
    {
     "name": "stderr",
     "output_type": "stream",
     "text": [
      " 12%|█▎        | 125/1000 [00:46<05:22,  2.71it/s]"
     ]
    },
    {
     "name": "stdout",
     "output_type": "stream",
     "text": [
      "Double value is Nan.\n"
     ]
    },
    {
     "name": "stderr",
     "output_type": "stream",
     "text": [
      " 13%|█▎        | 127/1000 [00:46<04:26,  3.28it/s]"
     ]
    },
    {
     "name": "stdout",
     "output_type": "stream",
     "text": [
      "Double value is Nan.\n"
     ]
    },
    {
     "name": "stderr",
     "output_type": "stream",
     "text": [
      " 13%|█▎        | 130/1000 [00:47<04:18,  3.36it/s]"
     ]
    },
    {
     "name": "stdout",
     "output_type": "stream",
     "text": [
      "Double value is Nan.\n"
     ]
    },
    {
     "name": "stderr",
     "output_type": "stream",
     "text": [
      " 13%|█▎        | 133/1000 [00:48<04:18,  3.35it/s]"
     ]
    },
    {
     "name": "stdout",
     "output_type": "stream",
     "text": [
      "Unable to retrieve attribute 'x'\n"
     ]
    },
    {
     "name": "stderr",
     "output_type": "stream",
     "text": [
      " 14%|█▍        | 145/1000 [00:51<02:23,  5.96it/s]"
     ]
    },
    {
     "name": "stdout",
     "output_type": "stream",
     "text": [
      "Double value is Nan.\n",
      "Unable to retrieve attribute 'x'\n",
      "Double value is Nan.\n",
      "Double value is Nan.\n"
     ]
    },
    {
     "name": "stderr",
     "output_type": "stream",
     "text": [
      " 15%|█▍        | 147/1000 [00:51<02:38,  5.37it/s]"
     ]
    },
    {
     "name": "stdout",
     "output_type": "stream",
     "text": [
      "Double value is Nan.\n"
     ]
    },
    {
     "name": "stderr",
     "output_type": "stream",
     "text": [
      " 15%|█▍        | 149/1000 [00:52<03:37,  3.91it/s]"
     ]
    },
    {
     "name": "stdout",
     "output_type": "stream",
     "text": [
      "Double value is Nan.\n"
     ]
    },
    {
     "name": "stderr",
     "output_type": "stream",
     "text": [
      " 16%|█▌        | 157/1000 [00:55<05:17,  2.65it/s]"
     ]
    },
    {
     "name": "stdout",
     "output_type": "stream",
     "text": [
      "Double value is Nan.\n"
     ]
    },
    {
     "name": "stderr",
     "output_type": "stream",
     "text": [
      " 16%|█▌        | 162/1000 [00:57<05:05,  2.74it/s]"
     ]
    },
    {
     "name": "stdout",
     "output_type": "stream",
     "text": [
      "Double value is Nan.\n"
     ]
    },
    {
     "name": "stderr",
     "output_type": "stream",
     "text": [
      " 17%|█▋        | 169/1000 [00:59<05:15,  2.63it/s]"
     ]
    },
    {
     "name": "stdout",
     "output_type": "stream",
     "text": [
      "Unable to retrieve attribute 'x'\n"
     ]
    },
    {
     "name": "stderr",
     "output_type": "stream",
     "text": [
      " 17%|█▋        | 171/1000 [01:00<04:16,  3.24it/s]"
     ]
    },
    {
     "name": "stdout",
     "output_type": "stream",
     "text": [
      "Double value is Nan.\n"
     ]
    },
    {
     "name": "stderr",
     "output_type": "stream",
     "text": [
      " 17%|█▋        | 174/1000 [01:00<04:14,  3.24it/s]"
     ]
    },
    {
     "name": "stdout",
     "output_type": "stream",
     "text": [
      "Double value is Nan.\n",
      "Unable to retrieve attribute 'x'\n"
     ]
    },
    {
     "name": "stderr",
     "output_type": "stream",
     "text": [
      " 18%|█▊        | 179/1000 [01:02<04:07,  3.32it/s]"
     ]
    },
    {
     "name": "stdout",
     "output_type": "stream",
     "text": [
      "Unable to retrieve attribute 'x'\n"
     ]
    },
    {
     "name": "stderr",
     "output_type": "stream",
     "text": [
      " 18%|█▊        | 183/1000 [01:03<04:28,  3.05it/s]"
     ]
    },
    {
     "name": "stdout",
     "output_type": "stream",
     "text": [
      "Double value is Nan.\n",
      "Unable to retrieve attribute 'x'\n"
     ]
    },
    {
     "name": "stderr",
     "output_type": "stream",
     "text": [
      " 20%|█▉        | 199/1000 [01:09<05:20,  2.50it/s]"
     ]
    },
    {
     "name": "stdout",
     "output_type": "stream",
     "text": [
      "Double value is Nan.\n",
      "Double value is Nan.\n"
     ]
    },
    {
     "name": "stderr",
     "output_type": "stream",
     "text": [
      " 20%|██        | 204/1000 [01:10<04:19,  3.07it/s]"
     ]
    },
    {
     "name": "stdout",
     "output_type": "stream",
     "text": [
      "Double value is Nan.\n",
      "Double value is Nan.\n"
     ]
    },
    {
     "name": "stderr",
     "output_type": "stream",
     "text": [
      " 21%|██        | 207/1000 [01:11<03:08,  4.20it/s]"
     ]
    },
    {
     "name": "stdout",
     "output_type": "stream",
     "text": [
      "Unable to retrieve attribute 'x'\n"
     ]
    },
    {
     "name": "stderr",
     "output_type": "stream",
     "text": [
      " 22%|██▏       | 217/1000 [01:14<05:04,  2.57it/s]"
     ]
    },
    {
     "name": "stdout",
     "output_type": "stream",
     "text": [
      "Double value is Nan.\n"
     ]
    },
    {
     "name": "stderr",
     "output_type": "stream",
     "text": [
      " 22%|██▏       | 221/1000 [01:16<04:42,  2.76it/s]"
     ]
    },
    {
     "name": "stdout",
     "output_type": "stream",
     "text": [
      "Double value is Nan.\n"
     ]
    },
    {
     "name": "stderr",
     "output_type": "stream",
     "text": [
      " 22%|██▏       | 224/1000 [01:17<04:14,  3.05it/s]"
     ]
    },
    {
     "name": "stdout",
     "output_type": "stream",
     "text": [
      "Double value is Nan.\n"
     ]
    },
    {
     "name": "stderr",
     "output_type": "stream",
     "text": [
      " 26%|██▌       | 255/1000 [01:29<05:04,  2.44it/s]"
     ]
    },
    {
     "name": "stdout",
     "output_type": "stream",
     "text": [
      "Double value is Nan.\n",
      "Double value is Nan.\n"
     ]
    },
    {
     "name": "stderr",
     "output_type": "stream",
     "text": [
      " 27%|██▋       | 271/1000 [01:35<05:07,  2.37it/s]"
     ]
    },
    {
     "name": "stdout",
     "output_type": "stream",
     "text": [
      "Double value is Nan.\n"
     ]
    },
    {
     "name": "stderr",
     "output_type": "stream",
     "text": [
      " 27%|██▋       | 273/1000 [01:35<03:59,  3.04it/s]"
     ]
    },
    {
     "name": "stdout",
     "output_type": "stream",
     "text": [
      "Unable to retrieve attribute 'x'\n"
     ]
    },
    {
     "name": "stderr",
     "output_type": "stream",
     "text": [
      " 28%|██▊       | 280/1000 [01:38<04:27,  2.69it/s]"
     ]
    },
    {
     "name": "stdout",
     "output_type": "stream",
     "text": [
      "Double value is Nan.\n"
     ]
    },
    {
     "name": "stderr",
     "output_type": "stream",
     "text": [
      " 28%|██▊       | 285/1000 [01:39<04:26,  2.68it/s]"
     ]
    },
    {
     "name": "stdout",
     "output_type": "stream",
     "text": [
      "Double value is Nan.\n"
     ]
    },
    {
     "name": "stderr",
     "output_type": "stream",
     "text": [
      " 29%|██▉       | 294/1000 [01:43<04:35,  2.56it/s]"
     ]
    },
    {
     "name": "stdout",
     "output_type": "stream",
     "text": [
      "Double value is Nan.\n",
      "Double value is Nan.\n"
     ]
    },
    {
     "name": "stderr",
     "output_type": "stream",
     "text": [
      " 30%|██▉       | 299/1000 [01:44<03:42,  3.15it/s]"
     ]
    },
    {
     "name": "stdout",
     "output_type": "stream",
     "text": [
      "Double value is Nan.\n"
     ]
    },
    {
     "name": "stderr",
     "output_type": "stream",
     "text": [
      " 31%|███       | 306/1000 [01:47<04:24,  2.62it/s]"
     ]
    },
    {
     "name": "stdout",
     "output_type": "stream",
     "text": [
      "Double value is Nan.\n"
     ]
    },
    {
     "name": "stderr",
     "output_type": "stream",
     "text": [
      " 31%|███       | 308/1000 [01:47<03:33,  3.24it/s]"
     ]
    },
    {
     "name": "stdout",
     "output_type": "stream",
     "text": [
      "Double value is Nan.\n"
     ]
    },
    {
     "name": "stderr",
     "output_type": "stream",
     "text": [
      " 31%|███▏      | 313/1000 [01:49<03:58,  2.88it/s]"
     ]
    },
    {
     "name": "stdout",
     "output_type": "stream",
     "text": [
      "Unable to retrieve attribute 'x'\n"
     ]
    },
    {
     "name": "stderr",
     "output_type": "stream",
     "text": [
      " 32%|███▏      | 318/1000 [01:50<04:10,  2.73it/s]"
     ]
    },
    {
     "name": "stdout",
     "output_type": "stream",
     "text": [
      "Double value is Nan.\n",
      "Unable to retrieve attribute 'x'\n"
     ]
    },
    {
     "name": "stderr",
     "output_type": "stream",
     "text": [
      " 32%|███▏      | 321/1000 [01:51<02:55,  3.86it/s]"
     ]
    },
    {
     "name": "stdout",
     "output_type": "stream",
     "text": [
      "Double value is Nan.\n"
     ]
    },
    {
     "name": "stderr",
     "output_type": "stream",
     "text": [
      " 32%|███▎      | 325/1000 [01:52<03:26,  3.26it/s]"
     ]
    },
    {
     "name": "stdout",
     "output_type": "stream",
     "text": [
      "Unable to retrieve attribute 'x'\n"
     ]
    },
    {
     "name": "stderr",
     "output_type": "stream",
     "text": [
      " 33%|███▎      | 328/1000 [01:53<03:23,  3.30it/s]"
     ]
    },
    {
     "name": "stdout",
     "output_type": "stream",
     "text": [
      "Unable to retrieve attribute 'x'\n"
     ]
    },
    {
     "name": "stderr",
     "output_type": "stream",
     "text": [
      " 33%|███▎      | 330/1000 [01:53<03:03,  3.65it/s]"
     ]
    },
    {
     "name": "stdout",
     "output_type": "stream",
     "text": [
      "Double value is Nan.\n"
     ]
    },
    {
     "name": "stderr",
     "output_type": "stream",
     "text": [
      " 34%|███▍      | 343/1000 [01:58<04:24,  2.49it/s]"
     ]
    },
    {
     "name": "stdout",
     "output_type": "stream",
     "text": [
      "Double value is Nan.\n"
     ]
    },
    {
     "name": "stderr",
     "output_type": "stream",
     "text": [
      " 35%|███▍      | 347/1000 [02:00<03:52,  2.81it/s]"
     ]
    },
    {
     "name": "stdout",
     "output_type": "stream",
     "text": [
      "Unable to retrieve attribute 'x'\n"
     ]
    },
    {
     "name": "stderr",
     "output_type": "stream",
     "text": [
      " 35%|███▌      | 353/1000 [02:02<04:00,  2.69it/s]"
     ]
    },
    {
     "name": "stdout",
     "output_type": "stream",
     "text": [
      "Unable to retrieve attribute 'x'\n"
     ]
    },
    {
     "name": "stderr",
     "output_type": "stream",
     "text": [
      " 37%|███▋      | 366/1000 [02:07<04:20,  2.43it/s]"
     ]
    },
    {
     "name": "stdout",
     "output_type": "stream",
     "text": [
      "Double value is Nan.\n"
     ]
    },
    {
     "name": "stderr",
     "output_type": "stream",
     "text": [
      " 37%|███▋      | 369/1000 [02:08<03:36,  2.92it/s]"
     ]
    },
    {
     "name": "stdout",
     "output_type": "stream",
     "text": [
      "Double value is Nan.\n"
     ]
    },
    {
     "name": "stderr",
     "output_type": "stream",
     "text": [
      " 38%|███▊      | 376/1000 [02:10<04:02,  2.57it/s]"
     ]
    },
    {
     "name": "stdout",
     "output_type": "stream",
     "text": [
      "Double value is Nan.\n"
     ]
    },
    {
     "name": "stderr",
     "output_type": "stream",
     "text": [
      " 38%|███▊      | 379/1000 [02:11<03:24,  3.03it/s]"
     ]
    },
    {
     "name": "stdout",
     "output_type": "stream",
     "text": [
      "Unable to retrieve attribute 'x'\n"
     ]
    },
    {
     "name": "stderr",
     "output_type": "stream",
     "text": [
      " 39%|███▉      | 391/1000 [02:15<04:04,  2.49it/s]"
     ]
    },
    {
     "name": "stdout",
     "output_type": "stream",
     "text": [
      "Double value is Nan.\n"
     ]
    },
    {
     "name": "stderr",
     "output_type": "stream",
     "text": [
      " 39%|███▉      | 393/1000 [02:16<03:18,  3.05it/s]"
     ]
    },
    {
     "name": "stdout",
     "output_type": "stream",
     "text": [
      "Unable to retrieve attribute 'x'\n"
     ]
    },
    {
     "name": "stderr",
     "output_type": "stream",
     "text": [
      " 40%|███▉      | 397/1000 [02:17<03:21,  2.99it/s]"
     ]
    },
    {
     "name": "stdout",
     "output_type": "stream",
     "text": [
      "Double value is Nan.\n",
      "Double value is Nan.\n"
     ]
    },
    {
     "name": "stderr",
     "output_type": "stream",
     "text": [
      " 40%|████      | 400/1000 [02:18<02:28,  4.03it/s]"
     ]
    },
    {
     "name": "stdout",
     "output_type": "stream",
     "text": [
      "Unable to retrieve attribute 'x'\n",
      "Double value is Nan.\n"
     ]
    },
    {
     "name": "stderr",
     "output_type": "stream",
     "text": [
      " 41%|████      | 409/1000 [02:21<03:33,  2.77it/s]"
     ]
    },
    {
     "name": "stdout",
     "output_type": "stream",
     "text": [
      "Double value is Nan.\n"
     ]
    },
    {
     "name": "stderr",
     "output_type": "stream",
     "text": [
      " 42%|████▏     | 415/1000 [02:23<03:41,  2.65it/s]"
     ]
    },
    {
     "name": "stdout",
     "output_type": "stream",
     "text": [
      "Double value is Nan.\n"
     ]
    },
    {
     "name": "stderr",
     "output_type": "stream",
     "text": [
      " 42%|████▏     | 421/1000 [02:25<03:40,  2.63it/s]"
     ]
    },
    {
     "name": "stdout",
     "output_type": "stream",
     "text": [
      "Double value is Nan.\n"
     ]
    },
    {
     "name": "stderr",
     "output_type": "stream",
     "text": [
      " 42%|████▏     | 423/1000 [02:25<03:05,  3.11it/s]"
     ]
    },
    {
     "name": "stdout",
     "output_type": "stream",
     "text": [
      "Double value is Nan.\n"
     ]
    },
    {
     "name": "stderr",
     "output_type": "stream",
     "text": [
      " 44%|████▍     | 442/1000 [02:33<03:50,  2.42it/s]"
     ]
    },
    {
     "name": "stdout",
     "output_type": "stream",
     "text": [
      "Double value is Nan.\n"
     ]
    },
    {
     "name": "stderr",
     "output_type": "stream",
     "text": [
      " 44%|████▍     | 444/1000 [02:33<03:01,  3.07it/s]"
     ]
    },
    {
     "name": "stdout",
     "output_type": "stream",
     "text": [
      "Double value is Nan.\n"
     ]
    },
    {
     "name": "stderr",
     "output_type": "stream",
     "text": [
      " 45%|████▌     | 452/1000 [02:36<03:35,  2.54it/s]"
     ]
    },
    {
     "name": "stdout",
     "output_type": "stream",
     "text": [
      "Double value is Nan.\n"
     ]
    },
    {
     "name": "stderr",
     "output_type": "stream",
     "text": [
      " 46%|████▌     | 455/1000 [02:37<03:09,  2.88it/s]"
     ]
    },
    {
     "name": "stdout",
     "output_type": "stream",
     "text": [
      "Double value is Nan.\n",
      "Unable to retrieve attribute 'x'\n"
     ]
    },
    {
     "name": "stderr",
     "output_type": "stream",
     "text": [
      " 46%|████▌     | 460/1000 [02:38<02:49,  3.18it/s]"
     ]
    },
    {
     "name": "stdout",
     "output_type": "stream",
     "text": [
      "Double value is Nan.\n"
     ]
    },
    {
     "name": "stderr",
     "output_type": "stream",
     "text": [
      " 46%|████▋     | 463/1000 [02:39<02:43,  3.28it/s]"
     ]
    },
    {
     "name": "stdout",
     "output_type": "stream",
     "text": [
      "Double value is Nan.\n"
     ]
    },
    {
     "name": "stderr",
     "output_type": "stream",
     "text": [
      " 46%|████▋     | 465/1000 [02:40<02:25,  3.69it/s]"
     ]
    },
    {
     "name": "stdout",
     "output_type": "stream",
     "text": [
      "Double value is Nan.\n"
     ]
    },
    {
     "name": "stderr",
     "output_type": "stream",
     "text": [
      " 47%|████▋     | 470/1000 [02:41<02:57,  2.98it/s]"
     ]
    },
    {
     "name": "stdout",
     "output_type": "stream",
     "text": [
      "Double value is Nan.\n"
     ]
    },
    {
     "name": "stderr",
     "output_type": "stream",
     "text": [
      " 47%|████▋     | 472/1000 [02:42<02:30,  3.51it/s]"
     ]
    },
    {
     "name": "stdout",
     "output_type": "stream",
     "text": [
      "Double value is Nan.\n"
     ]
    },
    {
     "name": "stderr",
     "output_type": "stream",
     "text": [
      " 48%|████▊     | 477/1000 [02:43<02:58,  2.94it/s]"
     ]
    },
    {
     "name": "stdout",
     "output_type": "stream",
     "text": [
      "Double value is Nan.\n"
     ]
    },
    {
     "name": "stderr",
     "output_type": "stream",
     "text": [
      " 48%|████▊     | 482/1000 [02:45<03:05,  2.79it/s]"
     ]
    },
    {
     "name": "stdout",
     "output_type": "stream",
     "text": [
      "Double value is Nan.\n"
     ]
    },
    {
     "name": "stderr",
     "output_type": "stream",
     "text": [
      " 48%|████▊     | 484/1000 [02:45<02:34,  3.34it/s]"
     ]
    },
    {
     "name": "stdout",
     "output_type": "stream",
     "text": [
      "Double value is Nan.\n"
     ]
    },
    {
     "name": "stderr",
     "output_type": "stream",
     "text": [
      " 50%|█████     | 504/1000 [02:53<03:23,  2.44it/s]"
     ]
    },
    {
     "name": "stdout",
     "output_type": "stream",
     "text": [
      "Double value is Nan.\n",
      "Double value is Nan.\n"
     ]
    },
    {
     "name": "stderr",
     "output_type": "stream",
     "text": [
      " 52%|█████▏    | 515/1000 [02:57<03:17,  2.45it/s]"
     ]
    },
    {
     "name": "stdout",
     "output_type": "stream",
     "text": [
      "Double value is Nan.\n"
     ]
    },
    {
     "name": "stderr",
     "output_type": "stream",
     "text": [
      " 52%|█████▏    | 518/1000 [02:58<02:44,  2.93it/s]"
     ]
    },
    {
     "name": "stdout",
     "output_type": "stream",
     "text": [
      "Double value is Nan.\n",
      "Double value is Nan.\n",
      "Unable to retrieve attribute 'x'\n"
     ]
    },
    {
     "name": "stderr",
     "output_type": "stream",
     "text": [
      " 52%|█████▏    | 524/1000 [02:59<02:11,  3.62it/s]"
     ]
    },
    {
     "name": "stdout",
     "output_type": "stream",
     "text": [
      "Double value is Nan.\n"
     ]
    },
    {
     "name": "stderr",
     "output_type": "stream",
     "text": [
      " 53%|█████▎    | 527/1000 [03:00<02:16,  3.48it/s]"
     ]
    },
    {
     "name": "stdout",
     "output_type": "stream",
     "text": [
      "Double value is Nan.\n"
     ]
    },
    {
     "name": "stderr",
     "output_type": "stream",
     "text": [
      " 53%|█████▎    | 529/1000 [03:01<02:04,  3.78it/s]"
     ]
    },
    {
     "name": "stdout",
     "output_type": "stream",
     "text": [
      "Double value is Nan.\n"
     ]
    },
    {
     "name": "stderr",
     "output_type": "stream",
     "text": [
      " 54%|█████▎    | 537/1000 [03:03<02:58,  2.60it/s]"
     ]
    },
    {
     "name": "stdout",
     "output_type": "stream",
     "text": [
      "Double value is Nan.\n"
     ]
    },
    {
     "name": "stderr",
     "output_type": "stream",
     "text": [
      " 55%|█████▍    | 549/1000 [03:08<03:03,  2.45it/s]"
     ]
    },
    {
     "name": "stdout",
     "output_type": "stream",
     "text": [
      "Double value is Nan.\n",
      "Double value is Nan.\n"
     ]
    },
    {
     "name": "stderr",
     "output_type": "stream",
     "text": [
      " 56%|█████▌    | 558/1000 [03:11<02:47,  2.64it/s]"
     ]
    },
    {
     "name": "stdout",
     "output_type": "stream",
     "text": [
      "Double value is Nan.\n",
      "Unable to retrieve attribute 'x'\n"
     ]
    },
    {
     "name": "stderr",
     "output_type": "stream",
     "text": [
      " 56%|█████▌    | 561/1000 [03:11<01:55,  3.80it/s]"
     ]
    },
    {
     "name": "stdout",
     "output_type": "stream",
     "text": [
      "Double value is Nan.\n"
     ]
    },
    {
     "name": "stderr",
     "output_type": "stream",
     "text": [
      " 57%|█████▋    | 574/1000 [03:16<02:56,  2.41it/s]"
     ]
    },
    {
     "name": "stdout",
     "output_type": "stream",
     "text": [
      "Double value is Nan.\n"
     ]
    },
    {
     "name": "stderr",
     "output_type": "stream",
     "text": [
      " 58%|█████▊    | 577/1000 [03:17<02:29,  2.83it/s]"
     ]
    },
    {
     "name": "stdout",
     "output_type": "stream",
     "text": [
      "Unable to retrieve attribute 'x'\n"
     ]
    },
    {
     "name": "stderr",
     "output_type": "stream",
     "text": [
      " 60%|██████    | 600/1000 [03:27<03:05,  2.15it/s]"
     ]
    },
    {
     "name": "stdout",
     "output_type": "stream",
     "text": [
      "Double value is Nan.\n"
     ]
    },
    {
     "name": "stderr",
     "output_type": "stream",
     "text": [
      " 60%|██████    | 602/1000 [03:27<02:18,  2.87it/s]"
     ]
    },
    {
     "name": "stdout",
     "output_type": "stream",
     "text": [
      "Unable to retrieve attribute 'x'\n"
     ]
    },
    {
     "name": "stderr",
     "output_type": "stream",
     "text": [
      " 61%|██████    | 606/1000 [03:28<02:12,  2.97it/s]"
     ]
    },
    {
     "name": "stdout",
     "output_type": "stream",
     "text": [
      "Unable to retrieve attribute 'x'\n"
     ]
    },
    {
     "name": "stderr",
     "output_type": "stream",
     "text": [
      " 61%|██████    | 609/1000 [03:29<02:03,  3.18it/s]"
     ]
    },
    {
     "name": "stdout",
     "output_type": "stream",
     "text": [
      "Double value is Nan.\n"
     ]
    },
    {
     "name": "stderr",
     "output_type": "stream",
     "text": [
      " 61%|██████    | 611/1000 [03:30<01:47,  3.61it/s]"
     ]
    },
    {
     "name": "stdout",
     "output_type": "stream",
     "text": [
      "Double value is Nan.\n",
      "Double value is Nan.\n"
     ]
    },
    {
     "name": "stderr",
     "output_type": "stream",
     "text": [
      " 62%|██████▏   | 615/1000 [03:30<01:37,  3.95it/s]"
     ]
    },
    {
     "name": "stdout",
     "output_type": "stream",
     "text": [
      "Unable to retrieve attribute 'x'\n"
     ]
    },
    {
     "name": "stderr",
     "output_type": "stream",
     "text": [
      " 62%|██████▏   | 621/1000 [03:33<02:13,  2.83it/s]"
     ]
    },
    {
     "name": "stdout",
     "output_type": "stream",
     "text": [
      "Double value is Nan.\n"
     ]
    },
    {
     "name": "stderr",
     "output_type": "stream",
     "text": [
      " 62%|██████▏   | 624/1000 [03:33<02:00,  3.12it/s]"
     ]
    },
    {
     "name": "stdout",
     "output_type": "stream",
     "text": [
      "Unable to retrieve attribute 'x'\n"
     ]
    },
    {
     "name": "stderr",
     "output_type": "stream",
     "text": [
      " 63%|██████▎   | 631/1000 [03:36<02:18,  2.67it/s]"
     ]
    },
    {
     "name": "stdout",
     "output_type": "stream",
     "text": [
      "Double value is Nan.\n",
      "Double value is Nan.\n",
      "Double value is Nan.\n"
     ]
    },
    {
     "name": "stderr",
     "output_type": "stream",
     "text": [
      " 64%|██████▍   | 641/1000 [03:39<02:12,  2.71it/s]"
     ]
    },
    {
     "name": "stdout",
     "output_type": "stream",
     "text": [
      "Double value is Nan.\n",
      "Double value is Nan.\n"
     ]
    },
    {
     "name": "stderr",
     "output_type": "stream",
     "text": [
      " 65%|██████▌   | 652/1000 [03:43<02:16,  2.54it/s]"
     ]
    },
    {
     "name": "stdout",
     "output_type": "stream",
     "text": [
      "Double value is Nan.\n"
     ]
    },
    {
     "name": "stderr",
     "output_type": "stream",
     "text": [
      " 65%|██████▌   | 654/1000 [03:43<01:47,  3.23it/s]"
     ]
    },
    {
     "name": "stdout",
     "output_type": "stream",
     "text": [
      "Unable to retrieve attribute 'x'\n",
      "Double value is Nan.\n"
     ]
    },
    {
     "name": "stderr",
     "output_type": "stream",
     "text": [
      " 66%|██████▌   | 661/1000 [04:14<30:20,  5.37s/it]"
     ]
    },
    {
     "name": "stdout",
     "output_type": "stream",
     "text": [
      "Unable to retrieve attribute 'x'\n"
     ]
    },
    {
     "name": "stderr",
     "output_type": "stream",
     "text": [
      " 68%|██████▊   | 679/1000 [04:21<02:23,  2.24it/s]"
     ]
    },
    {
     "name": "stdout",
     "output_type": "stream",
     "text": [
      "Unable to retrieve attribute 'x'\n"
     ]
    },
    {
     "name": "stderr",
     "output_type": "stream",
     "text": [
      " 69%|██████▉   | 691/1000 [04:26<02:10,  2.38it/s]"
     ]
    },
    {
     "name": "stdout",
     "output_type": "stream",
     "text": [
      "Unable to retrieve attribute 'x'\n"
     ]
    },
    {
     "name": "stderr",
     "output_type": "stream",
     "text": [
      " 70%|██████▉   | 695/1000 [04:27<01:51,  2.74it/s]"
     ]
    },
    {
     "name": "stdout",
     "output_type": "stream",
     "text": [
      "Unable to retrieve attribute 'x'\n"
     ]
    },
    {
     "name": "stderr",
     "output_type": "stream",
     "text": [
      " 70%|██████▉   | 697/1000 [04:28<01:31,  3.31it/s]"
     ]
    },
    {
     "name": "stdout",
     "output_type": "stream",
     "text": [
      "Unable to retrieve attribute 'x'\n"
     ]
    },
    {
     "name": "stderr",
     "output_type": "stream",
     "text": [
      " 70%|███████   | 701/1000 [04:29<01:37,  3.06it/s]"
     ]
    },
    {
     "name": "stdout",
     "output_type": "stream",
     "text": [
      "Double value is Nan.\n"
     ]
    },
    {
     "name": "stderr",
     "output_type": "stream",
     "text": [
      " 70%|███████   | 705/1000 [04:30<01:40,  2.94it/s]"
     ]
    },
    {
     "name": "stdout",
     "output_type": "stream",
     "text": [
      "Unable to retrieve attribute 'x'\n"
     ]
    },
    {
     "name": "stderr",
     "output_type": "stream",
     "text": [
      " 71%|███████   | 707/1000 [04:31<01:25,  3.45it/s]"
     ]
    },
    {
     "name": "stdout",
     "output_type": "stream",
     "text": [
      "Double value is Nan.\n",
      "Double value is Nan.\n"
     ]
    },
    {
     "name": "stderr",
     "output_type": "stream",
     "text": [
      " 71%|███████   | 710/1000 [04:31<01:06,  4.39it/s]"
     ]
    },
    {
     "name": "stdout",
     "output_type": "stream",
     "text": [
      "Double value is Nan.\n",
      "Unable to retrieve attribute 'x'\n"
     ]
    },
    {
     "name": "stderr",
     "output_type": "stream",
     "text": [
      " 71%|███████▏  | 714/1000 [04:32<01:07,  4.23it/s]"
     ]
    },
    {
     "name": "stdout",
     "output_type": "stream",
     "text": [
      "Double value is Nan.\n"
     ]
    },
    {
     "name": "stderr",
     "output_type": "stream",
     "text": [
      " 74%|███████▍  | 738/1000 [04:42<01:56,  2.25it/s]"
     ]
    },
    {
     "name": "stdout",
     "output_type": "stream",
     "text": [
      "Double value is Nan.\n",
      "Double value is Nan.\n"
     ]
    },
    {
     "name": "stderr",
     "output_type": "stream",
     "text": [
      " 74%|███████▍  | 742/1000 [04:43<01:25,  3.03it/s]"
     ]
    },
    {
     "name": "stdout",
     "output_type": "stream",
     "text": [
      "Double value is Nan.\n"
     ]
    },
    {
     "name": "stderr",
     "output_type": "stream",
     "text": [
      " 74%|███████▍  | 744/1000 [04:44<01:15,  3.41it/s]"
     ]
    },
    {
     "name": "stdout",
     "output_type": "stream",
     "text": [
      "Unable to retrieve attribute 'x'\n"
     ]
    },
    {
     "name": "stderr",
     "output_type": "stream",
     "text": [
      " 75%|███████▌  | 750/1000 [04:46<01:43,  2.42it/s]"
     ]
    },
    {
     "name": "stdout",
     "output_type": "stream",
     "text": [
      "Double value is Nan.\n"
     ]
    },
    {
     "name": "stderr",
     "output_type": "stream",
     "text": [
      " 76%|███████▌  | 757/1000 [04:49<01:36,  2.51it/s]"
     ]
    },
    {
     "name": "stdout",
     "output_type": "stream",
     "text": [
      "Unable to retrieve attribute 'x'\n"
     ]
    },
    {
     "name": "stderr",
     "output_type": "stream",
     "text": [
      " 76%|███████▋  | 764/1000 [04:52<01:34,  2.50it/s]"
     ]
    },
    {
     "name": "stdout",
     "output_type": "stream",
     "text": [
      "Unable to retrieve attribute 'x'\n"
     ]
    },
    {
     "name": "stderr",
     "output_type": "stream",
     "text": [
      " 77%|███████▋  | 771/1000 [04:54<01:32,  2.48it/s]"
     ]
    },
    {
     "name": "stdout",
     "output_type": "stream",
     "text": [
      "Double value is Nan.\n"
     ]
    },
    {
     "name": "stderr",
     "output_type": "stream",
     "text": [
      " 77%|███████▋  | 773/1000 [04:55<01:12,  3.11it/s]"
     ]
    },
    {
     "name": "stdout",
     "output_type": "stream",
     "text": [
      "Unable to retrieve attribute 'x'\n"
     ]
    },
    {
     "name": "stderr",
     "output_type": "stream",
     "text": [
      " 78%|███████▊  | 781/1000 [04:58<01:26,  2.52it/s]"
     ]
    },
    {
     "name": "stdout",
     "output_type": "stream",
     "text": [
      "Double value is Nan.\n"
     ]
    },
    {
     "name": "stderr",
     "output_type": "stream",
     "text": [
      " 79%|███████▉  | 789/1000 [05:01<01:25,  2.47it/s]"
     ]
    },
    {
     "name": "stdout",
     "output_type": "stream",
     "text": [
      "Unable to retrieve attribute 'x'\n"
     ]
    },
    {
     "name": "stderr",
     "output_type": "stream",
     "text": [
      " 81%|████████  | 810/1000 [05:09<01:17,  2.44it/s]"
     ]
    },
    {
     "name": "stdout",
     "output_type": "stream",
     "text": [
      "Unable to retrieve attribute 'x'\n"
     ]
    },
    {
     "name": "stderr",
     "output_type": "stream",
     "text": [
      " 81%|████████▏ | 813/1000 [05:10<01:04,  2.91it/s]"
     ]
    },
    {
     "name": "stdout",
     "output_type": "stream",
     "text": [
      "Unable to retrieve attribute 'x'\n"
     ]
    },
    {
     "name": "stderr",
     "output_type": "stream",
     "text": [
      " 82%|████████▏ | 816/1000 [05:11<01:00,  3.02it/s]"
     ]
    },
    {
     "name": "stdout",
     "output_type": "stream",
     "text": [
      "Double value is Nan.\n"
     ]
    },
    {
     "name": "stderr",
     "output_type": "stream",
     "text": [
      " 82%|████████▏ | 819/1000 [05:12<00:57,  3.14it/s]"
     ]
    },
    {
     "name": "stdout",
     "output_type": "stream",
     "text": [
      "Double value is Nan.\n",
      "Double value is Nan.\n"
     ]
    },
    {
     "name": "stderr",
     "output_type": "stream",
     "text": [
      " 82%|████████▎ | 825/1000 [05:14<00:59,  2.94it/s]"
     ]
    },
    {
     "name": "stdout",
     "output_type": "stream",
     "text": [
      "Unable to retrieve attribute 'x'\n",
      "Double value is Nan.\n"
     ]
    },
    {
     "name": "stderr",
     "output_type": "stream",
     "text": [
      " 83%|████████▎ | 832/1000 [05:16<01:00,  2.79it/s]"
     ]
    },
    {
     "name": "stdout",
     "output_type": "stream",
     "text": [
      "Double value is Nan.\n"
     ]
    },
    {
     "name": "stderr",
     "output_type": "stream",
     "text": [
      " 84%|████████▎ | 837/1000 [05:17<01:00,  2.68it/s]"
     ]
    },
    {
     "name": "stdout",
     "output_type": "stream",
     "text": [
      "Double value is Nan.\n"
     ]
    },
    {
     "name": "stderr",
     "output_type": "stream",
     "text": [
      " 84%|████████▍ | 839/1000 [05:18<00:49,  3.22it/s]"
     ]
    },
    {
     "name": "stdout",
     "output_type": "stream",
     "text": [
      "Double value is Nan.\n",
      "Double value is Nan.\n"
     ]
    },
    {
     "name": "stderr",
     "output_type": "stream",
     "text": [
      " 85%|████████▌ | 852/1000 [05:23<00:59,  2.48it/s]"
     ]
    },
    {
     "name": "stdout",
     "output_type": "stream",
     "text": [
      "Double value is Nan.\n"
     ]
    },
    {
     "name": "stderr",
     "output_type": "stream",
     "text": [
      " 86%|████████▌ | 855/1000 [05:23<00:49,  2.91it/s]"
     ]
    },
    {
     "name": "stdout",
     "output_type": "stream",
     "text": [
      "Double value is Nan.\n"
     ]
    },
    {
     "name": "stderr",
     "output_type": "stream",
     "text": [
      " 86%|████████▌ | 857/1000 [05:24<00:42,  3.38it/s]"
     ]
    },
    {
     "name": "stdout",
     "output_type": "stream",
     "text": [
      "Unable to retrieve attribute 'x'\n"
     ]
    },
    {
     "name": "stderr",
     "output_type": "stream",
     "text": [
      " 87%|████████▋ | 869/1000 [05:29<00:53,  2.44it/s]"
     ]
    },
    {
     "name": "stdout",
     "output_type": "stream",
     "text": [
      "Unable to retrieve attribute 'x'\n"
     ]
    },
    {
     "name": "stderr",
     "output_type": "stream",
     "text": [
      " 88%|████████▊ | 880/1000 [05:33<00:48,  2.47it/s]"
     ]
    },
    {
     "name": "stdout",
     "output_type": "stream",
     "text": [
      "Double value is Nan.\n"
     ]
    },
    {
     "name": "stderr",
     "output_type": "stream",
     "text": [
      " 88%|████████▊ | 882/1000 [05:33<00:37,  3.12it/s]"
     ]
    },
    {
     "name": "stdout",
     "output_type": "stream",
     "text": [
      "Double value is Nan.\n"
     ]
    },
    {
     "name": "stderr",
     "output_type": "stream",
     "text": [
      " 89%|████████▊ | 886/1000 [05:34<00:38,  2.96it/s]"
     ]
    },
    {
     "name": "stdout",
     "output_type": "stream",
     "text": [
      "Unable to retrieve attribute 'x'\n"
     ]
    },
    {
     "name": "stderr",
     "output_type": "stream",
     "text": [
      " 89%|████████▉ | 891/1000 [05:36<00:40,  2.70it/s]"
     ]
    },
    {
     "name": "stdout",
     "output_type": "stream",
     "text": [
      "Unable to retrieve attribute 'x'\n"
     ]
    },
    {
     "name": "stderr",
     "output_type": "stream",
     "text": [
      " 90%|█████████ | 903/1000 [05:41<00:40,  2.38it/s]"
     ]
    },
    {
     "name": "stdout",
     "output_type": "stream",
     "text": [
      "Double value is Nan.\n"
     ]
    },
    {
     "name": "stderr",
     "output_type": "stream",
     "text": [
      " 91%|█████████ | 906/1000 [05:42<00:33,  2.84it/s]"
     ]
    },
    {
     "name": "stdout",
     "output_type": "stream",
     "text": [
      "Double value is Nan.\n"
     ]
    },
    {
     "name": "stderr",
     "output_type": "stream",
     "text": [
      " 92%|█████████▏| 920/1000 [05:47<00:32,  2.44it/s]"
     ]
    },
    {
     "name": "stdout",
     "output_type": "stream",
     "text": [
      "Double value is Nan.\n"
     ]
    },
    {
     "name": "stderr",
     "output_type": "stream",
     "text": [
      " 92%|█████████▏| 922/1000 [05:48<00:25,  3.08it/s]"
     ]
    },
    {
     "name": "stdout",
     "output_type": "stream",
     "text": [
      "Unable to retrieve attribute 'x'\n"
     ]
    },
    {
     "name": "stderr",
     "output_type": "stream",
     "text": [
      " 93%|█████████▎| 926/1000 [05:49<00:24,  2.96it/s]"
     ]
    },
    {
     "name": "stdout",
     "output_type": "stream",
     "text": [
      "Unable to retrieve attribute 'x'\n"
     ]
    },
    {
     "name": "stderr",
     "output_type": "stream",
     "text": [
      " 93%|█████████▎| 928/1000 [05:49<00:21,  3.40it/s]"
     ]
    },
    {
     "name": "stdout",
     "output_type": "stream",
     "text": [
      "Double value is Nan.\n"
     ]
    },
    {
     "name": "stderr",
     "output_type": "stream",
     "text": [
      " 93%|█████████▎| 932/1000 [05:51<00:22,  2.97it/s]"
     ]
    },
    {
     "name": "stdout",
     "output_type": "stream",
     "text": [
      "Unable to retrieve attribute 'x'\n"
     ]
    },
    {
     "name": "stderr",
     "output_type": "stream",
     "text": [
      " 94%|█████████▍| 945/1000 [05:56<00:22,  2.48it/s]"
     ]
    },
    {
     "name": "stdout",
     "output_type": "stream",
     "text": [
      "Unable to retrieve attribute 'x'\n"
     ]
    },
    {
     "name": "stderr",
     "output_type": "stream",
     "text": [
      " 95%|█████████▌| 954/1000 [05:59<00:18,  2.49it/s]"
     ]
    },
    {
     "name": "stdout",
     "output_type": "stream",
     "text": [
      "Double value is Nan.\n"
     ]
    },
    {
     "name": "stderr",
     "output_type": "stream",
     "text": [
      " 96%|█████████▌| 959/1000 [06:01<00:15,  2.64it/s]"
     ]
    },
    {
     "name": "stdout",
     "output_type": "stream",
     "text": [
      "Unable to retrieve attribute 'x'\n"
     ]
    },
    {
     "name": "stderr",
     "output_type": "stream",
     "text": [
      " 96%|█████████▌| 961/1000 [06:01<00:12,  3.17it/s]"
     ]
    },
    {
     "name": "stdout",
     "output_type": "stream",
     "text": [
      "Double value is Nan.\n"
     ]
    },
    {
     "name": "stderr",
     "output_type": "stream",
     "text": [
      " 97%|█████████▋| 973/1000 [06:06<00:10,  2.48it/s]"
     ]
    },
    {
     "name": "stdout",
     "output_type": "stream",
     "text": [
      "Double value is Nan.\n"
     ]
    },
    {
     "name": "stderr",
     "output_type": "stream",
     "text": [
      "100%|█████████▉| 997/1000 [06:15<00:01,  2.42it/s]"
     ]
    },
    {
     "name": "stdout",
     "output_type": "stream",
     "text": [
      "Unable to retrieve attribute 'x'\n",
      "Double value is Nan.\n"
     ]
    },
    {
     "name": "stderr",
     "output_type": "stream",
     "text": [
      "100%|██████████| 1000/1000 [06:16<00:00,  2.66it/s]\n"
     ]
    }
   ],
   "source": [
    "simulations = 1000\n",
    "rng = np.random.default_rng()\n",
    "budget_vec = rng.integers(low=1000, high=10000, size=simulations)\n",
    "start_dt_vec = np.random.choice(data_pivot.index[:-30], size=simulations, replace=True)\n",
    "col_names = [\"portf_val\", \"final_portf\", \"cash\", \"init_budget\"]\n",
    "# df_naive = pd.DataFrame(columns = )\n",
    "# df_multi = pd.DataFrame(columns = [\"portf_val\", \"final_portf\", \"cash\"])\n",
    "naive_list = list()\n",
    "multi_list = list()\n",
    "\n",
    "# Could parallelize this but fuck it\n",
    "for i, budget in enumerate(tqdm(budget_vec)):\n",
    "    try:\n",
    "        stock_price_window = get_prices_window(start_dt_vec[i])\n",
    "        P_0, P_t, w_0, initial_prices, final_prices = generate_portfolios(stock_prices = stock_price_window, init_budget=budget)\n",
    "        final_portfolio_value, final_portfolio, free_cash = get_naive_opt(P_0, P_t, w_0, budget, initial_prices, final_prices)\n",
    "        naive_list.append(pd.Series([final_portfolio_value, final_portfolio, free_cash, budget], index = col_names))\n",
    "        final_portfolio_value, final_portfolio, free_cash = get_multi_stage_opt(P_0, P_t, w_0, budget, stock_price_window)\n",
    "        multi_list.append(pd.Series([final_portfolio_value, final_portfolio, free_cash, budget], index = col_names))\n",
    "    except Exception as e:\n",
    "        print(e)\n",
    "\n",
    "df_naive = pd.concat(naive_list, axis=1).T\n",
    "df_multi = pd.concat(multi_list, axis=1).T"
   ]
  },
  {
   "cell_type": "code",
   "execution_count": 63,
   "metadata": {},
   "outputs": [
    {
     "data": {
      "text/html": [
       "<div>\n",
       "<style scoped>\n",
       "    .dataframe tbody tr th:only-of-type {\n",
       "        vertical-align: middle;\n",
       "    }\n",
       "\n",
       "    .dataframe tbody tr th {\n",
       "        vertical-align: top;\n",
       "    }\n",
       "\n",
       "    .dataframe thead th {\n",
       "        text-align: right;\n",
       "    }\n",
       "</style>\n",
       "<table border=\"1\" class=\"dataframe\">\n",
       "  <thead>\n",
       "    <tr style=\"text-align: right;\">\n",
       "      <th></th>\n",
       "      <th>portf_val</th>\n",
       "      <th>final_portf</th>\n",
       "      <th>cash</th>\n",
       "      <th>init_budget</th>\n",
       "    </tr>\n",
       "  </thead>\n",
       "  <tbody>\n",
       "    <tr>\n",
       "      <th>0</th>\n",
       "      <td>8797.600151</td>\n",
       "      <td>[9.0, 9.0, 4.0, 8.0, 10.0, 9.0, 7.0, 8.0, 24.0...</td>\n",
       "      <td>10.079998</td>\n",
       "      <td>9116</td>\n",
       "    </tr>\n",
       "    <tr>\n",
       "      <th>1</th>\n",
       "      <td>9240.049903</td>\n",
       "      <td>[7.0, 10.0, 11.0, 13.0, 1.0, 5.0, 17.0, 8.0, 9...</td>\n",
       "      <td>1.159797</td>\n",
       "      <td>7717</td>\n",
       "    </tr>\n",
       "    <tr>\n",
       "      <th>2</th>\n",
       "      <td>2668.069988</td>\n",
       "      <td>[1.0, 4.0, 3.0, 2.0, 2.0, 7.0, 3.0, 0.0, 2.0, ...</td>\n",
       "      <td>5.689983</td>\n",
       "      <td>2557</td>\n",
       "    </tr>\n",
       "    <tr>\n",
       "      <th>3</th>\n",
       "      <td>5448.549982</td>\n",
       "      <td>[6.0, 9.0, 1.0, 5.0, 5.0, 3.0, 3.0, 3.0, 3.0, ...</td>\n",
       "      <td>1.81991</td>\n",
       "      <td>4768</td>\n",
       "    </tr>\n",
       "    <tr>\n",
       "      <th>4</th>\n",
       "      <td>3469.855116</td>\n",
       "      <td>[5.0, 5.0, 1.0, 3.0, 6.0, 4.0, 5.0, 2.0, 5.0, ...</td>\n",
       "      <td>4.44508</td>\n",
       "      <td>2865</td>\n",
       "    </tr>\n",
       "    <tr>\n",
       "      <th>...</th>\n",
       "      <td>...</td>\n",
       "      <td>...</td>\n",
       "      <td>...</td>\n",
       "      <td>...</td>\n",
       "    </tr>\n",
       "    <tr>\n",
       "      <th>815</th>\n",
       "      <td>9400.520027</td>\n",
       "      <td>[9.0, 4.0, 5.0, 7.0, 8.0, 8.0, 8.0, 45.0, 8.0,...</td>\n",
       "      <td>5.570091</td>\n",
       "      <td>8684</td>\n",
       "    </tr>\n",
       "    <tr>\n",
       "      <th>816</th>\n",
       "      <td>8503.409992</td>\n",
       "      <td>[10.0, 19.0, 7.0, 2.0, 5.0, 7.0, 4.0, 3.0, 4.0...</td>\n",
       "      <td>14.480099</td>\n",
       "      <td>7731</td>\n",
       "    </tr>\n",
       "    <tr>\n",
       "      <th>817</th>\n",
       "      <td>9198.510035</td>\n",
       "      <td>[4.0, 18.0, 9.0, 8.0, 9.0, 7.0, 11.0, 7.0, 9.0...</td>\n",
       "      <td>16.690046</td>\n",
       "      <td>9528</td>\n",
       "    </tr>\n",
       "    <tr>\n",
       "      <th>818</th>\n",
       "      <td>3019.34998</td>\n",
       "      <td>[1.0, 4.0, 4.0, 3.0, 4.0, 5.0, 2.0, 22.0, 6.0,...</td>\n",
       "      <td>6.839972</td>\n",
       "      <td>2761</td>\n",
       "    </tr>\n",
       "    <tr>\n",
       "      <th>819</th>\n",
       "      <td>4773.977631</td>\n",
       "      <td>[8.0, 2.0, 1.0, 2.0, 3.0, 4.0, 9.0, 4.0, 3.0, ...</td>\n",
       "      <td>1.500025</td>\n",
       "      <td>3980</td>\n",
       "    </tr>\n",
       "  </tbody>\n",
       "</table>\n",
       "<p>820 rows × 4 columns</p>\n",
       "</div>"
      ],
      "text/plain": [
       "       portf_val                                        final_portf  \\\n",
       "0    8797.600151  [9.0, 9.0, 4.0, 8.0, 10.0, 9.0, 7.0, 8.0, 24.0...   \n",
       "1    9240.049903  [7.0, 10.0, 11.0, 13.0, 1.0, 5.0, 17.0, 8.0, 9...   \n",
       "2    2668.069988  [1.0, 4.0, 3.0, 2.0, 2.0, 7.0, 3.0, 0.0, 2.0, ...   \n",
       "3    5448.549982  [6.0, 9.0, 1.0, 5.0, 5.0, 3.0, 3.0, 3.0, 3.0, ...   \n",
       "4    3469.855116  [5.0, 5.0, 1.0, 3.0, 6.0, 4.0, 5.0, 2.0, 5.0, ...   \n",
       "..           ...                                                ...   \n",
       "815  9400.520027  [9.0, 4.0, 5.0, 7.0, 8.0, 8.0, 8.0, 45.0, 8.0,...   \n",
       "816  8503.409992  [10.0, 19.0, 7.0, 2.0, 5.0, 7.0, 4.0, 3.0, 4.0...   \n",
       "817  9198.510035  [4.0, 18.0, 9.0, 8.0, 9.0, 7.0, 11.0, 7.0, 9.0...   \n",
       "818   3019.34998  [1.0, 4.0, 4.0, 3.0, 4.0, 5.0, 2.0, 22.0, 6.0,...   \n",
       "819  4773.977631  [8.0, 2.0, 1.0, 2.0, 3.0, 4.0, 9.0, 4.0, 3.0, ...   \n",
       "\n",
       "          cash init_budget  \n",
       "0    10.079998        9116  \n",
       "1     1.159797        7717  \n",
       "2     5.689983        2557  \n",
       "3      1.81991        4768  \n",
       "4      4.44508        2865  \n",
       "..         ...         ...  \n",
       "815   5.570091        8684  \n",
       "816  14.480099        7731  \n",
       "817  16.690046        9528  \n",
       "818   6.839972        2761  \n",
       "819   1.500025        3980  \n",
       "\n",
       "[820 rows x 4 columns]"
      ]
     },
     "execution_count": 63,
     "metadata": {},
     "output_type": "execute_result"
    }
   ],
   "source": [
    "df_naive"
   ]
  },
  {
   "cell_type": "code",
   "execution_count": 64,
   "metadata": {},
   "outputs": [
    {
     "data": {
      "text/html": [
       "<div>\n",
       "<style scoped>\n",
       "    .dataframe tbody tr th:only-of-type {\n",
       "        vertical-align: middle;\n",
       "    }\n",
       "\n",
       "    .dataframe tbody tr th {\n",
       "        vertical-align: top;\n",
       "    }\n",
       "\n",
       "    .dataframe thead th {\n",
       "        text-align: right;\n",
       "    }\n",
       "</style>\n",
       "<table border=\"1\" class=\"dataframe\">\n",
       "  <thead>\n",
       "    <tr style=\"text-align: right;\">\n",
       "      <th></th>\n",
       "      <th>portf_val</th>\n",
       "      <th>final_portf</th>\n",
       "      <th>cash</th>\n",
       "      <th>init_budget</th>\n",
       "    </tr>\n",
       "  </thead>\n",
       "  <tbody>\n",
       "    <tr>\n",
       "      <th>0</th>\n",
       "      <td>8843.480175</td>\n",
       "      <td>[9.0, 9.0, 4.0, 8.0, 10.0, 9.0, 7.0, 8.0, 8.0,...</td>\n",
       "      <td>663.3200073242177</td>\n",
       "      <td>9116</td>\n",
       "    </tr>\n",
       "    <tr>\n",
       "      <th>1</th>\n",
       "      <td>9394.099928</td>\n",
       "      <td>[7.0, 9.0, 11.0, 12.0, 1.0, 5.0, 7.0, 8.0, 9.0...</td>\n",
       "      <td>2462.2798671722408</td>\n",
       "      <td>7717</td>\n",
       "    </tr>\n",
       "    <tr>\n",
       "      <th>2</th>\n",
       "      <td>2685.209982</td>\n",
       "      <td>[1.0, 4.0, 3.0, 2.0, 2.0, 7.0, 3.0, 0.0, 2.0, ...</td>\n",
       "      <td>504.49997329711925</td>\n",
       "      <td>2557</td>\n",
       "    </tr>\n",
       "    <tr>\n",
       "      <th>3</th>\n",
       "      <td>5637.909922</td>\n",
       "      <td>[6.0, 9.0, 1.0, 5.0, 5.0, 3.0, 3.0, 3.0, 3.0, ...</td>\n",
       "      <td>1403.659860610962</td>\n",
       "      <td>4768</td>\n",
       "    </tr>\n",
       "    <tr>\n",
       "      <th>4</th>\n",
       "      <td>3580.315096</td>\n",
       "      <td>[5.0, 5.0, 1.0, 3.0, 6.0, 4.0, 1.0, 2.0, 5.0, ...</td>\n",
       "      <td>1030.0850449550144</td>\n",
       "      <td>2865</td>\n",
       "    </tr>\n",
       "    <tr>\n",
       "      <th>...</th>\n",
       "      <td>...</td>\n",
       "      <td>...</td>\n",
       "      <td>...</td>\n",
       "      <td>...</td>\n",
       "    </tr>\n",
       "    <tr>\n",
       "      <th>815</th>\n",
       "      <td>9539.630186</td>\n",
       "      <td>[9.0, 4.0, 5.0, 7.0, 8.0, 8.0, 8.0, 7.0, 8.0, ...</td>\n",
       "      <td>1716.740209579467</td>\n",
       "      <td>8684</td>\n",
       "    </tr>\n",
       "    <tr>\n",
       "      <th>816</th>\n",
       "      <td>8503.979992</td>\n",
       "      <td>[10.0, 3.0, 7.0, 2.0, 5.0, 7.0, 4.0, 3.0, 4.0,...</td>\n",
       "      <td>1560.800064086914</td>\n",
       "      <td>7731</td>\n",
       "    </tr>\n",
       "    <tr>\n",
       "      <th>817</th>\n",
       "      <td>9272.650084</td>\n",
       "      <td>[4.0, 12.0, 9.0, 8.0, 9.0, 7.0, 11.0, 5.0, 9.0...</td>\n",
       "      <td>767.970071792603</td>\n",
       "      <td>9528</td>\n",
       "    </tr>\n",
       "    <tr>\n",
       "      <th>818</th>\n",
       "      <td>3019.349981</td>\n",
       "      <td>[1.0, 4.0, 4.0, 3.0, 4.0, 5.0, 2.0, 22.0, 6.0,...</td>\n",
       "      <td>6.839972482288049</td>\n",
       "      <td>2761</td>\n",
       "    </tr>\n",
       "    <tr>\n",
       "      <th>819</th>\n",
       "      <td>4792.628384</td>\n",
       "      <td>[3.0, 2.0, 1.0, 2.0, 3.0, 4.0, 9.0, 4.0, 2.0, ...</td>\n",
       "      <td>1232.440013885498</td>\n",
       "      <td>3980</td>\n",
       "    </tr>\n",
       "  </tbody>\n",
       "</table>\n",
       "<p>820 rows × 4 columns</p>\n",
       "</div>"
      ],
      "text/plain": [
       "       portf_val                                        final_portf  \\\n",
       "0    8843.480175  [9.0, 9.0, 4.0, 8.0, 10.0, 9.0, 7.0, 8.0, 8.0,...   \n",
       "1    9394.099928  [7.0, 9.0, 11.0, 12.0, 1.0, 5.0, 7.0, 8.0, 9.0...   \n",
       "2    2685.209982  [1.0, 4.0, 3.0, 2.0, 2.0, 7.0, 3.0, 0.0, 2.0, ...   \n",
       "3    5637.909922  [6.0, 9.0, 1.0, 5.0, 5.0, 3.0, 3.0, 3.0, 3.0, ...   \n",
       "4    3580.315096  [5.0, 5.0, 1.0, 3.0, 6.0, 4.0, 1.0, 2.0, 5.0, ...   \n",
       "..           ...                                                ...   \n",
       "815  9539.630186  [9.0, 4.0, 5.0, 7.0, 8.0, 8.0, 8.0, 7.0, 8.0, ...   \n",
       "816  8503.979992  [10.0, 3.0, 7.0, 2.0, 5.0, 7.0, 4.0, 3.0, 4.0,...   \n",
       "817  9272.650084  [4.0, 12.0, 9.0, 8.0, 9.0, 7.0, 11.0, 5.0, 9.0...   \n",
       "818  3019.349981  [1.0, 4.0, 4.0, 3.0, 4.0, 5.0, 2.0, 22.0, 6.0,...   \n",
       "819  4792.628384  [3.0, 2.0, 1.0, 2.0, 3.0, 4.0, 9.0, 4.0, 2.0, ...   \n",
       "\n",
       "                   cash init_budget  \n",
       "0     663.3200073242177        9116  \n",
       "1    2462.2798671722408        7717  \n",
       "2    504.49997329711925        2557  \n",
       "3     1403.659860610962        4768  \n",
       "4    1030.0850449550144        2865  \n",
       "..                  ...         ...  \n",
       "815   1716.740209579467        8684  \n",
       "816   1560.800064086914        7731  \n",
       "817    767.970071792603        9528  \n",
       "818   6.839972482288049        2761  \n",
       "819   1232.440013885498        3980  \n",
       "\n",
       "[820 rows x 4 columns]"
      ]
     },
     "execution_count": 64,
     "metadata": {},
     "output_type": "execute_result"
    }
   ],
   "source": [
    "df_multi"
   ]
  },
  {
   "cell_type": "code",
   "execution_count": 66,
   "metadata": {},
   "outputs": [
    {
     "data": {
      "application/vnd.plotly.v1+json": {
       "config": {
        "plotlyServerURL": "https://plot.ly"
       },
       "data": [
        {
         "mode": "markers",
         "type": "scatter",
         "x": [
          9116,
          7717,
          2557,
          4768,
          2865,
          8789,
          4255,
          4288,
          8450,
          6826,
          1276,
          4192,
          7267,
          2208,
          9729,
          1337,
          5037,
          1970,
          6267,
          9175,
          4124,
          7280,
          8112,
          2100,
          9882,
          1834,
          3169,
          1301,
          4606,
          8850,
          2156,
          3423,
          9518,
          8188,
          3725,
          3974,
          5242,
          9852,
          9846,
          8350,
          4404,
          7301,
          5511,
          8361,
          4477,
          7395,
          5792,
          3499,
          4735,
          8160,
          2351,
          6132,
          4148,
          3042,
          6762,
          6722,
          9600,
          1965,
          9241,
          2166,
          6179,
          8955,
          2055,
          2980,
          3052,
          4725,
          6994,
          7830,
          4669,
          3188,
          5995,
          3400,
          7043,
          3474,
          7437,
          1920,
          6958,
          8745,
          8000,
          4253,
          3874,
          7495,
          5824,
          4882,
          8156,
          8158,
          2731,
          5075,
          3103,
          2524,
          7284,
          7018,
          5330,
          9259,
          3073,
          5531,
          5467,
          9069,
          3484,
          7468,
          9590,
          3962,
          7054,
          2880,
          8436,
          5524,
          5093,
          8916,
          9206,
          7808,
          2153,
          1024,
          3728,
          4726,
          3046,
          4352,
          3607,
          9263,
          5199,
          2206,
          6370,
          1068,
          8069,
          1475,
          6770,
          3850,
          7183,
          7834,
          3136,
          5536,
          3071,
          5226,
          3702,
          2439,
          3097,
          8811,
          9216,
          8233,
          8785,
          6963,
          7668,
          4600,
          9449,
          6270,
          6773,
          5265,
          2332,
          2859,
          9822,
          2760,
          3193,
          4125,
          5058,
          7175,
          4348,
          7665,
          4929,
          6561,
          6033,
          3208,
          7485,
          7694,
          9396,
          1152,
          3199,
          7827,
          6152,
          1542,
          9411,
          9622,
          4420,
          5088,
          4269,
          6957,
          8422,
          3343,
          9692,
          6533,
          5920,
          8304,
          7450,
          1580,
          5696,
          6193,
          6188,
          3350,
          4050,
          3729,
          3622,
          4656,
          4519,
          4998,
          4836,
          6449,
          5633,
          1719,
          8319,
          6980,
          5389,
          7044,
          5723,
          1705,
          4228,
          3748,
          7394,
          9903,
          9263,
          3106,
          2440,
          5719,
          1517,
          6159,
          9434,
          7663,
          1520,
          9460,
          8981,
          4947,
          6688,
          2281,
          2557,
          8111,
          2814,
          1232,
          6321,
          1973,
          8421,
          7713,
          8151,
          7887,
          7946,
          3616,
          5361,
          9368,
          3064,
          2795,
          4575,
          9704,
          4576,
          9394,
          9241,
          3521,
          8085,
          8222,
          6564,
          8941,
          4393,
          3463,
          7451,
          4098,
          9250,
          9278,
          3372,
          8241,
          5339,
          8763,
          8493,
          1870,
          8458,
          1835,
          8844,
          5972,
          2664,
          8406,
          6015,
          4503,
          9980,
          4836,
          1670,
          8855,
          8751,
          8380,
          7683,
          6676,
          3456,
          5517,
          1465,
          2279,
          9974,
          8605,
          1561,
          4247,
          7057,
          3243,
          1464,
          2432,
          6731,
          8118,
          2439,
          8622,
          3531,
          1098,
          3156,
          7665,
          8080,
          5328,
          3708,
          5005,
          6568,
          6971,
          7985,
          9831,
          6873,
          1736,
          4527,
          9884,
          1317,
          2162,
          2417,
          7603,
          2357,
          7688,
          9280,
          8282,
          5326,
          8302,
          4259,
          1700,
          5547,
          8303,
          5251,
          5699,
          4549,
          8259,
          4972,
          6035,
          3479,
          1799,
          8432,
          6136,
          6080,
          3842,
          7947,
          5050,
          8980,
          3866,
          8437,
          2836,
          6923,
          5410,
          1965,
          6840,
          4306,
          9743,
          5853,
          5446,
          2464,
          1020,
          1595,
          7332,
          6032,
          6204,
          9833,
          2969,
          7556,
          8873,
          1794,
          7371,
          7377,
          9448,
          3559,
          2383,
          3217,
          3077,
          8951,
          9980,
          7147,
          1238,
          1870,
          4381,
          9921,
          5387,
          6691,
          2238,
          9710,
          9950,
          8549,
          2237,
          8002,
          2365,
          8454,
          9798,
          7610,
          9800,
          6801,
          2050,
          7138,
          9502,
          4449,
          8752,
          5774,
          2703,
          2971,
          5370,
          3103,
          3388,
          2056,
          8092,
          5164,
          4975,
          3522,
          8488,
          6257,
          3635,
          6521,
          7956,
          5118,
          3292,
          4532,
          8976,
          6060,
          7644,
          9984,
          5463,
          8041,
          9630,
          4220,
          4370,
          3280,
          7391,
          8681,
          5212,
          5600,
          6607,
          9766,
          3217,
          8236,
          1937,
          3635,
          1807,
          6420,
          3832,
          4899,
          7857,
          4715,
          5883,
          4245,
          7486,
          8313,
          9634,
          6216,
          1770,
          8854,
          8881,
          4998,
          3942,
          3268,
          1486,
          1844,
          8190,
          1236,
          3632,
          2142,
          4907,
          6526,
          8005,
          1146,
          2829,
          6795,
          1103,
          7258,
          5650,
          7989,
          8435,
          1487,
          7650,
          6907,
          4436,
          8966,
          3369,
          7925,
          7388,
          2842,
          1575,
          6761,
          4503,
          9867,
          6593,
          6823,
          1708,
          8048,
          1977,
          5493,
          1318,
          7559,
          6644,
          3235,
          8188,
          2146,
          9980,
          2303,
          5912,
          3899,
          1531,
          3502,
          3101,
          3068,
          2194,
          7541,
          8932,
          4250,
          2988,
          8844,
          9775,
          6445,
          5278,
          4288,
          4929,
          5558,
          9686,
          2671,
          5462,
          8299,
          8631,
          9952,
          7314,
          4690,
          7247,
          8939,
          6516,
          4607,
          7476,
          4433,
          1234,
          6177,
          9239,
          7794,
          3241,
          2135,
          7861,
          2729,
          6821,
          5096,
          5975,
          4069,
          3428,
          6891,
          9505,
          6123,
          4772,
          7396,
          1581,
          6927,
          4113,
          6692,
          2776,
          5260,
          4927,
          9314,
          5653,
          1488,
          1362,
          8673,
          2251,
          3855,
          9485,
          6346,
          5817,
          1628,
          9925,
          3496,
          3774,
          7767,
          5497,
          7513,
          5756,
          5110,
          6358,
          7079,
          3131,
          4102,
          6210,
          1840,
          8985,
          3943,
          2896,
          5896,
          7988,
          7732,
          5567,
          5845,
          3270,
          8666,
          5293,
          9634,
          7691,
          2165,
          3672,
          7910,
          5389,
          6528,
          1771,
          6033,
          5668,
          3045,
          7896,
          5162,
          3157,
          1172,
          6637,
          6054,
          3310,
          6307,
          8419,
          6366,
          4613,
          7031,
          1063,
          4249,
          7069,
          6794,
          5307,
          8147,
          8060,
          4164,
          1370,
          6123,
          8512,
          7945,
          5621,
          3116,
          7182,
          2455,
          5876,
          7815,
          2808,
          7041,
          2382,
          4497,
          7755,
          1438,
          7601,
          3368,
          1146,
          4333,
          8564,
          7965,
          7596,
          8519,
          4824,
          5138,
          6331,
          2580,
          7881,
          8821,
          1546,
          3476,
          4505,
          6797,
          3090,
          3278,
          6914,
          6660,
          6733,
          8397,
          5928,
          8969,
          9407,
          5085,
          5039,
          1275,
          6342,
          1305,
          7336,
          6663,
          2158,
          9111,
          6973,
          7148,
          6365,
          7560,
          8712,
          7488,
          2005,
          9652,
          5983,
          6565,
          9511,
          3164,
          9336,
          3798,
          4828,
          9881,
          8317,
          9508,
          7703,
          2169,
          2766,
          7595,
          2449,
          7292,
          5070,
          8549,
          3087,
          8530,
          7858,
          1069,
          8644,
          6912,
          7707,
          3458,
          2390,
          9922,
          2305,
          3358,
          7353,
          8360,
          1113,
          1234,
          4620,
          4084,
          2905,
          8121,
          8922,
          5104,
          6713,
          9905,
          6480,
          5795,
          3832,
          4576,
          8574,
          4546,
          5954,
          6700,
          1309,
          2580,
          9773,
          9229,
          6452,
          6127,
          7470,
          7133,
          2636,
          8682,
          3929,
          6062,
          5640,
          2861,
          8424,
          3443,
          2633,
          9983,
          6618,
          2522,
          8427,
          2972,
          6681,
          5470,
          4179,
          2877,
          8779,
          3408,
          4636,
          3916,
          2729,
          9622,
          9574,
          9094,
          7769,
          3244,
          6603,
          3098,
          9247,
          7231,
          3947,
          4299,
          3518,
          9392,
          3542,
          6425,
          2826,
          1514,
          6572,
          1723,
          8140,
          2485,
          9580,
          2307,
          3007,
          6202,
          9276,
          5948,
          3748,
          2466,
          5644,
          2684,
          7220,
          4958,
          7705,
          3980,
          3737,
          6563,
          2521,
          3187,
          6844,
          4262,
          7208,
          8821,
          7592,
          1398,
          1801,
          2644,
          9078,
          2535,
          7085,
          2906,
          8877,
          5435,
          3280,
          6092,
          6612,
          7363,
          8142,
          3990,
          8684,
          7731,
          9528,
          2761,
          3980
         ],
         "y": [
          45.88002395629701,
          154.0500249862671,
          17.13999366760254,
          189.3599395751953,
          110.45998010516087,
          16.780006408691406,
          70.89998245239258,
          13.259967803955078,
          95.48005676269531,
          59.64000326348469,
          4.999995231628418,
          151.98007392883483,
          16.290006637573242,
          8.459983348846436,
          73.75004206120866,
          1.159973145499407,
          9.309986114501953,
          0.000004451248969417065,
          0.000006717096766806208,
          0.6099987030029297,
          26.52001190185547,
          0,
          9.119979858402075,
          21.99997901916504,
          27.020004272460938,
          10.549989700317383,
          39.76000213623047,
          0,
          55.38000297546387,
          0,
          3.689990997314453,
          0.0000013538906387111638,
          298.87002182006836,
          6.199297786224633e-8,
          11.039989471435547,
          10.139997482299805,
          83.46005058288574,
          335.8800868988037,
          190.7999038696289,
          35.50987250404614,
          62.70004224777222,
          88.18001174926758,
          64.510009765625,
          240.89994430541992,
          82.80000686645053,
          3.690032958984375,
          1.8146965885534883e-7,
          12.45998764038086,
          2.5499935150146484,
          91.99991226193015,
          95.84000205993652,
          96.29997253417969,
          4.860008239746094,
          26.840011596679688,
          3.0697917938223327,
          195.29990386959253,
          158.2401123046875,
          14.069996356964111,
          446.41981506347656,
          102.52000427246094,
          1.0799999237060547,
          46.36001396179199,
          87.86996461154331,
          113.2400016784668,
          0.0000017623488020035438,
          24.479999542236328,
          20.75005054473786,
          73.59996223449707,
          14.499998092651367,
          71.99997901916504,
          0,
          1.0000057220458984,
          34.73992872238159,
          0.0000027998962650599424,
          50.16999435424805,
          60.5999755859375,
          342.28001403808594,
          319.52001190185547,
          25.640041403882606,
          59.43995666503906,
          50.8799786567688,
          67.11009788513184,
          47.41002178192139,
          132.11913776397705,
          247.2100124359131,
          65.47996282577515,
          1.1199932098388672,
          10.659931182861328,
          109.16999816894531,
          9.259998321533203,
          51.08003044128327,
          111.33001327514648,
          2.1599998474121094,
          98.4300308227539,
          51.44997596740723,
          56.619991302490234,
          7.809986114501953,
          40.88069248199463,
          5.689990997314453,
          30.799996852874756,
          140.74001693725586,
          32.76000213623047,
          80.35994911193757,
          33.03000068664551,
          50.95997619628906,
          69.99993324279785,
          10.330001831054688,
          0.000008596809493610635,
          59.01003837585449,
          0.2700023651123047,
          4.989997927914828,
          32.4800103270818,
          0.000003299910531495698,
          69.9399642944336,
          0,
          170.20001411437988,
          22.129972457885742,
          24.15003208804592,
          23.60000991821289,
          3.5750017166137695,
          5.1199951171865905,
          4.150010108947754,
          77.98001289367676,
          18.310006141662598,
          6.220001220703125,
          21.719982624053955,
          81.60004377365112,
          0.000009876240255835,
          2.2499942779541016,
          43.67999267578125,
          1.6899995803833008,
          58.119977951049805,
          73.58002948760941,
          8.566485121264122e-8,
          8.109977722167969,
          34.05999755859375,
          36.670074462888806,
          13.190021514892578,
          4.1360181057825685e-8,
          12.950029373168945,
          0.000004493693268159404,
          240.19998168945312,
          73.06994438171387,
          181.49995803833008,
          18.96999454498291,
          5.1200103759765625,
          164.49999046325684,
          138.5499987602234,
          118.5600357055664,
          6.239994049072266,
          9.619937896728516,
          10.239990234375,
          89.66999626159668,
          0,
          157.6999855041504,
          2.5799989700317383,
          28.719970703125,
          21.32005214691162,
          0.20000076293945312,
          121.22999382019043,
          212.7700595855713,
          15.989959716796875,
          113.09986114501953,
          3.1599998474121094,
          0.720001220703125,
          281.0900754928589,
          28.47997283935547,
          4.240001678466797,
          1.3399028778076172,
          526.8999519716072,
          0.0000033894975786097348,
          33.249945640563965,
          44.02005958557129,
          142.22998237609863,
          83.59992218017578,
          12.599955558776855,
          40.920005321502686,
          18.85005760192871,
          33.040035247802734,
          93.59998516406995,
          0.000007135591658880003,
          12.01999568939209,
          47.07996940612793,
          37.06001663208008,
          17.91997241973877,
          19.29000473022461,
          39.01002311706543,
          94.85002088546753,
          36.5599746704097,
          17.209919929504395,
          6.679990768432617,
          81.31997723112181,
          275.5599784851074,
          34.21999549865632,
          244.3998565673828,
          145.43994140625,
          172.62995624542236,
          2.2499999999990905,
          51.5000343322763,
          11.700023651121228,
          238.8800277709961,
          16.72000503540039,
          86.9200267791748,
          0,
          27.119979858397528,
          115.16992959479285,
          249.69965362548828,
          14.240013122558594,
          32.820003509521484,
          21.729949951171875,
          0.9799995422363281,
          193.20004272460847,
          76.5899486541748,
          3.2900314331054688,
          0.10000038146972656,
          309.19002056121826,
          32.839996337890625,
          4.159996034999494,
          57.91007041931152,
          0.2699999809262863,
          24.709999084472656,
          23.599963188171387,
          101.28000450134277,
          37.339969635009766,
          55.82002067565918,
          114.2100019454956,
          51.48008728027344,
          42.13998031616211,
          23.22998285293579,
          19.389984130859375,
          145.34995651245117,
          2.430004119873047,
          14.359996795654297,
          152.3199462890625,
          0.0000031897843655315228,
          70.25003433227539,
          262.63984298706055,
          20.75005054473877,
          87.74005317687988,
          143.10004043579102,
          0.000009529008821118623,
          10.199993133544922,
          146.9699420928955,
          31.860008239746094,
          33.159969329833075,
          22.559978485105603,
          13.200042724609375,
          106.95002365112305,
          14.089988708496094,
          41.33997344970703,
          0.5200004577636719,
          20.739913940429688,
          9.79448486759793e-8,
          43.65000915527344,
          161.40001487731934,
          16.15999412536621,
          0.00000819767956272699,
          17.09000408797715,
          327.3200798034668,
          19.369997024536133,
          410.04004669189453,
          5.839996337890625,
          12.959991455078125,
          76.31992721557617,
          75.98998832702637,
          63.74998092651276,
          5.1799774169921875,
          47.19999313354492,
          77.70000457763672,
          128.61725997924805,
          22.510009765625,
          47.519954681396484,
          377.9300022125244,
          107.24997520446777,
          51.238826751708984,
          77.81000709533691,
          20.15998077392578,
          87.30000686645508,
          49.43993377685547,
          3.849996566772461,
          91.52001523971535,
          113.68000411987305,
          0.82999801650476,
          10.770008087158203,
          21.589975357055664,
          33.21000671386719,
          47.6299991607666,
          0,
          7.290035247802734,
          69.20001220703125,
          10.6300048828125,
          0,
          0.000009813013548409799,
          30.389878273010254,
          256.28012470081194,
          144.6999168395996,
          27.55001449584961,
          2.08001708984375,
          37.919921875,
          35.5100040435791,
          52.889980316153014,
          7.609976768493652,
          324.72002601623535,
          36.360008239746094,
          96.90004348754883,
          6.310801836661994e-8,
          1.8899917602539062,
          0.030000686645507812,
          1.7599983215332031,
          102.65987396240234,
          1.6435751604149118e-7,
          0.00000907139474293217,
          28.32000732421875,
          265.43001937865483,
          97.99005317687988,
          15.900001525878906,
          56.74004077911377,
          9.099998474121094,
          24.199966430664062,
          34.719966888427734,
          5.839988708495184,
          0.5200004577636719,
          15.139989852905273,
          24.690000534057617,
          0.000004146132596360985,
          14.079986572265625,
          3.8128291635075584e-7,
          66.0000228881836,
          63.59999084472656,
          19.579938888549805,
          27.199974060058594,
          24.590007781981967,
          37.100006103515625,
          40.64999580383301,
          10.89000129699707,
          2.989999771118164,
          76.11991310119629,
          4.799999237060092,
          49.53996658325195,
          1.822872945922427e-7,
          0,
          7.4600067138671875,
          15.449988842010498,
          -0.4699904909266479,
          27.459997177124023,
          56.440025329589844,
          101.11999900476167,
          4.799995422363281,
          24.06000328063965,
          188.57999042573738,
          32.08998680114746,
          136.74005317687897,
          230.19999504089355,
          25.550007820129395,
          35.670013427734375,
          19.76001739501953,
          106.06003141403198,
          353.09000158309937,
          31.90001678466797,
          192.34004592895508,
          0.010000228881835938,
          0.000009668446182331536,
          13.229990959167026,
          0.5200004577632171,
          84.98996448516664,
          300.30010414123535,
          5.329965591430664,
          81.96000289916992,
          1.5799980163574219,
          40.25,
          275.5899829864502,
          58.710039138793945,
          7.469976425170898,
          33.8699893951416,
          156.58011198043823,
          145.51995849609375,
          20.749980926513672,
          18.76000213623047,
          242.77986335754395,
          0,
          33.88000440597443,
          69.16004943847656,
          345.599853515625,
          157.89012241363525,
          82.44991683959961,
          1.0400009155273438,
          121.50003433227539,
          15.509994557709433,
          41.219990730285645,
          145.1799488067627,
          1.1000251770019531,
          45.599985122680664,
          9.969997406005405,
          9.14294105314184e-7,
          143.39999771118164,
          135.86998462677002,
          2.6299991607666016,
          20.800018310546875,
          31.240002632141113,
          166.88004302978516,
          115.91001129150345,
          82.62003707885742,
          51.36004638673057,
          5.069995880126953,
          87.44992256164551,
          267.2799873352051,
          33.8200044631958,
          1.7400054931640625,
          15.449988842010498,
          9.760000228880017,
          70.73997116088867,
          18.769990921020508,
          2.6299991607666016,
          25.099990844726562,
          21.759979248046875,
          316.80010986328307,
          211.13999557495117,
          12.610029220581055,
          1.4500045776367188,
          71.00000381469727,
          79.18001556396302,
          8.469993591308594,
          43.98997116088867,
          14.399986267089844,
          63.7800235748291,
          66.33998107910111,
          93.0149359703064,
          0,
          19.969993591308594,
          2.5600128173823578,
          1.4345641830004752e-7,
          28.560012817382812,
          11.43996810913086,
          104.49996948242188,
          31.3599853515625,
          110.88994026184082,
          38.94998550415039,
          107.24997520446777,
          91.45001220703125,
          161.80012798309326,
          15.389996528625488,
          1.2900009155273438,
          136.08002471916916,
          67.11009788513184,
          190.12007904052734,
          144.21001052856445,
          1.5993464330676943e-8,
          12.949978828430176,
          27.59002494811989,
          6.62995719909668,
          22.5000057220459,
          17.25003719329834,
          11.39000129699707,
          0.000004831031219509896,
          46.080078125,
          222.2999668121338,
          5.129997253417969,
          33.14999008178711,
          2.509979248046875,
          36.120025634765625,
          25.43998722656579,
          184.3199758529663,
          73.39010047912598,
          299.54007720947266,
          43.73998832702637,
          64.0799388885498,
          4.289972305297852,
          72.08001708984375,
          0.000009965564458980225,
          22.110002517700195,
          0.000008401928425882943,
          24.639976501464844,
          5.9000091552734375,
          27.29999542236328,
          125.40002870559692,
          20.400001525878906,
          257.8600549697876,
          1.270029067993164,
          39.28999710083008,
          5.5099992752075195,
          71.94646263122559,
          56.18004035949707,
          57.74003791809082,
          0,
          293.19008445739746,
          18.360004425048828,
          22.08000946044922,
          0,
          29.200000762939453,
          42.52999305725098,
          39.11998987197876,
          184.2198963420542,
          0.000003821369318757206,
          10.060020446777344,
          11.329964637756348,
          15.680004119873047,
          39.13998985290527,
          17.999982884783094,
          2.460021983155457,
          0.000009937772119883448,
          75.78996181488037,
          31.690019607543945,
          21.99997901916504,
          273.7799835205078,
          160.60991287231445,
          14.300015098411677,
          43.02001190185547,
          8.330013275146484,
          10.450063705443426,
          2.3999996185229975,
          48.60997772216797,
          40.39002990722656,
          0.000009895083167066332,
          39.749908447265625,
          27.069990634918213,
          71.33998107910156,
          59.939964294433594,
          25.790008544921875,
          8.299930572509766,
          0.000008759623597143218,
          200.87996864318848,
          140.49590873718262,
          57.32999038696289,
          22.070011138916016,
          17.749977111816406,
          286.3500633239746,
          50.319984436035156,
          0,
          1.2929922377225012e-7,
          29.580013275146484,
          46.354979515075684,
          0.00000979897322395118,
          56.73007678985596,
          228.75999450683594,
          24.32000732421875,
          14.160003662109375,
          50.48995590209961,
          290.5100212097168,
          14.560012817382812,
          24.610053062438965,
          131.45007133483887,
          1.7199993133542648,
          36.559993743896484,
          74.40997982025146,
          21.449987411499023,
          7.859987258911133,
          57.970001220702216,
          140.12003707885742,
          25.960006761482873,
          40.50002574920654,
          0,
          26.290014266967773,
          373.6999955177307,
          95.44999122619629,
          63.490007400512695,
          47.489991664886475,
          0.5200004577636719,
          76.76003074645996,
          40.630022048950195,
          280.7199630737341,
          26.530006408691406,
          2.1599998474112,
          0.000006884134563733824,
          39.439977169036865,
          184.1700382232666,
          6.639991760253906,
          2.509979248046875,
          174.95995330810547,
          30.360002517699286,
          13.40999698638916,
          195.04998207092285,
          191.40006637573242,
          20.599994659423828,
          86.24002456665039,
          9.889982223510742,
          53.50003242492676,
          0,
          299.0200848579407,
          71.92000579833984,
          26.190013885498047,
          72.20991134643555,
          35.10998725891113,
          0.000008247738151112571,
          11.229949951171875,
          95.48005676269531,
          4.139991760253906,
          17.21999363206396,
          10.93999862670853,
          55.49995994567871,
          171.6300163269043,
          0.000009401705028722063,
          6.160007476806413,
          83.1899766921997,
          61.88996124267578,
          34.3299674987793,
          12.899994850158691,
          64.79998970031738,
          8.139968872069858,
          2.419998169595374,
          116.10003280639648,
          95.97999000549316,
          7.330020904541016,
          30.680034637451172,
          1.4700012207022155,
          0.000006399524863809347,
          12.399988174438477,
          1.2999992370605469,
          20.459964752197266,
          31.20001983642578,
          20.030033111571356,
          0.000007939806891954504,
          27.29999542236328,
          95.16999435424805,
          79.19998741149902,
          28.02000617980957,
          10.919998168945312,
          253.82001495361328,
          122.60999488830566,
          37.17988395690918,
          11.440010070800781,
          5.5065811466192827e-8,
          0.8800201512431158,
          0.34000110626220703,
          225.829514503479,
          106.84001350402832,
          15.119998455047607,
          239.98999214172363,
          0.10000038146972656,
          47.910011291503906,
          26.31998062133789,
          1.2199954986572266,
          154.32003021240234,
          60.05004119873092,
          53.34821319580078,
          44.3699493408194,
          4.079999923706055,
          253.39001083374023,
          25.72997283935547,
          16.6400146484375,
          26.949987411499023,
          16.890016555786133,
          97.05997085571289,
          30.890037536621094,
          0.20000076293945312,
          135.4299659729004,
          46.0799865722654,
          119.49999809265137,
          96.85003852844238,
          324.9700336456299,
          5.4000091552734375,
          0.9000053405761719,
          342.92001724243164,
          0.7899990081787109,
          81.89998626708984,
          55.210025787353516,
          236.26009941101074,
          45.220008850097656,
          46.929996490478516,
          56.09998321533203,
          5.089817047119141,
          22.25998878479004,
          2.870025634765625,
          1.3299942016601562,
          168.29976654052734,
          7.41998291015625,
          11.71999740600586,
          83.96997499465942,
          3.2049999237060547,
          106.4699821472168,
          6.612481229240075e-8,
          328.69008684158325,
          240.62996768951416,
          91.46010494232178,
          0.000007738275598967448,
          22.639984130859375,
          89.87997436523438,
          65.91998291015625,
          58.449904441833496,
          43.44482421875,
          316.8900942802429,
          138.02999687194824,
          1.589996337890625,
          1.2000021934491087,
          122.39996337890625,
          107.00986862182617,
          0,
          2.25,
          67.30005073547363,
          17.59998321533203,
          51.00002288817495,
          0,
          43.800018310546875,
          19.23987579345703,
          79.76001119613602,
          88.35011959075928,
          22.539987564086914,
          101.20000839233398,
          0,
          234.08001708984375,
          22.539987564086914,
          47.639986515045166,
          17.32999038696289,
          203.29786682128906,
          0.04000091552734375,
          31.679970192012206,
          174.4399185180664,
          18.459880828857422,
          30.16999626159668,
          17.44998550415039,
          65.8600902557373,
          0.000005382582457968965,
          25.35998821258545,
          5.099987030029297,
          73.80004692077637,
          34.34001541137695,
          0.000007252842806337867,
          61.81001281738281,
          2.069995885822209,
          32.87993383407593,
          8.599996566772006,
          0.000009161130037682597,
          106.48004341124943,
          52.23002624511719,
          19.270004272460938,
          87.43997573852539,
          9.629992961883545,
          28.07997393868527,
          84.66003799438477,
          378.07932472229004,
          23.600006103515625,
          83.99991989135742,
          26.239974975585938,
          281.0700225830078,
          70.7700023651123,
          92.81996726989746,
          3.649993896484375,
          34.96001052856445,
          67.72003078460693,
          128.23999786376953,
          15.399985313414618,
          21.199989318847656,
          4.3000030517578125,
          0.00000808140066510532,
          64.0600280761646,
          45.21998415072494,
          0.000008432876711594872,
          2.610008242478216,
          0.8600006103515625,
          20.79998016357422,
          77.51009541350868,
          0.20000076293945312,
          0,
          31.590002059936523,
          8.100013732910156,
          0.01000022888138119,
          133.0699977874756,
          91.97999954223633,
          21.16999053955078,
          251.89965057373047,
          247.49994277954102,
          55.86004114150728,
          9.729957580566406,
          17.849964141845703,
          20.629989624023438,
          2.159999847396648,
          67.44003295898438,
          75.52998733520508,
          14.460006713867188,
          23.099994659423828,
          4.41000366210892,
          0.29000091552734375,
          8.639991760253906,
          0.5000009536743164,
          0.00000845798604132142,
          12.329996109008789,
          9.479986190795898,
          53.320037841797784,
          380.5800619125366,
          25.380001068115234,
          0.1900005340576172,
          0.25,
          138.62007522582826,
          13.599987077760488,
          78.87998962402344,
          53.37000660991498,
          260.7900199890146,
          36.60000805486243,
          20.01993751525879,
          50.8150234222403,
          25.64004135131836,
          79.78005266189575,
          34.62001419067383,
          0.000006839767593191937,
          0,
          53.14001846313431,
          112.39008808134258,
          44.16999626159668,
          0.8800201539324917,
          47.27996253967103,
          413.9599800109863,
          0.7500000006725713,
          2.520009994506836,
          18.499975204467773,
          0,
          32.450008392333984,
          0.000007612547051394358,
          147.83996200561523,
          54.36009216308594,
          66.90998029708862,
          13.40999984741211,
          16.959983825683594,
          61.849945068359375,
          11.96000862121582,
          0.049999237060546875,
          46.79995346069336,
          139.1101589202881,
          0.5699996948242188,
          74.14004898071289,
          9.399295777257066e-7,
          18.650753021240234
         ]
        }
       ],
       "layout": {
        "template": {
         "data": {
          "bar": [
           {
            "error_x": {
             "color": "#2a3f5f"
            },
            "error_y": {
             "color": "#2a3f5f"
            },
            "marker": {
             "line": {
              "color": "#E5ECF6",
              "width": 0.5
             },
             "pattern": {
              "fillmode": "overlay",
              "size": 10,
              "solidity": 0.2
             }
            },
            "type": "bar"
           }
          ],
          "barpolar": [
           {
            "marker": {
             "line": {
              "color": "#E5ECF6",
              "width": 0.5
             },
             "pattern": {
              "fillmode": "overlay",
              "size": 10,
              "solidity": 0.2
             }
            },
            "type": "barpolar"
           }
          ],
          "carpet": [
           {
            "aaxis": {
             "endlinecolor": "#2a3f5f",
             "gridcolor": "white",
             "linecolor": "white",
             "minorgridcolor": "white",
             "startlinecolor": "#2a3f5f"
            },
            "baxis": {
             "endlinecolor": "#2a3f5f",
             "gridcolor": "white",
             "linecolor": "white",
             "minorgridcolor": "white",
             "startlinecolor": "#2a3f5f"
            },
            "type": "carpet"
           }
          ],
          "choropleth": [
           {
            "colorbar": {
             "outlinewidth": 0,
             "ticks": ""
            },
            "type": "choropleth"
           }
          ],
          "contour": [
           {
            "colorbar": {
             "outlinewidth": 0,
             "ticks": ""
            },
            "colorscale": [
             [
              0,
              "#0d0887"
             ],
             [
              0.1111111111111111,
              "#46039f"
             ],
             [
              0.2222222222222222,
              "#7201a8"
             ],
             [
              0.3333333333333333,
              "#9c179e"
             ],
             [
              0.4444444444444444,
              "#bd3786"
             ],
             [
              0.5555555555555556,
              "#d8576b"
             ],
             [
              0.6666666666666666,
              "#ed7953"
             ],
             [
              0.7777777777777778,
              "#fb9f3a"
             ],
             [
              0.8888888888888888,
              "#fdca26"
             ],
             [
              1,
              "#f0f921"
             ]
            ],
            "type": "contour"
           }
          ],
          "contourcarpet": [
           {
            "colorbar": {
             "outlinewidth": 0,
             "ticks": ""
            },
            "type": "contourcarpet"
           }
          ],
          "heatmap": [
           {
            "colorbar": {
             "outlinewidth": 0,
             "ticks": ""
            },
            "colorscale": [
             [
              0,
              "#0d0887"
             ],
             [
              0.1111111111111111,
              "#46039f"
             ],
             [
              0.2222222222222222,
              "#7201a8"
             ],
             [
              0.3333333333333333,
              "#9c179e"
             ],
             [
              0.4444444444444444,
              "#bd3786"
             ],
             [
              0.5555555555555556,
              "#d8576b"
             ],
             [
              0.6666666666666666,
              "#ed7953"
             ],
             [
              0.7777777777777778,
              "#fb9f3a"
             ],
             [
              0.8888888888888888,
              "#fdca26"
             ],
             [
              1,
              "#f0f921"
             ]
            ],
            "type": "heatmap"
           }
          ],
          "heatmapgl": [
           {
            "colorbar": {
             "outlinewidth": 0,
             "ticks": ""
            },
            "colorscale": [
             [
              0,
              "#0d0887"
             ],
             [
              0.1111111111111111,
              "#46039f"
             ],
             [
              0.2222222222222222,
              "#7201a8"
             ],
             [
              0.3333333333333333,
              "#9c179e"
             ],
             [
              0.4444444444444444,
              "#bd3786"
             ],
             [
              0.5555555555555556,
              "#d8576b"
             ],
             [
              0.6666666666666666,
              "#ed7953"
             ],
             [
              0.7777777777777778,
              "#fb9f3a"
             ],
             [
              0.8888888888888888,
              "#fdca26"
             ],
             [
              1,
              "#f0f921"
             ]
            ],
            "type": "heatmapgl"
           }
          ],
          "histogram": [
           {
            "marker": {
             "pattern": {
              "fillmode": "overlay",
              "size": 10,
              "solidity": 0.2
             }
            },
            "type": "histogram"
           }
          ],
          "histogram2d": [
           {
            "colorbar": {
             "outlinewidth": 0,
             "ticks": ""
            },
            "colorscale": [
             [
              0,
              "#0d0887"
             ],
             [
              0.1111111111111111,
              "#46039f"
             ],
             [
              0.2222222222222222,
              "#7201a8"
             ],
             [
              0.3333333333333333,
              "#9c179e"
             ],
             [
              0.4444444444444444,
              "#bd3786"
             ],
             [
              0.5555555555555556,
              "#d8576b"
             ],
             [
              0.6666666666666666,
              "#ed7953"
             ],
             [
              0.7777777777777778,
              "#fb9f3a"
             ],
             [
              0.8888888888888888,
              "#fdca26"
             ],
             [
              1,
              "#f0f921"
             ]
            ],
            "type": "histogram2d"
           }
          ],
          "histogram2dcontour": [
           {
            "colorbar": {
             "outlinewidth": 0,
             "ticks": ""
            },
            "colorscale": [
             [
              0,
              "#0d0887"
             ],
             [
              0.1111111111111111,
              "#46039f"
             ],
             [
              0.2222222222222222,
              "#7201a8"
             ],
             [
              0.3333333333333333,
              "#9c179e"
             ],
             [
              0.4444444444444444,
              "#bd3786"
             ],
             [
              0.5555555555555556,
              "#d8576b"
             ],
             [
              0.6666666666666666,
              "#ed7953"
             ],
             [
              0.7777777777777778,
              "#fb9f3a"
             ],
             [
              0.8888888888888888,
              "#fdca26"
             ],
             [
              1,
              "#f0f921"
             ]
            ],
            "type": "histogram2dcontour"
           }
          ],
          "mesh3d": [
           {
            "colorbar": {
             "outlinewidth": 0,
             "ticks": ""
            },
            "type": "mesh3d"
           }
          ],
          "parcoords": [
           {
            "line": {
             "colorbar": {
              "outlinewidth": 0,
              "ticks": ""
             }
            },
            "type": "parcoords"
           }
          ],
          "pie": [
           {
            "automargin": true,
            "type": "pie"
           }
          ],
          "scatter": [
           {
            "fillpattern": {
             "fillmode": "overlay",
             "size": 10,
             "solidity": 0.2
            },
            "type": "scatter"
           }
          ],
          "scatter3d": [
           {
            "line": {
             "colorbar": {
              "outlinewidth": 0,
              "ticks": ""
             }
            },
            "marker": {
             "colorbar": {
              "outlinewidth": 0,
              "ticks": ""
             }
            },
            "type": "scatter3d"
           }
          ],
          "scattercarpet": [
           {
            "marker": {
             "colorbar": {
              "outlinewidth": 0,
              "ticks": ""
             }
            },
            "type": "scattercarpet"
           }
          ],
          "scattergeo": [
           {
            "marker": {
             "colorbar": {
              "outlinewidth": 0,
              "ticks": ""
             }
            },
            "type": "scattergeo"
           }
          ],
          "scattergl": [
           {
            "marker": {
             "colorbar": {
              "outlinewidth": 0,
              "ticks": ""
             }
            },
            "type": "scattergl"
           }
          ],
          "scattermapbox": [
           {
            "marker": {
             "colorbar": {
              "outlinewidth": 0,
              "ticks": ""
             }
            },
            "type": "scattermapbox"
           }
          ],
          "scatterpolar": [
           {
            "marker": {
             "colorbar": {
              "outlinewidth": 0,
              "ticks": ""
             }
            },
            "type": "scatterpolar"
           }
          ],
          "scatterpolargl": [
           {
            "marker": {
             "colorbar": {
              "outlinewidth": 0,
              "ticks": ""
             }
            },
            "type": "scatterpolargl"
           }
          ],
          "scatterternary": [
           {
            "marker": {
             "colorbar": {
              "outlinewidth": 0,
              "ticks": ""
             }
            },
            "type": "scatterternary"
           }
          ],
          "surface": [
           {
            "colorbar": {
             "outlinewidth": 0,
             "ticks": ""
            },
            "colorscale": [
             [
              0,
              "#0d0887"
             ],
             [
              0.1111111111111111,
              "#46039f"
             ],
             [
              0.2222222222222222,
              "#7201a8"
             ],
             [
              0.3333333333333333,
              "#9c179e"
             ],
             [
              0.4444444444444444,
              "#bd3786"
             ],
             [
              0.5555555555555556,
              "#d8576b"
             ],
             [
              0.6666666666666666,
              "#ed7953"
             ],
             [
              0.7777777777777778,
              "#fb9f3a"
             ],
             [
              0.8888888888888888,
              "#fdca26"
             ],
             [
              1,
              "#f0f921"
             ]
            ],
            "type": "surface"
           }
          ],
          "table": [
           {
            "cells": {
             "fill": {
              "color": "#EBF0F8"
             },
             "line": {
              "color": "white"
             }
            },
            "header": {
             "fill": {
              "color": "#C8D4E3"
             },
             "line": {
              "color": "white"
             }
            },
            "type": "table"
           }
          ]
         },
         "layout": {
          "annotationdefaults": {
           "arrowcolor": "#2a3f5f",
           "arrowhead": 0,
           "arrowwidth": 1
          },
          "autotypenumbers": "strict",
          "coloraxis": {
           "colorbar": {
            "outlinewidth": 0,
            "ticks": ""
           }
          },
          "colorscale": {
           "diverging": [
            [
             0,
             "#8e0152"
            ],
            [
             0.1,
             "#c51b7d"
            ],
            [
             0.2,
             "#de77ae"
            ],
            [
             0.3,
             "#f1b6da"
            ],
            [
             0.4,
             "#fde0ef"
            ],
            [
             0.5,
             "#f7f7f7"
            ],
            [
             0.6,
             "#e6f5d0"
            ],
            [
             0.7,
             "#b8e186"
            ],
            [
             0.8,
             "#7fbc41"
            ],
            [
             0.9,
             "#4d9221"
            ],
            [
             1,
             "#276419"
            ]
           ],
           "sequential": [
            [
             0,
             "#0d0887"
            ],
            [
             0.1111111111111111,
             "#46039f"
            ],
            [
             0.2222222222222222,
             "#7201a8"
            ],
            [
             0.3333333333333333,
             "#9c179e"
            ],
            [
             0.4444444444444444,
             "#bd3786"
            ],
            [
             0.5555555555555556,
             "#d8576b"
            ],
            [
             0.6666666666666666,
             "#ed7953"
            ],
            [
             0.7777777777777778,
             "#fb9f3a"
            ],
            [
             0.8888888888888888,
             "#fdca26"
            ],
            [
             1,
             "#f0f921"
            ]
           ],
           "sequentialminus": [
            [
             0,
             "#0d0887"
            ],
            [
             0.1111111111111111,
             "#46039f"
            ],
            [
             0.2222222222222222,
             "#7201a8"
            ],
            [
             0.3333333333333333,
             "#9c179e"
            ],
            [
             0.4444444444444444,
             "#bd3786"
            ],
            [
             0.5555555555555556,
             "#d8576b"
            ],
            [
             0.6666666666666666,
             "#ed7953"
            ],
            [
             0.7777777777777778,
             "#fb9f3a"
            ],
            [
             0.8888888888888888,
             "#fdca26"
            ],
            [
             1,
             "#f0f921"
            ]
           ]
          },
          "colorway": [
           "#636efa",
           "#EF553B",
           "#00cc96",
           "#ab63fa",
           "#FFA15A",
           "#19d3f3",
           "#FF6692",
           "#B6E880",
           "#FF97FF",
           "#FECB52"
          ],
          "font": {
           "color": "#2a3f5f"
          },
          "geo": {
           "bgcolor": "white",
           "lakecolor": "white",
           "landcolor": "#E5ECF6",
           "showlakes": true,
           "showland": true,
           "subunitcolor": "white"
          },
          "hoverlabel": {
           "align": "left"
          },
          "hovermode": "closest",
          "mapbox": {
           "style": "light"
          },
          "paper_bgcolor": "white",
          "plot_bgcolor": "#E5ECF6",
          "polar": {
           "angularaxis": {
            "gridcolor": "white",
            "linecolor": "white",
            "ticks": ""
           },
           "bgcolor": "#E5ECF6",
           "radialaxis": {
            "gridcolor": "white",
            "linecolor": "white",
            "ticks": ""
           }
          },
          "scene": {
           "xaxis": {
            "backgroundcolor": "#E5ECF6",
            "gridcolor": "white",
            "gridwidth": 2,
            "linecolor": "white",
            "showbackground": true,
            "ticks": "",
            "zerolinecolor": "white"
           },
           "yaxis": {
            "backgroundcolor": "#E5ECF6",
            "gridcolor": "white",
            "gridwidth": 2,
            "linecolor": "white",
            "showbackground": true,
            "ticks": "",
            "zerolinecolor": "white"
           },
           "zaxis": {
            "backgroundcolor": "#E5ECF6",
            "gridcolor": "white",
            "gridwidth": 2,
            "linecolor": "white",
            "showbackground": true,
            "ticks": "",
            "zerolinecolor": "white"
           }
          },
          "shapedefaults": {
           "line": {
            "color": "#2a3f5f"
           }
          },
          "ternary": {
           "aaxis": {
            "gridcolor": "white",
            "linecolor": "white",
            "ticks": ""
           },
           "baxis": {
            "gridcolor": "white",
            "linecolor": "white",
            "ticks": ""
           },
           "bgcolor": "#E5ECF6",
           "caxis": {
            "gridcolor": "white",
            "linecolor": "white",
            "ticks": ""
           }
          },
          "title": {
           "x": 0.05
          },
          "xaxis": {
           "automargin": true,
           "gridcolor": "white",
           "linecolor": "white",
           "ticks": "",
           "title": {
            "standoff": 15
           },
           "zerolinecolor": "white",
           "zerolinewidth": 2
          },
          "yaxis": {
           "automargin": true,
           "gridcolor": "white",
           "linecolor": "white",
           "ticks": "",
           "title": {
            "standoff": 15
           },
           "zerolinecolor": "white",
           "zerolinewidth": 2
          }
         }
        },
        "xaxis": {
         "title": {
          "text": "Starting Budget"
         }
        },
        "yaxis": {
         "title": {
          "text": "Multi-period Advantage"
         }
        }
       }
      }
     },
     "metadata": {},
     "output_type": "display_data"
    }
   ],
   "source": [
    "fig = go.Figure()\n",
    "\n",
    "fig.add_trace(\n",
    "    go.Scatter(\n",
    "        y = df_multi.portf_val - df_naive.portf_val,\n",
    "        x = df_multi.init_budget,\n",
    "        mode = \"markers\",\n",
    "\n",
    "    )\n",
    ")\n",
    "\n",
    "fig.update_xaxes(\n",
    "    title=\"Starting Budget\"\n",
    ")\n",
    "\n",
    "fig.update_yaxes(\n",
    "    title=\"Multi-period Advantage\"\n",
    ")"
   ]
  },
  {
   "cell_type": "code",
   "execution_count": null,
   "metadata": {},
   "outputs": [],
   "source": []
  }
 ],
 "metadata": {
  "kernelspec": {
   "display_name": "tdf",
   "language": "python",
   "name": "python3"
  },
  "language_info": {
   "codemirror_mode": {
    "name": "ipython",
    "version": 3
   },
   "file_extension": ".py",
   "mimetype": "text/x-python",
   "name": "python",
   "nbconvert_exporter": "python",
   "pygments_lexer": "ipython3",
   "version": "3.7.12"
  },
  "vscode": {
   "interpreter": {
    "hash": "538a550bb2d37c699914df831c667b96ebd76b5231f44cbdebaf3a5c1b5ea5c2"
   }
  }
 },
 "nbformat": 4,
 "nbformat_minor": 0
}
