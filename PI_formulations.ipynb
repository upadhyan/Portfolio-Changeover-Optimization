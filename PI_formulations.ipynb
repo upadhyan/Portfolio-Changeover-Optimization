{
 "cells": [
  {
   "cell_type": "code",
   "execution_count": 1,
   "metadata": {
    "collapsed": true
   },
   "outputs": [],
   "source": [
    "import pandas as pd\n",
    "import numpy as np\n",
    "import gurobipy as gp\n",
    "from gurobipy import GRB"
   ]
  },
  {
   "cell_type": "code",
   "execution_count": 2,
   "outputs": [],
   "source": [
    "data = pd.read_parquet(\"stock_data.parquet\")\n",
    "stock_names = data['comnam'].unique()\n",
    "\n",
    "repeat = True\n",
    "while repeat:\n",
    "    count = 0\n",
    "    dfs = []\n",
    "    sizes = []\n",
    "    relevant_stocks = np.random.choice(stock_names,size=10, replace=False)\n",
    "    for stock in relevant_stocks:\n",
    "        subset = data[data['comnam'] == stock]\n",
    "        df = subset[['prc']]\n",
    "        df.columns = [stock]\n",
    "        df.index = pd.to_datetime(subset['date'])\n",
    "        dfs.append(df)\n",
    "        sizes.append(df.shape[0])\n",
    "    dfs = [x for _,x in reversed(sorted(zip(sizes,dfs), key = lambda x:x[0]))]\n",
    "    final = dfs[0]\n",
    "    for i in range(1, 10):\n",
    "        final = final.join(dfs[i])\n",
    "    final.index.name = 'date'\n",
    "    final = final.groupby(by='date').mean()\n",
    "    final = final.interpolate()\n",
    "    period = np.random.randint(30, final.shape[0])\n",
    "    final = final.iloc[period-30:period]\n",
    "    if final.iloc[0].isna().any() or final.iloc[29].isna().any():\n",
    "        repeat = True\n",
    "    else:\n",
    "        repeat = False"
   ],
   "metadata": {
    "collapsed": false
   }
  },
  {
   "cell_type": "markdown",
   "source": [
    "Create an initial portfolio"
   ],
   "metadata": {
    "collapsed": false
   }
  },
  {
   "cell_type": "code",
   "execution_count": 3,
   "outputs": [
    {
     "name": "stdout",
     "output_type": "stream",
     "text": [
      "5276.611358642578\n",
      "[57. 61. 54. 61. 59.  0. 60. 68. 65. 60.]\n",
      "[44. 45. 36. 44. 49. 51. 57. 56. 44. 53.]\n"
     ]
    }
   ],
   "source": [
    "initial_budget = 100000\n",
    "initial_prices = final.iloc[0].to_numpy()\n",
    "available_money = initial_budget * .95\n",
    "P_0 = np.zeros(10) #initial portfolio\n",
    "break_bool = True\n",
    "ignore =  np.random.randint(0,10)\n",
    "while break_bool:\n",
    "    stock_buy = np.random.randint(0,10)\n",
    "    price = initial_prices[stock_buy]\n",
    "    if stock_buy != ignore:\n",
    "        if (available_money * .75) - price >= 0:\n",
    "            available_money = available_money - price\n",
    "            P_0[stock_buy] = P_0[stock_buy] + 1\n",
    "        else:\n",
    "            break_bool = False\n",
    "\n",
    "w_0 = initial_budget * .05 + available_money\n",
    "print(w_0)\n",
    "print(P_0)\n",
    "final_prices = final.iloc[29].to_numpy()\n",
    "available_money = initial_budget * .9\n",
    "break_bool = True\n",
    "P_t = np.zeros(10) #target portfolio\n",
    "\n",
    "while break_bool:\n",
    "    stock_buy = np.random.randint(0,10)\n",
    "    price = final_prices[stock_buy]\n",
    "    if available_money - price >= 0:\n",
    "        available_money = available_money - price\n",
    "        P_t[stock_buy] = P_t[stock_buy] + 1\n",
    "    else:\n",
    "        break_bool = False\n",
    "print(P_t)"
   ],
   "metadata": {
    "collapsed": false
   }
  },
  {
   "cell_type": "markdown",
   "source": [
    "# Formulations\n",
    "\n",
    "## With Perfect Information"
   ],
   "metadata": {
    "collapsed": false
   }
  },
  {
   "cell_type": "code",
   "execution_count": 4,
   "outputs": [
    {
     "name": "stdout",
     "output_type": "stream",
     "text": [
      "Set parameter Username\n",
      "Academic license - for non-commercial use only - expires 2023-11-20\n",
      "Gurobi Optimizer version 10.0.0 build v10.0.0rc2 (win64)\n",
      "\n",
      "CPU model: 11th Gen Intel(R) Core(TM) i7-11800H @ 2.30GHz, instruction set [SSE2|AVX|AVX2|AVX512]\n",
      "Thread count: 8 physical cores, 16 logical processors, using up to 16 threads\n",
      "\n",
      "Optimize a model with 31 rows, 40 columns and 100 nonzeros\n",
      "Model fingerprint: 0x7d33d619\n",
      "Variable types: 0 continuous, 40 integer (20 binary)\n",
      "Coefficient statistics:\n",
      "  Matrix range     [1e+00, 1e+05]\n",
      "  Objective range  [3e+00, 7e+02]\n",
      "  Bounds range     [1e+00, 1e+00]\n",
      "  RHS range        [3e+00, 1e+05]\n",
      "Presolve removed 30 rows and 30 columns\n",
      "Presolve time: 0.02s\n",
      "Presolved: 1 rows, 10 columns, 10 nonzeros\n",
      "Variable types: 0 continuous, 10 integer (0 binary)\n",
      "Found heuristic solution: objective 100529.27943\n",
      "\n",
      "Root relaxation: objective 1.010785e+05, 1 iterations, 0.01 seconds (0.00 work units)\n",
      "\n",
      "    Nodes    |    Current Node    |     Objective Bounds      |     Work\n",
      " Expl Unexpl |  Obj  Depth IntInf | Incumbent    BestBd   Gap | It/Node Time\n",
      "\n",
      "     0     0 101078.495    0    1 100529.279 101078.495  0.55%     -    0s\n",
      "H    0     0                    101028.21978 101078.495  0.05%     -    0s\n",
      "H    0     0                    101072.07981 101078.495  0.01%     -    0s\n",
      "\n",
      "Explored 1 nodes (1 simplex iterations) in 0.05 seconds (0.00 work units)\n",
      "Thread count was 16 (of 16 available processors)\n",
      "\n",
      "Solution count 3: 101072 101028 100529 \n",
      "\n",
      "Optimal solution found (tolerance 1.00e-04)\n",
      "Best objective 1.010720798073e+05, best bound 1.010784949569e+05, gap 0.0063%\n",
      "Final Portfolio Value: 101072.82033157349\n",
      "Free Cash: 0.7405242919921875\n",
      "Final Portfolio: [ 44.  45. 188.  44.  49.  51.  57.  56.  45.  53.]\n"
     ]
    }
   ],
   "source": [
    "F = 2.99  * np.ones(10)# trading fees\n",
    "# P_0 = starting portfolio\n",
    "# P_t = target portfolio\n",
    "# w_0 = starting cash\n",
    "# w_f = final free cash\n",
    "budget = 20000\n",
    "M = initial_budget\n",
    "\n",
    "\n",
    "\n",
    "m = gp.Model()\n",
    "# Define Variables\n",
    "P_b = m.addMVar((10,), vtype=GRB.INTEGER)\n",
    "P_s = m.addMVar((10,), vtype=GRB.INTEGER)\n",
    "z_s = m.addMVar((10,), vtype=GRB.BINARY)\n",
    "z_b = m.addMVar((10,), vtype=GRB.BINARY)\n",
    "# Constraints\n",
    "\n",
    "## Meet Target\n",
    "m.addConstr(\n",
    "    P_0 + P_b - P_s >= P_t\n",
    ")\n",
    "\n",
    "## Have Money\n",
    "m.addConstr(\n",
    "    w_0 + initial_prices @ P_s - initial_prices @ P_b - F @ z_s - F @ z_b >=0\n",
    ")\n",
    "\n",
    "## if we sell a stock, we pay a trading price\n",
    "m.addConstr(\n",
    "    M*(1-z_s) >= P_s\n",
    ")\n",
    "\n",
    "## If we buy a stock, we pay a trading fee\n",
    "\n",
    "m.addConstr(\n",
    "    M*(1-z_b) >= P_b\n",
    ")\n",
    "\n",
    "# Set objective: Maximize end portfolio value\n",
    "m.ModelSense = GRB.MAXIMIZE\n",
    "m.setObjective(\n",
    "    - F @ z_s - F @ z_b + final_prices @ (P_0 + P_b - P_s)\n",
    ")\n",
    "\n",
    "m.optimize()\n",
    "final_portfolio = P_0 + P_b.x - P_s.x\n",
    "free_cash = w_0 + initial_prices @ P_s.x - initial_prices @ P_b.x\n",
    "final_portfolio_value = free_cash + final_prices @ final_portfolio\n",
    "print(f\"Final Portfolio Value: {final_portfolio_value}\")\n",
    "print(f\"Free Cash: {free_cash}\")\n",
    "print(f\"Final Portfolio: {final_portfolio}\")"
   ],
   "metadata": {
    "collapsed": false
   }
  },
  {
   "cell_type": "markdown",
   "source": [
    "## Multi-stage"
   ],
   "metadata": {
    "collapsed": false
   }
  },
  {
   "cell_type": "markdown",
   "source": [
    "##"
   ],
   "metadata": {
    "collapsed": false
   }
  },
  {
   "cell_type": "code",
   "execution_count": 10,
   "outputs": [
    {
     "name": "stdout",
     "output_type": "stream",
     "text": [
      "Gurobi Optimizer version 10.0.0 build v10.0.0rc2 (win64)\n",
      "\n",
      "CPU model: 11th Gen Intel(R) Core(TM) i7-11800H @ 2.30GHz, instruction set [SSE2|AVX|AVX2|AVX512]\n",
      "Thread count: 8 physical cores, 16 logical processors, using up to 16 threads\n",
      "\n",
      "Optimize a model with 940 rows, 1530 columns and 3659 nonzeros\n",
      "Model fingerprint: 0x6964cc6c\n",
      "Variable types: 30 continuous, 1500 integer (600 binary)\n",
      "Coefficient statistics:\n",
      "  Matrix range     [1e+00, 1e+05]\n",
      "  Objective range  [1e+00, 7e+02]\n",
      "  Bounds range     [1e+00, 1e+00]\n",
      "  RHS range        [4e+01, 1e+05]\n",
      "Presolve removed 302 rows and 302 columns\n",
      "Presolve time: 0.02s\n",
      "Presolved: 638 rows, 1228 columns, 3052 nonzeros\n",
      "Variable types: 30 continuous, 1198 integer (599 binary)\n",
      "\n",
      "Root relaxation: objective 1.013008e+05, 18 iterations, 0.00 seconds (0.00 work units)\n",
      "\n",
      "    Nodes    |    Current Node    |     Objective Bounds      |     Work\n",
      " Expl Unexpl |  Obj  Depth IntInf | Incumbent    BestBd   Gap | It/Node Time\n",
      "\n",
      "     0     0 101300.850    0    2          - 101300.850      -     -    0s\n",
      "H    0     0                    101076.19034 101300.850  0.22%     -    0s\n",
      "H    0     0                    101295.12955 101300.850  0.01%     -    0s\n",
      "H    0     0                    101295.24954 101300.756  0.01%     -    0s\n",
      "\n",
      "Cutting planes:\n",
      "  Gomory: 1\n",
      "  MIR: 1\n",
      "\n",
      "Explored 1 nodes (18 simplex iterations) in 0.08 seconds (0.03 work units)\n",
      "Thread count was 16 (of 16 available processors)\n",
      "\n",
      "Solution count 3: 101295 101295 101076 \n",
      "\n",
      "Optimal solution found (tolerance 1.00e-04)\n",
      "Best objective 1.012952495441e+05, best bound 1.013007555157e+05, gap 0.0054%\n",
      "Final Portfolio Value: 101295.24954414368\n",
      "Free Cash: 11545.010107040405\n",
      "Final Portfolio: [44. 45. 36. 44. 49. 51. 57. 56. 44. 53.]\n"
     ]
    }
   ],
   "source": [
    "F = 2.99  * np.ones(10)# trading fees\n",
    "prices = final.interpolate().to_numpy()\n",
    "M = initial_budget\n",
    "# P_0 = starting portfolio\n",
    "# P_t = target portfolio\n",
    "# w_0 = starting cash\n",
    "\n",
    "m = gp.Model()\n",
    "\n",
    "# Define Variables\n",
    "P_b = m.addMVar((30,10), vtype=GRB.INTEGER)\n",
    "P_s = m.addMVar((30,10), vtype=GRB.INTEGER)\n",
    "z_s = m.addMVar((30,10), vtype=GRB.BINARY)\n",
    "z_b = m.addMVar((30,10), vtype=GRB.BINARY)\n",
    "P_time = m.addMVar((30,10), vtype=GRB.INTEGER)\n",
    "w = m.addMVar((30,), vtype=GRB.CONTINUOUS, lb = 0)\n",
    "# Constraints\n",
    "\n",
    "## Represent Portfolios across time\n",
    "\n",
    "### Time step 0\n",
    "m.addConstr(\n",
    "    P_time[0,:] == P_0 + P_b[0,:] - P_s[0,:]\n",
    ")\n",
    "### Rest of the time\n",
    "m.addConstrs((\n",
    "    P_time[i,:] == P_time[i-1,:] - P_b[i,:] - P_s[i,:] for i in range(1,30)\n",
    "))\n",
    "\n",
    "### Final_target\n",
    "m.addConstr(\n",
    "    P_time[29,:] >= P_t\n",
    ")\n",
    "\n",
    "## Represent money\n",
    "### First time step\n",
    "m.addConstr(\n",
    "    w[0] == w_0 - prices[0,:] @ P_b[0,:] + prices[0,:] @ P_s[0,:] - F @ z_b[0,:] - F @ z_s[0,:]\n",
    ")\n",
    "## Rest of the time\n",
    "m.addConstrs((\n",
    "    w[i] == w[i-1] - prices[i,:] @ P_b[i,:] + prices[i,:] @ P_s[i,:] - F @ z_b[i,:] - F @ z_s[i,:] for i in range(1,30)\n",
    "))\n",
    "\n",
    "## Trading fees\n",
    "### if we sell a stock, we pay a trading price\n",
    "m.addConstr(\n",
    "    M*(1-z_s) >= P_s\n",
    ")\n",
    "\n",
    "### If we buy a stock, we pay a trading fee\n",
    "m.addConstr(\n",
    "    M*(1-z_b) >= P_b\n",
    ")\n",
    "\n",
    "# Maximize end Portfolio value\n",
    "m.ModelSense = GRB.MAXIMIZE\n",
    "m.setObjective(\n",
    "    w[29] + prices[29,:] @ P_time[29,:]\n",
    ")\n",
    "m.optimize()\n",
    "final_portfolio = P_time[29,:].x\n",
    "free_cash = w[29].x\n",
    "final_portfolio_value = free_cash + prices[29,:] @ final_portfolio\n",
    "print(f\"Final Portfolio Value: {final_portfolio_value}\")\n",
    "print(f\"Free Cash: {free_cash}\")\n",
    "print(f\"Final Portfolio: {final_portfolio}\")"
   ],
   "metadata": {
    "collapsed": false
   }
  }
 ],
 "metadata": {
  "kernelspec": {
   "display_name": "Python 3",
   "language": "python",
   "name": "python3"
  },
  "language_info": {
   "codemirror_mode": {
    "name": "ipython",
    "version": 2
   },
   "file_extension": ".py",
   "mimetype": "text/x-python",
   "name": "python",
   "nbconvert_exporter": "python",
   "pygments_lexer": "ipython2",
   "version": "2.7.6"
  }
 },
 "nbformat": 4,
 "nbformat_minor": 0
}
