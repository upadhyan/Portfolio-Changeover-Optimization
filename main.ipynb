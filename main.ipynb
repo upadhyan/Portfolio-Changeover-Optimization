{
 "cells": [
  {
   "cell_type": "markdown",
   "metadata": {
    "collapsed": false
   },
   "source": [
    "# Main Runner"
   ]
  },
  {
   "cell_type": "code",
   "execution_count": 7,
   "metadata": {},
   "outputs": [],
   "source": [
    "from src.simulator import MarketSimulator\n",
    "from src.experimental_config import generate_experiments"
   ]
  },
  {
   "cell_type": "code",
   "execution_count": 10,
   "metadata": {},
   "outputs": [
    {
     "name": "stdout",
     "output_type": "stream",
     "text": [
      "1:a\n",
      "1:b\n",
      "2:a\n",
      "2:b\n",
      "3:a\n",
      "3:b\n",
      "4:a\n",
      "4:b\n"
     ]
    }
   ],
   "source": [
    "l = [\"a\", \"b\", \"c\", \"d\"]\n",
    "for i in [1,2,3,4]:\n",
    "    j=0\n",
    "    while True:\n",
    "        print(f\"{i}:{l[j]}\")\n",
    "        j+=1\n",
    "        if j == 2:\n",
    "            break"
   ]
  },
  {
   "cell_type": "markdown",
   "metadata": {
    "collapsed": false
   },
   "source": [
    "## Imports"
   ]
  },
  {
   "cell_type": "code",
   "execution_count": 1,
   "metadata": {
    "collapsed": true
   },
   "outputs": [],
   "source": [
    "from objects import *\n",
    "import pickle\n",
    "import os\n",
    "import plotly.express as px"
   ]
  },
  {
   "cell_type": "markdown",
   "metadata": {
    "collapsed": false
   },
   "source": [
    "## Generate Experiments"
   ]
  },
  {
   "cell_type": "code",
   "execution_count": null,
   "metadata": {
    "collapsed": false
   },
   "outputs": [],
   "source": [
    "prices = pd.read_parquet(\"raw_data/spx_stock_prices.parquet\")\n",
    "treasury_rate_files = [\"daily-treasury-rates.csv\"] + [f\"daily-treasury-rates ({i}).csv\" for i in range(1, 25)]\n",
    "rates_df = [pd.read_csv(f\"raw_data/{file}\", index_col=0) for file in treasury_rate_files]\n",
    "rates_df = pd.concat(rates_df)\n",
    "rates_df.index = pd.to_datetime(rates_df.index)\n",
    "# sort rates_df by date\n",
    "rates_df = rates_df.sort_index()\n",
    "print(\"Start Generation\")\n",
    "generate_experiments(prices, rates_df, 250, \"experiments\", lookback=48, error_max=10)"
   ]
  },
  {
   "cell_type": "markdown",
   "metadata": {
    "collapsed": false
   },
   "source": [
    "# Read in generated experiments\n",
    "Only needed if running a single experiment. Otherwise, the experiments are read in from the ``experiments`` folder."
   ]
  },
  {
   "cell_type": "code",
   "execution_count": 2,
   "metadata": {
    "collapsed": false
   },
   "outputs": [],
   "source": [
    "# Get all files in the experiments folder\n",
    "experiment_names = os.listdir('experiments')\n",
    "experiments = []\n",
    "# read in pickle object\n",
    "for e in experiment_names:\n",
    "    with open(f\"experiments/{e}\", 'rb') as f:\n",
    "        exp = pickle.load(f)\n",
    "        experiments.append(exp)"
   ]
  },
  {
   "cell_type": "code",
   "execution_count": 6,
   "metadata": {
    "collapsed": false
   },
   "outputs": [
    {
     "name": "stdout",
     "output_type": "stream",
     "text": [
      "Current Portfolio Value at 2015-09-11: 184595.0\n",
      "\t Optimizing with 31 time steps, 501 constraints, and 1178 variables...\n",
      "\t Optimized. Time taken: 0.12061214447021484\n",
      "Current Portfolio Value at 2015-09-14: 183039.85\n",
      "\t Optimizing with 30 time steps, 485 constraints, and 1110 variables...\n",
      "\t Optimized. Time taken: 0.06326127052307129\n",
      "Current Portfolio Value at 2015-09-15: 185673.86000000002\n",
      "\t Optimizing with 29 time steps, 469 constraints, and 1044 variables...\n",
      "\t Optimized. Time taken: 0.08235383033752441\n",
      "Current Portfolio Value at 2015-09-16: 187387.81000000003\n",
      "\t Optimizing with 28 time steps, 453 constraints, and 980 variables...\n",
      "\t Optimized. Time taken: 0.10147380828857422\n",
      "Current Portfolio Value at 2015-09-17: 183854.7\n",
      "\t Optimizing with 27 time steps, 437 constraints, and 918 variables...\n",
      "\t Optimized. Time taken: 0.051927804946899414\n",
      "Current Portfolio Value at 2015-09-18: 179472.30000000002\n",
      "\t Optimizing with 26 time steps, 421 constraints, and 858 variables...\n",
      "\t Optimized. Time taken: 0.07249593734741211\n",
      "Current Portfolio Value at 2015-09-21: 182244.2\n",
      "\t Optimizing with 25 time steps, 405 constraints, and 176 variables...\n",
      "\t Optimized. Time taken: 0.0006892681121826172\n",
      "Unable to retrieve attribute 'X'\n",
      "Current Portfolio Value at 2015-09-22: 179566.40000000002\n",
      "\t Optimizing with 24 time steps, 389 constraints, and 169 variables...\n",
      "\t Optimized. Time taken: 0.0007722377777099609\n",
      "Unable to retrieve attribute 'X'\n",
      "Current Portfolio Value at 2015-09-23: 180170.7\n",
      "\t Optimizing with 23 time steps, 373 constraints, and 162 variables...\n",
      "\t Optimized. Time taken: 0.0005779266357421875\n",
      "Unable to retrieve attribute 'X'\n",
      "Current Portfolio Value at 2015-09-24: 178298.25000000003\n",
      "\t Optimizing with 22 time steps, 357 constraints, and 155 variables...\n",
      "\t Optimized. Time taken: 0.0006239414215087891\n",
      "Unable to retrieve attribute 'X'\n",
      "Current Portfolio Value at 2015-09-25: 179910.40000000002\n",
      "\t Optimizing with 21 time steps, 341 constraints, and 148 variables...\n",
      "\t Optimized. Time taken: 0.0005450248718261719\n",
      "Unable to retrieve attribute 'X'\n",
      "Current Portfolio Value at 2015-09-28: 175029.90000000002\n",
      "\t Optimizing with 20 time steps, 325 constraints, and 141 variables...\n",
      "\t Optimized. Time taken: 0.0007460117340087891\n",
      "Unable to retrieve attribute 'X'\n",
      "Current Portfolio Value at 2015-09-29: 177131.95\n",
      "\t Optimizing with 19 time steps, 309 constraints, and 134 variables...\n",
      "\t Optimized. Time taken: 0.0004448890686035156\n",
      "Unable to retrieve attribute 'X'\n",
      "Current Portfolio Value at 2015-09-30: 181119.75\n",
      "\t Optimizing with 18 time steps, 293 constraints, and 127 variables...\n",
      "\t Optimized. Time taken: 0.0004978179931640625\n",
      "Unable to retrieve attribute 'X'\n",
      "Current Portfolio Value at 2015-10-01: 181955.7\n",
      "\t Optimizing with 17 time steps, 277 constraints, and 120 variables...\n",
      "\t Optimized. Time taken: 0.0005240440368652344\n",
      "Unable to retrieve attribute 'X'\n",
      "Current Portfolio Value at 2015-10-02: 181222.15000000002\n",
      "\t Optimizing with 16 time steps, 261 constraints, and 113 variables...\n",
      "\t Optimized. Time taken: 0.0004620552062988281\n",
      "Unable to retrieve attribute 'X'\n",
      "Current Portfolio Value at 2015-10-05: 186454.92500000002\n",
      "\t Optimizing with 15 time steps, 245 constraints, and 106 variables...\n",
      "\t Optimized. Time taken: 0.00038814544677734375\n",
      "Unable to retrieve attribute 'X'\n",
      "Current Portfolio Value at 2015-10-06: 186361.40000000002\n",
      "\t Optimizing with 14 time steps, 229 constraints, and 99 variables...\n",
      "\t Optimized. Time taken: 0.000370025634765625\n",
      "Unable to retrieve attribute 'X'\n",
      "Current Portfolio Value at 2015-10-07: 188765.40000000002\n",
      "\t Optimizing with 13 time steps, 213 constraints, and 92 variables...\n",
      "\t Optimized. Time taken: 0.00033593177795410156\n",
      "Unable to retrieve attribute 'X'\n",
      "Current Portfolio Value at 2015-10-08: 190132.65000000002\n",
      "\t Optimizing with 12 time steps, 197 constraints, and 85 variables...\n",
      "\t Optimized. Time taken: 0.00033211708068847656\n",
      "Unable to retrieve attribute 'X'\n",
      "Current Portfolio Value at 2015-10-09: 190321.10000000003\n",
      "\t Optimizing with 11 time steps, 181 constraints, and 78 variables...\n",
      "\t Optimized. Time taken: 0.0003199577331542969\n",
      "Unable to retrieve attribute 'X'\n",
      "Current Portfolio Value at 2015-10-12: 189398.85\n",
      "\t Optimizing with 10 time steps, 165 constraints, and 71 variables...\n",
      "\t Optimized. Time taken: 0.0003120899200439453\n",
      "Unable to retrieve attribute 'X'\n",
      "Current Portfolio Value at 2015-10-13: 186432.75000000003\n",
      "\t Optimizing with 9 time steps, 149 constraints, and 64 variables...\n",
      "\t Optimized. Time taken: 0.00029921531677246094\n",
      "Unable to retrieve attribute 'X'\n",
      "Current Portfolio Value at 2015-10-14: 185211.00000000003\n",
      "\t Optimizing with 8 time steps, 133 constraints, and 57 variables...\n",
      "\t Optimized. Time taken: 0.0002720355987548828\n",
      "Unable to retrieve attribute 'X'\n",
      "Current Portfolio Value at 2015-10-15: 187398.85000000003\n",
      "\t Optimizing with 7 time steps, 117 constraints, and 50 variables...\n",
      "\t Optimized. Time taken: 0.0002608299255371094\n",
      "Unable to retrieve attribute 'X'\n",
      "Current Portfolio Value at 2015-10-16: 188204.55000000005\n",
      "\t Optimizing with 6 time steps, 101 constraints, and 43 variables...\n",
      "\t Optimized. Time taken: 0.00024080276489257812\n",
      "Unable to retrieve attribute 'X'\n",
      "Current Portfolio Value at 2015-10-19: 188909.25000000003\n",
      "\t Optimizing with 5 time steps, 85 constraints, and 36 variables...\n",
      "\t Optimized. Time taken: 0.00021886825561523438\n",
      "Unable to retrieve attribute 'X'\n",
      "Current Portfolio Value at 2015-10-20: 190031.45\n",
      "\t Optimizing with 4 time steps, 69 constraints, and 29 variables...\n",
      "\t Optimized. Time taken: 0.0002932548522949219\n",
      "Unable to retrieve attribute 'X'\n",
      "Current Portfolio Value at 2015-10-21: 189067.7\n",
      "\t Optimizing with 3 time steps, 53 constraints, and 22 variables...\n",
      "\t Optimized. Time taken: 0.00019669532775878906\n",
      "Unable to retrieve attribute 'X'\n",
      "Current Portfolio Value at 2015-10-22: 195762.45000000004\n",
      "\t Optimizing with 2 time steps, 37 constraints, and 15 variables...\n",
      "\t Optimized. Time taken: 0.000247955322265625\n",
      "Unable to retrieve attribute 'X'\n",
      "Current Portfolio Value at 2015-10-23: 198122.60000000003\n",
      "\t Optimizing with 1 time steps, 21 constraints, and 8 variables...\n",
      "\t Optimized. Time taken: 0.00011372566223144531\n",
      "Unable to retrieve attribute 'X'\n"
     ]
    },
    {
     "data": {
      "text/plain": [
       "3"
      ]
     },
     "execution_count": 6,
     "metadata": {},
     "output_type": "execute_result"
    }
   ],
   "source": [
    "policy = ColumnGenerationPolicy(experiments[3], sell_switch=True)\n",
    "simulator = MarketSimulator(experiments[3], policy, verbose=False)\n",
    "simulator.run()\n",
    "simulator.total_trades"
   ]
  },
  {
   "cell_type": "code",
   "execution_count": 7,
   "metadata": {},
   "outputs": [
    {
     "data": {
      "image/png": "[encoded data removed]",
      "text/plain": [
       "<Figure size 640x480 with 1 Axes>"
      ]
     },
     "metadata": {},
     "output_type": "display_data"
    }
   ],
   "source": [
    "simulator.plot_value()"
   ]
  },
  {
   "cell_type": "code",
   "execution_count": 5,
   "metadata": {},
   "outputs": [
    {
     "data": {
      "application/vnd.plotly.v1+json": {
       "config": {
        "plotlyServerURL": "https://plot.ly"
       },
       "data": [
        {
         "hovertemplate": "variable=CTSH_86158<br>index=%{x}<br>value=%{y}<extra></extra>",
         "legendgroup": "CTSH_86158",
         "line": {
          "color": "#636efa",
          "dash": "solid"
         },
         "marker": {
          "symbol": "circle"
         },
         "mode": "lines",
         "name": "CTSH_86158",
         "orientation": "v",
         "showlegend": true,
         "type": "scatter",
         "x": [
          0,
          1,
          2,
          3,
          4,
          5,
          6,
          7,
          8,
          9,
          10,
          11,
          12,
          13,
          14,
          15,
          16,
          17,
          18,
          19,
          20,
          21,
          22,
          23,
          24,
          25,
          26,
          27,
          28,
          29,
          30
         ],
         "xaxis": "x",
         "y": [
          1441,
          1441,
          1441,
          1441,
          1441,
          1440,
          1440,
          1440,
          1440,
          1440,
          1440,
          1440,
          1440,
          1440,
          1440,
          1440,
          1440,
          1440,
          1440,
          1440,
          1440,
          1440,
          1440,
          1440,
          1440,
          1440,
          1440,
          1440,
          1440,
          1440,
          1440
         ],
         "yaxis": "y"
        },
        {
         "hovertemplate": "variable=PBCT_12073<br>index=%{x}<br>value=%{y}<extra></extra>",
         "legendgroup": "PBCT_12073",
         "line": {
          "color": "#EF553B",
          "dash": "solid"
         },
         "marker": {
          "symbol": "circle"
         },
         "mode": "lines",
         "name": "PBCT_12073",
         "orientation": "v",
         "showlegend": true,
         "type": "scatter",
         "x": [
          0,
          1,
          2,
          3,
          4,
          5,
          6,
          7,
          8,
          9,
          10,
          11,
          12,
          13,
          14,
          15,
          16,
          17,
          18,
          19,
          20,
          21,
          22,
          23,
          24,
          25,
          26,
          27,
          28,
          29,
          30
         ],
         "xaxis": "x",
         "y": [
          1440,
          1440,
          1440,
          1440,
          1440,
          1435,
          1435,
          1435,
          1435,
          1435,
          1435,
          1435,
          1435,
          1435,
          1435,
          1435,
          1435,
          1435,
          1435,
          1435,
          1435,
          1435,
          1435,
          1435,
          1435,
          1435,
          1435,
          1435,
          1435,
          1435,
          1435
         ],
         "yaxis": "y"
        },
        {
         "hovertemplate": "variable=LNC_49015<br>index=%{x}<br>value=%{y}<extra></extra>",
         "legendgroup": "LNC_49015",
         "line": {
          "color": "#00cc96",
          "dash": "solid"
         },
         "marker": {
          "symbol": "circle"
         },
         "mode": "lines",
         "name": "LNC_49015",
         "orientation": "v",
         "showlegend": true,
         "type": "scatter",
         "x": [
          0,
          1,
          2,
          3,
          4,
          5,
          6,
          7,
          8,
          9,
          10,
          11,
          12,
          13,
          14,
          15,
          16,
          17,
          18,
          19,
          20,
          21,
          22,
          23,
          24,
          25,
          26,
          27,
          28,
          29,
          30
         ],
         "xaxis": "x",
         "y": [
          1438,
          1438,
          1438,
          1438,
          1438,
          1440,
          1440,
          1440,
          1440,
          1440,
          1440,
          1440,
          1440,
          1440,
          1440,
          1440,
          1440,
          1440,
          1440,
          1440,
          1440,
          1440,
          1440,
          1440,
          1440,
          1440,
          1440,
          1440,
          1440,
          1440,
          1440
         ],
         "yaxis": "y"
        },
        {
         "hovertemplate": "variable=cash<br>index=%{x}<br>value=%{y}<extra></extra>",
         "legendgroup": "cash",
         "line": {
          "color": "#ab63fa",
          "dash": "solid"
         },
         "marker": {
          "symbol": "circle"
         },
         "mode": "lines",
         "name": "cash",
         "orientation": "v",
         "showlegend": true,
         "type": "scatter",
         "x": [
          0,
          1,
          2,
          3,
          4,
          5,
          6,
          7,
          8,
          9,
          10,
          11,
          12,
          13,
          14,
          15,
          16,
          17,
          18,
          19,
          20,
          21,
          22,
          23,
          24,
          25,
          26,
          27,
          28,
          29,
          30
         ],
         "xaxis": "x",
         "y": [
          9.670000000012806,
          9.670000000012806,
          9.670000000012806,
          9.670000000012806,
          9.670000000012806,
          46.40000000001281,
          46.40000000001281,
          46.40000000001281,
          46.40000000001281,
          46.40000000001281,
          46.40000000001281,
          46.40000000001281,
          46.40000000001281,
          46.40000000001281,
          46.40000000001281,
          46.40000000001281,
          46.40000000001281,
          46.40000000001281,
          46.40000000001281,
          46.40000000001281,
          46.40000000001281,
          46.40000000001281,
          46.40000000001281,
          46.40000000001281,
          46.40000000001281,
          46.40000000001281,
          46.40000000001281,
          46.40000000001281,
          46.40000000001281,
          46.40000000001281,
          46.40000000001281
         ],
         "yaxis": "y"
        }
       ],
       "layout": {
        "legend": {
         "title": {
          "text": "variable"
         },
         "tracegroupgap": 0
        },
        "margin": {
         "t": 60
        },
        "template": {
         "data": {
          "bar": [
           {
            "error_x": {
             "color": "#2a3f5f"
            },
            "error_y": {
             "color": "#2a3f5f"
            },
            "marker": {
             "line": {
              "color": "#E5ECF6",
              "width": 0.5
             },
             "pattern": {
              "fillmode": "overlay",
              "size": 10,
              "solidity": 0.2
             }
            },
            "type": "bar"
           }
          ],
          "barpolar": [
           {
            "marker": {
             "line": {
              "color": "#E5ECF6",
              "width": 0.5
             },
             "pattern": {
              "fillmode": "overlay",
              "size": 10,
              "solidity": 0.2
             }
            },
            "type": "barpolar"
           }
          ],
          "carpet": [
           {
            "aaxis": {
             "endlinecolor": "#2a3f5f",
             "gridcolor": "white",
             "linecolor": "white",
             "minorgridcolor": "white",
             "startlinecolor": "#2a3f5f"
            },
            "baxis": {
             "endlinecolor": "#2a3f5f",
             "gridcolor": "white",
             "linecolor": "white",
             "minorgridcolor": "white",
             "startlinecolor": "#2a3f5f"
            },
            "type": "carpet"
           }
          ],
          "choropleth": [
           {
            "colorbar": {
             "outlinewidth": 0,
             "ticks": ""
            },
            "type": "choropleth"
           }
          ],
          "contour": [
           {
            "colorbar": {
             "outlinewidth": 0,
             "ticks": ""
            },
            "colorscale": [
             [
              0,
              "#0d0887"
             ],
             [
              0.1111111111111111,
              "#46039f"
             ],
             [
              0.2222222222222222,
              "#7201a8"
             ],
             [
              0.3333333333333333,
              "#9c179e"
             ],
             [
              0.4444444444444444,
              "#bd3786"
             ],
             [
              0.5555555555555556,
              "#d8576b"
             ],
             [
              0.6666666666666666,
              "#ed7953"
             ],
             [
              0.7777777777777778,
              "#fb9f3a"
             ],
             [
              0.8888888888888888,
              "#fdca26"
             ],
             [
              1,
              "#f0f921"
             ]
            ],
            "type": "contour"
           }
          ],
          "contourcarpet": [
           {
            "colorbar": {
             "outlinewidth": 0,
             "ticks": ""
            },
            "type": "contourcarpet"
           }
          ],
          "heatmap": [
           {
            "colorbar": {
             "outlinewidth": 0,
             "ticks": ""
            },
            "colorscale": [
             [
              0,
              "#0d0887"
             ],
             [
              0.1111111111111111,
              "#46039f"
             ],
             [
              0.2222222222222222,
              "#7201a8"
             ],
             [
              0.3333333333333333,
              "#9c179e"
             ],
             [
              0.4444444444444444,
              "#bd3786"
             ],
             [
              0.5555555555555556,
              "#d8576b"
             ],
             [
              0.6666666666666666,
              "#ed7953"
             ],
             [
              0.7777777777777778,
              "#fb9f3a"
             ],
             [
              0.8888888888888888,
              "#fdca26"
             ],
             [
              1,
              "#f0f921"
             ]
            ],
            "type": "heatmap"
           }
          ],
          "heatmapgl": [
           {
            "colorbar": {
             "outlinewidth": 0,
             "ticks": ""
            },
            "colorscale": [
             [
              0,
              "#0d0887"
             ],
             [
              0.1111111111111111,
              "#46039f"
             ],
             [
              0.2222222222222222,
              "#7201a8"
             ],
             [
              0.3333333333333333,
              "#9c179e"
             ],
             [
              0.4444444444444444,
              "#bd3786"
             ],
             [
              0.5555555555555556,
              "#d8576b"
             ],
             [
              0.6666666666666666,
              "#ed7953"
             ],
             [
              0.7777777777777778,
              "#fb9f3a"
             ],
             [
              0.8888888888888888,
              "#fdca26"
             ],
             [
              1,
              "#f0f921"
             ]
            ],
            "type": "heatmapgl"
           }
          ],
          "histogram": [
           {
            "marker": {
             "pattern": {
              "fillmode": "overlay",
              "size": 10,
              "solidity": 0.2
             }
            },
            "type": "histogram"
           }
          ],
          "histogram2d": [
           {
            "colorbar": {
             "outlinewidth": 0,
             "ticks": ""
            },
            "colorscale": [
             [
              0,
              "#0d0887"
             ],
             [
              0.1111111111111111,
              "#46039f"
             ],
             [
              0.2222222222222222,
              "#7201a8"
             ],
             [
              0.3333333333333333,
              "#9c179e"
             ],
             [
              0.4444444444444444,
              "#bd3786"
             ],
             [
              0.5555555555555556,
              "#d8576b"
             ],
             [
              0.6666666666666666,
              "#ed7953"
             ],
             [
              0.7777777777777778,
              "#fb9f3a"
             ],
             [
              0.8888888888888888,
              "#fdca26"
             ],
             [
              1,
              "#f0f921"
             ]
            ],
            "type": "histogram2d"
           }
          ],
          "histogram2dcontour": [
           {
            "colorbar": {
             "outlinewidth": 0,
             "ticks": ""
            },
            "colorscale": [
             [
              0,
              "#0d0887"
             ],
             [
              0.1111111111111111,
              "#46039f"
             ],
             [
              0.2222222222222222,
              "#7201a8"
             ],
             [
              0.3333333333333333,
              "#9c179e"
             ],
             [
              0.4444444444444444,
              "#bd3786"
             ],
             [
              0.5555555555555556,
              "#d8576b"
             ],
             [
              0.6666666666666666,
              "#ed7953"
             ],
             [
              0.7777777777777778,
              "#fb9f3a"
             ],
             [
              0.8888888888888888,
              "#fdca26"
             ],
             [
              1,
              "#f0f921"
             ]
            ],
            "type": "histogram2dcontour"
           }
          ],
          "mesh3d": [
           {
            "colorbar": {
             "outlinewidth": 0,
             "ticks": ""
            },
            "type": "mesh3d"
           }
          ],
          "parcoords": [
           {
            "line": {
             "colorbar": {
              "outlinewidth": 0,
              "ticks": ""
             }
            },
            "type": "parcoords"
           }
          ],
          "pie": [
           {
            "automargin": true,
            "type": "pie"
           }
          ],
          "scatter": [
           {
            "fillpattern": {
             "fillmode": "overlay",
             "size": 10,
             "solidity": 0.2
            },
            "type": "scatter"
           }
          ],
          "scatter3d": [
           {
            "line": {
             "colorbar": {
              "outlinewidth": 0,
              "ticks": ""
             }
            },
            "marker": {
             "colorbar": {
              "outlinewidth": 0,
              "ticks": ""
             }
            },
            "type": "scatter3d"
           }
          ],
          "scattercarpet": [
           {
            "marker": {
             "colorbar": {
              "outlinewidth": 0,
              "ticks": ""
             }
            },
            "type": "scattercarpet"
           }
          ],
          "scattergeo": [
           {
            "marker": {
             "colorbar": {
              "outlinewidth": 0,
              "ticks": ""
             }
            },
            "type": "scattergeo"
           }
          ],
          "scattergl": [
           {
            "marker": {
             "colorbar": {
              "outlinewidth": 0,
              "ticks": ""
             }
            },
            "type": "scattergl"
           }
          ],
          "scattermapbox": [
           {
            "marker": {
             "colorbar": {
              "outlinewidth": 0,
              "ticks": ""
             }
            },
            "type": "scattermapbox"
           }
          ],
          "scatterpolar": [
           {
            "marker": {
             "colorbar": {
              "outlinewidth": 0,
              "ticks": ""
             }
            },
            "type": "scatterpolar"
           }
          ],
          "scatterpolargl": [
           {
            "marker": {
             "colorbar": {
              "outlinewidth": 0,
              "ticks": ""
             }
            },
            "type": "scatterpolargl"
           }
          ],
          "scatterternary": [
           {
            "marker": {
             "colorbar": {
              "outlinewidth": 0,
              "ticks": ""
             }
            },
            "type": "scatterternary"
           }
          ],
          "surface": [
           {
            "colorbar": {
             "outlinewidth": 0,
             "ticks": ""
            },
            "colorscale": [
             [
              0,
              "#0d0887"
             ],
             [
              0.1111111111111111,
              "#46039f"
             ],
             [
              0.2222222222222222,
              "#7201a8"
             ],
             [
              0.3333333333333333,
              "#9c179e"
             ],
             [
              0.4444444444444444,
              "#bd3786"
             ],
             [
              0.5555555555555556,
              "#d8576b"
             ],
             [
              0.6666666666666666,
              "#ed7953"
             ],
             [
              0.7777777777777778,
              "#fb9f3a"
             ],
             [
              0.8888888888888888,
              "#fdca26"
             ],
             [
              1,
              "#f0f921"
             ]
            ],
            "type": "surface"
           }
          ],
          "table": [
           {
            "cells": {
             "fill": {
              "color": "#EBF0F8"
             },
             "line": {
              "color": "white"
             }
            },
            "header": {
             "fill": {
              "color": "#C8D4E3"
             },
             "line": {
              "color": "white"
             }
            },
            "type": "table"
           }
          ]
         },
         "layout": {
          "annotationdefaults": {
           "arrowcolor": "#2a3f5f",
           "arrowhead": 0,
           "arrowwidth": 1
          },
          "autotypenumbers": "strict",
          "coloraxis": {
           "colorbar": {
            "outlinewidth": 0,
            "ticks": ""
           }
          },
          "colorscale": {
           "diverging": [
            [
             0,
             "#8e0152"
            ],
            [
             0.1,
             "#c51b7d"
            ],
            [
             0.2,
             "#de77ae"
            ],
            [
             0.3,
             "#f1b6da"
            ],
            [
             0.4,
             "#fde0ef"
            ],
            [
             0.5,
             "#f7f7f7"
            ],
            [
             0.6,
             "#e6f5d0"
            ],
            [
             0.7,
             "#b8e186"
            ],
            [
             0.8,
             "#7fbc41"
            ],
            [
             0.9,
             "#4d9221"
            ],
            [
             1,
             "#276419"
            ]
           ],
           "sequential": [
            [
             0,
             "#0d0887"
            ],
            [
             0.1111111111111111,
             "#46039f"
            ],
            [
             0.2222222222222222,
             "#7201a8"
            ],
            [
             0.3333333333333333,
             "#9c179e"
            ],
            [
             0.4444444444444444,
             "#bd3786"
            ],
            [
             0.5555555555555556,
             "#d8576b"
            ],
            [
             0.6666666666666666,
             "#ed7953"
            ],
            [
             0.7777777777777778,
             "#fb9f3a"
            ],
            [
             0.8888888888888888,
             "#fdca26"
            ],
            [
             1,
             "#f0f921"
            ]
           ],
           "sequentialminus": [
            [
             0,
             "#0d0887"
            ],
            [
             0.1111111111111111,
             "#46039f"
            ],
            [
             0.2222222222222222,
             "#7201a8"
            ],
            [
             0.3333333333333333,
             "#9c179e"
            ],
            [
             0.4444444444444444,
             "#bd3786"
            ],
            [
             0.5555555555555556,
             "#d8576b"
            ],
            [
             0.6666666666666666,
             "#ed7953"
            ],
            [
             0.7777777777777778,
             "#fb9f3a"
            ],
            [
             0.8888888888888888,
             "#fdca26"
            ],
            [
             1,
             "#f0f921"
            ]
           ]
          },
          "colorway": [
           "#636efa",
           "#EF553B",
           "#00cc96",
           "#ab63fa",
           "#FFA15A",
           "#19d3f3",
           "#FF6692",
           "#B6E880",
           "#FF97FF",
           "#FECB52"
          ],
          "font": {
           "color": "#2a3f5f"
          },
          "geo": {
           "bgcolor": "white",
           "lakecolor": "white",
           "landcolor": "#E5ECF6",
           "showlakes": true,
           "showland": true,
           "subunitcolor": "white"
          },
          "hoverlabel": {
           "align": "left"
          },
          "hovermode": "closest",
          "mapbox": {
           "style": "light"
          },
          "paper_bgcolor": "white",
          "plot_bgcolor": "#E5ECF6",
          "polar": {
           "angularaxis": {
            "gridcolor": "white",
            "linecolor": "white",
            "ticks": ""
           },
           "bgcolor": "#E5ECF6",
           "radialaxis": {
            "gridcolor": "white",
            "linecolor": "white",
            "ticks": ""
           }
          },
          "scene": {
           "xaxis": {
            "backgroundcolor": "#E5ECF6",
            "gridcolor": "white",
            "gridwidth": 2,
            "linecolor": "white",
            "showbackground": true,
            "ticks": "",
            "zerolinecolor": "white"
           },
           "yaxis": {
            "backgroundcolor": "#E5ECF6",
            "gridcolor": "white",
            "gridwidth": 2,
            "linecolor": "white",
            "showbackground": true,
            "ticks": "",
            "zerolinecolor": "white"
           },
           "zaxis": {
            "backgroundcolor": "#E5ECF6",
            "gridcolor": "white",
            "gridwidth": 2,
            "linecolor": "white",
            "showbackground": true,
            "ticks": "",
            "zerolinecolor": "white"
           }
          },
          "shapedefaults": {
           "line": {
            "color": "#2a3f5f"
           }
          },
          "ternary": {
           "aaxis": {
            "gridcolor": "white",
            "linecolor": "white",
            "ticks": ""
           },
           "baxis": {
            "gridcolor": "white",
            "linecolor": "white",
            "ticks": ""
           },
           "bgcolor": "#E5ECF6",
           "caxis": {
            "gridcolor": "white",
            "linecolor": "white",
            "ticks": ""
           }
          },
          "title": {
           "x": 0.05
          },
          "xaxis": {
           "automargin": true,
           "gridcolor": "white",
           "linecolor": "white",
           "ticks": "",
           "title": {
            "standoff": 15
           },
           "zerolinecolor": "white",
           "zerolinewidth": 2
          },
          "yaxis": {
           "automargin": true,
           "gridcolor": "white",
           "linecolor": "white",
           "ticks": "",
           "title": {
            "standoff": 15
           },
           "zerolinecolor": "white",
           "zerolinewidth": 2
          }
         }
        },
        "xaxis": {
         "anchor": "y",
         "domain": [
          0,
          1
         ],
         "title": {
          "text": "index"
         }
        },
        "yaxis": {
         "anchor": "x",
         "domain": [
          0,
          1
         ],
         "title": {
          "text": "value"
         }
        }
       }
      }
     },
     "metadata": {},
     "output_type": "display_data"
    }
   ],
   "source": [
    "px.line(simulator.historical_portfolios)"
   ]
  },
  {
   "cell_type": "code",
   "execution_count": 6,
   "metadata": {},
   "outputs": [
    {
     "data": {
      "text/html": [
       "<div>\n",
       "<style scoped>\n",
       "    .dataframe tbody tr th:only-of-type {\n",
       "        vertical-align: middle;\n",
       "    }\n",
       "\n",
       "    .dataframe tbody tr th {\n",
       "        vertical-align: top;\n",
       "    }\n",
       "\n",
       "    .dataframe thead th {\n",
       "        text-align: right;\n",
       "    }\n",
       "</style>\n",
       "<table border=\"1\" class=\"dataframe\">\n",
       "  <thead>\n",
       "    <tr style=\"text-align: right;\">\n",
       "      <th></th>\n",
       "      <th>2015-10-23 00:00:00</th>\n",
       "      <th>0</th>\n",
       "    </tr>\n",
       "  </thead>\n",
       "  <tbody>\n",
       "    <tr>\n",
       "      <th>CTSH_86158</th>\n",
       "      <td>1441.00</td>\n",
       "      <td>1440.0</td>\n",
       "    </tr>\n",
       "    <tr>\n",
       "      <th>PBCT_12073</th>\n",
       "      <td>1440.00</td>\n",
       "      <td>1435.0</td>\n",
       "    </tr>\n",
       "    <tr>\n",
       "      <th>LNC_49015</th>\n",
       "      <td>1438.00</td>\n",
       "      <td>1439.0</td>\n",
       "    </tr>\n",
       "    <tr>\n",
       "      <th>cash</th>\n",
       "      <td>9.67</td>\n",
       "      <td>0.0</td>\n",
       "    </tr>\n",
       "  </tbody>\n",
       "</table>\n",
       "</div>"
      ],
      "text/plain": [
       "            2015-10-23 00:00:00       0\n",
       "CTSH_86158              1441.00  1440.0\n",
       "PBCT_12073              1440.00  1435.0\n",
       "LNC_49015               1438.00  1439.0\n",
       "cash                       9.67     0.0"
      ]
     },
     "execution_count": 6,
     "metadata": {},
     "output_type": "execute_result"
    }
   ],
   "source": [
    "pd.concat([experiments[3].initial_portfolio, experiments[3].final_portfolio], axis=1)"
   ]
  },
  {
   "cell_type": "code",
   "execution_count": 7,
   "metadata": {},
   "outputs": [
    {
     "data": {
      "text/html": [
       "<div>\n",
       "<style scoped>\n",
       "    .dataframe tbody tr th:only-of-type {\n",
       "        vertical-align: middle;\n",
       "    }\n",
       "\n",
       "    .dataframe tbody tr th {\n",
       "        vertical-align: top;\n",
       "    }\n",
       "\n",
       "    .dataframe thead th {\n",
       "        text-align: right;\n",
       "    }\n",
       "</style>\n",
       "<table border=\"1\" class=\"dataframe\">\n",
       "  <thead>\n",
       "    <tr style=\"text-align: right;\">\n",
       "      <th></th>\n",
       "      <th>0</th>\n",
       "      <th>1</th>\n",
       "      <th>2</th>\n",
       "      <th>3</th>\n",
       "      <th>4</th>\n",
       "      <th>5</th>\n",
       "      <th>6</th>\n",
       "      <th>7</th>\n",
       "      <th>8</th>\n",
       "      <th>9</th>\n",
       "      <th>...</th>\n",
       "      <th>21</th>\n",
       "      <th>22</th>\n",
       "      <th>23</th>\n",
       "      <th>24</th>\n",
       "      <th>25</th>\n",
       "      <th>26</th>\n",
       "      <th>27</th>\n",
       "      <th>28</th>\n",
       "      <th>29</th>\n",
       "      <th>30</th>\n",
       "    </tr>\n",
       "  </thead>\n",
       "  <tbody>\n",
       "    <tr>\n",
       "      <th>CTSH_86158</th>\n",
       "      <td>1441.00</td>\n",
       "      <td>1441.00</td>\n",
       "      <td>1440.00</td>\n",
       "      <td>1440.00</td>\n",
       "      <td>1440.00</td>\n",
       "      <td>1440.00</td>\n",
       "      <td>1440.00</td>\n",
       "      <td>1440.00</td>\n",
       "      <td>1440.00</td>\n",
       "      <td>1440.00</td>\n",
       "      <td>...</td>\n",
       "      <td>1440.00</td>\n",
       "      <td>1440.00</td>\n",
       "      <td>1440.00</td>\n",
       "      <td>1440.00</td>\n",
       "      <td>1440.00</td>\n",
       "      <td>1440.00</td>\n",
       "      <td>1440.00</td>\n",
       "      <td>1440.00</td>\n",
       "      <td>1440.00</td>\n",
       "      <td>1440.00</td>\n",
       "    </tr>\n",
       "    <tr>\n",
       "      <th>PBCT_12073</th>\n",
       "      <td>1440.00</td>\n",
       "      <td>1440.00</td>\n",
       "      <td>1435.00</td>\n",
       "      <td>1435.00</td>\n",
       "      <td>1435.00</td>\n",
       "      <td>1435.00</td>\n",
       "      <td>1435.00</td>\n",
       "      <td>1435.00</td>\n",
       "      <td>1435.00</td>\n",
       "      <td>1435.00</td>\n",
       "      <td>...</td>\n",
       "      <td>1435.00</td>\n",
       "      <td>1435.00</td>\n",
       "      <td>1435.00</td>\n",
       "      <td>1435.00</td>\n",
       "      <td>1435.00</td>\n",
       "      <td>1435.00</td>\n",
       "      <td>1435.00</td>\n",
       "      <td>1435.00</td>\n",
       "      <td>1435.00</td>\n",
       "      <td>1435.00</td>\n",
       "    </tr>\n",
       "    <tr>\n",
       "      <th>LNC_49015</th>\n",
       "      <td>1438.00</td>\n",
       "      <td>1438.00</td>\n",
       "      <td>1440.00</td>\n",
       "      <td>1440.00</td>\n",
       "      <td>1440.00</td>\n",
       "      <td>1440.00</td>\n",
       "      <td>1440.00</td>\n",
       "      <td>1440.00</td>\n",
       "      <td>1440.00</td>\n",
       "      <td>1440.00</td>\n",
       "      <td>...</td>\n",
       "      <td>1440.00</td>\n",
       "      <td>1440.00</td>\n",
       "      <td>1440.00</td>\n",
       "      <td>1440.00</td>\n",
       "      <td>1440.00</td>\n",
       "      <td>1440.00</td>\n",
       "      <td>1440.00</td>\n",
       "      <td>1440.00</td>\n",
       "      <td>1440.00</td>\n",
       "      <td>1440.00</td>\n",
       "    </tr>\n",
       "    <tr>\n",
       "      <th>cash</th>\n",
       "      <td>9.67</td>\n",
       "      <td>9.67</td>\n",
       "      <td>43.96</td>\n",
       "      <td>43.96</td>\n",
       "      <td>43.96</td>\n",
       "      <td>43.96</td>\n",
       "      <td>43.96</td>\n",
       "      <td>43.96</td>\n",
       "      <td>43.96</td>\n",
       "      <td>43.96</td>\n",
       "      <td>...</td>\n",
       "      <td>43.96</td>\n",
       "      <td>43.96</td>\n",
       "      <td>43.96</td>\n",
       "      <td>43.96</td>\n",
       "      <td>43.96</td>\n",
       "      <td>43.96</td>\n",
       "      <td>43.96</td>\n",
       "      <td>43.96</td>\n",
       "      <td>43.96</td>\n",
       "      <td>43.96</td>\n",
       "    </tr>\n",
       "  </tbody>\n",
       "</table>\n",
       "<p>4 rows × 31 columns</p>\n",
       "</div>"
      ],
      "text/plain": [
       "                 0        1        2        3        4        5        6   \\\n",
       "CTSH_86158  1441.00  1441.00  1440.00  1440.00  1440.00  1440.00  1440.00   \n",
       "PBCT_12073  1440.00  1440.00  1435.00  1435.00  1435.00  1435.00  1435.00   \n",
       "LNC_49015   1438.00  1438.00  1440.00  1440.00  1440.00  1440.00  1440.00   \n",
       "cash           9.67     9.67    43.96    43.96    43.96    43.96    43.96   \n",
       "\n",
       "                 7        8        9   ...       21       22       23  \\\n",
       "CTSH_86158  1440.00  1440.00  1440.00  ...  1440.00  1440.00  1440.00   \n",
       "PBCT_12073  1435.00  1435.00  1435.00  ...  1435.00  1435.00  1435.00   \n",
       "LNC_49015   1440.00  1440.00  1440.00  ...  1440.00  1440.00  1440.00   \n",
       "cash          43.96    43.96    43.96  ...    43.96    43.96    43.96   \n",
       "\n",
       "                 24       25       26       27       28       29       30  \n",
       "CTSH_86158  1440.00  1440.00  1440.00  1440.00  1440.00  1440.00  1440.00  \n",
       "PBCT_12073  1435.00  1435.00  1435.00  1435.00  1435.00  1435.00  1435.00  \n",
       "LNC_49015   1440.00  1440.00  1440.00  1440.00  1440.00  1440.00  1440.00  \n",
       "cash          43.96    43.96    43.96    43.96    43.96    43.96    43.96  \n",
       "\n",
       "[4 rows x 31 columns]"
      ]
     },
     "execution_count": 7,
     "metadata": {},
     "output_type": "execute_result"
    }
   ],
   "source": [
    "pd.concat(simulator.historical_portfolios, axis=1)"
   ]
  },
  {
   "cell_type": "markdown",
   "metadata": {
    "collapsed": false
   },
   "source": [
    "## Evaluate Policies\n",
    "Run multiple policies on a set of experiments."
   ]
  },
  {
   "cell_type": "code",
   "execution_count": null,
   "metadata": {
    "collapsed": false,
    "pycharm": {
     "is_executing": true
    }
   },
   "outputs": [
    {
     "name": "stderr",
     "output_type": "stream",
     "text": [
      "Running DirectionalIncentive_25.0 on 21_93324_93014_4:  11%|█▏        | 29/254 [22:19:41<7:48:25, 124.91s/it]         "
     ]
    }
   ],
   "source": [
    "policies = [DIRECTIONAL_TRADING] + \\\n",
    "           [DIRECTIONAL_INCENTIVE_TRADING(0), DIRECTIONAL_INCENTIVE_TRADING(.25), DIRECTIONAL_INCENTIVE_TRADING(.5), DIRECTIONAL_INCENTIVE_TRADING(.75)] + \\\n",
    "           [NAIVE]\n",
    "multi_sim = MultiSimRunner('experiments', policies, trim=29)\n",
    "multi_sim.get_results(\"base_results29on.csv\")"
   ]
  }
 ],
 "metadata": {
  "kernelspec": {
   "display_name": "Python 3",
   "language": "python",
   "name": "python3"
  },
  "language_info": {
   "codemirror_mode": {
    "name": "ipython",
    "version": 3
   },
   "file_extension": ".py",
   "mimetype": "text/x-python",
   "name": "python",
   "nbconvert_exporter": "python",
   "pygments_lexer": "ipython3",
   "version": "3.7.12"
  }
 },
 "nbformat": 4,
 "nbformat_minor": 0
}
