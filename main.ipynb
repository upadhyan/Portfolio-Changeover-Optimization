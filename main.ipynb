{
 "cells": [
  {
   "cell_type": "markdown",
   "metadata": {
    "collapsed": false
   },
   "source": [
    "# Main Runner"
   ]
  },
  {
   "cell_type": "markdown",
   "source": [
    "## Imports"
   ],
   "metadata": {
    "collapsed": false
   }
  },
  {
   "cell_type": "code",
   "execution_count": null,
   "metadata": {
    "collapsed": true
   },
   "outputs": [],
   "source": [
    "import pandas as pd\n",
    "from objects import *\n",
    "import pickle\n",
    "import os\n",
    "import matplotlib.pyplot as plt"
   ]
  },
  {
   "cell_type": "markdown",
   "source": [
    "## Generate Experiments"
   ],
   "metadata": {
    "collapsed": false
   }
  },
  {
   "cell_type": "code",
   "execution_count": null,
   "outputs": [],
   "source": [
    "prices = pd.read_parquet(\"raw_data/spx_stock_prices.parquet\")\n",
    "treasury_rate_files = [\"daily-treasury-rates.csv\"] + [f\"daily-treasury-rates ({i}).csv\" for i in range(1, 25)]\n",
    "rates_df = [pd.read_csv(f\"raw_data/{file}\", index_col=0) for file in treasury_rate_files]\n",
    "rates_df = pd.concat(rates_df)\n",
    "rates_df.index = pd.to_datetime(rates_df.index)\n",
    "# sort rates_df by date\n",
    "rates_df = rates_df.sort_index()\n",
    "print(\"Start Generation\")\n",
    "generate_experiments(prices, rates_df, 10, \"experiments\", lookback=48, error_max=9)"
   ],
   "metadata": {
    "collapsed": false
   }
  },
  {
   "cell_type": "markdown",
   "source": [
    "# Read in generated experiments"
   ],
   "metadata": {
    "collapsed": false
   }
  },
  {
   "cell_type": "code",
   "execution_count": 2,
   "metadata": {
    "collapsed": false
   },
   "outputs": [],
   "source": [
    "# Get all files in the experiments folder\n",
    "experiment_names = os.listdir('experiments')\n",
    "experiments = []\n",
    "# read in pickle object\n",
    "for e in experiment_names:\n",
    "    with open(f\"experiments/{e}\", 'rb') as f:\n",
    "        exp = pickle.load(f)\n",
    "        experiments.append(exp)\n",
    "exp = experiments[0]"
   ]
  },
  {
   "cell_type": "markdown",
   "source": [
    "## Evaluate Policies"
   ],
   "metadata": {
    "collapsed": false
   }
  },
  {
   "cell_type": "code",
   "execution_count": 3,
   "metadata": {
    "collapsed": false
   },
   "outputs": [
    {
     "name": "stderr",
     "output_type": "stream",
     "text": [
      " 40%|████      | 4/10 [1:05:44<1:38:36, 986.08s/it]\n"
     ]
    },
    {
     "ename": "KeyboardInterrupt",
     "evalue": "",
     "output_type": "error",
     "traceback": [
      "\u001B[1;31m---------------------------------------------------------------------------\u001B[0m",
      "\u001B[1;31mKeyboardInterrupt\u001B[0m                         Traceback (most recent call last)",
      "Cell \u001B[1;32mIn[3], line 2\u001B[0m\n\u001B[0;32m      1\u001B[0m multi_sim \u001B[38;5;241m=\u001B[39m MultiSimRunner(experiments, [\u001B[38;5;124m\"\u001B[39m\u001B[38;5;124mNaive\u001B[39m\u001B[38;5;124m\"\u001B[39m, \u001B[38;5;124m\"\u001B[39m\u001B[38;5;124mDayTrading\u001B[39m\u001B[38;5;124m\"\u001B[39m])\n\u001B[1;32m----> 2\u001B[0m \u001B[43mmulti_sim\u001B[49m\u001B[38;5;241;43m.\u001B[39;49m\u001B[43mrun\u001B[49m\u001B[43m(\u001B[49m\u001B[43msave_file\u001B[49m\u001B[38;5;241;43m=\u001B[39;49m\u001B[38;5;124;43m\"\u001B[39;49m\u001B[38;5;124;43mnaive_vs_daytrading.csv\u001B[39;49m\u001B[38;5;124;43m\"\u001B[39;49m\u001B[43m)\u001B[49m\n",
      "File \u001B[1;32m~\\Documents\\GitHub\\Portfolio-Changeover-Optimization\\objects.py:474\u001B[0m, in \u001B[0;36mMultiSimRunner.run\u001B[1;34m(self, save_file)\u001B[0m\n\u001B[0;32m    472\u001B[0m     \u001B[38;5;28;01mraise\u001B[39;00m \u001B[38;5;167;01mException\u001B[39;00m(\u001B[38;5;124m\"\u001B[39m\u001B[38;5;124mPolicy not found\u001B[39m\u001B[38;5;124m\"\u001B[39m)\n\u001B[0;32m    473\u001B[0m simulator \u001B[38;5;241m=\u001B[39m MarketSimulator(experiment, policy_instance, verbose\u001B[38;5;241m=\u001B[39m\u001B[38;5;28;01mFalse\u001B[39;00m)\n\u001B[1;32m--> 474\u001B[0m \u001B[43msimulator\u001B[49m\u001B[38;5;241;43m.\u001B[39;49m\u001B[43mrun\u001B[49m\u001B[43m(\u001B[49m\u001B[43m)\u001B[49m\n\u001B[0;32m    475\u001B[0m \u001B[38;5;28mself\u001B[39m\u001B[38;5;241m.\u001B[39msimulators[(experiment\u001B[38;5;241m.\u001B[39mexp_id, policy)] \u001B[38;5;241m=\u001B[39m simulator\n\u001B[0;32m    476\u001B[0m result_list\u001B[38;5;241m.\u001B[39mappend(\n\u001B[0;32m    477\u001B[0m     {\n\u001B[0;32m    478\u001B[0m         \u001B[38;5;124m\"\u001B[39m\u001B[38;5;124mexperiment\u001B[39m\u001B[38;5;124m\"\u001B[39m: experiment\u001B[38;5;241m.\u001B[39mexp_id,\n\u001B[1;32m   (...)\u001B[0m\n\u001B[0;32m    489\u001B[0m     }\n\u001B[0;32m    490\u001B[0m )\n",
      "File \u001B[1;32m~\\Documents\\GitHub\\Portfolio-Changeover-Optimization\\objects.py:389\u001B[0m, in \u001B[0;36mMarketSimulator.run\u001B[1;34m(self)\u001B[0m\n\u001B[0;32m    387\u001B[0m relevant_time \u001B[38;5;241m=\u001B[39m \u001B[38;5;28mself\u001B[39m\u001B[38;5;241m.\u001B[39mstored_times[i \u001B[38;5;241m-\u001B[39m \u001B[38;5;241m1\u001B[39m] \u001B[38;5;28;01mif\u001B[39;00m i \u001B[38;5;241m>\u001B[39m \u001B[38;5;241m0\u001B[39m \u001B[38;5;28;01melse\u001B[39;00m \u001B[38;5;28mself\u001B[39m\u001B[38;5;241m.\u001B[39mconfiguration\u001B[38;5;241m.\u001B[39minitial_prices\u001B[38;5;241m.\u001B[39mname\n\u001B[0;32m    388\u001B[0m t1 \u001B[38;5;241m=\u001B[39m time()\n\u001B[1;32m--> 389\u001B[0m trades, value \u001B[38;5;241m=\u001B[39m \u001B[38;5;28;43mself\u001B[39;49m\u001B[38;5;241;43m.\u001B[39;49m\u001B[43mpolicy\u001B[49m\u001B[38;5;241;43m.\u001B[39;49m\u001B[43mget_trades\u001B[49m\u001B[43m(\u001B[49m\u001B[43mportfolio\u001B[49m\u001B[43m,\u001B[49m\u001B[43m \u001B[49m\u001B[43mt\u001B[49m\u001B[43m)\u001B[49m\n\u001B[0;32m    390\u001B[0m t2 \u001B[38;5;241m=\u001B[39m time()\n\u001B[0;32m    391\u001B[0m \u001B[38;5;28mself\u001B[39m\u001B[38;5;241m.\u001B[39msolve_times\u001B[38;5;241m.\u001B[39mappend(t2 \u001B[38;5;241m-\u001B[39m t1)\n",
      "File \u001B[1;32m~\\Documents\\GitHub\\Portfolio-Changeover-Optimization\\objects.py:123\u001B[0m, in \u001B[0;36mDayTradingPolicy.get_trades\u001B[1;34m(self, portfolio, t)\u001B[0m\n\u001B[0;32m    118\u001B[0m \u001B[38;5;28mself\u001B[39m\u001B[38;5;241m.\u001B[39mvprint(\n\u001B[0;32m    119\u001B[0m     \u001B[38;5;124mf\u001B[39m\u001B[38;5;124m\"\u001B[39m\u001B[38;5;130;01m\\t\u001B[39;00m\u001B[38;5;124m Optimizing with \u001B[39m\u001B[38;5;132;01m{\u001B[39;00mn_timesteps\u001B[38;5;132;01m}\u001B[39;00m\u001B[38;5;124m time steps, \u001B[39m\u001B[38;5;124m\"\u001B[39m\n\u001B[0;32m    120\u001B[0m     \u001B[38;5;124mf\u001B[39m\u001B[38;5;124m\"\u001B[39m\u001B[38;5;132;01m{\u001B[39;00m\u001B[38;5;28mlen\u001B[39m(m\u001B[38;5;241m.\u001B[39mgetConstrs())\u001B[38;5;132;01m}\u001B[39;00m\u001B[38;5;124m constraints, and \u001B[39m\u001B[38;5;132;01m{\u001B[39;00m\u001B[38;5;28mlen\u001B[39m(m\u001B[38;5;241m.\u001B[39mgetVars())\u001B[38;5;132;01m}\u001B[39;00m\u001B[38;5;124m variables...\u001B[39m\u001B[38;5;124m\"\u001B[39m\n\u001B[0;32m    121\u001B[0m )\n\u001B[0;32m    122\u001B[0m t1 \u001B[38;5;241m=\u001B[39m time()\n\u001B[1;32m--> 123\u001B[0m \u001B[43mm\u001B[49m\u001B[38;5;241;43m.\u001B[39;49m\u001B[43moptimize\u001B[49m\u001B[43m(\u001B[49m\u001B[43m)\u001B[49m\n\u001B[0;32m    124\u001B[0m t2 \u001B[38;5;241m=\u001B[39m time()\n\u001B[0;32m    125\u001B[0m \u001B[38;5;28mself\u001B[39m\u001B[38;5;241m.\u001B[39mvprint(\n\u001B[0;32m    126\u001B[0m     \u001B[38;5;124mf\u001B[39m\u001B[38;5;124m\"\u001B[39m\u001B[38;5;130;01m\\t\u001B[39;00m\u001B[38;5;124m Optimized. Time taken: \u001B[39m\u001B[38;5;132;01m{\u001B[39;00mt2\u001B[38;5;250m \u001B[39m\u001B[38;5;241m-\u001B[39m\u001B[38;5;250m \u001B[39mt1\u001B[38;5;132;01m}\u001B[39;00m\u001B[38;5;124m\"\u001B[39m,\n\u001B[0;32m    127\u001B[0m )\n",
      "\u001B[1;31mKeyboardInterrupt\u001B[0m: "
     ]
    }
   ],
   "source": [
    "multi_sim = MultiSimRunner(experiments, [\"Naive\", \"DayTrading\"])\n",
    "multi_sim.run(save_file=\"naive_vs_daytrading.csv\")"
   ]
  },
  {
   "cell_type": "code",
   "execution_count": null,
   "metadata": {
    "collapsed": false
   },
   "outputs": [],
   "source": [
    "multi_sim.get_results()"
   ]
  }
 ],
 "metadata": {
  "kernelspec": {
   "display_name": "Python 3",
   "language": "python",
   "name": "python3"
  },
  "language_info": {
   "codemirror_mode": {
    "name": "ipython",
    "version": 3
   },
   "file_extension": ".py",
   "mimetype": "text/x-python",
   "name": "python",
   "nbconvert_exporter": "python",
   "pygments_lexer": "ipython3",
   "version": "3.7.12"
  }
 },
 "nbformat": 4,
 "nbformat_minor": 0
}
