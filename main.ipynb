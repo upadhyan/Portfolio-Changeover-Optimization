{
 "cells": [
  {
   "cell_type": "markdown",
   "source": [
    "# Main Runner"
   ],
   "metadata": {
    "collapsed": false
   }
  },
  {
   "cell_type": "code",
   "execution_count": 1,
   "metadata": {
    "collapsed": true
   },
   "outputs": [],
   "source": [
    "import pandas as pd\n",
    "\n",
    "from objects import *\n",
    "import pickle\n",
    "import os"
   ]
  },
  {
   "cell_type": "code",
   "execution_count": 2,
   "outputs": [],
   "source": [
    "# Get all files in the experiments folder\n",
    "experiments = os.listdir('experiments')\n",
    "# read in pickle object\n",
    "with open(f\"experiments/{experiments[0]}\", 'rb') as f:\n",
    "    exp = pickle.load(f)"
   ],
   "metadata": {
    "collapsed": false
   }
  },
  {
   "cell_type": "code",
   "execution_count": 3,
   "outputs": [],
   "source": [
    "csmpo = DayTradingPolicy(exp)"
   ],
   "metadata": {
    "collapsed": false
   }
  },
  {
   "cell_type": "code",
   "execution_count": 4,
   "outputs": [],
   "source": [
    "market_sim = MarketSimulator(exp,csmpo)"
   ],
   "metadata": {
    "collapsed": false
   }
  },
  {
   "cell_type": "code",
   "execution_count": 6,
   "outputs": [
    {
     "data": {
      "text/plain": "component   NOC_24766  EBAY_86356  TFCFA_90441  MON_88668  HBAN_42906  \\\ndate                                                                    \n2014-11-04     138.57      53.270       33.330     113.39       9.905   \n2014-11-05     137.84      53.585       34.840     113.82      10.040   \n2014-11-06     138.11      53.260       35.310     114.51      10.080   \n2014-11-07     136.11      53.515       34.610     114.44      10.090   \n2014-11-10     135.65      53.890       34.740     116.89      10.130   \n2014-11-11     136.85      54.190       34.930     118.31      10.120   \n2014-11-12     136.02      54.060       34.640     118.99      10.170   \n2014-11-13     137.20      54.370       34.990     119.47      10.095   \n2014-11-14     136.07      54.360       35.110     118.97      10.100   \n2014-11-17     135.91      54.825       35.340     118.38      10.090   \n2014-11-18     138.08      55.380       35.300     119.33      10.140   \n2014-11-19     137.54      54.940       35.010     119.56      10.120   \n2014-11-20     138.45      54.540       35.060     119.52      10.150   \n2014-11-21     139.13      54.420       35.205     120.81      10.130   \n2014-11-24     140.72      54.390       35.750     120.53      10.180   \n2014-11-25     141.56      54.400       36.560     119.47      10.110   \n2014-11-26     141.45      54.570       36.320     120.86      10.250   \n2014-11-27     141.45      54.570       36.320     120.86      10.250   \n2014-11-28     140.93      54.880       36.800     119.91      10.110   \n2014-12-01     138.76      54.870       37.280     118.85       9.980   \n2014-12-02     140.17      55.020       37.190     118.82      10.040   \n2014-12-03     140.97      54.810       37.250     120.86      10.150   \n2014-12-04     139.84      54.670       37.630     121.09      10.180   \n2014-12-05     147.69      54.810       37.810     120.86      10.430   \n2014-12-08     146.57      55.150       37.390     120.02      10.410   \n2014-12-09     147.55      55.400       37.110     120.30      10.455   \n2014-12-10     144.32      55.270       36.990     119.35      10.230   \n2014-12-11     145.72      56.785       37.115     120.07      10.250   \n2014-12-12     141.56      55.770       36.900     117.94      10.060   \n2014-12-15     141.90      55.440       36.500     117.79      10.010   \n\ncomponent   DIS_26403  LMT_21178  BALL_57568  NTAP_82598  AGN_75646  ...  \\\ndate                                                                 ...   \n2014-11-04      90.35     190.79       63.93      43.020     195.12  ...   \n2014-11-05      91.00     189.73       64.50      43.200     196.32  ...   \n2014-11-06      92.00     189.88       64.69      43.170     197.40  ...   \n2014-11-07      90.00     186.15       64.97      42.300     196.00  ...   \n2014-11-10      89.78     186.99       65.90      42.150     195.24  ...   \n2014-11-11      89.98     187.12       65.89      42.270     195.34  ...   \n2014-11-12      89.90     186.87       65.55      42.310     196.51  ...   \n2014-11-13      90.49     187.97       65.16      41.085     196.21  ...   \n2014-11-14      90.80     186.60       64.24      42.270     198.65  ...   \n2014-11-17      90.41     185.51       64.41      42.230     209.20  ...   \n2014-11-18      90.28     186.56       64.93      41.890     213.37  ...   \n2014-11-19      89.82     186.00       64.50      41.810     212.59  ...   \n2014-11-20      88.90     185.56       64.84      42.200     210.20  ...   \n2014-11-21      88.96     187.93       64.71      42.310     209.09  ...   \n2014-11-24      90.58     188.82       64.97      42.630     211.81  ...   \n2014-11-25      91.65     188.67       65.61      43.080     212.10  ...   \n2014-11-26      91.92     189.15       66.29      42.700     214.00  ...   \n2014-11-27      91.92     189.15       66.29      42.700     214.00  ...   \n2014-11-28      92.51     191.56       67.07      42.550     213.89  ...   \n2014-12-01      92.70     191.10       67.39      41.980     210.65  ...   \n2014-12-02      93.47     190.11       67.80      42.020     211.03  ...   \n2014-12-03      93.11     189.68       69.49      43.140     211.97  ...   \n2014-12-04      93.23     189.73       69.81      43.290     213.71  ...   \n2014-12-05      93.76     189.87       69.44      43.405     213.35  ...   \n2014-12-08      93.80     189.85       68.04      42.620     212.56  ...   \n2014-12-09      92.94     190.62       68.32      42.720     212.40  ...   \n2014-12-10      91.63     187.91       67.67      41.890     210.10  ...   \n2014-12-11      91.75     189.25       67.29      42.190     211.14  ...   \n2014-12-12      91.49     185.18       66.46      40.695     208.47  ...   \n2014-12-15      90.90     184.21       65.47      40.700     209.01  ...   \n\ncomponent   TGNA_47941  POM_23501  ZION_84129  MTB_35554  WY_39917  \\\ndate                                                                 \n2014-11-04       30.66      27.39      29.380     121.27     34.46   \n2014-11-05       30.59      27.50      29.500     122.83     34.38   \n2014-11-06       31.02      27.34      29.690     124.43     34.24   \n2014-11-07       30.31      27.46      29.670     124.54     34.30   \n2014-11-10       30.76      27.59      29.670     124.66     34.41   \n2014-11-11       30.83      27.51      29.590     124.85     34.25   \n2014-11-12       30.87      27.55      29.760     125.62     34.03   \n2014-11-13       30.88      27.30      29.280     125.36     33.95   \n2014-11-14       31.05      27.28      29.140     124.94     33.90   \n2014-11-17       30.91      27.34      28.890     124.71     34.03   \n2014-11-18       31.51      27.50      28.995     124.76     34.39   \n2014-11-19       31.36      27.52      28.680     124.62     34.20   \n2014-11-20       31.58      27.57      28.990     124.81     34.18   \n2014-11-21       31.45      27.35      29.180     124.68     34.35   \n2014-11-24       32.28      27.34      29.330     126.05     34.83   \n2014-11-25       32.26      27.46      29.015     126.22     35.23   \n2014-11-26       32.74      27.47      28.890     126.36     34.92   \n2014-11-27       32.74      27.47      28.890     126.36     34.92   \n2014-11-28       32.55      27.50      28.060     126.02     35.31   \n2014-12-01       32.65      27.47      27.260     124.20     35.16   \n2014-12-02       33.08      27.48      27.530     125.72     35.36   \n2014-12-03       33.64      27.42      27.860     127.00     35.43   \n2014-12-04       32.90      27.45      27.820     127.38     35.30   \n2014-12-05       32.69      27.43      28.600     128.03     35.53   \n2014-12-08       32.09      27.16      28.490     127.86     36.11   \n2014-12-09       32.54      27.20      28.275     127.80     36.15   \n2014-12-10       31.91      26.90      27.520     123.27     36.05   \n2014-12-11       31.44      26.96      27.410     123.98     36.09   \n2014-12-12       30.56      26.66      26.980     121.85     35.83   \n2014-12-15       29.82      26.65      26.820     121.19     35.59   \n\ncomponent   YHOO_83435  HST_46703  CELG_11552  BCR_46877  AES_76712  \ndate                                                                 \n2014-11-04      47.080      22.96      105.75     163.62      13.76  \n2014-11-05      47.460      22.88      105.15     164.58      13.95  \n2014-11-06      47.930      22.79      107.14     164.97      13.06  \n2014-11-07      48.550      22.66      106.45     162.38      13.46  \n2014-11-10      49.410      22.76      108.01     163.87      13.63  \n2014-11-11      49.050      22.76      107.85     164.27      13.49  \n2014-11-12      50.600      22.68      108.25     165.21      13.44  \n2014-11-13      50.500      22.73      107.43     165.59      13.69  \n2014-11-14      51.750      22.67      104.05     164.04      13.47  \n2014-11-17      52.370      22.60      104.36     164.81      13.76  \n2014-11-18      51.750      22.76      106.78     167.36      13.74  \n2014-11-19      50.580      22.45      106.98     166.67      13.92  \n2014-11-20      51.250      22.76      107.35     167.11      13.93  \n2014-11-21      51.040      22.81      108.20     166.50      14.10  \n2014-11-24      51.830      22.93      110.98     167.65      14.08  \n2014-11-25      51.720      23.12      111.07     166.45      13.92  \n2014-11-26      51.930      23.17      112.61     167.17      13.82  \n2014-11-27      51.930      23.17      112.61     167.17      13.82  \n2014-11-28      51.740      23.24      113.69     167.35      13.87  \n2014-12-01      50.100      23.16      113.43     170.04      13.65  \n2014-12-02      50.670      23.44      115.20     170.99      13.84  \n2014-12-03      50.280      23.58      114.23     172.40      13.81  \n2014-12-04      50.410      23.57      113.63     172.47      13.74  \n2014-12-05      50.990      23.54      114.13     172.37      13.68  \n2014-12-08      49.620      23.58      118.19     172.68      13.60  \n2014-12-09      50.510      23.73      118.68     170.10      13.86  \n2014-12-10      49.205      23.63      115.64     167.47      13.36  \n2014-12-11      49.940      23.73      116.74     169.15      13.21  \n2014-12-12      50.240      23.38      114.49     167.49      13.29  \n2014-12-15      49.820      23.25      111.88     166.21      13.01  \n\n[30 rows x 21 columns]",
      "text/html": "<div>\n<style scoped>\n    .dataframe tbody tr th:only-of-type {\n        vertical-align: middle;\n    }\n\n    .dataframe tbody tr th {\n        vertical-align: top;\n    }\n\n    .dataframe thead th {\n        text-align: right;\n    }\n</style>\n<table border=\"1\" class=\"dataframe\">\n  <thead>\n    <tr style=\"text-align: right;\">\n      <th>component</th>\n      <th>NOC_24766</th>\n      <th>EBAY_86356</th>\n      <th>TFCFA_90441</th>\n      <th>MON_88668</th>\n      <th>HBAN_42906</th>\n      <th>DIS_26403</th>\n      <th>LMT_21178</th>\n      <th>BALL_57568</th>\n      <th>NTAP_82598</th>\n      <th>AGN_75646</th>\n      <th>...</th>\n      <th>TGNA_47941</th>\n      <th>POM_23501</th>\n      <th>ZION_84129</th>\n      <th>MTB_35554</th>\n      <th>WY_39917</th>\n      <th>YHOO_83435</th>\n      <th>HST_46703</th>\n      <th>CELG_11552</th>\n      <th>BCR_46877</th>\n      <th>AES_76712</th>\n    </tr>\n    <tr>\n      <th>date</th>\n      <th></th>\n      <th></th>\n      <th></th>\n      <th></th>\n      <th></th>\n      <th></th>\n      <th></th>\n      <th></th>\n      <th></th>\n      <th></th>\n      <th></th>\n      <th></th>\n      <th></th>\n      <th></th>\n      <th></th>\n      <th></th>\n      <th></th>\n      <th></th>\n      <th></th>\n      <th></th>\n      <th></th>\n    </tr>\n  </thead>\n  <tbody>\n    <tr>\n      <th>2014-11-04</th>\n      <td>138.57</td>\n      <td>53.270</td>\n      <td>33.330</td>\n      <td>113.39</td>\n      <td>9.905</td>\n      <td>90.35</td>\n      <td>190.79</td>\n      <td>63.93</td>\n      <td>43.020</td>\n      <td>195.12</td>\n      <td>...</td>\n      <td>30.66</td>\n      <td>27.39</td>\n      <td>29.380</td>\n      <td>121.27</td>\n      <td>34.46</td>\n      <td>47.080</td>\n      <td>22.96</td>\n      <td>105.75</td>\n      <td>163.62</td>\n      <td>13.76</td>\n    </tr>\n    <tr>\n      <th>2014-11-05</th>\n      <td>137.84</td>\n      <td>53.585</td>\n      <td>34.840</td>\n      <td>113.82</td>\n      <td>10.040</td>\n      <td>91.00</td>\n      <td>189.73</td>\n      <td>64.50</td>\n      <td>43.200</td>\n      <td>196.32</td>\n      <td>...</td>\n      <td>30.59</td>\n      <td>27.50</td>\n      <td>29.500</td>\n      <td>122.83</td>\n      <td>34.38</td>\n      <td>47.460</td>\n      <td>22.88</td>\n      <td>105.15</td>\n      <td>164.58</td>\n      <td>13.95</td>\n    </tr>\n    <tr>\n      <th>2014-11-06</th>\n      <td>138.11</td>\n      <td>53.260</td>\n      <td>35.310</td>\n      <td>114.51</td>\n      <td>10.080</td>\n      <td>92.00</td>\n      <td>189.88</td>\n      <td>64.69</td>\n      <td>43.170</td>\n      <td>197.40</td>\n      <td>...</td>\n      <td>31.02</td>\n      <td>27.34</td>\n      <td>29.690</td>\n      <td>124.43</td>\n      <td>34.24</td>\n      <td>47.930</td>\n      <td>22.79</td>\n      <td>107.14</td>\n      <td>164.97</td>\n      <td>13.06</td>\n    </tr>\n    <tr>\n      <th>2014-11-07</th>\n      <td>136.11</td>\n      <td>53.515</td>\n      <td>34.610</td>\n      <td>114.44</td>\n      <td>10.090</td>\n      <td>90.00</td>\n      <td>186.15</td>\n      <td>64.97</td>\n      <td>42.300</td>\n      <td>196.00</td>\n      <td>...</td>\n      <td>30.31</td>\n      <td>27.46</td>\n      <td>29.670</td>\n      <td>124.54</td>\n      <td>34.30</td>\n      <td>48.550</td>\n      <td>22.66</td>\n      <td>106.45</td>\n      <td>162.38</td>\n      <td>13.46</td>\n    </tr>\n    <tr>\n      <th>2014-11-10</th>\n      <td>135.65</td>\n      <td>53.890</td>\n      <td>34.740</td>\n      <td>116.89</td>\n      <td>10.130</td>\n      <td>89.78</td>\n      <td>186.99</td>\n      <td>65.90</td>\n      <td>42.150</td>\n      <td>195.24</td>\n      <td>...</td>\n      <td>30.76</td>\n      <td>27.59</td>\n      <td>29.670</td>\n      <td>124.66</td>\n      <td>34.41</td>\n      <td>49.410</td>\n      <td>22.76</td>\n      <td>108.01</td>\n      <td>163.87</td>\n      <td>13.63</td>\n    </tr>\n    <tr>\n      <th>2014-11-11</th>\n      <td>136.85</td>\n      <td>54.190</td>\n      <td>34.930</td>\n      <td>118.31</td>\n      <td>10.120</td>\n      <td>89.98</td>\n      <td>187.12</td>\n      <td>65.89</td>\n      <td>42.270</td>\n      <td>195.34</td>\n      <td>...</td>\n      <td>30.83</td>\n      <td>27.51</td>\n      <td>29.590</td>\n      <td>124.85</td>\n      <td>34.25</td>\n      <td>49.050</td>\n      <td>22.76</td>\n      <td>107.85</td>\n      <td>164.27</td>\n      <td>13.49</td>\n    </tr>\n    <tr>\n      <th>2014-11-12</th>\n      <td>136.02</td>\n      <td>54.060</td>\n      <td>34.640</td>\n      <td>118.99</td>\n      <td>10.170</td>\n      <td>89.90</td>\n      <td>186.87</td>\n      <td>65.55</td>\n      <td>42.310</td>\n      <td>196.51</td>\n      <td>...</td>\n      <td>30.87</td>\n      <td>27.55</td>\n      <td>29.760</td>\n      <td>125.62</td>\n      <td>34.03</td>\n      <td>50.600</td>\n      <td>22.68</td>\n      <td>108.25</td>\n      <td>165.21</td>\n      <td>13.44</td>\n    </tr>\n    <tr>\n      <th>2014-11-13</th>\n      <td>137.20</td>\n      <td>54.370</td>\n      <td>34.990</td>\n      <td>119.47</td>\n      <td>10.095</td>\n      <td>90.49</td>\n      <td>187.97</td>\n      <td>65.16</td>\n      <td>41.085</td>\n      <td>196.21</td>\n      <td>...</td>\n      <td>30.88</td>\n      <td>27.30</td>\n      <td>29.280</td>\n      <td>125.36</td>\n      <td>33.95</td>\n      <td>50.500</td>\n      <td>22.73</td>\n      <td>107.43</td>\n      <td>165.59</td>\n      <td>13.69</td>\n    </tr>\n    <tr>\n      <th>2014-11-14</th>\n      <td>136.07</td>\n      <td>54.360</td>\n      <td>35.110</td>\n      <td>118.97</td>\n      <td>10.100</td>\n      <td>90.80</td>\n      <td>186.60</td>\n      <td>64.24</td>\n      <td>42.270</td>\n      <td>198.65</td>\n      <td>...</td>\n      <td>31.05</td>\n      <td>27.28</td>\n      <td>29.140</td>\n      <td>124.94</td>\n      <td>33.90</td>\n      <td>51.750</td>\n      <td>22.67</td>\n      <td>104.05</td>\n      <td>164.04</td>\n      <td>13.47</td>\n    </tr>\n    <tr>\n      <th>2014-11-17</th>\n      <td>135.91</td>\n      <td>54.825</td>\n      <td>35.340</td>\n      <td>118.38</td>\n      <td>10.090</td>\n      <td>90.41</td>\n      <td>185.51</td>\n      <td>64.41</td>\n      <td>42.230</td>\n      <td>209.20</td>\n      <td>...</td>\n      <td>30.91</td>\n      <td>27.34</td>\n      <td>28.890</td>\n      <td>124.71</td>\n      <td>34.03</td>\n      <td>52.370</td>\n      <td>22.60</td>\n      <td>104.36</td>\n      <td>164.81</td>\n      <td>13.76</td>\n    </tr>\n    <tr>\n      <th>2014-11-18</th>\n      <td>138.08</td>\n      <td>55.380</td>\n      <td>35.300</td>\n      <td>119.33</td>\n      <td>10.140</td>\n      <td>90.28</td>\n      <td>186.56</td>\n      <td>64.93</td>\n      <td>41.890</td>\n      <td>213.37</td>\n      <td>...</td>\n      <td>31.51</td>\n      <td>27.50</td>\n      <td>28.995</td>\n      <td>124.76</td>\n      <td>34.39</td>\n      <td>51.750</td>\n      <td>22.76</td>\n      <td>106.78</td>\n      <td>167.36</td>\n      <td>13.74</td>\n    </tr>\n    <tr>\n      <th>2014-11-19</th>\n      <td>137.54</td>\n      <td>54.940</td>\n      <td>35.010</td>\n      <td>119.56</td>\n      <td>10.120</td>\n      <td>89.82</td>\n      <td>186.00</td>\n      <td>64.50</td>\n      <td>41.810</td>\n      <td>212.59</td>\n      <td>...</td>\n      <td>31.36</td>\n      <td>27.52</td>\n      <td>28.680</td>\n      <td>124.62</td>\n      <td>34.20</td>\n      <td>50.580</td>\n      <td>22.45</td>\n      <td>106.98</td>\n      <td>166.67</td>\n      <td>13.92</td>\n    </tr>\n    <tr>\n      <th>2014-11-20</th>\n      <td>138.45</td>\n      <td>54.540</td>\n      <td>35.060</td>\n      <td>119.52</td>\n      <td>10.150</td>\n      <td>88.90</td>\n      <td>185.56</td>\n      <td>64.84</td>\n      <td>42.200</td>\n      <td>210.20</td>\n      <td>...</td>\n      <td>31.58</td>\n      <td>27.57</td>\n      <td>28.990</td>\n      <td>124.81</td>\n      <td>34.18</td>\n      <td>51.250</td>\n      <td>22.76</td>\n      <td>107.35</td>\n      <td>167.11</td>\n      <td>13.93</td>\n    </tr>\n    <tr>\n      <th>2014-11-21</th>\n      <td>139.13</td>\n      <td>54.420</td>\n      <td>35.205</td>\n      <td>120.81</td>\n      <td>10.130</td>\n      <td>88.96</td>\n      <td>187.93</td>\n      <td>64.71</td>\n      <td>42.310</td>\n      <td>209.09</td>\n      <td>...</td>\n      <td>31.45</td>\n      <td>27.35</td>\n      <td>29.180</td>\n      <td>124.68</td>\n      <td>34.35</td>\n      <td>51.040</td>\n      <td>22.81</td>\n      <td>108.20</td>\n      <td>166.50</td>\n      <td>14.10</td>\n    </tr>\n    <tr>\n      <th>2014-11-24</th>\n      <td>140.72</td>\n      <td>54.390</td>\n      <td>35.750</td>\n      <td>120.53</td>\n      <td>10.180</td>\n      <td>90.58</td>\n      <td>188.82</td>\n      <td>64.97</td>\n      <td>42.630</td>\n      <td>211.81</td>\n      <td>...</td>\n      <td>32.28</td>\n      <td>27.34</td>\n      <td>29.330</td>\n      <td>126.05</td>\n      <td>34.83</td>\n      <td>51.830</td>\n      <td>22.93</td>\n      <td>110.98</td>\n      <td>167.65</td>\n      <td>14.08</td>\n    </tr>\n    <tr>\n      <th>2014-11-25</th>\n      <td>141.56</td>\n      <td>54.400</td>\n      <td>36.560</td>\n      <td>119.47</td>\n      <td>10.110</td>\n      <td>91.65</td>\n      <td>188.67</td>\n      <td>65.61</td>\n      <td>43.080</td>\n      <td>212.10</td>\n      <td>...</td>\n      <td>32.26</td>\n      <td>27.46</td>\n      <td>29.015</td>\n      <td>126.22</td>\n      <td>35.23</td>\n      <td>51.720</td>\n      <td>23.12</td>\n      <td>111.07</td>\n      <td>166.45</td>\n      <td>13.92</td>\n    </tr>\n    <tr>\n      <th>2014-11-26</th>\n      <td>141.45</td>\n      <td>54.570</td>\n      <td>36.320</td>\n      <td>120.86</td>\n      <td>10.250</td>\n      <td>91.92</td>\n      <td>189.15</td>\n      <td>66.29</td>\n      <td>42.700</td>\n      <td>214.00</td>\n      <td>...</td>\n      <td>32.74</td>\n      <td>27.47</td>\n      <td>28.890</td>\n      <td>126.36</td>\n      <td>34.92</td>\n      <td>51.930</td>\n      <td>23.17</td>\n      <td>112.61</td>\n      <td>167.17</td>\n      <td>13.82</td>\n    </tr>\n    <tr>\n      <th>2014-11-27</th>\n      <td>141.45</td>\n      <td>54.570</td>\n      <td>36.320</td>\n      <td>120.86</td>\n      <td>10.250</td>\n      <td>91.92</td>\n      <td>189.15</td>\n      <td>66.29</td>\n      <td>42.700</td>\n      <td>214.00</td>\n      <td>...</td>\n      <td>32.74</td>\n      <td>27.47</td>\n      <td>28.890</td>\n      <td>126.36</td>\n      <td>34.92</td>\n      <td>51.930</td>\n      <td>23.17</td>\n      <td>112.61</td>\n      <td>167.17</td>\n      <td>13.82</td>\n    </tr>\n    <tr>\n      <th>2014-11-28</th>\n      <td>140.93</td>\n      <td>54.880</td>\n      <td>36.800</td>\n      <td>119.91</td>\n      <td>10.110</td>\n      <td>92.51</td>\n      <td>191.56</td>\n      <td>67.07</td>\n      <td>42.550</td>\n      <td>213.89</td>\n      <td>...</td>\n      <td>32.55</td>\n      <td>27.50</td>\n      <td>28.060</td>\n      <td>126.02</td>\n      <td>35.31</td>\n      <td>51.740</td>\n      <td>23.24</td>\n      <td>113.69</td>\n      <td>167.35</td>\n      <td>13.87</td>\n    </tr>\n    <tr>\n      <th>2014-12-01</th>\n      <td>138.76</td>\n      <td>54.870</td>\n      <td>37.280</td>\n      <td>118.85</td>\n      <td>9.980</td>\n      <td>92.70</td>\n      <td>191.10</td>\n      <td>67.39</td>\n      <td>41.980</td>\n      <td>210.65</td>\n      <td>...</td>\n      <td>32.65</td>\n      <td>27.47</td>\n      <td>27.260</td>\n      <td>124.20</td>\n      <td>35.16</td>\n      <td>50.100</td>\n      <td>23.16</td>\n      <td>113.43</td>\n      <td>170.04</td>\n      <td>13.65</td>\n    </tr>\n    <tr>\n      <th>2014-12-02</th>\n      <td>140.17</td>\n      <td>55.020</td>\n      <td>37.190</td>\n      <td>118.82</td>\n      <td>10.040</td>\n      <td>93.47</td>\n      <td>190.11</td>\n      <td>67.80</td>\n      <td>42.020</td>\n      <td>211.03</td>\n      <td>...</td>\n      <td>33.08</td>\n      <td>27.48</td>\n      <td>27.530</td>\n      <td>125.72</td>\n      <td>35.36</td>\n      <td>50.670</td>\n      <td>23.44</td>\n      <td>115.20</td>\n      <td>170.99</td>\n      <td>13.84</td>\n    </tr>\n    <tr>\n      <th>2014-12-03</th>\n      <td>140.97</td>\n      <td>54.810</td>\n      <td>37.250</td>\n      <td>120.86</td>\n      <td>10.150</td>\n      <td>93.11</td>\n      <td>189.68</td>\n      <td>69.49</td>\n      <td>43.140</td>\n      <td>211.97</td>\n      <td>...</td>\n      <td>33.64</td>\n      <td>27.42</td>\n      <td>27.860</td>\n      <td>127.00</td>\n      <td>35.43</td>\n      <td>50.280</td>\n      <td>23.58</td>\n      <td>114.23</td>\n      <td>172.40</td>\n      <td>13.81</td>\n    </tr>\n    <tr>\n      <th>2014-12-04</th>\n      <td>139.84</td>\n      <td>54.670</td>\n      <td>37.630</td>\n      <td>121.09</td>\n      <td>10.180</td>\n      <td>93.23</td>\n      <td>189.73</td>\n      <td>69.81</td>\n      <td>43.290</td>\n      <td>213.71</td>\n      <td>...</td>\n      <td>32.90</td>\n      <td>27.45</td>\n      <td>27.820</td>\n      <td>127.38</td>\n      <td>35.30</td>\n      <td>50.410</td>\n      <td>23.57</td>\n      <td>113.63</td>\n      <td>172.47</td>\n      <td>13.74</td>\n    </tr>\n    <tr>\n      <th>2014-12-05</th>\n      <td>147.69</td>\n      <td>54.810</td>\n      <td>37.810</td>\n      <td>120.86</td>\n      <td>10.430</td>\n      <td>93.76</td>\n      <td>189.87</td>\n      <td>69.44</td>\n      <td>43.405</td>\n      <td>213.35</td>\n      <td>...</td>\n      <td>32.69</td>\n      <td>27.43</td>\n      <td>28.600</td>\n      <td>128.03</td>\n      <td>35.53</td>\n      <td>50.990</td>\n      <td>23.54</td>\n      <td>114.13</td>\n      <td>172.37</td>\n      <td>13.68</td>\n    </tr>\n    <tr>\n      <th>2014-12-08</th>\n      <td>146.57</td>\n      <td>55.150</td>\n      <td>37.390</td>\n      <td>120.02</td>\n      <td>10.410</td>\n      <td>93.80</td>\n      <td>189.85</td>\n      <td>68.04</td>\n      <td>42.620</td>\n      <td>212.56</td>\n      <td>...</td>\n      <td>32.09</td>\n      <td>27.16</td>\n      <td>28.490</td>\n      <td>127.86</td>\n      <td>36.11</td>\n      <td>49.620</td>\n      <td>23.58</td>\n      <td>118.19</td>\n      <td>172.68</td>\n      <td>13.60</td>\n    </tr>\n    <tr>\n      <th>2014-12-09</th>\n      <td>147.55</td>\n      <td>55.400</td>\n      <td>37.110</td>\n      <td>120.30</td>\n      <td>10.455</td>\n      <td>92.94</td>\n      <td>190.62</td>\n      <td>68.32</td>\n      <td>42.720</td>\n      <td>212.40</td>\n      <td>...</td>\n      <td>32.54</td>\n      <td>27.20</td>\n      <td>28.275</td>\n      <td>127.80</td>\n      <td>36.15</td>\n      <td>50.510</td>\n      <td>23.73</td>\n      <td>118.68</td>\n      <td>170.10</td>\n      <td>13.86</td>\n    </tr>\n    <tr>\n      <th>2014-12-10</th>\n      <td>144.32</td>\n      <td>55.270</td>\n      <td>36.990</td>\n      <td>119.35</td>\n      <td>10.230</td>\n      <td>91.63</td>\n      <td>187.91</td>\n      <td>67.67</td>\n      <td>41.890</td>\n      <td>210.10</td>\n      <td>...</td>\n      <td>31.91</td>\n      <td>26.90</td>\n      <td>27.520</td>\n      <td>123.27</td>\n      <td>36.05</td>\n      <td>49.205</td>\n      <td>23.63</td>\n      <td>115.64</td>\n      <td>167.47</td>\n      <td>13.36</td>\n    </tr>\n    <tr>\n      <th>2014-12-11</th>\n      <td>145.72</td>\n      <td>56.785</td>\n      <td>37.115</td>\n      <td>120.07</td>\n      <td>10.250</td>\n      <td>91.75</td>\n      <td>189.25</td>\n      <td>67.29</td>\n      <td>42.190</td>\n      <td>211.14</td>\n      <td>...</td>\n      <td>31.44</td>\n      <td>26.96</td>\n      <td>27.410</td>\n      <td>123.98</td>\n      <td>36.09</td>\n      <td>49.940</td>\n      <td>23.73</td>\n      <td>116.74</td>\n      <td>169.15</td>\n      <td>13.21</td>\n    </tr>\n    <tr>\n      <th>2014-12-12</th>\n      <td>141.56</td>\n      <td>55.770</td>\n      <td>36.900</td>\n      <td>117.94</td>\n      <td>10.060</td>\n      <td>91.49</td>\n      <td>185.18</td>\n      <td>66.46</td>\n      <td>40.695</td>\n      <td>208.47</td>\n      <td>...</td>\n      <td>30.56</td>\n      <td>26.66</td>\n      <td>26.980</td>\n      <td>121.85</td>\n      <td>35.83</td>\n      <td>50.240</td>\n      <td>23.38</td>\n      <td>114.49</td>\n      <td>167.49</td>\n      <td>13.29</td>\n    </tr>\n    <tr>\n      <th>2014-12-15</th>\n      <td>141.90</td>\n      <td>55.440</td>\n      <td>36.500</td>\n      <td>117.79</td>\n      <td>10.010</td>\n      <td>90.90</td>\n      <td>184.21</td>\n      <td>65.47</td>\n      <td>40.700</td>\n      <td>209.01</td>\n      <td>...</td>\n      <td>29.82</td>\n      <td>26.65</td>\n      <td>26.820</td>\n      <td>121.19</td>\n      <td>35.59</td>\n      <td>49.820</td>\n      <td>23.25</td>\n      <td>111.88</td>\n      <td>166.21</td>\n      <td>13.01</td>\n    </tr>\n  </tbody>\n</table>\n<p>30 rows × 21 columns</p>\n</div>"
     },
     "execution_count": 6,
     "metadata": {},
     "output_type": "execute_result"
    }
   ],
   "source": [
    "exp.truth"
   ],
   "metadata": {
    "collapsed": false
   }
  },
  {
   "cell_type": "code",
   "execution_count": 5,
   "outputs": [
    {
     "name": "stdout",
     "output_type": "stream",
     "text": [
      "Starting Simulation\n"
     ]
    },
    {
     "name": "stderr",
     "output_type": "stream",
     "text": [
      "  0%|          | 0/30 [00:00<?, ?it/s]"
     ]
    },
    {
     "name": "stdout",
     "output_type": "stream",
     "text": [
      "Current Portfolio Value at 2014-11-03: 259697.0\n",
      "\t Optimizing with 31 time steps, 2005 constraints, and 2604 variables...\n",
      "\t Optimized. Time taken:  37.5718834400177\n"
     ]
    },
    {
     "name": "stderr",
     "output_type": "stream",
     "text": [
      "  3%|▎         | 1/30 [00:37<18:21, 37.98s/it]"
     ]
    },
    {
     "name": "stdout",
     "output_type": "stream",
     "text": [
      "Current Portfolio Value at 2014-11-04: 252966.37999999998\n",
      "\t Optimizing with 30 time steps, 1941 constraints, and 2520 variables...\n",
      "\t Optimized. Time taken:  36.50354790687561\n"
     ]
    },
    {
     "name": "stderr",
     "output_type": "stream",
     "text": [
      "  7%|▋         | 2/30 [01:14<17:26, 37.36s/it]"
     ]
    },
    {
     "name": "stdout",
     "output_type": "stream",
     "text": [
      "Current Portfolio Value at 2014-11-05: 257048.95999999996\n",
      "\t Optimizing with 29 time steps, 1877 constraints, and 2436 variables...\n",
      "\t Optimized. Time taken:  4.334506988525391\n"
     ]
    },
    {
     "name": "stderr",
     "output_type": "stream",
     "text": [
      " 10%|█         | 3/30 [01:19<10:06, 22.46s/it]"
     ]
    },
    {
     "name": "stdout",
     "output_type": "stream",
     "text": [
      "Current Portfolio Value at 2014-11-06: 262345.2799999999\n",
      "\t Optimizing with 28 time steps, 1813 constraints, and 2352 variables...\n",
      "\t Optimized. Time taken:  15.011814832687378\n"
     ]
    },
    {
     "name": "stderr",
     "output_type": "stream",
     "text": [
      " 13%|█▎        | 4/30 [01:35<08:31, 19.67s/it]"
     ]
    },
    {
     "name": "stdout",
     "output_type": "stream",
     "text": [
      "Current Portfolio Value at 2014-11-07: 270365.67999999993\n",
      "\t Optimizing with 27 time steps, 1749 constraints, and 2268 variables...\n",
      "\t Optimized. Time taken:  9.684030771255493\n"
     ]
    },
    {
     "name": "stderr",
     "output_type": "stream",
     "text": [
      " 17%|█▋        | 5/30 [01:45<06:45, 16.21s/it]"
     ]
    },
    {
     "name": "stdout",
     "output_type": "stream",
     "text": [
      "Current Portfolio Value at 2014-11-10: 273780.29999999993\n",
      "\t Optimizing with 26 time steps, 1685 constraints, and 2184 variables...\n",
      "\t Optimized. Time taken:  6.1262335777282715\n"
     ]
    },
    {
     "name": "stderr",
     "output_type": "stream",
     "text": [
      " 20%|██        | 6/30 [01:51<05:09, 12.91s/it]"
     ]
    },
    {
     "name": "stdout",
     "output_type": "stream",
     "text": [
      "Current Portfolio Value at 2014-11-11: 270968.2599999999\n",
      "\t Optimizing with 25 time steps, 1621 constraints, and 2100 variables...\n"
     ]
    },
    {
     "name": "stderr",
     "output_type": "stream",
     "text": [
      " 23%|██▎       | 7/30 [01:56<03:59, 10.41s/it]"
     ]
    },
    {
     "name": "stdout",
     "output_type": "stream",
     "text": [
      "\t Optimized. Time taken:  4.899891138076782\n",
      "Current Portfolio Value at 2014-11-12: 269963.95999999985\n",
      "\t Optimizing with 24 time steps, 1557 constraints, and 2016 variables...\n",
      "\t Optimized. Time taken:  9.985574960708618\n"
     ]
    },
    {
     "name": "stderr",
     "output_type": "stream",
     "text": [
      " 27%|██▋       | 8/30 [02:07<03:48, 10.40s/it]"
     ]
    },
    {
     "name": "stdout",
     "output_type": "stream",
     "text": [
      "Current Portfolio Value at 2014-11-13: 274985.45999999985\n",
      "\t Optimizing with 23 time steps, 1493 constraints, and 1932 variables...\n",
      "\t Optimized. Time taken:  3.44229793548584\n"
     ]
    },
    {
     "name": "stderr",
     "output_type": "stream",
     "text": [
      " 30%|███       | 9/30 [02:11<02:54,  8.33s/it]"
     ]
    },
    {
     "name": "stdout",
     "output_type": "stream",
     "text": [
      "Current Portfolio Value at 2014-11-14: 270566.5399999999\n",
      "\t Optimizing with 22 time steps, 1429 constraints, and 1848 variables...\n"
     ]
    },
    {
     "name": "stderr",
     "output_type": "stream",
     "text": [
      " 33%|███▎      | 10/30 [02:13<02:13,  6.65s/it]"
     ]
    },
    {
     "name": "stdout",
     "output_type": "stream",
     "text": [
      "\t Optimized. Time taken:  2.5761220455169678\n",
      "Current Portfolio Value at 2014-11-17: 276391.47999999986\n",
      "\t Optimizing with 21 time steps, 1365 constraints, and 1764 variables...\n"
     ]
    },
    {
     "name": "stderr",
     "output_type": "stream",
     "text": [
      " 37%|███▋      | 11/30 [02:16<01:41,  5.33s/it]"
     ]
    },
    {
     "name": "stdout",
     "output_type": "stream",
     "text": [
      "\t Optimized. Time taken:  2.038259267807007\n",
      "Current Portfolio Value at 2014-11-18: 275989.7599999999\n",
      "\t Optimizing with 20 time steps, 1301 constraints, and 1680 variables...\n",
      "\t Optimized. Time taken:  1.3056797981262207\n"
     ]
    },
    {
     "name": "stderr",
     "output_type": "stream",
     "text": [
      " 40%|████      | 12/30 [02:17<01:15,  4.20s/it]"
     ]
    },
    {
     "name": "stdout",
     "output_type": "stream",
     "text": [
      "Current Portfolio Value at 2014-11-19: 279605.2399999999\n",
      "\t Optimizing with 19 time steps, 1237 constraints, and 1596 variables...\n",
      "\t Optimized. Time taken:  1.5733129978179932\n"
     ]
    },
    {
     "name": "stderr",
     "output_type": "stream",
     "text": [
      " 43%|████▎     | 13/30 [02:19<00:59,  3.51s/it]"
     ]
    },
    {
     "name": "stdout",
     "output_type": "stream",
     "text": [
      "Current Portfolio Value at 2014-11-20: 279806.09999999986\n",
      "\t Optimizing with 18 time steps, 1173 constraints, and 1512 variables...\n"
     ]
    },
    {
     "name": "stderr",
     "output_type": "stream",
     "text": [
      " 47%|████▋     | 14/30 [02:21<00:46,  2.88s/it]"
     ]
    },
    {
     "name": "stdout",
     "output_type": "stream",
     "text": [
      "\t Optimized. Time taken:  1.1354475021362305\n",
      "Current Portfolio Value at 2014-11-21: 283220.71999999986\n",
      "\t Optimizing with 17 time steps, 1109 constraints, and 1428 variables...\n",
      "\t Optimized. Time taken:  0.759171724319458\n"
     ]
    },
    {
     "name": "stderr",
     "output_type": "stream",
     "text": [
      " 50%|█████     | 15/30 [02:22<00:34,  2.33s/it]"
     ]
    },
    {
     "name": "stdout",
     "output_type": "stream",
     "text": [
      "Current Portfolio Value at 2014-11-24: 282818.9999999999\n",
      "\t Optimizing with 16 time steps, 1045 constraints, and 1344 variables...\n",
      "\t Optimized. Time taken:  1.5503997802734375\n"
     ]
    },
    {
     "name": "stderr",
     "output_type": "stream",
     "text": [
      " 53%|█████▎    | 16/30 [02:24<00:30,  2.19s/it]"
     ]
    },
    {
     "name": "stdout",
     "output_type": "stream",
     "text": [
      "Current Portfolio Value at 2014-11-25: 279605.2399999999\n",
      "\t Optimizing with 15 time steps, 981 constraints, and 1260 variables...\n",
      "\t Optimized. Time taken:  0.7255082130432129\n"
     ]
    },
    {
     "name": "stderr",
     "output_type": "stream",
     "text": [
      " 57%|█████▋    | 17/30 [02:25<00:23,  1.84s/it]"
     ]
    },
    {
     "name": "stdout",
     "output_type": "stream",
     "text": [
      "Current Portfolio Value at 2014-11-26: 277596.6399999999\n",
      "\t Optimizing with 14 time steps, 917 constraints, and 1176 variables...\n",
      "\t Optimized. Time taken:  0.39293837547302246\n"
     ]
    },
    {
     "name": "stderr",
     "output_type": "stream",
     "text": [
      " 60%|██████    | 18/30 [02:25<00:17,  1.49s/it]"
     ]
    },
    {
     "name": "stdout",
     "output_type": "stream",
     "text": [
      "Current Portfolio Value at 2014-11-27: 277596.6399999999\n",
      "\t Optimizing with 13 time steps, 853 constraints, and 1092 variables...\n",
      "\t Optimized. Time taken:  0.3574368953704834\n"
     ]
    },
    {
     "name": "stderr",
     "output_type": "stream",
     "text": [
      " 63%|██████▎   | 19/30 [02:26<00:13,  1.24s/it]"
     ]
    },
    {
     "name": "stdout",
     "output_type": "stream",
     "text": [
      "Current Portfolio Value at 2014-11-28: 278600.93999999994\n",
      "\t Optimizing with 12 time steps, 789 constraints, and 1008 variables...\n"
     ]
    },
    {
     "name": "stderr",
     "output_type": "stream",
     "text": [
      " 67%|██████▋   | 20/30 [02:27<00:10,  1.09s/it]"
     ]
    },
    {
     "name": "stdout",
     "output_type": "stream",
     "text": [
      "\t Optimized. Time taken:  0.47548413276672363\n",
      "Current Portfolio Value at 2014-12-01: 282395.6799999999\n",
      "\t Optimizing with 11 time steps, 725 constraints, and 924 variables...\n",
      "\t Optimized. Time taken:  0.4452207088470459\n"
     ]
    },
    {
     "name": "stderr",
     "output_type": "stream",
     "text": [
      " 70%|███████   | 21/30 [02:27<00:08,  1.02it/s]"
     ]
    },
    {
     "name": "stdout",
     "output_type": "stream",
     "text": [
      "Current Portfolio Value at 2014-12-02: 287813.4099999999\n",
      "\t Optimizing with 10 time steps, 661 constraints, and 840 variables...\n",
      "\t Optimized. Time taken:  0.2895777225494385\n"
     ]
    },
    {
     "name": "stderr",
     "output_type": "stream",
     "text": [
      " 73%|███████▎  | 22/30 [02:28<00:06,  1.17it/s]"
     ]
    },
    {
     "name": "stdout",
     "output_type": "stream",
     "text": [
      "Current Portfolio Value at 2014-12-03: 292399.1799999999\n",
      "\t Optimizing with 9 time steps, 597 constraints, and 756 variables...\n",
      "\t Optimized. Time taken:  0.1576550006866455\n"
     ]
    },
    {
     "name": "stderr",
     "output_type": "stream",
     "text": [
      " 77%|███████▋  | 23/30 [02:28<00:05,  1.38it/s]"
     ]
    },
    {
     "name": "stdout",
     "output_type": "stream",
     "text": [
      "Current Portfolio Value at 2014-12-04: 287530.50999999995\n",
      "\t Optimizing with 8 time steps, 533 constraints, and 672 variables...\n",
      "\t Optimized. Time taken:  0.14203119277954102\n"
     ]
    },
    {
     "name": "stderr",
     "output_type": "stream",
     "text": [
      " 80%|████████  | 24/30 [02:29<00:03,  1.62it/s]"
     ]
    },
    {
     "name": "stdout",
     "output_type": "stream",
     "text": [
      "Current Portfolio Value at 2014-12-05: 282809.8899999999\n",
      "\t Optimizing with 7 time steps, 469 constraints, and 588 variables...\n",
      "\t Optimized. Time taken:  0.053475379943847656\n"
     ]
    },
    {
     "name": "stderr",
     "output_type": "stream",
     "text": [
      " 83%|████████▎ | 25/30 [02:29<00:02,  1.91it/s]"
     ]
    },
    {
     "name": "stdout",
     "output_type": "stream",
     "text": [
      "Current Portfolio Value at 2014-12-08: 273900.9699999999\n",
      "\t Optimizing with 6 time steps, 405 constraints, and 504 variables...\n",
      "\t Optimized. Time taken:  0.0663444995880127\n"
     ]
    },
    {
     "name": "stderr",
     "output_type": "stream",
     "text": [
      " 90%|█████████ | 27/30 [02:30<00:01,  2.47it/s]"
     ]
    },
    {
     "name": "stdout",
     "output_type": "stream",
     "text": [
      "Current Portfolio Value at 2014-12-09: 275205.36999999994\n",
      "\t Optimizing with 5 time steps, 341 constraints, and 420 variables...\n",
      "\t Optimized. Time taken:  0.046875715255737305\n",
      "Current Portfolio Value at 2014-12-10: 268120.3099999999\n",
      "\t Optimizing with 4 time steps, 277 constraints, and 336 variables...\n",
      "\t Optimized. Time taken:  0.030847549438476562\n"
     ]
    },
    {
     "name": "stderr",
     "output_type": "stream",
     "text": [
      " 93%|█████████▎| 28/30 [02:30<00:00,  2.79it/s]"
     ]
    },
    {
     "name": "stdout",
     "output_type": "stream",
     "text": [
      "Current Portfolio Value at 2014-12-11: 267533.11999999994\n",
      "\t Optimizing with 3 time steps, 213 constraints, and 252 variables...\n",
      "\t Optimized. Time taken:  0.0\n"
     ]
    },
    {
     "name": "stderr",
     "output_type": "stream",
     "text": [
      " 97%|█████████▋| 29/30 [02:30<00:00,  3.06it/s]"
     ]
    },
    {
     "name": "stdout",
     "output_type": "stream",
     "text": [
      "Current Portfolio Value at 2014-12-12: 264373.8799999999\n",
      "\t Optimizing with 2 time steps, 149 constraints, and 168 variables...\n",
      "\t Optimized. Time taken:  0.0\n"
     ]
    },
    {
     "name": "stderr",
     "output_type": "stream",
     "text": [
      "100%|██████████| 30/30 [02:30<00:00,  5.03s/it]\n"
     ]
    }
   ],
   "source": [
    "final_portf = market_sim.run()"
   ],
   "metadata": {
    "collapsed": false
   }
  }
 ],
 "metadata": {
  "kernelspec": {
   "display_name": "Python 3",
   "language": "python",
   "name": "python3"
  },
  "language_info": {
   "codemirror_mode": {
    "name": "ipython",
    "version": 2
   },
   "file_extension": ".py",
   "mimetype": "text/x-python",
   "name": "python",
   "nbconvert_exporter": "python",
   "pygments_lexer": "ipython2",
   "version": "2.7.6"
  }
 },
 "nbformat": 4,
 "nbformat_minor": 0
}
