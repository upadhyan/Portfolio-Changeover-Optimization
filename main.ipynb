{
 "cells": [
  {
   "cell_type": "markdown",
   "metadata": {
    "collapsed": false
   },
   "source": [
    "# Main Runner"
   ]
  },
  {
   "cell_type": "markdown",
   "source": [
    "## Imports"
   ],
   "metadata": {
    "collapsed": false
   }
  },
  {
   "cell_type": "code",
   "execution_count": null,
   "metadata": {
    "collapsed": true
   },
   "outputs": [],
   "source": [
    "from objects import *\n",
    "import pickle\n",
    "import os\n",
    "import plotly.express as px"
   ]
  },
  {
   "cell_type": "markdown",
   "source": [
    "## Generate Experiments"
   ],
   "metadata": {
    "collapsed": false
   }
  },
  {
   "cell_type": "code",
   "execution_count": null,
   "outputs": [],
   "source": [
    "prices = pd.read_parquet(\"raw_data/spx_stock_prices.parquet\")\n",
    "treasury_rate_files = [\"daily-treasury-rates.csv\"] + [f\"daily-treasury-rates ({i}).csv\" for i in range(1, 25)]\n",
    "rates_df = [pd.read_csv(f\"raw_data/{file}\", index_col=0) for file in treasury_rate_files]\n",
    "rates_df = pd.concat(rates_df)\n",
    "rates_df.index = pd.to_datetime(rates_df.index)\n",
    "# sort rates_df by date\n",
    "rates_df = rates_df.sort_index()\n",
    "print(\"Start Generation\")\n",
    "generate_experiments(prices, rates_df, 250, \"experiments\", lookback=48, error_max=10)"
   ],
   "metadata": {
    "collapsed": false
   }
  },
  {
   "cell_type": "markdown",
   "source": [
    "# Read in generated experiments\n",
    "Only needed if running a single experiment. Otherwise, the experiments are read in from the ``experiments`` folder."
   ],
   "metadata": {
    "collapsed": false
   }
  },
  {
   "cell_type": "code",
   "execution_count": null,
   "metadata": {
    "collapsed": false
   },
   "outputs": [],
   "source": [
    "# Get all files in the experiments folder\n",
    "experiment_names = os.listdir('experiments')\n",
    "experiments = []\n",
    "# read in pickle object\n",
    "for e in experiment_names:\n",
    "    with open(f\"experiments/{e}\", 'rb') as f:\n",
    "        exp = pickle.load(f)\n",
    "        experiments.append(exp)"
   ]
  },
  {
   "cell_type": "code",
   "execution_count": null,
   "outputs": [],
   "source": [
    "policy = DirectionalIncentiveTradingPolicy(experiments[0], lambda_=0.5)\n",
    "simulator = MarketSimulator(experiments[0], policy, verbose=False)\n",
    "simulator.run()\n",
    "simulator.total_trades"
   ],
   "metadata": {
    "collapsed": false
   }
  },
  {
   "cell_type": "markdown",
   "source": [
    "## Evaluate Policies\n",
    "Run multiple policies on a set of experiments."
   ],
   "metadata": {
    "collapsed": false
   }
  },
  {
   "cell_type": "code",
   "execution_count": null,
   "outputs": [],
   "source": [
    "policies = [DIRECTIONAL_TRADING] + \\\n",
    "           [DIRECTIONAL_INCENTIVE_TRADING(0), DIRECTIONAL_INCENTIVE_TRADING(.25), DIRECTIONAL_INCENTIVE_TRADING(.5), DIRECTIONAL_INCENTIVE_TRADING(.75)] + \\\n",
    "           [NAIVE]\n",
    "multi_sim = MultiSimRunner('experiments', policies)\n",
    "multi_sim.get_results(\"base_results.csv\")"
   ],
   "metadata": {
    "collapsed": false
   }
  }
 ],
 "metadata": {
  "kernelspec": {
   "display_name": "Python 3",
   "language": "python",
   "name": "python3"
  },
  "language_info": {
   "codemirror_mode": {
    "name": "ipython",
    "version": 3
   },
   "file_extension": ".py",
   "mimetype": "text/x-python",
   "name": "python",
   "nbconvert_exporter": "python",
   "pygments_lexer": "ipython3",
   "version": "3.7.12"
  }
 },
 "nbformat": 4,
 "nbformat_minor": 0
}
