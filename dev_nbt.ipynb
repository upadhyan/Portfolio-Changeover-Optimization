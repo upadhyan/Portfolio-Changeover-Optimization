{
 "cells": [
  {
   "cell_type": "code",
   "execution_count": 1,
   "metadata": {},
   "outputs": [
    {
     "name": "stderr",
     "output_type": "stream",
     "text": [
      "100%|██████████| 1/1 [00:00<00:00,  5.10it/s]\n"
     ]
    }
   ],
   "source": [
    "from src.experimental_config import *\n",
    "from src.policies import *\n",
    "from src.simulator import *\n",
    "from src.forecasting import *\n",
    "\n",
    "import os\n",
    "\n",
    "# delete all files in the experiments folder\n",
    "for filename in os.listdir('./experiments'):\n",
    "    file_path = os.path.join('./experiments', filename)\n",
    "    try:\n",
    "        if os.path.isfile(file_path) or os.path.islink(file_path):\n",
    "            os.unlink(file_path)\n",
    "    except Exception as e:\n",
    "        print('Failed to delete %s. Reason: %s' % (file_path, e))\n",
    "\n",
    "\n",
    "generate_experiments(\n",
    "    price_data_dir = './raw_data/spx_stock_prices.parquet',\n",
    "    covariates = None,\n",
    "    num_experiments = 1,\n",
    "    output_dir = './experiments',\n",
    "    min_horizon = 30,\n",
    "    max_horizon = 31,\n",
    "    max_num_stocks = 30,\n",
    "    min_num_stocks = 5,\n",
    "    min_tx_cost = 2,\n",
    "    max_tx_cost = 10,\n",
    "    max_budget = 350000,\n",
    "    min_budget = 5000,\n",
    "    forecast_model='NBEATS'\n",
    ")"
   ]
  },
  {
   "cell_type": "code",
   "execution_count": 2,
   "metadata": {},
   "outputs": [
    {
     "name": "stdout",
     "output_type": "stream",
     "text": [
      "Starting Simulation\n"
     ]
    },
    {
     "name": "stderr",
     "output_type": "stream",
     "text": [
      "  0%|          | 0/30 [00:00<?, ?it/s]Global seed set to 1\n"
     ]
    },
    {
     "name": "stdout",
     "output_type": "stream",
     "text": [
      "Current Portfolio Value at 2019-11-07T00:00:00.000000000: 112656.4\n",
      "AON_61735     1\n",
      "BBY_85914     1\n",
      "LHX_25582     1\n",
      "NEE_24205     1\n",
      "ORCL_10104    1\n",
      "PAYX_61621    1\n",
      "SCHW_75186    1\n",
      "SHW_36468     0\n",
      "SPGI_17478    0\n",
      "TFC_71563     0\n",
      "T_66093       0\n",
      "VTR_75819     0\n",
      "dtype: int32\n",
      "\t Optimizing with 31 time steps, 1903 constraints, and 1488 variables...\n",
      "\t Optimized. Time taken: 0.09355568885803223\n"
     ]
    },
    {
     "name": "stderr",
     "output_type": "stream",
     "text": [
      "  3%|▎         | 1/30 [00:00<00:25,  1.15it/s]"
     ]
    },
    {
     "name": "stdout",
     "output_type": "stream",
     "text": [
      "Current Portfolio Value at 2019-11-08 00:00:00: 113310.09999999998\n",
      "AON_61735     1\n",
      "BBY_85914     1\n",
      "LHX_25582     1\n",
      "NEE_24205     1\n",
      "ORCL_10104    1\n",
      "PAYX_61621    1\n",
      "SCHW_75186    1\n",
      "SHW_36468     0\n",
      "SPGI_17478    0\n",
      "TFC_71563     1\n",
      "T_66093       0\n",
      "VTR_75819     0\n",
      "dtype: int32\n",
      "\t Optimizing with 30 time steps, 1842 constraints, and 1440 variables...\n"
     ]
    },
    {
     "name": "stderr",
     "output_type": "stream",
     "text": [
      "  7%|▋         | 2/30 [00:01<00:17,  1.57it/s]"
     ]
    },
    {
     "name": "stdout",
     "output_type": "stream",
     "text": [
      "\t Optimized. Time taken: 0.06758928298950195\n",
      "Current Portfolio Value at 2019-11-11 00:00:00: 112987.45999999998\n",
      "AON_61735     1\n",
      "BBY_85914     1\n",
      "LHX_25582     1\n",
      "NEE_24205     0\n",
      "ORCL_10104    1\n",
      "PAYX_61621    1\n",
      "SCHW_75186    1\n",
      "SHW_36468     0\n",
      "SPGI_17478    0\n",
      "TFC_71563     1\n",
      "T_66093       0\n",
      "VTR_75819     0\n",
      "dtype: int32\n"
     ]
    },
    {
     "name": "stderr",
     "output_type": "stream",
     "text": [
      " 10%|█         | 3/30 [00:01<00:14,  1.83it/s]"
     ]
    },
    {
     "name": "stdout",
     "output_type": "stream",
     "text": [
      "\t Optimizing with 29 time steps, 1781 constraints, and 1392 variables...\n",
      "\t Optimized. Time taken: 0.046991586685180664\n",
      "Current Portfolio Value at 2019-11-12 00:00:00: 113687.58999999998\n",
      "AON_61735     1\n",
      "BBY_85914     1\n",
      "LHX_25582     1\n",
      "NEE_24205     0\n",
      "ORCL_10104    1\n",
      "PAYX_61621    1\n",
      "SCHW_75186    1\n",
      "SHW_36468     0\n",
      "SPGI_17478    0\n",
      "TFC_71563     1\n",
      "T_66093       0\n",
      "VTR_75819     0\n",
      "dtype: int32\n",
      "\t Optimizing with 28 time steps, 1720 constraints, and 1344 variables...\n",
      "\t Optimized. Time taken: 0.040000200271606445\n"
     ]
    },
    {
     "name": "stderr",
     "output_type": "stream",
     "text": [
      " 13%|█▎        | 4/30 [00:02<00:12,  2.01it/s]"
     ]
    },
    {
     "name": "stdout",
     "output_type": "stream",
     "text": [
      "Current Portfolio Value at 2019-11-13 00:00:00: 114529.83999999997\n",
      "AON_61735     1\n",
      "BBY_85914     1\n",
      "LHX_25582     1\n",
      "NEE_24205     0\n",
      "ORCL_10104    1\n",
      "PAYX_61621    1\n",
      "SCHW_75186    1\n",
      "SHW_36468     0\n",
      "SPGI_17478    0\n",
      "TFC_71563     1\n",
      "T_66093       0\n",
      "VTR_75819     0\n",
      "dtype: int32\n",
      "\t Optimizing with 27 time steps, 1659 constraints, and 1296 variables...\n",
      "\t Optimized. Time taken: 0.044008731842041016\n"
     ]
    },
    {
     "name": "stderr",
     "output_type": "stream",
     "text": [
      " 17%|█▋        | 5/30 [00:02<00:11,  2.11it/s]"
     ]
    },
    {
     "name": "stdout",
     "output_type": "stream",
     "text": [
      "Current Portfolio Value at 2019-11-14 00:00:00: 115209.03999999998\n",
      "AON_61735     1\n",
      "BBY_85914     1\n",
      "LHX_25582     1\n",
      "NEE_24205     0\n",
      "ORCL_10104    1\n",
      "PAYX_61621    1\n",
      "SCHW_75186    1\n",
      "SHW_36468     0\n",
      "SPGI_17478    0\n",
      "TFC_71563     1\n",
      "T_66093       0\n",
      "VTR_75819     0\n",
      "dtype: int32\n",
      "\t Optimizing with 26 time steps, 1598 constraints, and 1248 variables...\n",
      "\t Optimized. Time taken: 0.04272937774658203\n"
     ]
    },
    {
     "name": "stderr",
     "output_type": "stream",
     "text": [
      " 20%|██        | 6/30 [00:03<00:10,  2.20it/s]"
     ]
    },
    {
     "name": "stdout",
     "output_type": "stream",
     "text": [
      "Current Portfolio Value at 2019-11-15 00:00:00: 115898.31999999998\n",
      "AON_61735     1\n",
      "BBY_85914     1\n",
      "LHX_25582     1\n",
      "NEE_24205     0\n",
      "ORCL_10104    1\n",
      "PAYX_61621    1\n",
      "SCHW_75186    1\n",
      "SHW_36468     0\n",
      "SPGI_17478    0\n",
      "TFC_71563     1\n",
      "T_66093       0\n",
      "VTR_75819     0\n",
      "dtype: int32\n",
      "\t Optimizing with 25 time steps, 1537 constraints, and 1200 variables...\n"
     ]
    },
    {
     "name": "stderr",
     "output_type": "stream",
     "text": [
      " 23%|██▎       | 7/30 [00:03<00:10,  2.26it/s]"
     ]
    },
    {
     "name": "stdout",
     "output_type": "stream",
     "text": [
      "\t Optimized. Time taken: 0.05352973937988281\n",
      "Current Portfolio Value at 2019-11-18 00:00:00: 115702.83999999998\n",
      "AON_61735     1\n",
      "BBY_85914     1\n",
      "LHX_25582     1\n",
      "NEE_24205     0\n",
      "ORCL_10104    1\n",
      "PAYX_61621    1\n",
      "SCHW_75186    1\n",
      "SHW_36468     0\n",
      "SPGI_17478    0\n",
      "TFC_71563     1\n",
      "T_66093       0\n",
      "VTR_75819     0\n",
      "dtype: int32\n",
      "\t Optimizing with 24 time steps, 1476 constraints, and 1152 variables...\n",
      "\t Optimized. Time taken: 0.034000396728515625\n"
     ]
    },
    {
     "name": "stderr",
     "output_type": "stream",
     "text": [
      " 27%|██▋       | 8/30 [00:03<00:09,  2.33it/s]"
     ]
    },
    {
     "name": "stdout",
     "output_type": "stream",
     "text": [
      "Current Portfolio Value at 2019-11-19 00:00:00: 115898.42999999998\n",
      "AON_61735     1\n",
      "BBY_85914     1\n",
      "LHX_25582     1\n",
      "NEE_24205     0\n",
      "ORCL_10104    1\n",
      "PAYX_61621    1\n",
      "SCHW_75186    1\n",
      "SHW_36468     0\n",
      "SPGI_17478    0\n",
      "TFC_71563     1\n",
      "T_66093       0\n",
      "VTR_75819     0\n",
      "dtype: int32\n",
      "\t Optimizing with 23 time steps, 1415 constraints, and 1104 variables...\n",
      "\t Optimized. Time taken: 0.03454732894897461\n"
     ]
    },
    {
     "name": "stderr",
     "output_type": "stream",
     "text": [
      " 30%|███       | 9/30 [00:04<00:10,  2.10it/s]\n"
     ]
    },
    {
     "ename": "KeyboardInterrupt",
     "evalue": "",
     "output_type": "error",
     "traceback": [
      "\u001b[1;31m---------------------------------------------------------------------------\u001b[0m",
      "\u001b[1;31mKeyboardInterrupt\u001b[0m                         Traceback (most recent call last)",
      "Cell \u001b[1;32mIn[2], line 14\u001b[0m\n\u001b[0;32m     12\u001b[0m policy \u001b[39m=\u001b[39m DirectionalTradingPolicy(exp, verbose\u001b[39m=\u001b[39m\u001b[39mTrue\u001b[39;00m)\n\u001b[0;32m     13\u001b[0m simulator \u001b[39m=\u001b[39m MarketSimulator(exp, policy, verbose\u001b[39m=\u001b[39m\u001b[39mTrue\u001b[39;00m)\n\u001b[1;32m---> 14\u001b[0m simulator\u001b[39m.\u001b[39;49mrun()\n",
      "File \u001b[1;32mc:\\Users\\nakul\\Documents\\GitHub\\Portfolio-Changeover-Optimization\\src\\simulator.py:61\u001b[0m, in \u001b[0;36mMarketSimulator.run\u001b[1;34m(self)\u001b[0m\n\u001b[0;32m     59\u001b[0m \u001b[39m# Get forecast\u001b[39;00m\n\u001b[0;32m     60\u001b[0m t1 \u001b[39m=\u001b[39m time()\n\u001b[1;32m---> 61\u001b[0m forecast \u001b[39m=\u001b[39m \u001b[39mself\u001b[39;49m\u001b[39m.\u001b[39;49mconfiguration\u001b[39m.\u001b[39;49mforecast_model\u001b[39m.\u001b[39;49mupdate(current_time, horizon)\n\u001b[0;32m     63\u001b[0m \u001b[39m# Run Policy\u001b[39;00m\n\u001b[0;32m     64\u001b[0m t2 \u001b[39m=\u001b[39m time()\n",
      "File \u001b[1;32mc:\\Users\\nakul\\Documents\\GitHub\\Portfolio-Changeover-Optimization\\src\\forecasting.py:41\u001b[0m, in \u001b[0;36mNBEATSForecast.update\u001b[1;34m(self, t, horizon)\u001b[0m\n\u001b[0;32m     39\u001b[0m     \u001b[39mself\u001b[39m\u001b[39m.\u001b[39mmodel \u001b[39m=\u001b[39m NeuralForecast\u001b[39m.\u001b[39mload(path\u001b[39m=\u001b[39m\u001b[39m'\u001b[39m\u001b[39m./models/\u001b[39m\u001b[39m'\u001b[39m)\n\u001b[0;32m     40\u001b[0m price_data \u001b[39m=\u001b[39m \u001b[39mself\u001b[39m\u001b[39m.\u001b[39mprice_data[\u001b[39mself\u001b[39m\u001b[39m.\u001b[39mprice_data[\u001b[39m'\u001b[39m\u001b[39mds\u001b[39m\u001b[39m'\u001b[39m] \u001b[39m<\u001b[39m\u001b[39m=\u001b[39m t]\n\u001b[1;32m---> 41\u001b[0m fcst \u001b[39m=\u001b[39m \u001b[39mself\u001b[39;49m\u001b[39m.\u001b[39;49mmodel\u001b[39m.\u001b[39;49mpredict(df\u001b[39m=\u001b[39;49mprice_data)\u001b[39m.\u001b[39mreset_index()\n\u001b[0;32m     42\u001b[0m fcst \u001b[39m=\u001b[39m fcst\u001b[39m.\u001b[39mrename(columns\u001b[39m=\u001b[39m{\u001b[39m'\u001b[39m\u001b[39mPatchTST\u001b[39m\u001b[39m'\u001b[39m: \u001b[39m'\u001b[39m\u001b[39myhat_patchtst\u001b[39m\u001b[39m'\u001b[39m, \u001b[39m'\u001b[39m\u001b[39mNBEATSx\u001b[39m\u001b[39m'\u001b[39m: \u001b[39m'\u001b[39m\u001b[39myhat\u001b[39m\u001b[39m'\u001b[39m, \u001b[39m'\u001b[39m\u001b[39mNHITS\u001b[39m\u001b[39m'\u001b[39m: \u001b[39m'\u001b[39m\u001b[39myhat_nhits\u001b[39m\u001b[39m'\u001b[39m})\n\u001b[0;32m     43\u001b[0m current_day \u001b[39m=\u001b[39m \u001b[39mself\u001b[39m\u001b[39m.\u001b[39mprice_data[\u001b[39mself\u001b[39m\u001b[39m.\u001b[39mprice_data[\u001b[39m'\u001b[39m\u001b[39mds\u001b[39m\u001b[39m'\u001b[39m] \u001b[39m==\u001b[39m t]\u001b[39m.\u001b[39mcopy()\n",
      "File \u001b[1;32mc:\\Users\\nakul\\anaconda3\\envs\\portfolio_optimization\\lib\\site-packages\\neuralforecast\\core.py:322\u001b[0m, in \u001b[0;36mNeuralForecast.predict\u001b[1;34m(self, df, static_df, futr_df, sort_df, verbose, **data_kwargs)\u001b[0m\n\u001b[0;32m    320\u001b[0m old_test_size \u001b[39m=\u001b[39m model\u001b[39m.\u001b[39mget_test_size()\n\u001b[0;32m    321\u001b[0m model\u001b[39m.\u001b[39mset_test_size(\u001b[39mself\u001b[39m\u001b[39m.\u001b[39mh)  \u001b[39m# To predict h steps ahead\u001b[39;00m\n\u001b[1;32m--> 322\u001b[0m model_fcsts \u001b[39m=\u001b[39m model\u001b[39m.\u001b[39mpredict(dataset\u001b[39m=\u001b[39mdataset, \u001b[39m*\u001b[39m\u001b[39m*\u001b[39mdata_kwargs)\n\u001b[0;32m    323\u001b[0m \u001b[39m# Append predictions in memory placeholder\u001b[39;00m\n\u001b[0;32m    324\u001b[0m output_length \u001b[39m=\u001b[39m \u001b[39mlen\u001b[39m(model\u001b[39m.\u001b[39mloss\u001b[39m.\u001b[39moutput_names)\n",
      "File \u001b[1;32mc:\\Users\\nakul\\anaconda3\\envs\\portfolio_optimization\\lib\\site-packages\\neuralforecast\\common\\_base_windows.py:651\u001b[0m, in \u001b[0;36mBaseWindows.predict\u001b[1;34m(self, dataset, test_size, step_size, random_seed, **data_module_kwargs)\u001b[0m\n\u001b[0;32m    646\u001b[0m \u001b[39mif\u001b[39;00m (pred_trainer_kwargs\u001b[39m.\u001b[39mget(\u001b[39m\"\u001b[39m\u001b[39maccelerator\u001b[39m\u001b[39m\"\u001b[39m, \u001b[39mNone\u001b[39;00m) \u001b[39m==\u001b[39m \u001b[39m\"\u001b[39m\u001b[39mgpu\u001b[39m\u001b[39m\"\u001b[39m) \u001b[39mand\u001b[39;00m (\n\u001b[0;32m    647\u001b[0m     torch\u001b[39m.\u001b[39mcuda\u001b[39m.\u001b[39mdevice_count() \u001b[39m>\u001b[39m \u001b[39m1\u001b[39m\n\u001b[0;32m    648\u001b[0m ):\n\u001b[0;32m    649\u001b[0m     pred_trainer_kwargs[\u001b[39m\"\u001b[39m\u001b[39mdevices\u001b[39m\u001b[39m\"\u001b[39m] \u001b[39m=\u001b[39m [\u001b[39m0\u001b[39m]\n\u001b[1;32m--> 651\u001b[0m trainer \u001b[39m=\u001b[39m pl\u001b[39m.\u001b[39mTrainer(\u001b[39m*\u001b[39m\u001b[39m*\u001b[39mpred_trainer_kwargs)\n\u001b[0;32m    652\u001b[0m fcsts \u001b[39m=\u001b[39m trainer\u001b[39m.\u001b[39mpredict(\u001b[39mself\u001b[39m, datamodule\u001b[39m=\u001b[39mdatamodule)\n\u001b[0;32m    653\u001b[0m fcsts \u001b[39m=\u001b[39m torch\u001b[39m.\u001b[39mvstack(fcsts)\u001b[39m.\u001b[39mnumpy()\u001b[39m.\u001b[39mflatten()\n",
      "File \u001b[1;32mc:\\Users\\nakul\\anaconda3\\envs\\portfolio_optimization\\lib\\site-packages\\pytorch_lightning\\utilities\\argparse.py:69\u001b[0m, in \u001b[0;36m_defaults_from_env_vars.<locals>.insert_env_defaults\u001b[1;34m(self, *args, **kwargs)\u001b[0m\n\u001b[0;32m     66\u001b[0m kwargs \u001b[39m=\u001b[39m \u001b[39mdict\u001b[39m(\u001b[39mlist\u001b[39m(env_variables\u001b[39m.\u001b[39mitems()) \u001b[39m+\u001b[39m \u001b[39mlist\u001b[39m(kwargs\u001b[39m.\u001b[39mitems()))\n\u001b[0;32m     68\u001b[0m \u001b[39m# all args were already moved to kwargs\u001b[39;00m\n\u001b[1;32m---> 69\u001b[0m \u001b[39mreturn\u001b[39;00m fn(\u001b[39mself\u001b[39m, \u001b[39m*\u001b[39m\u001b[39m*\u001b[39mkwargs)\n",
      "File \u001b[1;32mc:\\Users\\nakul\\anaconda3\\envs\\portfolio_optimization\\lib\\site-packages\\pytorch_lightning\\trainer\\trainer.py:426\u001b[0m, in \u001b[0;36mTrainer.__init__\u001b[1;34m(self, accelerator, strategy, devices, num_nodes, precision, logger, callbacks, fast_dev_run, max_epochs, min_epochs, max_steps, min_steps, max_time, limit_train_batches, limit_val_batches, limit_test_batches, limit_predict_batches, overfit_batches, val_check_interval, check_val_every_n_epoch, num_sanity_val_steps, log_every_n_steps, enable_checkpointing, enable_progress_bar, enable_model_summary, accumulate_grad_batches, gradient_clip_val, gradient_clip_algorithm, deterministic, benchmark, inference_mode, use_distributed_sampler, profiler, detect_anomaly, barebones, plugins, sync_batchnorm, reload_dataloaders_every_n_epochs, default_root_dir)\u001b[0m\n\u001b[0;32m    422\u001b[0m \u001b[39mself\u001b[39m\u001b[39m.\u001b[39maccumulate_grad_batches \u001b[39m=\u001b[39m accumulate_grad_batches\n\u001b[0;32m    424\u001b[0m \u001b[39m# init callbacks\u001b[39;00m\n\u001b[0;32m    425\u001b[0m \u001b[39m# Declare attributes to be set in _callback_connector on_trainer_init\u001b[39;00m\n\u001b[1;32m--> 426\u001b[0m \u001b[39mself\u001b[39;49m\u001b[39m.\u001b[39;49m_callback_connector\u001b[39m.\u001b[39;49mon_trainer_init(\n\u001b[0;32m    427\u001b[0m     callbacks,\n\u001b[0;32m    428\u001b[0m     enable_checkpointing,\n\u001b[0;32m    429\u001b[0m     enable_progress_bar,\n\u001b[0;32m    430\u001b[0m     default_root_dir,\n\u001b[0;32m    431\u001b[0m     enable_model_summary,\n\u001b[0;32m    432\u001b[0m     max_time,\n\u001b[0;32m    433\u001b[0m )\n\u001b[0;32m    435\u001b[0m \u001b[39m# init data flags\u001b[39;00m\n\u001b[0;32m    436\u001b[0m \u001b[39mself\u001b[39m\u001b[39m.\u001b[39mcheck_val_every_n_epoch: Optional[\u001b[39mint\u001b[39m]\n",
      "File \u001b[1;32mc:\\Users\\nakul\\anaconda3\\envs\\portfolio_optimization\\lib\\site-packages\\pytorch_lightning\\trainer\\connectors\\callback_connector.py:78\u001b[0m, in \u001b[0;36m_CallbackConnector.on_trainer_init\u001b[1;34m(self, callbacks, enable_checkpointing, enable_progress_bar, default_root_dir, enable_model_summary, max_time)\u001b[0m\n\u001b[0;32m     75\u001b[0m \u001b[39m# configure the ModelSummary callback\u001b[39;00m\n\u001b[0;32m     76\u001b[0m \u001b[39mself\u001b[39m\u001b[39m.\u001b[39m_configure_model_summary_callback(enable_model_summary)\n\u001b[1;32m---> 78\u001b[0m \u001b[39mself\u001b[39m\u001b[39m.\u001b[39mtrainer\u001b[39m.\u001b[39mcallbacks\u001b[39m.\u001b[39mextend(_load_external_callbacks(\u001b[39m\"\u001b[39;49m\u001b[39mpytorch_lightning.callbacks_factory\u001b[39;49m\u001b[39m\"\u001b[39;49m))\n\u001b[0;32m     79\u001b[0m _validate_callbacks_list(\u001b[39mself\u001b[39m\u001b[39m.\u001b[39mtrainer\u001b[39m.\u001b[39mcallbacks)\n\u001b[0;32m     81\u001b[0m \u001b[39m# push all model checkpoint callbacks to the end\u001b[39;00m\n\u001b[0;32m     82\u001b[0m \u001b[39m# it is important that these are the last callbacks to run\u001b[39;00m\n",
      "File \u001b[1;32mc:\\Users\\nakul\\anaconda3\\envs\\portfolio_optimization\\lib\\site-packages\\lightning_fabric\\utilities\\registry.py:50\u001b[0m, in \u001b[0;36m_load_external_callbacks\u001b[1;34m(group)\u001b[0m\n\u001b[0;32m     46\u001b[0m \u001b[39mif\u001b[39;00m _PYTHON_GREATER_EQUAL_3_8_0:\n\u001b[0;32m     47\u001b[0m     \u001b[39mfrom\u001b[39;00m \u001b[39mimportlib\u001b[39;00m\u001b[39m.\u001b[39;00m\u001b[39mmetadata\u001b[39;00m \u001b[39mimport\u001b[39;00m entry_points\n\u001b[0;32m     49\u001b[0m     factories \u001b[39m=\u001b[39m (\n\u001b[1;32m---> 50\u001b[0m         entry_points(group\u001b[39m=\u001b[39;49mgroup)\n\u001b[0;32m     51\u001b[0m         \u001b[39mif\u001b[39;00m _PYTHON_GREATER_EQUAL_3_10_0\n\u001b[0;32m     52\u001b[0m         \u001b[39melse\u001b[39;00m entry_points()\u001b[39m.\u001b[39mget(group, {})  \u001b[39m# type: ignore[arg-type]\u001b[39;00m\n\u001b[0;32m     53\u001b[0m     )\n\u001b[0;32m     54\u001b[0m \u001b[39melse\u001b[39;00m:\n\u001b[0;32m     55\u001b[0m     \u001b[39mfrom\u001b[39;00m \u001b[39mpkg_resources\u001b[39;00m \u001b[39mimport\u001b[39;00m iter_entry_points\n",
      "File \u001b[1;32mc:\\Users\\nakul\\anaconda3\\envs\\portfolio_optimization\\lib\\importlib\\metadata\\__init__.py:1021\u001b[0m, in \u001b[0;36mentry_points\u001b[1;34m(**params)\u001b[0m\n\u001b[0;32m   1017\u001b[0m unique \u001b[39m=\u001b[39m functools\u001b[39m.\u001b[39mpartial(unique_everseen, key\u001b[39m=\u001b[39mnorm_name)\n\u001b[0;32m   1018\u001b[0m eps \u001b[39m=\u001b[39m itertools\u001b[39m.\u001b[39mchain\u001b[39m.\u001b[39mfrom_iterable(\n\u001b[0;32m   1019\u001b[0m     dist\u001b[39m.\u001b[39mentry_points \u001b[39mfor\u001b[39;00m dist \u001b[39min\u001b[39;00m unique(distributions())\n\u001b[0;32m   1020\u001b[0m )\n\u001b[1;32m-> 1021\u001b[0m \u001b[39mreturn\u001b[39;00m SelectableGroups\u001b[39m.\u001b[39;49mload(eps)\u001b[39m.\u001b[39mselect(\u001b[39m*\u001b[39m\u001b[39m*\u001b[39mparams)\n",
      "File \u001b[1;32mc:\\Users\\nakul\\anaconda3\\envs\\portfolio_optimization\\lib\\importlib\\metadata\\__init__.py:459\u001b[0m, in \u001b[0;36mSelectableGroups.load\u001b[1;34m(cls, eps)\u001b[0m\n\u001b[0;32m    456\u001b[0m \u001b[39m@classmethod\u001b[39m\n\u001b[0;32m    457\u001b[0m \u001b[39mdef\u001b[39;00m \u001b[39mload\u001b[39m(\u001b[39mcls\u001b[39m, eps):\n\u001b[0;32m    458\u001b[0m     by_group \u001b[39m=\u001b[39m operator\u001b[39m.\u001b[39mattrgetter(\u001b[39m'\u001b[39m\u001b[39mgroup\u001b[39m\u001b[39m'\u001b[39m)\n\u001b[1;32m--> 459\u001b[0m     ordered \u001b[39m=\u001b[39m \u001b[39msorted\u001b[39;49m(eps, key\u001b[39m=\u001b[39;49mby_group)\n\u001b[0;32m    460\u001b[0m     grouped \u001b[39m=\u001b[39m itertools\u001b[39m.\u001b[39mgroupby(ordered, by_group)\n\u001b[0;32m    461\u001b[0m     \u001b[39mreturn\u001b[39;00m \u001b[39mcls\u001b[39m((group, EntryPoints(eps)) \u001b[39mfor\u001b[39;00m group, eps \u001b[39min\u001b[39;00m grouped)\n",
      "File \u001b[1;32mc:\\Users\\nakul\\anaconda3\\envs\\portfolio_optimization\\lib\\importlib\\metadata\\__init__.py:1019\u001b[0m, in \u001b[0;36m<genexpr>\u001b[1;34m(.0)\u001b[0m\n\u001b[0;32m   1016\u001b[0m norm_name \u001b[39m=\u001b[39m operator\u001b[39m.\u001b[39mattrgetter(\u001b[39m'\u001b[39m\u001b[39m_normalized_name\u001b[39m\u001b[39m'\u001b[39m)\n\u001b[0;32m   1017\u001b[0m unique \u001b[39m=\u001b[39m functools\u001b[39m.\u001b[39mpartial(unique_everseen, key\u001b[39m=\u001b[39mnorm_name)\n\u001b[0;32m   1018\u001b[0m eps \u001b[39m=\u001b[39m itertools\u001b[39m.\u001b[39mchain\u001b[39m.\u001b[39mfrom_iterable(\n\u001b[1;32m-> 1019\u001b[0m     dist\u001b[39m.\u001b[39;49mentry_points \u001b[39mfor\u001b[39;00m dist \u001b[39min\u001b[39;00m unique(distributions())\n\u001b[0;32m   1020\u001b[0m )\n\u001b[0;32m   1021\u001b[0m \u001b[39mreturn\u001b[39;00m SelectableGroups\u001b[39m.\u001b[39mload(eps)\u001b[39m.\u001b[39mselect(\u001b[39m*\u001b[39m\u001b[39m*\u001b[39mparams)\n",
      "File \u001b[1;32mc:\\Users\\nakul\\anaconda3\\envs\\portfolio_optimization\\lib\\importlib\\metadata\\__init__.py:631\u001b[0m, in \u001b[0;36mDistribution.entry_points\u001b[1;34m(self)\u001b[0m\n\u001b[0;32m    629\u001b[0m \u001b[39m@property\u001b[39m\n\u001b[0;32m    630\u001b[0m \u001b[39mdef\u001b[39;00m \u001b[39mentry_points\u001b[39m(\u001b[39mself\u001b[39m):\n\u001b[1;32m--> 631\u001b[0m     \u001b[39mreturn\u001b[39;00m EntryPoints\u001b[39m.\u001b[39m_from_text_for(\u001b[39mself\u001b[39;49m\u001b[39m.\u001b[39;49mread_text(\u001b[39m'\u001b[39;49m\u001b[39mentry_points.txt\u001b[39;49m\u001b[39m'\u001b[39;49m), \u001b[39mself\u001b[39m)\n",
      "File \u001b[1;32mc:\\Users\\nakul\\anaconda3\\envs\\portfolio_optimization\\lib\\importlib\\metadata\\__init__.py:927\u001b[0m, in \u001b[0;36mPathDistribution.read_text\u001b[1;34m(self, filename)\u001b[0m\n\u001b[0;32m    919\u001b[0m \u001b[39mdef\u001b[39;00m \u001b[39mread_text\u001b[39m(\u001b[39mself\u001b[39m, filename):\n\u001b[0;32m    920\u001b[0m     \u001b[39mwith\u001b[39;00m suppress(\n\u001b[0;32m    921\u001b[0m         \u001b[39mFileNotFoundError\u001b[39;00m,\n\u001b[0;32m    922\u001b[0m         \u001b[39mIsADirectoryError\u001b[39;00m,\n\u001b[1;32m   (...)\u001b[0m\n\u001b[0;32m    925\u001b[0m         \u001b[39mPermissionError\u001b[39;00m,\n\u001b[0;32m    926\u001b[0m     ):\n\u001b[1;32m--> 927\u001b[0m         \u001b[39mreturn\u001b[39;00m \u001b[39mself\u001b[39;49m\u001b[39m.\u001b[39;49m_path\u001b[39m.\u001b[39;49mjoinpath(filename)\u001b[39m.\u001b[39;49mread_text(encoding\u001b[39m=\u001b[39;49m\u001b[39m'\u001b[39;49m\u001b[39mutf-8\u001b[39;49m\u001b[39m'\u001b[39;49m)\n",
      "File \u001b[1;32mc:\\Users\\nakul\\anaconda3\\envs\\portfolio_optimization\\lib\\pathlib.py:1134\u001b[0m, in \u001b[0;36mPath.read_text\u001b[1;34m(self, encoding, errors)\u001b[0m\n\u001b[0;32m   1130\u001b[0m \u001b[39m\u001b[39m\u001b[39m\"\"\"\u001b[39;00m\n\u001b[0;32m   1131\u001b[0m \u001b[39mOpen the file in text mode, read it, and close the file.\u001b[39;00m\n\u001b[0;32m   1132\u001b[0m \u001b[39m\"\"\"\u001b[39;00m\n\u001b[0;32m   1133\u001b[0m encoding \u001b[39m=\u001b[39m io\u001b[39m.\u001b[39mtext_encoding(encoding)\n\u001b[1;32m-> 1134\u001b[0m \u001b[39mwith\u001b[39;00m \u001b[39mself\u001b[39;49m\u001b[39m.\u001b[39;49mopen(mode\u001b[39m=\u001b[39;49m\u001b[39m'\u001b[39;49m\u001b[39mr\u001b[39;49m\u001b[39m'\u001b[39;49m, encoding\u001b[39m=\u001b[39;49mencoding, errors\u001b[39m=\u001b[39;49merrors) \u001b[39mas\u001b[39;00m f:\n\u001b[0;32m   1135\u001b[0m     \u001b[39mreturn\u001b[39;00m f\u001b[39m.\u001b[39mread()\n",
      "File \u001b[1;32mc:\\Users\\nakul\\anaconda3\\envs\\portfolio_optimization\\lib\\pathlib.py:1119\u001b[0m, in \u001b[0;36mPath.open\u001b[1;34m(self, mode, buffering, encoding, errors, newline)\u001b[0m\n\u001b[0;32m   1117\u001b[0m \u001b[39mif\u001b[39;00m \u001b[39m\"\u001b[39m\u001b[39mb\u001b[39m\u001b[39m\"\u001b[39m \u001b[39mnot\u001b[39;00m \u001b[39min\u001b[39;00m mode:\n\u001b[0;32m   1118\u001b[0m     encoding \u001b[39m=\u001b[39m io\u001b[39m.\u001b[39mtext_encoding(encoding)\n\u001b[1;32m-> 1119\u001b[0m \u001b[39mreturn\u001b[39;00m \u001b[39mself\u001b[39;49m\u001b[39m.\u001b[39;49m_accessor\u001b[39m.\u001b[39;49mopen(\u001b[39mself\u001b[39;49m, mode, buffering, encoding, errors,\n\u001b[0;32m   1120\u001b[0m                            newline)\n",
      "File \u001b[1;32mc:\\Users\\nakul\\anaconda3\\envs\\portfolio_optimization\\lib\\codecs.py:309\u001b[0m, in \u001b[0;36mBufferedIncrementalDecoder.__init__\u001b[1;34m(self, errors)\u001b[0m\n\u001b[0;32m    303\u001b[0m \u001b[39mclass\u001b[39;00m \u001b[39mBufferedIncrementalDecoder\u001b[39;00m(IncrementalDecoder):\n\u001b[0;32m    304\u001b[0m \u001b[39m    \u001b[39m\u001b[39m\"\"\"\u001b[39;00m\n\u001b[0;32m    305\u001b[0m \u001b[39m    This subclass of IncrementalDecoder can be used as the baseclass for an\u001b[39;00m\n\u001b[0;32m    306\u001b[0m \u001b[39m    incremental decoder if the decoder must be able to handle incomplete\u001b[39;00m\n\u001b[0;32m    307\u001b[0m \u001b[39m    byte sequences.\u001b[39;00m\n\u001b[0;32m    308\u001b[0m \u001b[39m    \"\"\"\u001b[39;00m\n\u001b[1;32m--> 309\u001b[0m     \u001b[39mdef\u001b[39;00m \u001b[39m__init__\u001b[39m(\u001b[39mself\u001b[39m, errors\u001b[39m=\u001b[39m\u001b[39m'\u001b[39m\u001b[39mstrict\u001b[39m\u001b[39m'\u001b[39m):\n\u001b[0;32m    310\u001b[0m         IncrementalDecoder\u001b[39m.\u001b[39m\u001b[39m__init__\u001b[39m(\u001b[39mself\u001b[39m, errors)\n\u001b[0;32m    311\u001b[0m         \u001b[39m# undecoded input that is kept between calls to decode()\u001b[39;00m\n",
      "\u001b[1;31mKeyboardInterrupt\u001b[0m: "
     ]
    }
   ],
   "source": [
    "import pickle\n",
    "\n",
    "# get the first file in the experiments folder\n",
    "for filename in os.listdir('./experiments'):\n",
    "    file_path = os.path.join('./experiments', filename)\n",
    "    break\n",
    "\n",
    "\n",
    "with open(file_path, \"rb\") as f:\n",
    "    exp = pickle.load(f)\n",
    "\n",
    "policy = DirectionalTradingPolicy(exp, verbose=True)\n",
    "simulator = MarketSimulator(exp, policy, verbose=True)\n",
    "simulator.run()"
   ]
  }
 ],
 "metadata": {
  "kernelspec": {
   "display_name": "portfolio_optimization",
   "language": "python",
   "name": "python3"
  },
  "language_info": {
   "codemirror_mode": {
    "name": "ipython",
    "version": 3
   },
   "file_extension": ".py",
   "mimetype": "text/x-python",
   "name": "python",
   "nbconvert_exporter": "python",
   "pygments_lexer": "ipython3",
   "version": "3.10.11"
  },
  "orig_nbformat": 4
 },
 "nbformat": 4,
 "nbformat_minor": 2
}
