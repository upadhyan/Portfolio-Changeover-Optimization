{
 "cells": [
  {
   "cell_type": "code",
   "execution_count": 1,
   "metadata": {},
   "outputs": [
    {
     "name": "stderr",
     "output_type": "stream",
     "text": [
      "100%|██████████| 1/1 [00:00<00:00,  2.52it/s]\n"
     ]
    }
   ],
   "source": [
    "from src.experimental_config import *\n",
    "from src.policies import *\n",
    "from src.simulator import *\n",
    "from src.forecasting import *\n",
    "\n",
    "import os\n",
    "\n",
    "# delete all files in the experiments folder\n",
    "for filename in os.listdir('./experiments'):\n",
    "    file_path = os.path.join('./experiments', filename)\n",
    "    try:\n",
    "        if os.path.isfile(file_path) or os.path.islink(file_path):\n",
    "            os.unlink(file_path)\n",
    "    except Exception as e:\n",
    "        print('Failed to delete %s. Reason: %s' % (file_path, e))\n",
    "\n",
    "\n",
    "generate_experiments(\n",
    "    price_data_dir = './raw_data/spx_stock_prices.parquet',\n",
    "    covariates = None,\n",
    "    num_experiments = 1,\n",
    "    output_dir = './experiments',\n",
    "    min_horizon = 30,\n",
    "    max_horizon = 31,\n",
    "    max_num_stocks = 30,\n",
    "    min_num_stocks = 5,\n",
    "    min_tx_cost = 2,\n",
    "    max_tx_cost = 10,\n",
    "    max_budget = 350000,\n",
    "    min_budget = 5000,\n",
    "    forecast_model='NBEATS'\n",
    ")"
   ]
  },
  {
   "cell_type": "code",
   "execution_count": 2,
   "metadata": {},
   "outputs": [
    {
     "name": "stdout",
     "output_type": "stream",
     "text": [
      "Starting Simulation\n"
     ]
    },
    {
     "name": "stderr",
     "output_type": "stream",
     "text": [
      "  0%|          | 0/30 [00:00<?, ?it/s]"
     ]
    },
    {
     "name": "stderr",
     "output_type": "stream",
     "text": [
      "Global seed set to 1\n"
     ]
    },
    {
     "name": "stdout",
     "output_type": "stream",
     "text": [
      "Current Portfolio Value at 2020-05-19T00:00:00.000000000: 263163.81\n"
     ]
    },
    {
     "name": "stderr",
     "output_type": "stream",
     "text": [
      "  3%|▎         | 1/30 [00:00<00:21,  1.33it/s]"
     ]
    },
    {
     "name": "stdout",
     "output_type": "stream",
     "text": [
      "\t Optimizing with 31 time steps, 2059 constraints, and 1612 variables...\n",
      "\t Optimized. Time taken: 0.04432272911071777\n",
      "Unable to retrieve attribute 'X'\n",
      "Current Portfolio Value at 2020-05-20 00:00:00: 264122.12\n"
     ]
    },
    {
     "name": "stderr",
     "output_type": "stream",
     "text": [
      "  7%|▋         | 2/30 [00:01<00:14,  1.89it/s]"
     ]
    },
    {
     "name": "stdout",
     "output_type": "stream",
     "text": [
      "\t Optimizing with 30 time steps, 1993 constraints, and 1560 variables...\n",
      "\t Optimized. Time taken: 0.039222002029418945\n",
      "Unable to retrieve attribute 'X'\n",
      "Current Portfolio Value at 2020-05-21 00:00:00: 262584.82999999996\n"
     ]
    },
    {
     "name": "stderr",
     "output_type": "stream",
     "text": [
      " 10%|█         | 3/30 [00:01<00:12,  2.21it/s]"
     ]
    },
    {
     "name": "stdout",
     "output_type": "stream",
     "text": [
      "\t Optimizing with 29 time steps, 1927 constraints, and 1508 variables...\n",
      "\t Optimized. Time taken: 0.037000417709350586\n",
      "Unable to retrieve attribute 'X'\n",
      "Current Portfolio Value at 2020-05-22 00:00:00: 263810.25\n"
     ]
    },
    {
     "name": "stderr",
     "output_type": "stream",
     "text": [
      " 13%|█▎        | 4/30 [00:01<00:10,  2.44it/s]"
     ]
    },
    {
     "name": "stdout",
     "output_type": "stream",
     "text": [
      "\t Optimizing with 28 time steps, 1861 constraints, and 1456 variables...\n",
      "\t Optimized. Time taken: 0.03352761268615723\n",
      "Unable to retrieve attribute 'X'\n",
      "Current Portfolio Value at 2020-05-25 00:00:00: 266608.71499999997\n"
     ]
    },
    {
     "name": "stderr",
     "output_type": "stream",
     "text": [
      " 17%|█▋        | 5/30 [00:02<00:09,  2.61it/s]"
     ]
    },
    {
     "name": "stdout",
     "output_type": "stream",
     "text": [
      "\t Optimizing with 27 time steps, 1795 constraints, and 1404 variables...\n",
      "\t Optimized. Time taken: 0.03099226951599121\n",
      "Unable to retrieve attribute 'X'\n",
      "Current Portfolio Value at 2020-05-26 00:00:00: 269407.17999999993\n"
     ]
    },
    {
     "name": "stderr",
     "output_type": "stream",
     "text": [
      " 20%|██        | 6/30 [00:02<00:08,  2.74it/s]"
     ]
    },
    {
     "name": "stdout",
     "output_type": "stream",
     "text": [
      "\t Optimizing with 26 time steps, 1729 constraints, and 1352 variables...\n",
      "\t Optimized. Time taken: 0.029995441436767578\n",
      "Unable to retrieve attribute 'X'\n",
      "Current Portfolio Value at 2020-05-27 00:00:00: 275943.79\n"
     ]
    },
    {
     "name": "stderr",
     "output_type": "stream",
     "text": [
      " 23%|██▎       | 7/30 [00:02<00:08,  2.86it/s]"
     ]
    },
    {
     "name": "stdout",
     "output_type": "stream",
     "text": [
      "\t Optimizing with 25 time steps, 1663 constraints, and 1300 variables...\n",
      "\t Optimized. Time taken: 0.026296138763427734\n",
      "Unable to retrieve attribute 'X'\n",
      "Current Portfolio Value at 2020-05-28 00:00:00: 275035.5\n"
     ]
    },
    {
     "name": "stderr",
     "output_type": "stream",
     "text": [
      " 27%|██▋       | 8/30 [00:03<00:07,  2.95it/s]"
     ]
    },
    {
     "name": "stdout",
     "output_type": "stream",
     "text": [
      "\t Optimizing with 24 time steps, 1597 constraints, and 1248 variables...\n",
      "\t Optimized. Time taken: 0.024509668350219727\n",
      "Unable to retrieve attribute 'X'\n",
      "Current Portfolio Value at 2020-05-29 00:00:00: 275861.01\n"
     ]
    },
    {
     "name": "stderr",
     "output_type": "stream",
     "text": [
      " 30%|███       | 9/30 [00:03<00:06,  3.07it/s]"
     ]
    },
    {
     "name": "stdout",
     "output_type": "stream",
     "text": [
      "\t Optimizing with 23 time steps, 1531 constraints, and 1196 variables...\n",
      "\t Optimized. Time taken: 0.022679805755615234\n",
      "Unable to retrieve attribute 'X'\n",
      "Current Portfolio Value at 2020-06-01 00:00:00: 276804.70999999996\n"
     ]
    },
    {
     "name": "stderr",
     "output_type": "stream",
     "text": [
      " 33%|███▎      | 10/30 [00:03<00:06,  3.16it/s]"
     ]
    },
    {
     "name": "stdout",
     "output_type": "stream",
     "text": [
      "\t Optimizing with 22 time steps, 1465 constraints, and 1144 variables...\n",
      "\t Optimized. Time taken: 0.021082639694213867\n",
      "Unable to retrieve attribute 'X'\n",
      "Current Portfolio Value at 2020-06-02 00:00:00: 278898.11\n"
     ]
    },
    {
     "name": "stderr",
     "output_type": "stream",
     "text": [
      " 37%|███▋      | 11/30 [00:04<00:05,  3.27it/s]"
     ]
    },
    {
     "name": "stdout",
     "output_type": "stream",
     "text": [
      "\t Optimizing with 21 time steps, 1399 constraints, and 1092 variables...\n",
      "\t Optimized. Time taken: 0.018014907836914062\n",
      "Unable to retrieve attribute 'X'\n",
      "Current Portfolio Value at 2020-06-03 00:00:00: 283001.91\n"
     ]
    },
    {
     "name": "stderr",
     "output_type": "stream",
     "text": [
      " 40%|████      | 12/30 [00:04<00:05,  3.38it/s]"
     ]
    },
    {
     "name": "stdout",
     "output_type": "stream",
     "text": [
      "\t Optimizing with 20 time steps, 1333 constraints, and 1040 variables...\n",
      "\t Optimized. Time taken: 0.01690816879272461\n",
      "Unable to retrieve attribute 'X'\n",
      "Current Portfolio Value at 2020-06-04 00:00:00: 281067.11\n"
     ]
    },
    {
     "name": "stderr",
     "output_type": "stream",
     "text": [
      " 43%|████▎     | 13/30 [00:04<00:04,  3.50it/s]"
     ]
    },
    {
     "name": "stdout",
     "output_type": "stream",
     "text": [
      "\t Optimizing with 19 time steps, 1267 constraints, and 988 variables...\n",
      "\t Optimized. Time taken: 0.01600170135498047\n",
      "Unable to retrieve attribute 'X'\n",
      "Current Portfolio Value at 2020-06-05 00:00:00: 287903.77\n"
     ]
    },
    {
     "name": "stderr",
     "output_type": "stream",
     "text": [
      " 47%|████▋     | 14/30 [00:04<00:04,  3.60it/s]"
     ]
    },
    {
     "name": "stdout",
     "output_type": "stream",
     "text": [
      "\t Optimizing with 18 time steps, 1201 constraints, and 936 variables...\n",
      "\t Optimized. Time taken: 0.01501607894897461\n",
      "Unable to retrieve attribute 'X'\n",
      "Current Portfolio Value at 2020-06-08 00:00:00: 289874.75\n"
     ]
    },
    {
     "name": "stderr",
     "output_type": "stream",
     "text": [
      " 50%|█████     | 15/30 [00:05<00:04,  3.68it/s]"
     ]
    },
    {
     "name": "stdout",
     "output_type": "stream",
     "text": [
      "\t Optimizing with 17 time steps, 1135 constraints, and 884 variables...\n",
      "\t Optimized. Time taken: 0.012990951538085938\n",
      "Unable to retrieve attribute 'X'\n",
      "Current Portfolio Value at 2020-06-09 00:00:00: 286000.37\n"
     ]
    },
    {
     "name": "stderr",
     "output_type": "stream",
     "text": [
      " 53%|█████▎    | 16/30 [00:05<00:03,  3.81it/s]"
     ]
    },
    {
     "name": "stdout",
     "output_type": "stream",
     "text": [
      "\t Optimizing with 16 time steps, 1069 constraints, and 832 variables...\n",
      "\t Optimized. Time taken: 0.01298832893371582\n",
      "Unable to retrieve attribute 'X'\n",
      "Current Portfolio Value at 2020-06-10 00:00:00: 282411.66\n"
     ]
    },
    {
     "name": "stderr",
     "output_type": "stream",
     "text": [
      " 57%|█████▋    | 17/30 [00:05<00:03,  3.95it/s]"
     ]
    },
    {
     "name": "stdout",
     "output_type": "stream",
     "text": [
      "\t Optimizing with 15 time steps, 1003 constraints, and 780 variables...\n",
      "\t Optimized. Time taken: 0.011013269424438477\n",
      "Unable to retrieve attribute 'X'\n",
      "Current Portfolio Value at 2020-06-11 00:00:00: 266444.11\n"
     ]
    },
    {
     "name": "stderr",
     "output_type": "stream",
     "text": [
      " 60%|██████    | 18/30 [00:05<00:02,  4.08it/s]"
     ]
    },
    {
     "name": "stdout",
     "output_type": "stream",
     "text": [
      "\t Optimizing with 14 time steps, 937 constraints, and 728 variables...\n",
      "\t Optimized. Time taken: 0.00899958610534668\n",
      "Unable to retrieve attribute 'X'\n",
      "Current Portfolio Value at 2020-06-12 00:00:00: 269526.08999999997\n"
     ]
    },
    {
     "name": "stderr",
     "output_type": "stream",
     "text": [
      " 63%|██████▎   | 19/30 [00:05<00:02,  4.18it/s]"
     ]
    },
    {
     "name": "stdout",
     "output_type": "stream",
     "text": [
      "\t Optimizing with 13 time steps, 871 constraints, and 676 variables...\n",
      "\t Optimized. Time taken: 0.008985280990600586\n",
      "Unable to retrieve attribute 'X'\n",
      "Current Portfolio Value at 2020-06-15 00:00:00: 272214.61\n"
     ]
    },
    {
     "name": "stderr",
     "output_type": "stream",
     "text": [
      " 67%|██████▋   | 20/30 [00:06<00:02,  4.30it/s]"
     ]
    },
    {
     "name": "stdout",
     "output_type": "stream",
     "text": [
      "\t Optimizing with 12 time steps, 805 constraints, and 624 variables...\n",
      "\t Optimized. Time taken: 0.008003711700439453\n",
      "Unable to retrieve attribute 'X'\n",
      "Current Portfolio Value at 2020-06-16 00:00:00: 277559.24\n"
     ]
    },
    {
     "name": "stderr",
     "output_type": "stream",
     "text": [
      " 70%|███████   | 21/30 [00:06<00:02,  4.45it/s]"
     ]
    },
    {
     "name": "stdout",
     "output_type": "stream",
     "text": [
      "\t Optimizing with 11 time steps, 739 constraints, and 572 variables...\n",
      "\t Optimized. Time taken: 0.007013082504272461\n",
      "Unable to retrieve attribute 'X'\n",
      "Current Portfolio Value at 2020-06-17 00:00:00: 276502.74\n",
      "\t Optimizing with 10 time steps, 673 constraints, and 520 variables...\n",
      "\t Optimized. Time taken: 0.006001710891723633\n",
      "Unable to retrieve attribute 'X'\n"
     ]
    },
    {
     "name": "stderr",
     "output_type": "stream",
     "text": [
      " 77%|███████▋  | 23/30 [00:06<00:01,  4.76it/s]"
     ]
    },
    {
     "name": "stdout",
     "output_type": "stream",
     "text": [
      "Current Portfolio Value at 2020-06-18 00:00:00: 276800.48\n",
      "\t Optimizing with 9 time steps, 607 constraints, and 468 variables...\n",
      "\t Optimized. Time taken: 0.0060002803802490234\n",
      "Unable to retrieve attribute 'X'\n",
      "Current Portfolio Value at 2020-06-19 00:00:00: 274391.47\n"
     ]
    },
    {
     "name": "stderr",
     "output_type": "stream",
     "text": [
      " 80%|████████  | 24/30 [00:06<00:01,  4.89it/s]"
     ]
    },
    {
     "name": "stdout",
     "output_type": "stream",
     "text": [
      "\t Optimizing with 8 time steps, 541 constraints, and 416 variables...\n",
      "\t Optimized. Time taken: 0.004003047943115234\n",
      "Unable to retrieve attribute 'X'\n",
      "Current Portfolio Value at 2020-06-22 00:00:00: 274851.66\n",
      "\t Optimizing with 7 time steps, 475 constraints, and 364 variables...\n",
      "\t Optimized. Time taken: 0.003000020980834961\n",
      "Unable to retrieve attribute 'X'\n"
     ]
    },
    {
     "name": "stderr",
     "output_type": "stream",
     "text": [
      " 87%|████████▋ | 26/30 [00:07<00:00,  5.30it/s]"
     ]
    },
    {
     "name": "stdout",
     "output_type": "stream",
     "text": [
      "Current Portfolio Value at 2020-06-23 00:00:00: 275532.995\n",
      "\t Optimizing with 6 time steps, 409 constraints, and 312 variables...\n",
      "\t Optimized. Time taken: 0.00400090217590332\n",
      "Unable to retrieve attribute 'X'\n",
      "Current Portfolio Value at 2020-06-24 00:00:00: 268600.82\n",
      "\t Optimizing with 5 time steps, 343 constraints, and 260 variables...\n",
      "\t Optimized. Time taken: 0.0030159950256347656\n",
      "Unable to retrieve attribute 'X'\n"
     ]
    },
    {
     "name": "stderr",
     "output_type": "stream",
     "text": [
      " 93%|█████████▎| 28/30 [00:07<00:00,  5.79it/s]"
     ]
    },
    {
     "name": "stdout",
     "output_type": "stream",
     "text": [
      "Current Portfolio Value at 2020-06-25 00:00:00: 270458.56\n",
      "\t Optimizing with 4 time steps, 277 constraints, and 208 variables...\n",
      "\t Optimized. Time taken: 0.0020008087158203125\n",
      "Unable to retrieve attribute 'X'\n",
      "Current Portfolio Value at 2020-06-26 00:00:00: 265824.99\n",
      "\t Optimizing with 3 time steps, 211 constraints, and 156 variables...\n",
      "\t Optimized. Time taken: 0.0020155906677246094\n",
      "Unable to retrieve attribute 'X'\n"
     ]
    },
    {
     "name": "stderr",
     "output_type": "stream",
     "text": [
      "100%|██████████| 30/30 [00:07<00:00,  3.77it/s]\n"
     ]
    },
    {
     "name": "stdout",
     "output_type": "stream",
     "text": [
      "Current Portfolio Value at 2020-06-29 00:00:00: 270628.82999999996\n",
      "\t Optimizing with 2 time steps, 145 constraints, and 104 variables...\n",
      "\t Optimized. Time taken: 0.0010008811950683594\n",
      "Unable to retrieve attribute 'X'\n"
     ]
    },
    {
     "ename": "AttributeError",
     "evalue": "'ExperimentInfo' object has no attribute 'final_portfolio'",
     "output_type": "error",
     "traceback": [
      "\u001b[1;31m---------------------------------------------------------------------------\u001b[0m",
      "\u001b[1;31mAttributeError\u001b[0m                            Traceback (most recent call last)",
      "Cell \u001b[1;32mIn[2], line 14\u001b[0m\n\u001b[0;32m     12\u001b[0m policy \u001b[39m=\u001b[39m DirectionalTradingPolicy(exp, verbose\u001b[39m=\u001b[39m\u001b[39mTrue\u001b[39;00m)\n\u001b[0;32m     13\u001b[0m simulator \u001b[39m=\u001b[39m MarketSimulator(exp, policy, verbose\u001b[39m=\u001b[39m\u001b[39mTrue\u001b[39;00m)\n\u001b[1;32m---> 14\u001b[0m simulator\u001b[39m.\u001b[39;49mrun()\n",
      "File \u001b[1;32mc:\\Users\\nakul\\Documents\\GitHub\\Portfolio-Changeover-Optimization\\src\\simulator.py:86\u001b[0m, in \u001b[0;36mMarketSimulator.run\u001b[1;34m(self)\u001b[0m\n\u001b[0;32m     83\u001b[0m     \u001b[39m# go to the next day\u001b[39;00m\n\u001b[0;32m     84\u001b[0m     current_time \u001b[39m=\u001b[39m forecast\u001b[39m.\u001b[39mindex[\u001b[39m1\u001b[39m]\n\u001b[1;32m---> 86\u001b[0m \u001b[39mself\u001b[39m\u001b[39m.\u001b[39mstatus \u001b[39m=\u001b[39m \u001b[39m\"\u001b[39m\u001b[39mComplete\u001b[39m\u001b[39m\"\u001b[39m \u001b[39mif\u001b[39;00m \u001b[39mself\u001b[39;49m\u001b[39m.\u001b[39;49mcheck_portfolio(portfolio) \u001b[39melse\u001b[39;00m \u001b[39m\"\u001b[39m\u001b[39mInfeasible\u001b[39m\u001b[39m\"\u001b[39m\n\u001b[0;32m     87\u001b[0m \u001b[39mself\u001b[39m\u001b[39m.\u001b[39mgain \u001b[39m=\u001b[39m \u001b[39mself\u001b[39m\u001b[39m.\u001b[39mevaluate_gain()\n\u001b[0;32m     89\u001b[0m \u001b[39mreturn\u001b[39;00m portfolio\n",
      "File \u001b[1;32mc:\\Users\\nakul\\Documents\\GitHub\\Portfolio-Changeover-Optimization\\src\\simulator.py:92\u001b[0m, in \u001b[0;36mMarketSimulator.check_portfolio\u001b[1;34m(self, portfolio)\u001b[0m\n\u001b[0;32m     91\u001b[0m \u001b[39mdef\u001b[39;00m \u001b[39mcheck_portfolio\u001b[39m(\u001b[39mself\u001b[39m, portfolio):\n\u001b[1;32m---> 92\u001b[0m     \u001b[39mreturn\u001b[39;00m (np\u001b[39m.\u001b[39mround(portfolio) \u001b[39m>\u001b[39m\u001b[39m=\u001b[39m \u001b[39mself\u001b[39;49m\u001b[39m.\u001b[39;49mconfiguration\u001b[39m.\u001b[39;49mfinal_portfolio)\u001b[39m.\u001b[39mall()\n",
      "\u001b[1;31mAttributeError\u001b[0m: 'ExperimentInfo' object has no attribute 'final_portfolio'"
     ]
    }
   ],
   "source": [
    "import pickle\n",
    "\n",
    "# get the first file in the experiments folder\n",
    "for filename in os.listdir('./experiments'):\n",
    "    file_path = os.path.join('./experiments', filename)\n",
    "    break\n",
    "\n",
    "\n",
    "with open(file_path, \"rb\") as f:\n",
    "    exp = pickle.load(f)\n",
    "\n",
    "policy = DirectionalTradingPolicy(exp, verbose=True)\n",
    "simulator = MarketSimulator(exp, policy, verbose=True)\n",
    "simulator.run()"
   ]
  },
  {
   "cell_type": "code",
   "execution_count": null,
   "metadata": {},
   "outputs": [],
   "source": []
  },
  {
   "cell_type": "code",
   "execution_count": null,
   "metadata": {},
   "outputs": [],
   "source": []
  }
 ],
 "metadata": {
  "kernelspec": {
   "display_name": "portfolio_optimization",
   "language": "python",
   "name": "python3"
  },
  "language_info": {
   "codemirror_mode": {
    "name": "ipython",
    "version": 3
   },
   "file_extension": ".py",
   "mimetype": "text/x-python",
   "name": "python",
   "nbconvert_exporter": "python",
   "pygments_lexer": "ipython3",
   "version": "3.10.11"
  },
  "orig_nbformat": 4
 },
 "nbformat": 4,
 "nbformat_minor": 2
}
