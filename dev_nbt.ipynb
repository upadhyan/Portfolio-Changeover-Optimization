{
 "cells": [
  {
   "cell_type": "code",
   "execution_count": 1,
   "metadata": {},
   "outputs": [
    {
     "name": "stderr",
     "output_type": "stream",
     "text": [
      "100%|██████████| 100/100 [00:24<00:00,  4.15it/s]\n"
     ]
    }
   ],
   "source": [
    "from src.experimental_config import *\n",
    "from src.policies import *\n",
    "from src.simulator import MarketSimulator, MultiSimRunner, DIRECTIONAL_TRADING, NAIVE, RIGID, DIRECTIONAL_INCENTIVE_TRADING, COL_GEN, PRUNED_DIRECTIONAL_TRADING\n",
    "from src.forecasting import *\n",
    "\n",
    "import os\n",
    "import pickle\n",
    "from time import time\n",
    "\n",
    "# delete all files in the experiments folder\n",
    "for filename in os.listdir('./experiments'):\n",
    "    file_path = os.path.join('./experiments', filename)\n",
    "    try:\n",
    "        if os.path.isfile(file_path) or os.path.islink(file_path):\n",
    "            os.unlink(file_path)\n",
    "    except Exception as e:\n",
    "        print('Failed to delete %s. Reason: %s' % (file_path, e))\n",
    "\n",
    "\n",
    "generate_experiments(\n",
    "    price_data_dir = './raw_data/spx_stock_prices.parquet',\n",
    "    covariates = None,\n",
    "    num_experiments = 100,\n",
    "    output_dir = './experiments',\n",
    "    min_horizon = 30,\n",
    "    max_horizon = 90,\n",
    "    max_num_stocks = 40,\n",
    "    min_num_stocks = 10,\n",
    "    min_tx_cost = 2,\n",
    "    max_tx_cost = 10,\n",
    "    max_budget = 350000,\n",
    "    min_budget = 10000,\n",
    "    forecast_model='GBM',\n",
    "    forecast_params = {'var_multiplier': 20}\n",
    ")"
   ]
  },
  {
   "cell_type": "code",
   "execution_count": 2,
   "metadata": {},
   "outputs": [
    {
     "name": "stderr",
     "output_type": "stream",
     "text": [
      "Running Naive on 20180405_78_18_7_319924:   1%|          | 1/100 [08:18<13:42:56, 498.75s/it]                     \n"
     ]
    },
    {
     "ename": "KeyboardInterrupt",
     "evalue": "",
     "output_type": "error",
     "traceback": [
      "\u001b[1;31m---------------------------------------------------------------------------\u001b[0m",
      "\u001b[1;31mKeyboardInterrupt\u001b[0m                         Traceback (most recent call last)",
      "Cell \u001b[1;32mIn[2], line 5\u001b[0m\n\u001b[0;32m      1\u001b[0m sim_runner \u001b[39m=\u001b[39m MultiSimRunner(\n\u001b[0;32m      2\u001b[0m     experiments_directory\u001b[39m=\u001b[39m\u001b[39m'\u001b[39m\u001b[39m./experiments\u001b[39m\u001b[39m'\u001b[39m,\n\u001b[0;32m      3\u001b[0m     policies \u001b[39m=\u001b[39m [NAIVE, DIRECTIONAL_TRADING, PRUNED_DIRECTIONAL_TRADING]\n\u001b[0;32m      4\u001b[0m )\n\u001b[1;32m----> 5\u001b[0m sim_runner\u001b[39m.\u001b[39;49mrun()\n\u001b[0;32m      6\u001b[0m sim_runner\u001b[39m.\u001b[39mresults\u001b[39m.\u001b[39mto_csv(\u001b[39m'\u001b[39m\u001b[39m./results.csv\u001b[39m\u001b[39m'\u001b[39m)\n",
      "File \u001b[1;32mc:\\Users\\nakul\\Documents\\GitHub\\Portfolio-Changeover-Optimization\\src\\simulator.py:205\u001b[0m, in \u001b[0;36mMultiSimRunner.run\u001b[1;34m(self, save_file)\u001b[0m\n\u001b[0;32m    203\u001b[0m t1 \u001b[39m=\u001b[39m time()\n\u001b[0;32m    204\u001b[0m simulator \u001b[39m=\u001b[39m MarketSimulator(exp, policy_instance, verbose\u001b[39m=\u001b[39m\u001b[39mFalse\u001b[39;00m)\n\u001b[1;32m--> 205\u001b[0m final_portfolio \u001b[39m=\u001b[39m simulator\u001b[39m.\u001b[39;49mrun()\n\u001b[0;32m    206\u001b[0m t2 \u001b[39m=\u001b[39m time()\n\u001b[0;32m    207\u001b[0m pbar\u001b[39m.\u001b[39mset_description(\u001b[39mf\u001b[39m\u001b[39m\"\u001b[39m\u001b[39mFinished Running \u001b[39m\u001b[39m{\u001b[39;00mpolicy\u001b[39m}\u001b[39;00m\u001b[39m on \u001b[39m\u001b[39m{\u001b[39;00mexp\u001b[39m.\u001b[39mexp_id\u001b[39m}\u001b[39;00m\u001b[39m\"\u001b[39m)\n",
      "File \u001b[1;32mc:\\Users\\nakul\\Documents\\GitHub\\Portfolio-Changeover-Optimization\\src\\simulator.py:62\u001b[0m, in \u001b[0;36mMarketSimulator.run\u001b[1;34m(self)\u001b[0m\n\u001b[0;32m     60\u001b[0m \u001b[39m# Get forecast\u001b[39;00m\n\u001b[0;32m     61\u001b[0m t1 \u001b[39m=\u001b[39m time()\n\u001b[1;32m---> 62\u001b[0m forecast \u001b[39m=\u001b[39m \u001b[39mself\u001b[39;49m\u001b[39m.\u001b[39;49mconfiguration\u001b[39m.\u001b[39;49mforecast_model\u001b[39m.\u001b[39;49mupdate(current_time, horizon)\n\u001b[0;32m     64\u001b[0m \u001b[39m# Run Policy\u001b[39;00m\n\u001b[0;32m     65\u001b[0m t2 \u001b[39m=\u001b[39m time()\n",
      "File \u001b[1;32mc:\\Users\\nakul\\Documents\\GitHub\\Portfolio-Changeover-Optimization\\src\\forecasting.py:166\u001b[0m, in \u001b[0;36mGBM.update\u001b[1;34m(self, t, horizon, simulations)\u001b[0m\n\u001b[0;32m    163\u001b[0m rng \u001b[39m=\u001b[39m np\u001b[39m.\u001b[39mrandom\u001b[39m.\u001b[39mdefault_rng()\n\u001b[0;32m    165\u001b[0m price_data \u001b[39m=\u001b[39m \u001b[39mself\u001b[39m\u001b[39m.\u001b[39mprice_data\n\u001b[1;32m--> 166\u001b[0m ret_data \u001b[39m=\u001b[39m \u001b[39mself\u001b[39;49m\u001b[39m.\u001b[39;49mprice_data\u001b[39m.\u001b[39;49mpct_change()\u001b[39m.\u001b[39mreplace([np\u001b[39m.\u001b[39minf, \u001b[39m-\u001b[39mnp\u001b[39m.\u001b[39minf, np\u001b[39m.\u001b[39mnan], \u001b[39m0\u001b[39m)\n\u001b[0;32m    167\u001b[0m ret_data\u001b[39m.\u001b[39mto_csv(\u001b[39m\"\u001b[39m\u001b[39mret_data.csv\u001b[39m\u001b[39m\"\u001b[39m)\n\u001b[0;32m    169\u001b[0m idx \u001b[39m=\u001b[39m ret_data\u001b[39m.\u001b[39mindex\u001b[39m.\u001b[39mget_indexer([t], method\u001b[39m=\u001b[39m\u001b[39m\"\u001b[39m\u001b[39mpad\u001b[39m\u001b[39m\"\u001b[39m)[\u001b[39m0\u001b[39m]\u001b[39m+\u001b[39m\u001b[39m1\u001b[39m\n",
      "File \u001b[1;32mc:\\Users\\nakul\\anaconda3\\envs\\portfolio_optimization\\lib\\site-packages\\pandas\\core\\generic.py:10957\u001b[0m, in \u001b[0;36mNDFrame.pct_change\u001b[1;34m(self, periods, fill_method, limit, freq, **kwargs)\u001b[0m\n\u001b[0;32m  10954\u001b[0m     \u001b[39massert\u001b[39;00m _data \u001b[39mis\u001b[39;00m \u001b[39mnot\u001b[39;00m \u001b[39mNone\u001b[39;00m  \u001b[39m# needed for mypy\u001b[39;00m\n\u001b[0;32m  10955\u001b[0m     data \u001b[39m=\u001b[39m _data\n\u001b[1;32m> 10957\u001b[0m shifted \u001b[39m=\u001b[39m data\u001b[39m.\u001b[39mshift(periods\u001b[39m=\u001b[39mperiods, freq\u001b[39m=\u001b[39mfreq, axis\u001b[39m=\u001b[39maxis, \u001b[39m*\u001b[39m\u001b[39m*\u001b[39mkwargs)\n\u001b[0;32m  10958\u001b[0m \u001b[39m# Unsupported left operand type for / (\"NDFrameT\")\u001b[39;00m\n\u001b[0;32m  10959\u001b[0m rs \u001b[39m=\u001b[39m data \u001b[39m/\u001b[39m shifted \u001b[39m-\u001b[39m \u001b[39m1\u001b[39m  \u001b[39m# type: ignore[operator]\u001b[39;00m\n",
      "File \u001b[1;32mc:\\Users\\nakul\\anaconda3\\envs\\portfolio_optimization\\lib\\site-packages\\pandas\\core\\frame.py:5702\u001b[0m, in \u001b[0;36mDataFrame.shift\u001b[1;34m(self, periods, freq, axis, fill_value)\u001b[0m\n\u001b[0;32m   5699\u001b[0m         res_df \u001b[39m=\u001b[39m \u001b[39mself\u001b[39m\u001b[39m.\u001b[39m_constructor(mgr)\n\u001b[0;32m   5700\u001b[0m         \u001b[39mreturn\u001b[39;00m res_df\u001b[39m.\u001b[39m__finalize__(\u001b[39mself\u001b[39m, method\u001b[39m=\u001b[39m\u001b[39m\"\u001b[39m\u001b[39mshift\u001b[39m\u001b[39m\"\u001b[39m)\n\u001b[1;32m-> 5702\u001b[0m \u001b[39mreturn\u001b[39;00m \u001b[39msuper\u001b[39;49m()\u001b[39m.\u001b[39;49mshift(\n\u001b[0;32m   5703\u001b[0m     periods\u001b[39m=\u001b[39;49mperiods, freq\u001b[39m=\u001b[39;49mfreq, axis\u001b[39m=\u001b[39;49maxis, fill_value\u001b[39m=\u001b[39;49mfill_value\n\u001b[0;32m   5704\u001b[0m )\n",
      "File \u001b[1;32mc:\\Users\\nakul\\anaconda3\\envs\\portfolio_optimization\\lib\\site-packages\\pandas\\core\\generic.py:10115\u001b[0m, in \u001b[0;36mNDFrame.shift\u001b[1;34m(self, periods, freq, axis, fill_value)\u001b[0m\n\u001b[0;32m  10112\u001b[0m \u001b[39mif\u001b[39;00m freq \u001b[39mis\u001b[39;00m \u001b[39mNone\u001b[39;00m:\n\u001b[0;32m  10113\u001b[0m     \u001b[39m# when freq is None, data is shifted, index is not\u001b[39;00m\n\u001b[0;32m  10114\u001b[0m     axis \u001b[39m=\u001b[39m \u001b[39mself\u001b[39m\u001b[39m.\u001b[39m_get_axis_number(axis)\n\u001b[1;32m> 10115\u001b[0m     new_data \u001b[39m=\u001b[39m \u001b[39mself\u001b[39;49m\u001b[39m.\u001b[39;49m_mgr\u001b[39m.\u001b[39;49mshift(\n\u001b[0;32m  10116\u001b[0m         periods\u001b[39m=\u001b[39;49mperiods, axis\u001b[39m=\u001b[39;49maxis, fill_value\u001b[39m=\u001b[39;49mfill_value\n\u001b[0;32m  10117\u001b[0m     )\n\u001b[0;32m  10118\u001b[0m     \u001b[39mreturn\u001b[39;00m \u001b[39mself\u001b[39m\u001b[39m.\u001b[39m_constructor(new_data)\u001b[39m.\u001b[39m__finalize__(\u001b[39mself\u001b[39m, method\u001b[39m=\u001b[39m\u001b[39m\"\u001b[39m\u001b[39mshift\u001b[39m\u001b[39m\"\u001b[39m)\n\u001b[0;32m  10120\u001b[0m \u001b[39m# when freq is given, index is shifted, data is not\u001b[39;00m\n",
      "File \u001b[1;32mc:\\Users\\nakul\\anaconda3\\envs\\portfolio_optimization\\lib\\site-packages\\pandas\\core\\internals\\managers.py:426\u001b[0m, in \u001b[0;36mBaseBlockManager.shift\u001b[1;34m(self, periods, axis, fill_value)\u001b[0m\n\u001b[0;32m    423\u001b[0m \u001b[39mif\u001b[39;00m fill_value \u001b[39mis\u001b[39;00m lib\u001b[39m.\u001b[39mno_default:\n\u001b[0;32m    424\u001b[0m     fill_value \u001b[39m=\u001b[39m \u001b[39mNone\u001b[39;00m\n\u001b[1;32m--> 426\u001b[0m \u001b[39mreturn\u001b[39;00m \u001b[39mself\u001b[39;49m\u001b[39m.\u001b[39;49mapply(\u001b[39m\"\u001b[39;49m\u001b[39mshift\u001b[39;49m\u001b[39m\"\u001b[39;49m, periods\u001b[39m=\u001b[39;49mperiods, axis\u001b[39m=\u001b[39;49maxis, fill_value\u001b[39m=\u001b[39;49mfill_value)\n",
      "File \u001b[1;32mc:\\Users\\nakul\\anaconda3\\envs\\portfolio_optimization\\lib\\site-packages\\pandas\\core\\internals\\managers.py:352\u001b[0m, in \u001b[0;36mBaseBlockManager.apply\u001b[1;34m(self, f, align_keys, **kwargs)\u001b[0m\n\u001b[0;32m    350\u001b[0m         applied \u001b[39m=\u001b[39m b\u001b[39m.\u001b[39mapply(f, \u001b[39m*\u001b[39m\u001b[39m*\u001b[39mkwargs)\n\u001b[0;32m    351\u001b[0m     \u001b[39melse\u001b[39;00m:\n\u001b[1;32m--> 352\u001b[0m         applied \u001b[39m=\u001b[39m \u001b[39mgetattr\u001b[39m(b, f)(\u001b[39m*\u001b[39m\u001b[39m*\u001b[39mkwargs)\n\u001b[0;32m    353\u001b[0m     result_blocks \u001b[39m=\u001b[39m extend_blocks(applied, result_blocks)\n\u001b[0;32m    355\u001b[0m out \u001b[39m=\u001b[39m \u001b[39mtype\u001b[39m(\u001b[39mself\u001b[39m)\u001b[39m.\u001b[39mfrom_blocks(result_blocks, \u001b[39mself\u001b[39m\u001b[39m.\u001b[39maxes)\n",
      "File \u001b[1;32mc:\\Users\\nakul\\anaconda3\\envs\\portfolio_optimization\\lib\\site-packages\\pandas\\core\\internals\\blocks.py:1432\u001b[0m, in \u001b[0;36mBlock.shift\u001b[1;34m(self, periods, axis, fill_value)\u001b[0m\n\u001b[0;32m   1430\u001b[0m \u001b[39melse\u001b[39;00m:\n\u001b[0;32m   1431\u001b[0m     values \u001b[39m=\u001b[39m cast(np\u001b[39m.\u001b[39mndarray, \u001b[39mself\u001b[39m\u001b[39m.\u001b[39mvalues)\n\u001b[1;32m-> 1432\u001b[0m     new_values \u001b[39m=\u001b[39m shift(values, periods, axis, casted)\n\u001b[0;32m   1433\u001b[0m     \u001b[39mreturn\u001b[39;00m [\u001b[39mself\u001b[39m\u001b[39m.\u001b[39mmake_block(new_values)]\n",
      "File \u001b[1;32mc:\\Users\\nakul\\anaconda3\\envs\\portfolio_optimization\\lib\\site-packages\\pandas\\core\\array_algos\\transforms.py:25\u001b[0m, in \u001b[0;36mshift\u001b[1;34m(values, periods, axis, fill_value)\u001b[0m\n\u001b[0;32m     22\u001b[0m     axis \u001b[39m=\u001b[39m new_values\u001b[39m.\u001b[39mndim \u001b[39m-\u001b[39m axis \u001b[39m-\u001b[39m \u001b[39m1\u001b[39m\n\u001b[0;32m     24\u001b[0m \u001b[39mif\u001b[39;00m new_values\u001b[39m.\u001b[39msize:\n\u001b[1;32m---> 25\u001b[0m     new_values \u001b[39m=\u001b[39m np\u001b[39m.\u001b[39;49mroll(\n\u001b[0;32m     26\u001b[0m         new_values,\n\u001b[0;32m     27\u001b[0m         np\u001b[39m.\u001b[39;49mintp(periods),\n\u001b[0;32m     28\u001b[0m         axis\u001b[39m=\u001b[39;49maxis,\n\u001b[0;32m     29\u001b[0m     )\n\u001b[0;32m     31\u001b[0m axis_indexer \u001b[39m=\u001b[39m [\u001b[39mslice\u001b[39m(\u001b[39mNone\u001b[39;00m)] \u001b[39m*\u001b[39m values\u001b[39m.\u001b[39mndim\n\u001b[0;32m     32\u001b[0m \u001b[39mif\u001b[39;00m periods \u001b[39m>\u001b[39m \u001b[39m0\u001b[39m:\n",
      "File \u001b[1;32m<__array_function__ internals>:200\u001b[0m, in \u001b[0;36mroll\u001b[1;34m(*args, **kwargs)\u001b[0m\n",
      "File \u001b[1;32mc:\\Users\\nakul\\anaconda3\\envs\\portfolio_optimization\\lib\\site-packages\\numpy\\core\\numeric.py:1249\u001b[0m, in \u001b[0;36mroll\u001b[1;34m(a, shift, axis)\u001b[0m\n\u001b[0;32m   1247\u001b[0m \u001b[39mfor\u001b[39;00m indices \u001b[39min\u001b[39;00m itertools\u001b[39m.\u001b[39mproduct(\u001b[39m*\u001b[39mrolls):\n\u001b[0;32m   1248\u001b[0m     arr_index, res_index \u001b[39m=\u001b[39m \u001b[39mzip\u001b[39m(\u001b[39m*\u001b[39mindices)\n\u001b[1;32m-> 1249\u001b[0m     result[res_index] \u001b[39m=\u001b[39m a[arr_index]\n\u001b[0;32m   1251\u001b[0m \u001b[39mreturn\u001b[39;00m result\n",
      "\u001b[1;31mKeyboardInterrupt\u001b[0m: "
     ]
    }
   ],
   "source": [
    "sim_runner = MultiSimRunner(\n",
    "    experiments_directory='./experiments',\n",
    "    policies = [NAIVE, DIRECTIONAL_TRADING, PRUNED_DIRECTIONAL_TRADING]\n",
    ")\n",
    "sim_runner.run()\n",
    "sim_runner.results.to_csv('./results.csv')"
   ]
  },
  {
   "cell_type": "code",
   "execution_count": null,
   "metadata": {},
   "outputs": [],
   "source": [
    "# import pickle\n",
    "# from time import time\n",
    "# # from tqdm.notebook import tqdm\n",
    "# results = []\n",
    "# # get the first file in the experiments folder\n",
    "# # pbar = tqdm(os.listdir('./experiments'))\n",
    "# for filename in os.listdir('./experiments'):\n",
    "#     try:\n",
    "#         file_path = os.path.join('./experiments', filename)\n",
    "#         with open(file_path, \"rb\") as f:\n",
    "#             exp = pickle.load(f)\n",
    "#         # display the experiment id in the progress bar\n",
    "#         print(f\"Running {exp.exp_id}\")\n",
    "#         t1 = time()\n",
    "#         policy = DirectionalTradingPolicy(exp, verbose=False)\n",
    "#         simulator = MarketSimulator(exp, policy, verbose=False)\n",
    "\n",
    "#         result = simulator.run()\n",
    "#         t2 = time()\n",
    "#         results.append({\n",
    "#             \"solve_time\": np.mean(simulator.solve_times),\n",
    "#             \"forecast_time\": np.mean(simulator.forecast_times),\n",
    "#             \"total_trades\": simulator.total_trades,\n",
    "#             \"feasibility\": simulator.status,\n",
    "#             \"horizon\": exp.horizon\n",
    "#         })\n",
    "#         del exp\n",
    "#         del policy\n",
    "#         del simulator \n",
    "#         gc.collect()\n",
    "#     except Exception as e:\n",
    "#         print(f\"\\tFailed to run {exp.exp_id}. Reason: {e}\")\n",
    "#         continue"
   ]
  }
 ],
 "metadata": {
  "kernelspec": {
   "display_name": "portfolio_optimization",
   "language": "python",
   "name": "python3"
  },
  "language_info": {
   "codemirror_mode": {
    "name": "ipython",
    "version": 3
   },
   "file_extension": ".py",
   "mimetype": "text/x-python",
   "name": "python",
   "nbconvert_exporter": "python",
   "pygments_lexer": "ipython3",
   "version": "3.10.11"
  },
  "orig_nbformat": 4
 },
 "nbformat": 4,
 "nbformat_minor": 2
}
