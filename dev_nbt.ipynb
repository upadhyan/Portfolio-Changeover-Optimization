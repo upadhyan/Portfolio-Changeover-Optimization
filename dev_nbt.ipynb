{
 "cells": [
  {
   "cell_type": "code",
   "execution_count": 1,
   "metadata": {},
   "outputs": [],
   "source": [
    "from src.experimental_config import *\n",
    "from src.policies import *\n",
    "from src.simulator import MarketSimulator, MultiSimRunner, DIRECTIONAL_TRADING, NAIVE, RIGID, DIRECTIONAL_INCENTIVE_TRADING, COL_GEN, SEEDED_DIRECTIONAL_TRADING\n",
    "from src.forecasting import *\n",
    "\n",
    "import os\n",
    "import pickle\n",
    "from time import time\n",
    "\n",
    "# delete all files in the experiments folder\n",
    "for filename in os.listdir('./experiments'):\n",
    "    file_path = os.path.join('./experiments', filename)\n",
    "    try:\n",
    "        if os.path.isfile(file_path) or os.path.islink(file_path):\n",
    "            os.unlink(file_path)\n",
    "    except Exception as e:\n",
    "        print('Failed to delete %s. Reason: %s' % (file_path, e))\n",
    "\n",
    "\n",
    "generate_experiments(\n",
    "    price_data_dir = './raw_data/spx_stock_prices.parquet',\n",
    "    covariates = None,\n",
    "    num_experiments = 50,\n",
    "    output_dir = './experiments',\n",
    "    min_horizon = 30,\n",
    "    max_horizon = 90,\n",
    "    max_num_stocks = 40,\n",
    "    min_num_stocks = 10,\n",
    "    min_tx_cost = 2,\n",
    "    max_tx_cost = 10,\n",
    "    max_budget = 350000,\n",
    "    min_budget = 10000,\n",
    "    forecast_model='GBM',\n",
    "    forecast_params = {'var_multiplier': 20}\n",
    ")"
   ]
  },
  {
   "cell_type": "code",
   "execution_count": 2,
   "metadata": {},
   "outputs": [
    {
     "name": "stdout",
     "output_type": "stream",
     "text": [
      "Starting Simulation\n"
     ]
    },
    {
     "name": "stderr",
     "output_type": "stream",
     "text": [
      "  0%|          | 0/89 [00:00<?, ?it/s]"
     ]
    },
    {
     "name": "stdout",
     "output_type": "stream",
     "text": [
      "Current Portfolio Value at 2018-09-18T00:00:00.000000000: 218101.98\n",
      "\t Optimizing with 89 time steps, 16591 constraints, and 13172 variables...\n",
      "\t Optimized. Time taken: 8.686631202697754\n"
     ]
    },
    {
     "name": "stderr",
     "output_type": "stream",
     "text": [
      "  1%|          | 1/89 [00:10<14:47, 10.09s/it]"
     ]
    },
    {
     "name": "stdout",
     "output_type": "stream",
     "text": [
      "Current Portfolio Value at 2018-09-19 00:00:00: 219090.06000000003\n",
      "\t Optimizing with 88 time steps, 16405 constraints, and 13024 variables...\n",
      "\t Optimized. Time taken: 6.121472358703613\n"
     ]
    },
    {
     "name": "stderr",
     "output_type": "stream",
     "text": [
      "  2%|▏         | 2/89 [00:17<12:18,  8.49s/it]"
     ]
    },
    {
     "name": "stdout",
     "output_type": "stream",
     "text": [
      "Current Portfolio Value at 2018-09-20 00:00:00: 217294.76\n",
      "\t Optimizing with 87 time steps, 16219 constraints, and 12876 variables...\n",
      "\t Optimized. Time taken: 7.4438841342926025\n"
     ]
    },
    {
     "name": "stderr",
     "output_type": "stream",
     "text": [
      "  3%|▎         | 3/89 [00:26<12:16,  8.56s/it]"
     ]
    },
    {
     "name": "stdout",
     "output_type": "stream",
     "text": [
      "Current Portfolio Value at 2018-09-21 00:00:00: 217263.56000000006\n",
      "\t Optimizing with 86 time steps, 16033 constraints, and 12728 variables...\n",
      "\t Optimized. Time taken: 5.4654295444488525\n"
     ]
    },
    {
     "name": "stderr",
     "output_type": "stream",
     "text": [
      "  4%|▍         | 4/89 [00:32<11:04,  7.81s/it]"
     ]
    },
    {
     "name": "stdout",
     "output_type": "stream",
     "text": [
      "Current Portfolio Value at 2018-09-24 00:00:00: 218774.15000000005\n",
      "\t Optimizing with 85 time steps, 15847 constraints, and 12580 variables...\n",
      "\t Optimized. Time taken: 3.015394687652588\n"
     ]
    },
    {
     "name": "stderr",
     "output_type": "stream",
     "text": [
      "  6%|▌         | 5/89 [00:36<09:06,  6.51s/it]"
     ]
    },
    {
     "name": "stdout",
     "output_type": "stream",
     "text": [
      "Current Portfolio Value at 2018-09-25 00:00:00: 218422.7\n",
      "\t Optimizing with 84 time steps, 15661 constraints, and 12432 variables...\n",
      "\t Optimized. Time taken: 4.391223430633545\n"
     ]
    },
    {
     "name": "stderr",
     "output_type": "stream",
     "text": [
      "  7%|▋         | 6/89 [00:42<08:32,  6.18s/it]"
     ]
    },
    {
     "name": "stdout",
     "output_type": "stream",
     "text": [
      "Current Portfolio Value at 2018-09-26 00:00:00: 220021.49000000005\n",
      "\t Optimizing with 83 time steps, 15475 constraints, and 12284 variables...\n",
      "\t Optimized. Time taken: 2.1482961177825928\n"
     ]
    },
    {
     "name": "stderr",
     "output_type": "stream",
     "text": [
      "  8%|▊         | 7/89 [00:45<07:10,  5.25s/it]"
     ]
    },
    {
     "name": "stdout",
     "output_type": "stream",
     "text": [
      "Current Portfolio Value at 2018-09-27 00:00:00: 219742.76\n",
      "\t Optimizing with 82 time steps, 15289 constraints, and 12136 variables...\n",
      "\t Optimized. Time taken: 5.6299896240234375\n"
     ]
    },
    {
     "name": "stderr",
     "output_type": "stream",
     "text": [
      "  9%|▉         | 8/89 [00:52<07:44,  5.74s/it]"
     ]
    },
    {
     "name": "stdout",
     "output_type": "stream",
     "text": [
      "Current Portfolio Value at 2018-09-28 00:00:00: 220110.06000000003\n",
      "\t Optimizing with 81 time steps, 15103 constraints, and 11988 variables...\n",
      "\t Optimized. Time taken: 3.8401424884796143\n"
     ]
    },
    {
     "name": "stderr",
     "output_type": "stream",
     "text": [
      " 10%|█         | 9/89 [00:57<07:19,  5.50s/it]"
     ]
    },
    {
     "name": "stdout",
     "output_type": "stream",
     "text": [
      "Current Portfolio Value at 2018-10-01 00:00:00: 218063.50000000006\n",
      "\t Optimizing with 80 time steps, 14917 constraints, and 11840 variables...\n",
      "\t Optimized. Time taken: 2.5488343238830566\n"
     ]
    },
    {
     "name": "stderr",
     "output_type": "stream",
     "text": [
      " 11%|█         | 10/89 [01:01<06:29,  4.93s/it]"
     ]
    },
    {
     "name": "stdout",
     "output_type": "stream",
     "text": [
      "Current Portfolio Value at 2018-10-02 00:00:00: 216363.27\n",
      "\t Optimizing with 79 time steps, 14731 constraints, and 11692 variables...\n",
      "\t Optimized. Time taken: 3.913808822631836\n"
     ]
    },
    {
     "name": "stderr",
     "output_type": "stream",
     "text": [
      " 12%|█▏        | 11/89 [01:06<06:26,  4.95s/it]"
     ]
    },
    {
     "name": "stdout",
     "output_type": "stream",
     "text": [
      "Current Portfolio Value at 2018-10-03 00:00:00: 213491.10999999996\n",
      "\t Optimizing with 78 time steps, 14545 constraints, and 11544 variables...\n",
      "\t Optimized. Time taken: 2.2450685501098633\n"
     ]
    },
    {
     "name": "stderr",
     "output_type": "stream",
     "text": [
      " 13%|█▎        | 12/89 [01:09<05:43,  4.46s/it]"
     ]
    },
    {
     "name": "stdout",
     "output_type": "stream",
     "text": [
      "Current Portfolio Value at 2018-10-04 00:00:00: 212397.87000000005\n",
      "\t Optimizing with 77 time steps, 14359 constraints, and 11396 variables...\n",
      "\t Optimized. Time taken: 3.1805100440979004\n"
     ]
    },
    {
     "name": "stderr",
     "output_type": "stream",
     "text": [
      " 15%|█▍        | 13/89 [01:13<05:34,  4.40s/it]"
     ]
    },
    {
     "name": "stdout",
     "output_type": "stream",
     "text": [
      "Current Portfolio Value at 2018-10-05 00:00:00: 211630.5\n",
      "\t Optimizing with 76 time steps, 14173 constraints, and 11248 variables...\n",
      "\t Optimized. Time taken: 0.6211338043212891\n"
     ]
    },
    {
     "name": "stderr",
     "output_type": "stream",
     "text": [
      " 16%|█▌        | 14/89 [01:15<04:28,  3.58s/it]"
     ]
    },
    {
     "name": "stdout",
     "output_type": "stream",
     "text": [
      "Current Portfolio Value at 2018-10-08 00:00:00: 210247.13000000003\n",
      "\t Optimizing with 75 time steps, 13987 constraints, and 11100 variables...\n",
      "\t Optimized. Time taken: 0.5983307361602783\n"
     ]
    },
    {
     "name": "stderr",
     "output_type": "stream",
     "text": [
      " 17%|█▋        | 15/89 [01:17<03:41,  3.00s/it]"
     ]
    },
    {
     "name": "stdout",
     "output_type": "stream",
     "text": [
      "Current Portfolio Value at 2018-10-09 00:00:00: 201855.88\n",
      "\t Optimizing with 74 time steps, 13801 constraints, and 10952 variables...\n",
      "\t Optimized. Time taken: 1.6521124839782715\n"
     ]
    },
    {
     "name": "stderr",
     "output_type": "stream",
     "text": [
      " 18%|█▊        | 16/89 [01:19<03:32,  2.91s/it]"
     ]
    },
    {
     "name": "stdout",
     "output_type": "stream",
     "text": [
      "Current Portfolio Value at 2018-10-10 00:00:00: 197801.06000000003\n",
      "\t Optimizing with 73 time steps, 13615 constraints, and 10804 variables...\n",
      "\t Optimized. Time taken: 0.5521416664123535\n"
     ]
    },
    {
     "name": "stderr",
     "output_type": "stream",
     "text": [
      " 19%|█▉        | 17/89 [01:21<02:59,  2.50s/it]"
     ]
    },
    {
     "name": "stdout",
     "output_type": "stream",
     "text": [
      "Current Portfolio Value at 2018-10-11 00:00:00: 201733.63000000006\n",
      "\t Optimizing with 72 time steps, 13429 constraints, and 10656 variables...\n",
      "\t Optimized. Time taken: 2.7867953777313232\n"
     ]
    },
    {
     "name": "stderr",
     "output_type": "stream",
     "text": [
      " 20%|██        | 18/89 [01:25<03:24,  2.89s/it]"
     ]
    },
    {
     "name": "stdout",
     "output_type": "stream",
     "text": [
      "Current Portfolio Value at 2018-10-12 00:00:00: 200153.67000000004\n",
      "\t Optimizing with 71 time steps, 13243 constraints, and 10508 variables...\n",
      "\t Optimized. Time taken: 1.5827984809875488\n"
     ]
    },
    {
     "name": "stderr",
     "output_type": "stream",
     "text": [
      " 21%|██▏       | 19/89 [01:27<03:15,  2.79s/it]"
     ]
    },
    {
     "name": "stdout",
     "output_type": "stream",
     "text": [
      "Current Portfolio Value at 2018-10-15 00:00:00: 205758.92\n",
      "\t Optimizing with 70 time steps, 13057 constraints, and 10360 variables...\n",
      "\t Optimized. Time taken: 0.7986135482788086\n"
     ]
    },
    {
     "name": "stderr",
     "output_type": "stream",
     "text": [
      " 22%|██▏       | 20/89 [01:29<02:51,  2.48s/it]"
     ]
    },
    {
     "name": "stdout",
     "output_type": "stream",
     "text": [
      "Current Portfolio Value at 2018-10-16 00:00:00: 205238.88\n",
      "\t Optimizing with 69 time steps, 12871 constraints, and 10212 variables...\n",
      "\t Optimized. Time taken: 1.1599571704864502\n"
     ]
    },
    {
     "name": "stderr",
     "output_type": "stream",
     "text": [
      " 24%|██▎       | 21/89 [01:31<02:41,  2.37s/it]"
     ]
    },
    {
     "name": "stdout",
     "output_type": "stream",
     "text": [
      "Current Portfolio Value at 2018-10-17 00:00:00: 200962.54000000004\n",
      "\t Optimizing with 68 time steps, 12685 constraints, and 10064 variables...\n",
      "\t Optimized. Time taken: 0.4434635639190674\n"
     ]
    },
    {
     "name": "stderr",
     "output_type": "stream",
     "text": [
      " 25%|██▍       | 22/89 [01:33<02:19,  2.08s/it]"
     ]
    },
    {
     "name": "stdout",
     "output_type": "stream",
     "text": [
      "Current Portfolio Value at 2018-10-18 00:00:00: 200073.73000000004\n",
      "\t Optimizing with 67 time steps, 12499 constraints, and 9916 variables...\n",
      "\t Optimized. Time taken: 0.43587231636047363\n"
     ]
    },
    {
     "name": "stderr",
     "output_type": "stream",
     "text": [
      " 26%|██▌       | 23/89 [01:34<02:02,  1.86s/it]"
     ]
    },
    {
     "name": "stdout",
     "output_type": "stream",
     "text": [
      "Current Portfolio Value at 2018-10-19 00:00:00: 200779.4\n",
      "\t Optimizing with 66 time steps, 12313 constraints, and 9768 variables...\n",
      "\t Optimized. Time taken: 0.4041252136230469\n"
     ]
    },
    {
     "name": "stderr",
     "output_type": "stream",
     "text": [
      " 27%|██▋       | 24/89 [01:35<01:50,  1.70s/it]"
     ]
    },
    {
     "name": "stdout",
     "output_type": "stream",
     "text": [
      "Current Portfolio Value at 2018-10-22 00:00:00: 199323.72000000003\n",
      "\t Optimizing with 65 time steps, 12127 constraints, and 9620 variables...\n",
      "\t Optimized. Time taken: 0.3946547508239746\n"
     ]
    },
    {
     "name": "stderr",
     "output_type": "stream",
     "text": [
      " 28%|██▊       | 25/89 [01:37<01:40,  1.57s/it]"
     ]
    },
    {
     "name": "stdout",
     "output_type": "stream",
     "text": [
      "Current Portfolio Value at 2018-10-23 00:00:00: 190470.01000000004\n",
      "\t Optimizing with 64 time steps, 11941 constraints, and 9472 variables...\n",
      "\t Optimized. Time taken: 0.39824962615966797\n"
     ]
    },
    {
     "name": "stderr",
     "output_type": "stream",
     "text": [
      " 29%|██▉       | 26/89 [01:38<01:33,  1.48s/it]"
     ]
    },
    {
     "name": "stdout",
     "output_type": "stream",
     "text": [
      "Current Portfolio Value at 2018-10-24 00:00:00: 195582.3\n",
      "\t Optimizing with 63 time steps, 11755 constraints, and 9324 variables...\n",
      "\t Optimized. Time taken: 0.5926833152770996\n"
     ]
    },
    {
     "name": "stderr",
     "output_type": "stream",
     "text": [
      " 30%|███       | 27/89 [01:39<01:31,  1.47s/it]"
     ]
    },
    {
     "name": "stdout",
     "output_type": "stream",
     "text": [
      "Current Portfolio Value at 2018-10-25 00:00:00: 187486.80000000005\n",
      "\t Optimizing with 62 time steps, 11569 constraints, and 9176 variables...\n"
     ]
    },
    {
     "name": "stderr",
     "output_type": "stream",
     "text": [
      " 31%|███▏      | 28/89 [01:41<01:27,  1.44s/it]"
     ]
    },
    {
     "name": "stdout",
     "output_type": "stream",
     "text": [
      "\t Optimized. Time taken: 0.504056453704834\n",
      "Current Portfolio Value at 2018-10-26 00:00:00: 181894.83000000007\n",
      "\t Optimizing with 61 time steps, 11383 constraints, and 9028 variables...\n",
      "\t Optimized. Time taken: 0.3690528869628906\n"
     ]
    },
    {
     "name": "stderr",
     "output_type": "stream",
     "text": [
      " 33%|███▎      | 29/89 [01:42<01:21,  1.37s/it]"
     ]
    },
    {
     "name": "stdout",
     "output_type": "stream",
     "text": [
      "Current Portfolio Value at 2018-10-29 00:00:00: 184559.06000000006\n",
      "\t Optimizing with 60 time steps, 11197 constraints, and 8880 variables...\n",
      "\t Optimized. Time taken: 0.32190704345703125\n"
     ]
    },
    {
     "name": "stderr",
     "output_type": "stream",
     "text": [
      " 34%|███▎      | 30/89 [01:43<01:16,  1.30s/it]"
     ]
    },
    {
     "name": "stdout",
     "output_type": "stream",
     "text": [
      "Current Portfolio Value at 2018-10-30 00:00:00: 186936.55000000008\n",
      "\t Optimizing with 59 time steps, 11011 constraints, and 8732 variables...\n",
      "\t Optimized. Time taken: 0.3056509494781494\n"
     ]
    },
    {
     "name": "stderr",
     "output_type": "stream",
     "text": [
      " 35%|███▍      | 31/89 [01:44<01:12,  1.24s/it]"
     ]
    },
    {
     "name": "stdout",
     "output_type": "stream",
     "text": [
      "Current Portfolio Value at 2018-10-31 00:00:00: 188111.18000000005\n",
      "\t Optimizing with 58 time steps, 10825 constraints, and 8584 variables...\n",
      "\t Optimized. Time taken: 0.4334731101989746\n"
     ]
    },
    {
     "name": "stderr",
     "output_type": "stream",
     "text": [
      " 36%|███▌      | 32/89 [01:45<01:10,  1.24s/it]"
     ]
    },
    {
     "name": "stdout",
     "output_type": "stream",
     "text": [
      "Current Portfolio Value at 2018-11-01 00:00:00: 187672.91000000006\n",
      "\t Optimizing with 57 time steps, 10639 constraints, and 8436 variables...\n",
      "\t Optimized. Time taken: 0.2691793441772461\n"
     ]
    },
    {
     "name": "stderr",
     "output_type": "stream",
     "text": [
      " 37%|███▋      | 33/89 [01:46<01:06,  1.18s/it]"
     ]
    },
    {
     "name": "stdout",
     "output_type": "stream",
     "text": [
      "Current Portfolio Value at 2018-11-02 00:00:00: 187974.30000000005\n",
      "\t Optimizing with 56 time steps, 10453 constraints, and 8288 variables...\n"
     ]
    },
    {
     "name": "stderr",
     "output_type": "stream",
     "text": [
      " 38%|███▊      | 34/89 [01:47<01:03,  1.15s/it]"
     ]
    },
    {
     "name": "stdout",
     "output_type": "stream",
     "text": [
      "\t Optimized. Time taken: 0.2952561378479004\n",
      "Current Portfolio Value at 2018-11-05 00:00:00: 188655.25000000006\n",
      "\t Optimizing with 55 time steps, 10267 constraints, and 8140 variables...\n",
      "\t Optimized. Time taken: 0.28542542457580566\n"
     ]
    },
    {
     "name": "stderr",
     "output_type": "stream",
     "text": [
      " 39%|███▉      | 35/89 [01:48<01:00,  1.12s/it]"
     ]
    },
    {
     "name": "stdout",
     "output_type": "stream",
     "text": [
      "Current Portfolio Value at 2018-11-06 00:00:00: 191871.11000000004\n",
      "\t Optimizing with 54 time steps, 10081 constraints, and 7992 variables...\n"
     ]
    },
    {
     "name": "stderr",
     "output_type": "stream",
     "text": [
      " 40%|████      | 36/89 [01:50<00:59,  1.12s/it]"
     ]
    },
    {
     "name": "stdout",
     "output_type": "stream",
     "text": [
      "\t Optimized. Time taken: 0.36818480491638184\n",
      "Current Portfolio Value at 2018-11-07 00:00:00: 191538.2800000001\n",
      "\t Optimizing with 53 time steps, 9895 constraints, and 7844 variables...\n"
     ]
    },
    {
     "name": "stderr",
     "output_type": "stream",
     "text": [
      " 42%|████▏     | 37/89 [01:51<00:55,  1.07s/it]"
     ]
    },
    {
     "name": "stdout",
     "output_type": "stream",
     "text": [
      "\t Optimized. Time taken: 0.22504544258117676\n",
      "Current Portfolio Value at 2018-11-08 00:00:00: 190952.01000000007\n",
      "\t Optimizing with 52 time steps, 9709 constraints, and 7696 variables...\n",
      "\t Optimized. Time taken: 0.19413328170776367\n"
     ]
    },
    {
     "name": "stderr",
     "output_type": "stream",
     "text": [
      " 43%|████▎     | 38/89 [01:51<00:52,  1.02s/it]"
     ]
    },
    {
     "name": "stdout",
     "output_type": "stream",
     "text": [
      "Current Portfolio Value at 2018-11-09 00:00:00: 188722.9800000001\n",
      "\t Optimizing with 51 time steps, 9523 constraints, and 7548 variables...\n"
     ]
    },
    {
     "name": "stderr",
     "output_type": "stream",
     "text": [
      " 44%|████▍     | 39/89 [01:53<00:56,  1.12s/it]"
     ]
    },
    {
     "name": "stdout",
     "output_type": "stream",
     "text": [
      "\t Optimized. Time taken: 0.6547400951385498\n",
      "Current Portfolio Value at 2018-11-12 00:00:00: 188849.95000000007\n",
      "\t Optimizing with 50 time steps, 9337 constraints, and 7400 variables...\n",
      "\t Optimized. Time taken: 0.19109654426574707\n"
     ]
    },
    {
     "name": "stderr",
     "output_type": "stream",
     "text": [
      " 45%|████▍     | 40/89 [01:54<00:51,  1.05s/it]"
     ]
    },
    {
     "name": "stdout",
     "output_type": "stream",
     "text": [
      "Current Portfolio Value at 2018-11-13 00:00:00: 188437.38000000006\n",
      "\t Optimizing with 49 time steps, 9151 constraints, and 7252 variables...\n",
      "\t Optimized. Time taken: 0.1769106388092041\n"
     ]
    },
    {
     "name": "stderr",
     "output_type": "stream",
     "text": [
      " 46%|████▌     | 41/89 [01:55<00:47,  1.01it/s]"
     ]
    },
    {
     "name": "stdout",
     "output_type": "stream",
     "text": [
      "Current Portfolio Value at 2018-11-14 00:00:00: 189079.16000000003\n",
      "\t Optimizing with 48 time steps, 8965 constraints, and 7104 variables...\n",
      "\t Optimized. Time taken: 0.17654109001159668\n"
     ]
    },
    {
     "name": "stderr",
     "output_type": "stream",
     "text": [
      " 47%|████▋     | 42/89 [01:55<00:44,  1.05it/s]"
     ]
    },
    {
     "name": "stdout",
     "output_type": "stream",
     "text": [
      "Current Portfolio Value at 2018-11-15 00:00:00: 189434.4800000001\n",
      "\t Optimizing with 47 time steps, 8779 constraints, and 6956 variables...\n"
     ]
    },
    {
     "name": "stderr",
     "output_type": "stream",
     "text": [
      " 48%|████▊     | 43/89 [01:56<00:44,  1.03it/s]"
     ]
    },
    {
     "name": "stdout",
     "output_type": "stream",
     "text": [
      "\t Optimized. Time taken: 0.3582577705383301\n",
      "Current Portfolio Value at 2018-11-16 00:00:00: 187659.44000000006\n",
      "\t Optimizing with 46 time steps, 8593 constraints, and 6808 variables...\n",
      "\t Optimized. Time taken: 0.1574568748474121\n"
     ]
    },
    {
     "name": "stderr",
     "output_type": "stream",
     "text": [
      " 49%|████▉     | 44/89 [01:57<00:41,  1.09it/s]"
     ]
    },
    {
     "name": "stdout",
     "output_type": "stream",
     "text": [
      "Current Portfolio Value at 2018-11-19 00:00:00: 185715.88000000006\n",
      "\t Optimizing with 45 time steps, 8407 constraints, and 6660 variables...\n",
      "\t Optimized. Time taken: 0.15418696403503418\n"
     ]
    },
    {
     "name": "stderr",
     "output_type": "stream",
     "text": [
      " 51%|█████     | 45/89 [01:58<00:38,  1.14it/s]"
     ]
    },
    {
     "name": "stdout",
     "output_type": "stream",
     "text": [
      "Current Portfolio Value at 2018-11-20 00:00:00: 186117.68000000008\n",
      "\t Optimizing with 44 time steps, 8221 constraints, and 6512 variables...\n",
      "\t Optimized. Time taken: 0.13182854652404785\n"
     ]
    },
    {
     "name": "stderr",
     "output_type": "stream",
     "text": [
      " 52%|█████▏    | 46/89 [01:59<00:36,  1.19it/s]"
     ]
    },
    {
     "name": "stdout",
     "output_type": "stream",
     "text": [
      "Current Portfolio Value at 2018-11-21 00:00:00: 186040.04500000004\n",
      "\t Optimizing with 43 time steps, 8035 constraints, and 6364 variables...\n",
      "\t Optimized. Time taken: 0.14197063446044922\n"
     ]
    },
    {
     "name": "stderr",
     "output_type": "stream",
     "text": [
      " 53%|█████▎    | 47/89 [01:59<00:34,  1.23it/s]"
     ]
    },
    {
     "name": "stdout",
     "output_type": "stream",
     "text": [
      "Current Portfolio Value at 2018-11-22 00:00:00: 185962.41000000003\n",
      "\t Optimizing with 42 time steps, 7849 constraints, and 6216 variables...\n",
      "\t Optimized. Time taken: 0.1529250144958496\n"
     ]
    },
    {
     "name": "stderr",
     "output_type": "stream",
     "text": [
      " 54%|█████▍    | 48/89 [02:00<00:32,  1.25it/s]"
     ]
    },
    {
     "name": "stdout",
     "output_type": "stream",
     "text": [
      "Current Portfolio Value at 2018-11-23 00:00:00: 186863.6300000001\n",
      "\t Optimizing with 41 time steps, 7663 constraints, and 6068 variables...\n",
      "\t Optimized. Time taken: 0.12014889717102051\n"
     ]
    },
    {
     "name": "stderr",
     "output_type": "stream",
     "text": [
      " 55%|█████▌    | 49/89 [02:01<00:30,  1.30it/s]"
     ]
    },
    {
     "name": "stdout",
     "output_type": "stream",
     "text": [
      "Current Portfolio Value at 2018-11-26 00:00:00: 185950.05000000005\n",
      "\t Optimizing with 40 time steps, 7477 constraints, and 5920 variables...\n",
      "\t Optimized. Time taken: 0.11283302307128906\n"
     ]
    },
    {
     "name": "stderr",
     "output_type": "stream",
     "text": [
      " 56%|█████▌    | 50/89 [02:02<00:28,  1.35it/s]"
     ]
    },
    {
     "name": "stdout",
     "output_type": "stream",
     "text": [
      "Current Portfolio Value at 2018-11-27 00:00:00: 189098.17000000007\n",
      "\t Optimizing with 39 time steps, 7291 constraints, and 5772 variables...\n",
      "\t Optimized. Time taken: 0.11154890060424805\n"
     ]
    },
    {
     "name": "stderr",
     "output_type": "stream",
     "text": [
      " 57%|█████▋    | 51/89 [02:02<00:27,  1.38it/s]"
     ]
    },
    {
     "name": "stdout",
     "output_type": "stream",
     "text": [
      "Current Portfolio Value at 2018-11-28 00:00:00: 189150.5100000001\n",
      "\t Optimizing with 38 time steps, 7105 constraints, and 5624 variables...\n",
      "\t Optimized. Time taken: 0.10967016220092773\n"
     ]
    },
    {
     "name": "stderr",
     "output_type": "stream",
     "text": [
      " 58%|█████▊    | 52/89 [02:03<00:26,  1.42it/s]"
     ]
    },
    {
     "name": "stdout",
     "output_type": "stream",
     "text": [
      "Current Portfolio Value at 2018-11-29 00:00:00: 189384.65000000005\n",
      "\t Optimizing with 37 time steps, 6919 constraints, and 5476 variables...\n",
      "\t Optimized. Time taken: 0.10970830917358398\n"
     ]
    },
    {
     "name": "stderr",
     "output_type": "stream",
     "text": [
      " 60%|█████▉    | 53/89 [02:04<00:24,  1.45it/s]"
     ]
    },
    {
     "name": "stdout",
     "output_type": "stream",
     "text": [
      "Current Portfolio Value at 2018-11-30 00:00:00: 190084.54000000007\n",
      "\t Optimizing with 36 time steps, 6733 constraints, and 5328 variables...\n",
      "\t Optimized. Time taken: 0.12389159202575684\n"
     ]
    },
    {
     "name": "stderr",
     "output_type": "stream",
     "text": [
      " 61%|██████    | 54/89 [02:04<00:23,  1.47it/s]"
     ]
    },
    {
     "name": "stdout",
     "output_type": "stream",
     "text": [
      "Current Portfolio Value at 2018-12-03 00:00:00: 186848.18000000008\n",
      "\t Optimizing with 35 time steps, 6547 constraints, and 5180 variables...\n",
      "\t Optimized. Time taken: 0.13732194900512695\n"
     ]
    },
    {
     "name": "stderr",
     "output_type": "stream",
     "text": [
      " 62%|██████▏   | 55/89 [02:05<00:22,  1.49it/s]"
     ]
    },
    {
     "name": "stdout",
     "output_type": "stream",
     "text": [
      "Current Portfolio Value at 2018-12-04 00:00:00: 187108.69500000007\n",
      "\t Optimizing with 34 time steps, 6361 constraints, and 5032 variables...\n",
      "\t Optimized. Time taken: 0.08333420753479004\n"
     ]
    },
    {
     "name": "stderr",
     "output_type": "stream",
     "text": [
      " 63%|██████▎   | 56/89 [02:06<00:21,  1.54it/s]"
     ]
    },
    {
     "name": "stdout",
     "output_type": "stream",
     "text": [
      "Current Portfolio Value at 2018-12-05 00:00:00: 187634.1600000001\n",
      "\t Optimizing with 33 time steps, 6175 constraints, and 4884 variables...\n",
      "\t Optimized. Time taken: 0.06791377067565918\n"
     ]
    },
    {
     "name": "stderr",
     "output_type": "stream",
     "text": [
      " 64%|██████▍   | 57/89 [02:06<00:19,  1.61it/s]"
     ]
    },
    {
     "name": "stdout",
     "output_type": "stream",
     "text": [
      "Current Portfolio Value at 2018-12-06 00:00:00: 184270.59000000008\n",
      "\t Optimizing with 32 time steps, 5989 constraints, and 4736 variables...\n",
      "\t Optimized. Time taken: 0.0677182674407959\n"
     ]
    },
    {
     "name": "stderr",
     "output_type": "stream",
     "text": [
      " 65%|██████▌   | 58/89 [02:07<00:18,  1.67it/s]"
     ]
    },
    {
     "name": "stdout",
     "output_type": "stream",
     "text": [
      "Current Portfolio Value at 2018-12-07 00:00:00: 184879.07000000007\n",
      "\t Optimizing with 31 time steps, 5803 constraints, and 4588 variables...\n",
      "\t Optimized. Time taken: 0.05733966827392578\n"
     ]
    },
    {
     "name": "stderr",
     "output_type": "stream",
     "text": [
      " 66%|██████▋   | 59/89 [02:07<00:17,  1.72it/s]"
     ]
    },
    {
     "name": "stdout",
     "output_type": "stream",
     "text": [
      "Current Portfolio Value at 2018-12-10 00:00:00: 185231.49000000005\n",
      "\t Optimizing with 30 time steps, 5617 constraints, and 4440 variables...\n",
      "\t Optimized. Time taken: 0.06911540031433105\n"
     ]
    },
    {
     "name": "stderr",
     "output_type": "stream",
     "text": [
      " 67%|██████▋   | 60/89 [02:08<00:16,  1.76it/s]"
     ]
    },
    {
     "name": "stdout",
     "output_type": "stream",
     "text": [
      "Current Portfolio Value at 2018-12-11 00:00:00: 186069.7500000001\n"
     ]
    },
    {
     "name": "stderr",
     "output_type": "stream",
     "text": [
      " 69%|██████▊   | 61/89 [02:08<00:15,  1.83it/s]"
     ]
    },
    {
     "name": "stdout",
     "output_type": "stream",
     "text": [
      "\t Optimizing with 29 time steps, 5431 constraints, and 4292 variables...\n",
      "\t Optimized. Time taken: 0.05458426475524902\n",
      "Current Portfolio Value at 2018-12-12 00:00:00: 186047.19000000006\n"
     ]
    },
    {
     "name": "stderr",
     "output_type": "stream",
     "text": [
      " 70%|██████▉   | 62/89 [02:09<00:14,  1.88it/s]"
     ]
    },
    {
     "name": "stdout",
     "output_type": "stream",
     "text": [
      "\t Optimizing with 28 time steps, 5245 constraints, and 4144 variables...\n",
      "\t Optimized. Time taken: 0.05500316619873047\n",
      "Current Portfolio Value at 2018-12-13 00:00:00: 183397.17000000007\n"
     ]
    },
    {
     "name": "stderr",
     "output_type": "stream",
     "text": [
      " 71%|███████   | 63/89 [02:09<00:13,  1.92it/s]"
     ]
    },
    {
     "name": "stdout",
     "output_type": "stream",
     "text": [
      "\t Optimizing with 27 time steps, 5059 constraints, and 3996 variables...\n",
      "\t Optimized. Time taken: 0.046193599700927734\n",
      "Current Portfolio Value at 2018-12-14 00:00:00: 178312.39000000007\n"
     ]
    },
    {
     "name": "stderr",
     "output_type": "stream",
     "text": [
      " 72%|███████▏  | 64/89 [02:10<00:12,  1.98it/s]"
     ]
    },
    {
     "name": "stdout",
     "output_type": "stream",
     "text": [
      "\t Optimizing with 26 time steps, 4873 constraints, and 3848 variables...\n",
      "\t Optimized. Time taken: 0.04862523078918457\n",
      "Current Portfolio Value at 2018-12-17 00:00:00: 179299.37000000005\n",
      "\t Optimizing with 25 time steps, 4687 constraints, and 3700 variables...\n"
     ]
    },
    {
     "name": "stderr",
     "output_type": "stream",
     "text": [
      " 73%|███████▎  | 65/89 [02:10<00:11,  2.05it/s]"
     ]
    },
    {
     "name": "stdout",
     "output_type": "stream",
     "text": [
      "\t Optimized. Time taken: 0.04500269889831543\n",
      "Current Portfolio Value at 2018-12-18 00:00:00: 177274.01000000004\n"
     ]
    },
    {
     "name": "stderr",
     "output_type": "stream",
     "text": [
      " 74%|███████▍  | 66/89 [02:11<00:10,  2.11it/s]"
     ]
    },
    {
     "name": "stdout",
     "output_type": "stream",
     "text": [
      "\t Optimizing with 24 time steps, 4501 constraints, and 3552 variables...\n",
      "\t Optimized. Time taken: 0.04000568389892578\n",
      "Current Portfolio Value at 2018-12-19 00:00:00: 174055.46000000005\n"
     ]
    },
    {
     "name": "stderr",
     "output_type": "stream",
     "text": [
      " 75%|███████▌  | 67/89 [02:11<00:10,  2.16it/s]"
     ]
    },
    {
     "name": "stdout",
     "output_type": "stream",
     "text": [
      "\t Optimizing with 23 time steps, 4315 constraints, and 3404 variables...\n",
      "\t Optimized. Time taken: 0.04850935935974121\n",
      "Current Portfolio Value at 2018-12-20 00:00:00: 170622.2900000001\n"
     ]
    },
    {
     "name": "stderr",
     "output_type": "stream",
     "text": [
      " 76%|███████▋  | 68/89 [02:11<00:09,  2.24it/s]"
     ]
    },
    {
     "name": "stdout",
     "output_type": "stream",
     "text": [
      "\t Optimizing with 22 time steps, 4129 constraints, and 3256 variables...\n",
      "\t Optimized. Time taken: 0.03399205207824707\n",
      "Current Portfolio Value at 2018-12-21 00:00:00: 166799.55000000005\n"
     ]
    },
    {
     "name": "stderr",
     "output_type": "stream",
     "text": [
      " 78%|███████▊  | 69/89 [02:12<00:08,  2.29it/s]"
     ]
    },
    {
     "name": "stdout",
     "output_type": "stream",
     "text": [
      "\t Optimizing with 21 time steps, 3943 constraints, and 3108 variables...\n",
      "\t Optimized. Time taken: 0.04090380668640137\n",
      "Current Portfolio Value at 2018-12-24 00:00:00: 170240.2250000001\n"
     ]
    },
    {
     "name": "stderr",
     "output_type": "stream",
     "text": [
      " 79%|███████▊  | 70/89 [02:12<00:08,  2.37it/s]"
     ]
    },
    {
     "name": "stdout",
     "output_type": "stream",
     "text": [
      "\t Optimizing with 20 time steps, 3757 constraints, and 2960 variables...\n",
      "\t Optimized. Time taken: 0.029999732971191406\n",
      "Current Portfolio Value at 2018-12-25 00:00:00: 173680.90000000008\n"
     ]
    },
    {
     "name": "stderr",
     "output_type": "stream",
     "text": [
      " 80%|███████▉  | 71/89 [02:13<00:07,  2.44it/s]"
     ]
    },
    {
     "name": "stdout",
     "output_type": "stream",
     "text": [
      "\t Optimizing with 19 time steps, 3571 constraints, and 2812 variables...\n",
      "\t Optimized. Time taken: 0.02599930763244629\n",
      "Current Portfolio Value at 2018-12-26 00:00:00: 174270.65000000008\n"
     ]
    },
    {
     "name": "stderr",
     "output_type": "stream",
     "text": [
      " 81%|████████  | 72/89 [02:13<00:06,  2.52it/s]"
     ]
    },
    {
     "name": "stdout",
     "output_type": "stream",
     "text": [
      "\t Optimizing with 18 time steps, 3385 constraints, and 2664 variables...\n",
      "\t Optimized. Time taken: 0.024998903274536133\n",
      "Current Portfolio Value at 2018-12-27 00:00:00: 174011.71000000005\n"
     ]
    },
    {
     "name": "stderr",
     "output_type": "stream",
     "text": [
      " 82%|████████▏ | 73/89 [02:13<00:06,  2.61it/s]"
     ]
    },
    {
     "name": "stdout",
     "output_type": "stream",
     "text": [
      "\t Optimizing with 17 time steps, 3199 constraints, and 2516 variables...\n",
      "\t Optimized. Time taken: 0.021294116973876953\n",
      "Current Portfolio Value at 2018-12-28 00:00:00: 174798.06000000006\n"
     ]
    },
    {
     "name": "stderr",
     "output_type": "stream",
     "text": [
      " 83%|████████▎ | 74/89 [02:14<00:05,  2.71it/s]"
     ]
    },
    {
     "name": "stdout",
     "output_type": "stream",
     "text": [
      "\t Optimizing with 16 time steps, 3013 constraints, and 2368 variables...\n",
      "\t Optimized. Time taken: 0.017995834350585938\n",
      "Current Portfolio Value at 2018-12-31 00:00:00: 175019.26000000007\n"
     ]
    },
    {
     "name": "stderr",
     "output_type": "stream",
     "text": [
      " 84%|████████▍ | 75/89 [02:14<00:04,  2.81it/s]"
     ]
    },
    {
     "name": "stdout",
     "output_type": "stream",
     "text": [
      "\t Optimizing with 15 time steps, 2827 constraints, and 2220 variables...\n",
      "\t Optimized. Time taken: 0.015000104904174805\n",
      "Current Portfolio Value at 2019-01-01 00:00:00: 175247.46000000008\n"
     ]
    },
    {
     "name": "stderr",
     "output_type": "stream",
     "text": [
      " 85%|████████▌ | 76/89 [02:14<00:04,  2.91it/s]"
     ]
    },
    {
     "name": "stdout",
     "output_type": "stream",
     "text": [
      "\t Optimizing with 14 time steps, 2641 constraints, and 2072 variables...\n",
      "\t Optimized. Time taken: 0.011992216110229492\n",
      "Current Portfolio Value at 2019-01-02 00:00:00: 172684.9800000001\n"
     ]
    },
    {
     "name": "stderr",
     "output_type": "stream",
     "text": [
      " 87%|████████▋ | 77/89 [02:15<00:03,  3.02it/s]"
     ]
    },
    {
     "name": "stdout",
     "output_type": "stream",
     "text": [
      "\t Optimizing with 13 time steps, 2455 constraints, and 1924 variables...\n",
      "\t Optimized. Time taken: 0.010991096496582031\n",
      "Current Portfolio Value at 2019-01-03 00:00:00: 176345.33000000007\n"
     ]
    },
    {
     "name": "stderr",
     "output_type": "stream",
     "text": [
      " 88%|████████▊ | 78/89 [02:15<00:03,  3.11it/s]"
     ]
    },
    {
     "name": "stdout",
     "output_type": "stream",
     "text": [
      "\t Optimizing with 12 time steps, 2269 constraints, and 1776 variables...\n",
      "\t Optimized. Time taken: 0.010993242263793945\n",
      "Current Portfolio Value at 2019-01-04 00:00:00: 177827.83000000007\n"
     ]
    },
    {
     "name": "stderr",
     "output_type": "stream",
     "text": [
      " 89%|████████▉ | 79/89 [02:15<00:03,  3.21it/s]"
     ]
    },
    {
     "name": "stdout",
     "output_type": "stream",
     "text": [
      "\t Optimizing with 11 time steps, 2083 constraints, and 1628 variables...\n",
      "\t Optimized. Time taken: 0.012991189956665039\n",
      "Current Portfolio Value at 2019-01-07 00:00:00: 179072.36000000007\n"
     ]
    },
    {
     "name": "stderr",
     "output_type": "stream",
     "text": [
      " 90%|████████▉ | 80/89 [02:15<00:02,  3.35it/s]"
     ]
    },
    {
     "name": "stdout",
     "output_type": "stream",
     "text": [
      "\t Optimizing with 10 time steps, 1897 constraints, and 1480 variables...\n",
      "\t Optimized. Time taken: 0.004985809326171875\n",
      "Current Portfolio Value at 2019-01-08 00:00:00: 180619.31000000008\n"
     ]
    },
    {
     "name": "stderr",
     "output_type": "stream",
     "text": [
      " 91%|█████████ | 81/89 [02:16<00:02,  3.47it/s]"
     ]
    },
    {
     "name": "stdout",
     "output_type": "stream",
     "text": [
      "\t Optimizing with 9 time steps, 1711 constraints, and 1332 variables...\n",
      "\t Optimized. Time taken: 0.006868839263916016\n",
      "Current Portfolio Value at 2019-01-09 00:00:00: 181585.5800000001\n"
     ]
    },
    {
     "name": "stderr",
     "output_type": "stream",
     "text": [
      " 92%|█████████▏| 82/89 [02:16<00:01,  3.61it/s]"
     ]
    },
    {
     "name": "stdout",
     "output_type": "stream",
     "text": [
      "\t Optimizing with 8 time steps, 1525 constraints, and 1184 variables...\n",
      "\t Optimized. Time taken: 0.008511066436767578\n",
      "Current Portfolio Value at 2019-01-10 00:00:00: 180862.0000000001\n"
     ]
    },
    {
     "name": "stderr",
     "output_type": "stream",
     "text": [
      " 93%|█████████▎| 83/89 [02:16<00:01,  3.77it/s]"
     ]
    },
    {
     "name": "stdout",
     "output_type": "stream",
     "text": [
      "\t Optimizing with 7 time steps, 1339 constraints, and 1036 variables...\n",
      "\t Optimized. Time taken: 0.004983425140380859\n",
      "Current Portfolio Value at 2019-01-11 00:00:00: 180453.68000000008\n"
     ]
    },
    {
     "name": "stderr",
     "output_type": "stream",
     "text": [
      " 94%|█████████▍| 84/89 [02:16<00:01,  3.91it/s]"
     ]
    },
    {
     "name": "stdout",
     "output_type": "stream",
     "text": [
      "\t Optimizing with 6 time steps, 1153 constraints, and 888 variables...\n",
      "\t Optimized. Time taken: 0.002990245819091797\n",
      "Current Portfolio Value at 2019-01-14 00:00:00: 179606.44000000006\n"
     ]
    },
    {
     "name": "stderr",
     "output_type": "stream",
     "text": [
      " 96%|█████████▌| 85/89 [02:17<00:00,  4.09it/s]"
     ]
    },
    {
     "name": "stdout",
     "output_type": "stream",
     "text": [
      "\t Optimizing with 5 time steps, 967 constraints, and 740 variables...\n",
      "\t Optimized. Time taken: 0.002012491226196289\n",
      "Current Portfolio Value at 2019-01-15 00:00:00: 180053.37000000005\n",
      "\t Optimizing with 4 time steps, 781 constraints, and 592 variables...\n",
      "\t Optimized. Time taken: 0.002992391586303711\n"
     ]
    },
    {
     "name": "stderr",
     "output_type": "stream",
     "text": [
      " 98%|█████████▊| 87/89 [02:17<00:00,  4.47it/s]"
     ]
    },
    {
     "name": "stdout",
     "output_type": "stream",
     "text": [
      "Current Portfolio Value at 2019-01-16 00:00:00: 181785.27000000008\n",
      "\t Optimizing with 3 time steps, 595 constraints, and 444 variables...\n",
      "\t Optimized. Time taken: 0.002999544143676758\n",
      "Current Portfolio Value at 2019-01-17 00:00:00: 183511.04000000007\n"
     ]
    },
    {
     "name": "stderr",
     "output_type": "stream",
     "text": [
      " 99%|█████████▉| 88/89 [02:17<00:00,  4.72it/s]"
     ]
    },
    {
     "name": "stdout",
     "output_type": "stream",
     "text": [
      "\t Optimizing with 2 time steps, 409 constraints, and 296 variables...\n",
      "\t Optimized. Time taken: 0.0\n",
      "Current Portfolio Value at 2019-01-18 00:00:00: 183497.0400000001\n",
      "\t Optimizing with 1 time steps, 223 constraints, and 148 variables...\n",
      "\t Optimized. Time taken: 0.0\n"
     ]
    },
    {
     "name": "stderr",
     "output_type": "stream",
     "text": [
      "100%|██████████| 89/89 [02:17<00:00,  1.55s/it]\n"
     ]
    },
    {
     "data": {
      "text/plain": [
       "ACN_89071         0.00\n",
       "ADBE_75510        0.00\n",
       "AES_76712         0.00\n",
       "AMZN_84788        6.00\n",
       "BAX_27887         0.00\n",
       "CNP_21792        32.00\n",
       "COP_13928       155.00\n",
       "CSX_62148         0.00\n",
       "CVX_14541         0.00\n",
       "DISCA_90805      68.00\n",
       "DLR_90373         0.00\n",
       "EIX_15720         0.00\n",
       "FMC_19166        14.00\n",
       "GILD_77274        0.00\n",
       "HD_66181         96.00\n",
       "HP_32707          3.00\n",
       "JCI_45356         5.00\n",
       "J_52329           0.00\n",
       "KMB_17750         0.00\n",
       "KMX_89508       134.00\n",
       "LH_12062         48.00\n",
       "LMT_21178         0.00\n",
       "META_13407       36.00\n",
       "MHK_77496       168.00\n",
       "NLOK_75607      164.00\n",
       "PEAK_67598      149.00\n",
       "PKI_42200         0.00\n",
       "PXD_75241        20.00\n",
       "REG_79782        45.00\n",
       "RE_82303          0.00\n",
       "RTN_24942         0.00\n",
       "RTX_17830       109.00\n",
       "SBAC_86996      112.00\n",
       "SHW_36468        76.00\n",
       "WMB_38156        84.00\n",
       "XRAY_11600       52.00\n",
       "YUM_85348       174.00\n",
       "cash           3773.06\n",
       "dtype: float64"
      ]
     },
     "execution_count": 2,
     "metadata": {},
     "output_type": "execute_result"
    }
   ],
   "source": [
    "# file_name = 'experiments/20180918_88_37_7_218625.pkl'\n",
    "# with open(file_name, 'rb') as f:\n",
    "#     exp = pickle.load(f)\n",
    "# policy = SeededDirectionalTradingPolicy(exp)\n",
    "# sim = MarketSimulator(exp, policy)\n",
    "# sim.run()"
   ]
  },
  {
   "cell_type": "code",
   "execution_count": 3,
   "metadata": {},
   "outputs": [
    {
     "name": "stderr",
     "output_type": "stream",
     "text": [
      "Running SeededDirectional on 20181001_71_25_7_217748:   4%|▍         | 2/50 [00:00<00:09,  5.12it/s]"
     ]
    },
    {
     "name": "stdout",
     "output_type": "stream",
     "text": [
      "Failed to run SeededDirectional on 20180918_88_37_7_218625\n",
      "Failed to run SeededDirectional on 20180921_80_33_5_138416\n"
     ]
    },
    {
     "name": "stderr",
     "output_type": "stream",
     "text": [
      "Running SeededDirectional on 20181022_38_18_4_267209:   8%|▊         | 4/50 [00:00<00:07,  6.41it/s]"
     ]
    },
    {
     "name": "stdout",
     "output_type": "stream",
     "text": [
      "Failed to run SeededDirectional on 20181001_71_25_7_217748\n",
      "Failed to run SeededDirectional on 20181018_61_29_8_247439\n",
      "Failed to run SeededDirectional on 20181022_38_18_4_267209\n"
     ]
    },
    {
     "name": "stderr",
     "output_type": "stream",
     "text": [
      "Running SeededDirectional on 20181213_58_39_5_267748:  14%|█▍        | 7/50 [00:01<00:05,  7.49it/s]"
     ]
    },
    {
     "name": "stdout",
     "output_type": "stream",
     "text": [
      "Failed to run SeededDirectional on 20181029_44_15_8_57953\n",
      "Failed to run SeededDirectional on 20181123_59_36_3_235264\n"
     ]
    },
    {
     "name": "stderr",
     "output_type": "stream",
     "text": [
      "Running SeededDirectional on 20190108_49_13_7_232478:  18%|█▊        | 9/50 [00:01<00:05,  7.44it/s]"
     ]
    },
    {
     "name": "stdout",
     "output_type": "stream",
     "text": [
      "Failed to run SeededDirectional on 20181213_58_39_5_267748\n",
      "Failed to run SeededDirectional on 20181221_42_22_5_227238\n",
      "Failed to run SeededDirectional on 20190108_49_13_7_232478\n"
     ]
    },
    {
     "name": "stderr",
     "output_type": "stream",
     "text": [
      "Running SeededDirectional on 20190326_76_20_8_81329:  24%|██▍       | 12/50 [00:01<00:04,  8.18it/s] "
     ]
    },
    {
     "name": "stdout",
     "output_type": "stream",
     "text": [
      "Failed to run SeededDirectional on 20190111_52_27_6_150835\n",
      "Failed to run SeededDirectional on 20190315_44_25_4_178972\n",
      "Failed to run SeededDirectional on 20190326_76_20_8_81329\n"
     ]
    },
    {
     "name": "stderr",
     "output_type": "stream",
     "text": [
      "Running SeededDirectional on 20190516_73_18_8_334473:  30%|███       | 15/50 [00:02<00:04,  7.50it/s]"
     ]
    },
    {
     "name": "stdout",
     "output_type": "stream",
     "text": [
      "Failed to run SeededDirectional on 20190419_77_26_7_66284\n",
      "Failed to run SeededDirectional on 20190506_65_37_7_138704\n",
      "Failed to run SeededDirectional on 20190516_73_18_8_334473\n"
     ]
    },
    {
     "name": "stderr",
     "output_type": "stream",
     "text": [
      "Running SeededDirectional on 20190711_34_29_2_100436:  36%|███▌      | 18/50 [00:02<00:04,  7.39it/s]"
     ]
    },
    {
     "name": "stdout",
     "output_type": "stream",
     "text": [
      "Failed to run SeededDirectional on 20190610_78_31_4_74375\n",
      "Failed to run SeededDirectional on 20190709_76_31_5_193531\n",
      "Failed to run SeededDirectional on 20190711_34_29_2_100436\n"
     ]
    },
    {
     "name": "stderr",
     "output_type": "stream",
     "text": [
      "Running SeededDirectional on 20200101_54_33_7_160050:  42%|████▏     | 21/50 [00:02<00:03,  7.29it/s]"
     ]
    },
    {
     "name": "stdout",
     "output_type": "stream",
     "text": [
      "Failed to run SeededDirectional on 20190913_43_23_9_193267\n",
      "Failed to run SeededDirectional on 20191209_59_39_5_126320\n"
     ]
    },
    {
     "name": "stderr",
     "output_type": "stream",
     "text": [
      "Running SeededDirectional on 20200220_64_10_6_318680:  48%|████▊     | 24/50 [00:03<00:03,  8.25it/s]"
     ]
    },
    {
     "name": "stdout",
     "output_type": "stream",
     "text": [
      "Failed to run SeededDirectional on 20200101_54_33_7_160050\n",
      "Failed to run SeededDirectional on 20200108_60_10_2_71388\n",
      "Failed to run SeededDirectional on 20200220_64_10_6_318680\n"
     ]
    },
    {
     "name": "stderr",
     "output_type": "stream",
     "text": [
      "Running SeededDirectional on 20200414_45_17_9_74302:  54%|█████▍    | 27/50 [00:03<00:02,  8.91it/s] "
     ]
    },
    {
     "name": "stdout",
     "output_type": "stream",
     "text": [
      "Failed to run SeededDirectional on 20200306_44_11_7_60133\n",
      "Failed to run SeededDirectional on 20200327_72_14_2_266744\n",
      "Failed to run SeededDirectional on 20200414_45_17_9_74302\n"
     ]
    },
    {
     "name": "stderr",
     "output_type": "stream",
     "text": [
      "Running SeededDirectional on 20200710_76_29_2_229026:  58%|█████▊    | 29/50 [00:03<00:02,  8.85it/s]"
     ]
    },
    {
     "name": "stdout",
     "output_type": "stream",
     "text": [
      "Failed to run SeededDirectional on 20200417_35_23_3_215040\n",
      "Failed to run SeededDirectional on 20200519_82_14_3_71353\n",
      "Failed to run SeededDirectional on 20200706_74_10_8_212616\n"
     ]
    },
    {
     "name": "stderr",
     "output_type": "stream",
     "text": [
      "Running SeededDirectional on 20200911_60_38_9_58444:  64%|██████▍   | 32/50 [00:04<00:02,  8.35it/s] "
     ]
    },
    {
     "name": "stdout",
     "output_type": "stream",
     "text": [
      "Failed to run SeededDirectional on 20200710_76_29_2_229026\n",
      "Failed to run SeededDirectional on 20200817_31_38_2_228609\n"
     ]
    },
    {
     "name": "stderr",
     "output_type": "stream",
     "text": [
      "Running SeededDirectional on 20200930_44_37_7_65371:  68%|██████▊   | 34/50 [00:04<00:02,  7.56it/s] "
     ]
    },
    {
     "name": "stdout",
     "output_type": "stream",
     "text": [
      "Failed to run SeededDirectional on 20200911_60_38_9_58444\n",
      "Failed to run SeededDirectional on 20200924_66_36_7_254769\n",
      "Failed to run SeededDirectional on 20200930_44_37_7_65371\n"
     ]
    },
    {
     "name": "stderr",
     "output_type": "stream",
     "text": [
      "Running SeededDirectional on 20201027_60_22_6_201578:  74%|███████▍  | 37/50 [00:04<00:01,  6.87it/s]"
     ]
    },
    {
     "name": "stdout",
     "output_type": "stream",
     "text": [
      "Failed to run SeededDirectional on 20201012_66_38_7_133204\n",
      "Failed to run SeededDirectional on 20201019_88_38_3_153903\n"
     ]
    },
    {
     "name": "stderr",
     "output_type": "stream",
     "text": [
      "Running SeededDirectional on 20201109_77_31_8_152692:  76%|███████▌  | 38/50 [00:05<00:01,  7.16it/s]"
     ]
    },
    {
     "name": "stdout",
     "output_type": "stream",
     "text": [
      "Failed to run SeededDirectional on 20201027_60_22_6_201578\n",
      "Failed to run SeededDirectional on 20201109_77_31_8_152692\n"
     ]
    },
    {
     "name": "stderr",
     "output_type": "stream",
     "text": [
      "Running SeededDirectional on 20210416_79_22_3_234438:  82%|████████▏ | 41/50 [00:05<00:01,  7.52it/s]"
     ]
    },
    {
     "name": "stdout",
     "output_type": "stream",
     "text": [
      "Failed to run SeededDirectional on 20210303_72_32_7_344155\n",
      "Failed to run SeededDirectional on 20210326_57_19_6_176108\n",
      "Failed to run SeededDirectional on 20210416_79_22_3_234438\n"
     ]
    },
    {
     "name": "stderr",
     "output_type": "stream",
     "text": [
      "Running SeededDirectional on 20210602_61_24_7_309103:  88%|████████▊ | 44/50 [00:05<00:00,  8.07it/s]"
     ]
    },
    {
     "name": "stdout",
     "output_type": "stream",
     "text": [
      "Failed to run SeededDirectional on 20210421_48_36_2_246302\n",
      "Failed to run SeededDirectional on 20210514_46_17_9_295202\n",
      "Failed to run SeededDirectional on 20210602_61_24_7_309103\n"
     ]
    },
    {
     "name": "stderr",
     "output_type": "stream",
     "text": [
      "Running SeededDirectional on 20210715_70_33_2_35953:  94%|█████████▍| 47/50 [00:06<00:00,  8.25it/s] "
     ]
    },
    {
     "name": "stdout",
     "output_type": "stream",
     "text": [
      "Failed to run SeededDirectional on 20210615_84_12_8_150459\n",
      "Failed to run SeededDirectional on 20210622_78_24_2_140258\n",
      "Failed to run SeededDirectional on 20210715_70_33_2_35953\n"
     ]
    },
    {
     "name": "stderr",
     "output_type": "stream",
     "text": [
      "Running SeededDirectional on 20211006_52_38_3_147176: 100%|██████████| 50/50 [00:06<00:00,  7.65it/s]"
     ]
    },
    {
     "name": "stdout",
     "output_type": "stream",
     "text": [
      "Failed to run SeededDirectional on 20210728_55_15_3_241214\n",
      "Failed to run SeededDirectional on 20211006_52_38_3_147176\n"
     ]
    },
    {
     "name": "stderr",
     "output_type": "stream",
     "text": [
      "\n"
     ]
    }
   ],
   "source": [
    "sim_runner = MultiSimRunner(\n",
    "    experiments_directory='./experiments',\n",
    "    policies = [NAIVE, DIRECTIONAL_TRADING, SEEDED_DIRECTIONAL_TRADING]\n",
    ")\n",
    "sim_runner.run(save_file='./results_2.csv')"
   ]
  },
  {
   "cell_type": "code",
   "execution_count": 7,
   "metadata": {},
   "outputs": [
    {
     "data": {
      "text/html": [
       "<div>\n",
       "<style scoped>\n",
       "    .dataframe tbody tr th:only-of-type {\n",
       "        vertical-align: middle;\n",
       "    }\n",
       "\n",
       "    .dataframe tbody tr th {\n",
       "        vertical-align: top;\n",
       "    }\n",
       "\n",
       "    .dataframe thead th {\n",
       "        text-align: right;\n",
       "    }\n",
       "</style>\n",
       "<table border=\"1\" class=\"dataframe\">\n",
       "  <thead>\n",
       "    <tr style=\"text-align: right;\">\n",
       "      <th></th>\n",
       "      <th>total_runtime</th>\n",
       "      <th>Gain</th>\n",
       "    </tr>\n",
       "    <tr>\n",
       "      <th>policy</th>\n",
       "      <th></th>\n",
       "      <th></th>\n",
       "    </tr>\n",
       "  </thead>\n",
       "  <tbody>\n",
       "    <tr>\n",
       "      <th>Directional</th>\n",
       "      <td>312.797716</td>\n",
       "      <td>0.034255</td>\n",
       "    </tr>\n",
       "    <tr>\n",
       "      <th>Naive</th>\n",
       "      <td>10.113108</td>\n",
       "      <td>0.041785</td>\n",
       "    </tr>\n",
       "    <tr>\n",
       "      <th>SeededDirectional</th>\n",
       "      <td>310.975224</td>\n",
       "      <td>0.033335</td>\n",
       "    </tr>\n",
       "  </tbody>\n",
       "</table>\n",
       "</div>"
      ],
      "text/plain": [
       "                   total_runtime      Gain\n",
       "policy                                    \n",
       "Directional           312.797716  0.034255\n",
       "Naive                  10.113108  0.041785\n",
       "SeededDirectional     310.975224  0.033335"
      ]
     },
     "execution_count": 7,
     "metadata": {},
     "output_type": "execute_result"
    }
   ],
   "source": [
    "res = pd.read_csv('./results.csv', index_col=0)\n",
    "res[['policy', 'total_runtime', 'Gain']].groupby('policy').mean()"
   ]
  }
 ],
 "metadata": {
  "kernelspec": {
   "display_name": "portfolio_optimization",
   "language": "python",
   "name": "python3"
  },
  "language_info": {
   "codemirror_mode": {
    "name": "ipython",
    "version": 3
   },
   "file_extension": ".py",
   "mimetype": "text/x-python",
   "name": "python",
   "nbconvert_exporter": "python",
   "pygments_lexer": "ipython3",
   "version": "3.10.11"
  },
  "orig_nbformat": 4
 },
 "nbformat": 4,
 "nbformat_minor": 2
}
