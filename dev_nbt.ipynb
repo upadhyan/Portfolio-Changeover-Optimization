{
 "cells": [
  {
   "cell_type": "code",
   "execution_count": 6,
   "metadata": {},
   "outputs": [
    {
     "name": "stderr",
     "output_type": "stream",
     "text": [
      "100%|██████████| 50/50 [00:11<00:00,  4.23it/s]\n"
     ]
    }
   ],
   "source": [
    "from src.experimental_config import *\n",
    "from src.policies import *\n",
    "from src.simulator import *\n",
    "from src.forecasting import *\n",
    "\n",
    "import os\n",
    "\n",
    "# delete all files in the experiments folder\n",
    "for filename in os.listdir('./experiments'):\n",
    "    file_path = os.path.join('./experiments', filename)\n",
    "    try:\n",
    "        if os.path.isfile(file_path) or os.path.islink(file_path):\n",
    "            os.unlink(file_path)\n",
    "    except Exception as e:\n",
    "        print('Failed to delete %s. Reason: %s' % (file_path, e))\n",
    "\n",
    "\n",
    "generate_experiments(\n",
    "    price_data_dir = './raw_data/spx_stock_prices.parquet',\n",
    "    covariates = None,\n",
    "    num_experiments = 50,\n",
    "    output_dir = './experiments',\n",
    "    min_horizon = 30,\n",
    "    max_horizon = 90,\n",
    "    max_num_stocks = 30,\n",
    "    min_num_stocks = 5,\n",
    "    min_tx_cost = 2,\n",
    "    max_tx_cost = 30,\n",
    "    max_budget = 350000,\n",
    "    min_budget = 5000,\n",
    "    forecast_model='NBEATS'\n",
    ")"
   ]
  },
  {
   "cell_type": "code",
   "execution_count": 7,
   "metadata": {},
   "outputs": [
    {
     "name": "stderr",
     "output_type": "stream",
     "text": [
      "Global seed set to 1\n"
     ]
    },
    {
     "name": "stdout",
     "output_type": "stream",
     "text": [
      "Running 20180129_44_8_23_304181\n"
     ]
    },
    {
     "name": "stderr",
     "output_type": "stream",
     "text": [
      "Global seed set to 1\n"
     ]
    },
    {
     "name": "stdout",
     "output_type": "stream",
     "text": [
      "Running 20180209_33_8_11_156740\n"
     ]
    },
    {
     "name": "stderr",
     "output_type": "stream",
     "text": [
      "Global seed set to 1\n"
     ]
    },
    {
     "name": "stdout",
     "output_type": "stream",
     "text": [
      "Running 20180219_32_19_23_142344\n"
     ]
    },
    {
     "name": "stderr",
     "output_type": "stream",
     "text": [
      "Global seed set to 1\n"
     ]
    },
    {
     "name": "stdout",
     "output_type": "stream",
     "text": [
      "Running 20180223_34_14_18_205381\n"
     ]
    },
    {
     "name": "stderr",
     "output_type": "stream",
     "text": [
      "Global seed set to 1\n"
     ]
    },
    {
     "name": "stdout",
     "output_type": "stream",
     "text": [
      "Running 20180406_49_16_3_56442\n"
     ]
    },
    {
     "name": "stderr",
     "output_type": "stream",
     "text": [
      "Global seed set to 1\n"
     ]
    },
    {
     "name": "stdout",
     "output_type": "stream",
     "text": [
      "Running 20180530_38_16_9_82836\n"
     ]
    },
    {
     "name": "stderr",
     "output_type": "stream",
     "text": [
      "Global seed set to 1\n"
     ]
    },
    {
     "name": "stdout",
     "output_type": "stream",
     "text": [
      "Running 20180625_41_14_14_225192\n"
     ]
    },
    {
     "name": "stderr",
     "output_type": "stream",
     "text": [
      "Global seed set to 1\n"
     ]
    },
    {
     "name": "stdout",
     "output_type": "stream",
     "text": [
      "Running 20180726_44_25_16_233181\n"
     ]
    },
    {
     "name": "stderr",
     "output_type": "stream",
     "text": [
      "Global seed set to 1\n"
     ]
    },
    {
     "name": "stdout",
     "output_type": "stream",
     "text": [
      "Running 20180801_35_11_3_297504\n"
     ]
    },
    {
     "name": "stderr",
     "output_type": "stream",
     "text": [
      "Global seed set to 1\n"
     ]
    },
    {
     "name": "stdout",
     "output_type": "stream",
     "text": [
      "Running 20180809_36_18_8_339178\n"
     ]
    },
    {
     "name": "stderr",
     "output_type": "stream",
     "text": [
      "Global seed set to 1\n"
     ]
    },
    {
     "name": "stdout",
     "output_type": "stream",
     "text": [
      "Running 20180828_43_9_20_223749\n"
     ]
    },
    {
     "name": "stderr",
     "output_type": "stream",
     "text": [
      "Global seed set to 1\n"
     ]
    },
    {
     "name": "stdout",
     "output_type": "stream",
     "text": [
      "Running 20181019_38_6_6_31657\n"
     ]
    },
    {
     "name": "stderr",
     "output_type": "stream",
     "text": [
      "Global seed set to 1\n"
     ]
    },
    {
     "name": "stdout",
     "output_type": "stream",
     "text": [
      "Running 20181120_41_20_10_186727\n"
     ]
    },
    {
     "name": "stderr",
     "output_type": "stream",
     "text": [
      "Global seed set to 1\n"
     ]
    },
    {
     "name": "stdout",
     "output_type": "stream",
     "text": [
      "Running 20181127_46_6_4_57669\n"
     ]
    },
    {
     "name": "stderr",
     "output_type": "stream",
     "text": [
      "Global seed set to 1\n"
     ]
    },
    {
     "name": "stdout",
     "output_type": "stream",
     "text": [
      "Running 20190103_45_8_11_339603\n"
     ]
    },
    {
     "name": "stderr",
     "output_type": "stream",
     "text": [
      "Global seed set to 1\n"
     ]
    },
    {
     "name": "stdout",
     "output_type": "stream",
     "text": [
      "Running 20190117_39_10_27_122789\n"
     ]
    },
    {
     "ename": "KeyboardInterrupt",
     "evalue": "",
     "output_type": "error",
     "traceback": [
      "\u001b[1;31m---------------------------------------------------------------------------\u001b[0m",
      "\u001b[1;31mKeyboardInterrupt\u001b[0m                         Traceback (most recent call last)",
      "Cell \u001b[1;32mIn[7], line 16\u001b[0m\n\u001b[0;32m     14\u001b[0m policy \u001b[39m=\u001b[39m DirectionalTradingPolicy(exp, verbose\u001b[39m=\u001b[39m\u001b[39mFalse\u001b[39;00m)\n\u001b[0;32m     15\u001b[0m simulator \u001b[39m=\u001b[39m MarketSimulator(exp, policy, verbose\u001b[39m=\u001b[39m\u001b[39mFalse\u001b[39;00m)\n\u001b[1;32m---> 16\u001b[0m result \u001b[39m=\u001b[39m simulator\u001b[39m.\u001b[39;49mrun()\n\u001b[0;32m     17\u001b[0m t2 \u001b[39m=\u001b[39m time()\n\u001b[0;32m     18\u001b[0m results\u001b[39m.\u001b[39mappend({\n\u001b[0;32m     19\u001b[0m     \u001b[39m\"\u001b[39m\u001b[39mruntime\u001b[39m\u001b[39m\"\u001b[39m: t2 \u001b[39m-\u001b[39m t1,\n\u001b[0;32m     20\u001b[0m     \u001b[39m\"\u001b[39m\u001b[39mtotal_trades\u001b[39m\u001b[39m\"\u001b[39m: simulator\u001b[39m.\u001b[39mtotal_trades,\n\u001b[0;32m     21\u001b[0m     \u001b[39m\"\u001b[39m\u001b[39mfeasibility\u001b[39m\u001b[39m\"\u001b[39m: simulator\u001b[39m.\u001b[39mstatus,\n\u001b[0;32m     22\u001b[0m     \u001b[39m\"\u001b[39m\u001b[39mhorizon\u001b[39m\u001b[39m\"\u001b[39m: exp\u001b[39m.\u001b[39mhorizon\n\u001b[0;32m     23\u001b[0m })\n",
      "File \u001b[1;32mc:\\Users\\nakul\\Documents\\GitHub\\Portfolio-Changeover-Optimization\\src\\simulator.py:65\u001b[0m, in \u001b[0;36mMarketSimulator.run\u001b[1;34m(self)\u001b[0m\n\u001b[0;32m     63\u001b[0m \u001b[39m# Run Policy\u001b[39;00m\n\u001b[0;32m     64\u001b[0m t2 \u001b[39m=\u001b[39m time()\n\u001b[1;32m---> 65\u001b[0m trades, value \u001b[39m=\u001b[39m \u001b[39mself\u001b[39;49m\u001b[39m.\u001b[39;49mpolicy\u001b[39m.\u001b[39;49mget_trades(portfolio, current_time, forecast)\n\u001b[0;32m     67\u001b[0m \u001b[39m# Apply Trades\u001b[39;00m\n\u001b[0;32m     68\u001b[0m t3 \u001b[39m=\u001b[39m time()\n",
      "File \u001b[1;32mc:\\Users\\nakul\\Documents\\GitHub\\Portfolio-Changeover-Optimization\\src\\policies.py:113\u001b[0m, in \u001b[0;36mDirectionalTradingPolicy.get_trades\u001b[1;34m(self, portfolio, t, price_data)\u001b[0m\n\u001b[0;32m    109\u001b[0m cash_next \u001b[39m=\u001b[39m prices \u001b[39m@\u001b[39m (z_sell \u001b[39m-\u001b[39m z_buy) \u001b[39m-\u001b[39m F \u001b[39m@\u001b[39m y_sell \u001b[39m-\u001b[39m F \u001b[39m@\u001b[39m y_buy \u001b[39m+\u001b[39m cash\n\u001b[0;32m    111\u001b[0m \u001b[39m## Trading fees\u001b[39;00m\n\u001b[0;32m    112\u001b[0m \u001b[39m### if we sell a stock, we pay a trading price\u001b[39;00m\n\u001b[1;32m--> 113\u001b[0m m\u001b[39m.\u001b[39maddConstr(M \u001b[39m*\u001b[39;49m y_sell \u001b[39m>\u001b[39;49m\u001b[39m=\u001b[39;49m z_sell)\n\u001b[0;32m    115\u001b[0m \u001b[39m## If we buy a stock, we pay a trading fee\u001b[39;00m\n\u001b[0;32m    116\u001b[0m m\u001b[39m.\u001b[39maddConstr(M \u001b[39m*\u001b[39m y_buy \u001b[39m>\u001b[39m\u001b[39m=\u001b[39m z_buy)\n",
      "File \u001b[1;32msrc\\gurobipy\\mlinexpr.pxi:2192\u001b[0m, in \u001b[0;36mgurobipy.MLinExpr.__ge__\u001b[1;34m()\u001b[0m\n",
      "File \u001b[1;32msrc\\gurobipy\\tempconstr.pxi:22\u001b[0m, in \u001b[0;36mgurobipy.TempConstr.__init__\u001b[1;34m()\u001b[0m\n",
      "File \u001b[1;32msrc\\gurobipy\\mlinexpr.pxi:1385\u001b[0m, in \u001b[0;36mgurobipy.MLinExpr.__sub__\u001b[1;34m()\u001b[0m\n",
      "File \u001b[1;32msrc\\gurobipy\\mlinexpr.pxi:891\u001b[0m, in \u001b[0;36mgurobipy.MLinExpr.__add__\u001b[1;34m()\u001b[0m\n",
      "File \u001b[1;32msrc\\gurobipy\\mlinexpr.pxi:983\u001b[0m, in \u001b[0;36mgurobipy.MLinExpr._add_compact_mlinexpr\u001b[1;34m()\u001b[0m\n",
      "File \u001b[1;32msrc\\gurobipy\\mlinexpr.pxi:1026\u001b[0m, in \u001b[0;36mgurobipy.MLinExpr._add_compact_mlinexpr_compact\u001b[1;34m()\u001b[0m\n",
      "File \u001b[1;32mc:\\Users\\nakul\\anaconda3\\envs\\portfolio_optimization\\lib\\site-packages\\scipy\\sparse\\_construct.py:535\u001b[0m, in \u001b[0;36mhstack\u001b[1;34m(blocks, format, dtype)\u001b[0m\n\u001b[0;32m    505\u001b[0m \u001b[39mdef\u001b[39;00m \u001b[39mhstack\u001b[39m(blocks, \u001b[39mformat\u001b[39m\u001b[39m=\u001b[39m\u001b[39mNone\u001b[39;00m, dtype\u001b[39m=\u001b[39m\u001b[39mNone\u001b[39;00m):\n\u001b[0;32m    506\u001b[0m \u001b[39m    \u001b[39m\u001b[39m\"\"\"\u001b[39;00m\n\u001b[0;32m    507\u001b[0m \u001b[39m    Stack sparse matrices horizontally (column wise)\u001b[39;00m\n\u001b[0;32m    508\u001b[0m \n\u001b[1;32m   (...)\u001b[0m\n\u001b[0;32m    533\u001b[0m \n\u001b[0;32m    534\u001b[0m \u001b[39m    \"\"\"\u001b[39;00m\n\u001b[1;32m--> 535\u001b[0m     \u001b[39mreturn\u001b[39;00m bmat([blocks], \u001b[39mformat\u001b[39;49m\u001b[39m=\u001b[39;49m\u001b[39mformat\u001b[39;49m, dtype\u001b[39m=\u001b[39;49mdtype)\n",
      "File \u001b[1;32mc:\\Users\\nakul\\anaconda3\\envs\\portfolio_optimization\\lib\\site-packages\\scipy\\sparse\\_construct.py:627\u001b[0m, in \u001b[0;36mbmat\u001b[1;34m(blocks, format, dtype)\u001b[0m\n\u001b[0;32m    623\u001b[0m \u001b[39mif\u001b[39;00m (\u001b[39mformat\u001b[39m \u001b[39min\u001b[39;00m (\u001b[39mNone\u001b[39;00m, \u001b[39m'\u001b[39m\u001b[39mcsr\u001b[39m\u001b[39m'\u001b[39m) \u001b[39mand\u001b[39;00m \u001b[39mall\u001b[39m(\u001b[39misinstance\u001b[39m(b, csr_matrix)\n\u001b[0;32m    624\u001b[0m                                     \u001b[39mfor\u001b[39;00m b \u001b[39min\u001b[39;00m blocks\u001b[39m.\u001b[39mflat)):\n\u001b[0;32m    625\u001b[0m     \u001b[39mif\u001b[39;00m N \u001b[39m>\u001b[39m \u001b[39m1\u001b[39m:\n\u001b[0;32m    626\u001b[0m         \u001b[39m# stack along columns (axis 1):\u001b[39;00m\n\u001b[1;32m--> 627\u001b[0m         blocks \u001b[39m=\u001b[39m [[_stack_along_minor_axis(blocks[b, :], \u001b[39m1\u001b[39m)]\n\u001b[0;32m    628\u001b[0m                   \u001b[39mfor\u001b[39;00m b \u001b[39min\u001b[39;00m \u001b[39mrange\u001b[39m(M)]   \u001b[39m# must have shape: (M, 1)\u001b[39;00m\n\u001b[0;32m    629\u001b[0m         blocks \u001b[39m=\u001b[39m np\u001b[39m.\u001b[39masarray(blocks, dtype\u001b[39m=\u001b[39m\u001b[39m'\u001b[39m\u001b[39mobject\u001b[39m\u001b[39m'\u001b[39m)\n\u001b[0;32m    631\u001b[0m     \u001b[39m# stack along rows (axis 0):\u001b[39;00m\n",
      "File \u001b[1;32mc:\\Users\\nakul\\anaconda3\\envs\\portfolio_optimization\\lib\\site-packages\\scipy\\sparse\\_construct.py:627\u001b[0m, in \u001b[0;36m<listcomp>\u001b[1;34m(.0)\u001b[0m\n\u001b[0;32m    623\u001b[0m \u001b[39mif\u001b[39;00m (\u001b[39mformat\u001b[39m \u001b[39min\u001b[39;00m (\u001b[39mNone\u001b[39;00m, \u001b[39m'\u001b[39m\u001b[39mcsr\u001b[39m\u001b[39m'\u001b[39m) \u001b[39mand\u001b[39;00m \u001b[39mall\u001b[39m(\u001b[39misinstance\u001b[39m(b, csr_matrix)\n\u001b[0;32m    624\u001b[0m                                     \u001b[39mfor\u001b[39;00m b \u001b[39min\u001b[39;00m blocks\u001b[39m.\u001b[39mflat)):\n\u001b[0;32m    625\u001b[0m     \u001b[39mif\u001b[39;00m N \u001b[39m>\u001b[39m \u001b[39m1\u001b[39m:\n\u001b[0;32m    626\u001b[0m         \u001b[39m# stack along columns (axis 1):\u001b[39;00m\n\u001b[1;32m--> 627\u001b[0m         blocks \u001b[39m=\u001b[39m [[_stack_along_minor_axis(blocks[b, :], \u001b[39m1\u001b[39;49m)]\n\u001b[0;32m    628\u001b[0m                   \u001b[39mfor\u001b[39;00m b \u001b[39min\u001b[39;00m \u001b[39mrange\u001b[39m(M)]   \u001b[39m# must have shape: (M, 1)\u001b[39;00m\n\u001b[0;32m    629\u001b[0m         blocks \u001b[39m=\u001b[39m np\u001b[39m.\u001b[39masarray(blocks, dtype\u001b[39m=\u001b[39m\u001b[39m'\u001b[39m\u001b[39mobject\u001b[39m\u001b[39m'\u001b[39m)\n\u001b[0;32m    631\u001b[0m     \u001b[39m# stack along rows (axis 0):\u001b[39;00m\n",
      "File \u001b[1;32mc:\\Users\\nakul\\anaconda3\\envs\\portfolio_optimization\\lib\\site-packages\\scipy\\sparse\\_construct.py:484\u001b[0m, in \u001b[0;36m_stack_along_minor_axis\u001b[1;34m(blocks, axis)\u001b[0m\n\u001b[0;32m    482\u001b[0m \u001b[39mif\u001b[39;00m data_cat\u001b[39m.\u001b[39msize \u001b[39m>\u001b[39m \u001b[39m0\u001b[39m:\n\u001b[0;32m    483\u001b[0m     indptr_cat \u001b[39m=\u001b[39m np\u001b[39m.\u001b[39mconcatenate(indptr_list)\u001b[39m.\u001b[39mastype(idx_dtype)\n\u001b[1;32m--> 484\u001b[0m     indices_cat \u001b[39m=\u001b[39m (np\u001b[39m.\u001b[39;49mconcatenate([b\u001b[39m.\u001b[39;49mindices \u001b[39mfor\u001b[39;49;00m b \u001b[39min\u001b[39;49;00m blocks])\n\u001b[0;32m    485\u001b[0m                    \u001b[39m.\u001b[39mastype(idx_dtype))\n\u001b[0;32m    486\u001b[0m     indptr \u001b[39m=\u001b[39m np\u001b[39m.\u001b[39mempty(constant_dim \u001b[39m+\u001b[39m \u001b[39m1\u001b[39m, dtype\u001b[39m=\u001b[39midx_dtype)\n\u001b[0;32m    487\u001b[0m     indices \u001b[39m=\u001b[39m np\u001b[39m.\u001b[39mempty_like(indices_cat)\n",
      "File \u001b[1;32m<__array_function__ internals>:200\u001b[0m, in \u001b[0;36mconcatenate\u001b[1;34m(*args, **kwargs)\u001b[0m\n",
      "\u001b[1;31mKeyboardInterrupt\u001b[0m: "
     ]
    }
   ],
   "source": [
    "import pickle\n",
    "from time import time\n",
    "# from tqdm.notebook import tqdm\n",
    "results = []\n",
    "# get the first file in the experiments folder\n",
    "# pbar = tqdm(os.listdir('./experiments'))\n",
    "for filename in os.listdir('./experiments'):\n",
    "    try:\n",
    "        file_path = os.path.join('./experiments', filename)\n",
    "        with open(file_path, \"rb\") as f:\n",
    "            exp = pickle.load(f)\n",
    "        # display the experiment id in the progress bar\n",
    "        print(f\"Running {exp.exp_id}\")\n",
    "        t1 = time()\n",
    "        policy = DirectionalTradingPolicy(exp, verbose=False)\n",
    "        simulator = MarketSimulator(exp, policy, verbose=False)\n",
    "        result = simulator.run()\n",
    "        t2 = time()\n",
    "        results.append({\n",
    "            \"runtime\": t2 - t1,\n",
    "            \"total_trades\": simulator.total_trades,\n",
    "            \"feasibility\": simulator.status,\n",
    "            \"horizon\": exp.horizon\n",
    "        })\n",
    "        del exp\n",
    "        del policy\n",
    "        del simulator\n",
    "        gc.collect()\n",
    "    except Exception as e:\n",
    "        print(f\"\\tFailed to run {exp.exp_id}. Reason: {e}\")\n",
    "        continue\n",
    "\n",
    "# turn results into a dataframe\n",
    "results_df = pd.DataFrame(results)\n",
    "\n",
    "# plot runtime vs horizon\n",
    "results_df.plot.scatter(x='horizon', y='runtime')\n"
   ]
  },
  {
   "cell_type": "code",
   "execution_count": null,
   "metadata": {},
   "outputs": [
    {
     "data": {
      "text/plain": [
       "CB_79057      True\n",
       "CTAS_23660    True\n",
       "ESS_80681     True\n",
       "HBAN_42906    True\n",
       "NVR_79785     True\n",
       "SBAC_86996    True\n",
       "SBUX_77702    True\n",
       "VTRS_20057    True\n",
       "WRB_17743     True\n",
       "cash          True\n",
       "dtype: bool"
      ]
     },
     "execution_count": 3,
     "metadata": {},
     "output_type": "execute_result"
    }
   ],
   "source": [
    "exp.target_portfolio <= result"
   ]
  },
  {
   "cell_type": "code",
   "execution_count": null,
   "metadata": {},
   "outputs": [
    {
     "data": {
      "text/plain": [
       "'Complete'"
      ]
     },
     "execution_count": 4,
     "metadata": {},
     "output_type": "execute_result"
    }
   ],
   "source": [
    "simulator.status"
   ]
  }
 ],
 "metadata": {
  "kernelspec": {
   "display_name": "portfolio_optimization",
   "language": "python",
   "name": "python3"
  },
  "language_info": {
   "codemirror_mode": {
    "name": "ipython",
    "version": 3
   },
   "file_extension": ".py",
   "mimetype": "text/x-python",
   "name": "python",
   "nbconvert_exporter": "python",
   "pygments_lexer": "ipython3",
   "version": "3.10.11"
  },
  "orig_nbformat": 4
 },
 "nbformat": 4,
 "nbformat_minor": 2
}
